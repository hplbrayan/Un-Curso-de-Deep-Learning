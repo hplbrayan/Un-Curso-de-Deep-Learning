{
 "cells": [
  {
   "cell_type": "markdown",
   "id": "ce7544a1",
   "metadata": {},
   "source": [
    "<center><h1>Keras y TensorFlow</h1></center>\n",
    "\n",
    "Cuando se habla de Deep Learning existen principalmente tres herramientas que aparecen en escena: [TensorFlow](https://www.tensorflow.org/?hl=es-419), [Keras](https://www.tensorflow.org/guide/keras?hl=es-419) y [Pytorch](https://pytorch.org/). Cada una de ellas posee características que las hacen de especial utilidad para diferentes tipos de problemas, razón por la cual no se les debe comparar en terminos de cuál es mejor que otra sino, más bien y de manera más justa, cuál se adapta mejor a nuestro problema puntual. Para este curso sólo se mencionarán de ahora en adelante TensorFlow y Keras pero se hará principalmente uso de Keras. \n",
    "\n",
    "## TensorFlow\n",
    "[TensorFlow](https://www.tensorflow.org/?hl=es-419) es una librería de código abierto desarrollada por ingenieros del equipo de [Google Brain](https://ai.google/) y se anunció por primera vez por Google en noviembre de 2015 durante la Conferencia de Sistemas y Procesos de Aprendizaje (Neural Information Processing Systems, NIPS). Está especialmente diseñada para la realización de proyectos de DL permitiendo la creación de arquitecturas de redes neuronales de alta complejidad. \n",
    "\n",
    "Una de las principales características de TensorFlow es que permite controlar cada aspecto del proceso de creación de arquitecturas de redes neuronales, esto lo hace altamente flexible además de convertirlo en un framework de bajo nivel. A pesar de esto último, TensorFlow se puede valer de otras herramientas que permiten que su uso sea mucho más versatil, una de ellas es Keras como veremos a continuación. \n",
    "\n",
    "TensorFlow fue escrito principalmente en C++ pero tiene una interfaz (API) para Python donde es mayoritariamente utilizado y por lo cual gran parte de la documentación disponible para la librería se encuentra escrita en Python. También puede ser utilizado con lenguajes como JavaScrip por medio de TensorFlow.js permitiendo una mayor versatilidad de su uso en entornos web. \n",
    "\n",
    "## Keras\n",
    "[Keras](https://www.tensorflow.org/guide/keras?hl=es-419) \n",
    "\n",
    "\n",
    "## TensorFlow vs Keras\n",
    "Como se dijo inicialmente, nos enfocaremos en ver los casos para los cuales podemos usar una u otra. Para ello comencemos por ver las ventajas y desventajas de cada una."
   ]
  },
  {
   "cell_type": "code",
   "execution_count": null,
   "id": "b22834e2",
   "metadata": {},
   "outputs": [],
   "source": []
  }
 ],
 "metadata": {
  "kernelspec": {
   "display_name": "Python 3 (ipykernel)",
   "language": "python",
   "name": "python3"
  },
  "language_info": {
   "codemirror_mode": {
    "name": "ipython",
    "version": 3
   },
   "file_extension": ".py",
   "mimetype": "text/x-python",
   "name": "python",
   "nbconvert_exporter": "python",
   "pygments_lexer": "ipython3",
   "version": "3.9.12"
  }
 },
 "nbformat": 4,
 "nbformat_minor": 5
}
