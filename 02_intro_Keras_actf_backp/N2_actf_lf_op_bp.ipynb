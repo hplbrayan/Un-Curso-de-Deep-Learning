{
 "cells": [
  {
   "cell_type": "code",
   "execution_count": 1,
   "id": "ec19b5d7",
   "metadata": {},
   "outputs": [
    {
     "name": "stderr",
     "output_type": "stream",
     "text": [
      "2024-04-25 16:17:14.229709: W tensorflow/compiler/tf2tensorrt/utils/py_utils.cc:38] TF-TRT Warning: Could not find TensorRT\n"
     ]
    }
   ],
   "source": [
    "import numpy as np\n",
    "import datetime\n",
    "\n",
    "import tensorflow as tf\n",
    "from tensorflow import keras\n",
    "\n",
    "import matplotlib.pyplot as plt"
   ]
  },
  {
   "cell_type": "markdown",
   "id": "a860765b",
   "metadata": {},
   "source": [
    "### Estilos"
   ]
  },
  {
   "cell_type": "code",
   "execution_count": 2,
   "id": "fceaaef3",
   "metadata": {},
   "outputs": [],
   "source": [
    "font = {'family' : 'DejaVu Sans',\n",
    "        'weight' : 'bold',\n",
    "        'size'   : 18}\n",
    "\n",
    "font_leg = {'family' : 'DejaVu Sans',\n",
    "            'weight' : 'bold',\n",
    "            'size'   : 10}"
   ]
  },
  {
   "cell_type": "markdown",
   "id": "0e8337ec",
   "metadata": {},
   "source": [
    "## <center><h2>Elementos de una red neuronal</h2></center>\n",
    "\n",
    "Ya se ha visto la estructura básica de una red neuronal. Vimos que una neurona realiza una suma ponderada y sobre esta aplica una función de activación que será el valor de salida de la neurona, luego, una vez se han obtenido las predicciones de la red para los datos de entrenamiento, se puede calcular la función de costo que será el objetivo a minimizar por medio del ajuste de los pesos en cada época del entrenamiento. Este ajuste se realiza por medio de algún algoritmo de minimización y, en esencia, todos hacen uso del gradiente de la función de costo. Para calcular este gradiente se debe utilizar un algoritmo muy especial conocido como *El Algoritmo de Backpropagation*. En este notebook se analizarán en mayor detalle cada una de estas componentes del proceso de entrenamiento de la red neuronal. "
   ]
  },
  {
   "cell_type": "markdown",
   "id": "3cd52a66",
   "metadata": {},
   "source": [
    "## Funciones de activación\n",
    "\n",
    "Una neurona tendrá un determinado número de entradas $x_i$, cada una de ellas un escalar, e internamente realizará una suma ponderada $z=\\sum w_ix_i+b$ de estas, luego la suma es entregada a una función de activación $a(z)$ y este será el valor de salida de la neurona. \n",
    "\n",
    "Por ejemplo, en el caso del perceptrón propuesto por [Frank Rosenblatt](https://es.wikipedia.org/wiki/Perceptr%C3%B3n), la función de activación es la función escalón unitario, pero tenemos gran variedad de funciones de activación, por ejemplo, keras nos ofrece las siguientes:\n",
    "\n",
    "<p><center>relu, sigmoid, softmax, softplus, softsign, tanh, selu, elu, exponential, leaky_relu, relu6, silu, hard_silu, gelu, hard_sigmoid, linear, mish, log_softmax.</center></p>\n",
    "\n",
    "aunque también nos permite definir las nuestras propias. El objetivo de una función de activación es lograr activar las neuronas de modo que la red completa logre aprender. No tener una función de activación en una red, por más grande que sea, hará que toda la red se comporte como si tuviésemos una sola capa. Consideremos la primera capa con función de activación $a^{[1]}(z)$, denotemos por $z^{[1]}$ las sumas ponderadas para cada neurona de la primera capa: \n",
    "\n",
    "\\begin{equation}\n",
    "z^{[1]} = w^{[1]}x^{[1]}+b^{[1]} \\nonumber\n",
    "\\end{equation}\n",
    "\n",
    "con $x^{[1]}$ la entrada a la capa $1$. Para la segunda capa sus entradas serían las salidas de la primera capa, es decir $a^{[1]}(z^{[1]})$. No tener función de activación es lo mismo que usar $a(z)=z$, así, para la segunda capa tendríamos que su salida sería:\n",
    "\n",
    "\\begin{eqnarray}\n",
    "a^{[2]}(z^{[2]}) &=& z^{[2]}\\\\\n",
    "                 &=& w^{[2]}x^{[2]}+b^{[2]}\\nonumber \\\\\n",
    "                 &=& w^{[2]}a^{[1]}+b^{[2]}\\nonumber  \\\\\n",
    "                 &=& w^{[2]}z^{[1]}+b^{[2]}\\nonumber  \\\\\n",
    "                 &=& w^{[2]}[w^{[1]}x^{[1]}+b^{[1]}]+b^{[2]}\\nonumber \\\\\n",
    "                 &=& w^{[2]}w^{[1]}x^{[1]} + w^{[2]}b^{[1]} +b^{[2]}\\nonumber  \\\\ \n",
    "\\end{eqnarray}\n",
    "\n",
    "definiendo $w^{[2]}w^{[1]}=w'$ y $w^{[2]}b^{[1]} +b^{[2]}=b'$ obtenemos\n",
    "\n",
    "\\begin{equation}\n",
    "a^{[2]}(z^{[2]}) = w'x^{[1]}+b' \\nonumber \n",
    "\\end{equation}\n",
    "\n",
    "De esta expresión concluimos que la ausencia de una función de activación acabará por hacer que toda la red colapse a una sola capa lineal por lo que no se produce aprendizaje durante el entrenamiento sin importar cuantas capas se utilicen. \n",
    "\n",
    "A continuación vamos a comenzar por analizar algunas de las funciones de activación más relevantes y su derivada pues esta es también de alta importancia para poder entender su uso. "
   ]
  },
  {
   "cell_type": "markdown",
   "id": "4778e6f8",
   "metadata": {},
   "source": [
    "### Lineal\n",
    "La función de activación más simple sería la función de activación lineal que es una función identidad que, como acabamos de ver, no permite que se produzca aprendizaje en las capas internas de la red.\n",
    "\n",
    "Veamos su representación gráfica y la de su derivada. Pero antes, como estaremos graficando varias funciones de activación minimicemos código generando una función que haga esto."
   ]
  },
  {
   "cell_type": "code",
   "execution_count": 3,
   "id": "8b6f8d22",
   "metadata": {},
   "outputs": [],
   "source": [
    "def plot_af(x,\n",
    "            af,\n",
    "            daf,\n",
    "            af_ylabel,\n",
    "            daf_ylabel):\n",
    "    \n",
    "    # gráfico\n",
    "    fig, ax = plt.subplots(figsize=(10,5), ncols=2, nrows=1)\n",
    "\n",
    "    ax[0].plot(x, af(x), color=\"k\", lw=2)\n",
    "    ax[0].set_title(\"AF\", **font)\n",
    "    ax[0].set_ylabel(af_ylabel, **font)\n",
    "    ax[0].set_xlim(min(x), max(x))\n",
    "\n",
    "    ax[1].plot(x, daf(x), color=\"red\", lw=2)\n",
    "    ax[1].set_title(\"Derivative of the AF\", **font)\n",
    "    ax[1].set_ylabel(daf_ylabel, **font)\n",
    "    ax[1].set_xlim(min(x), max(x))\n",
    "\n",
    "    plt.tight_layout()"
   ]
  },
  {
   "cell_type": "code",
   "execution_count": 4,
   "id": "c5ec9647",
   "metadata": {},
   "outputs": [
    {
     "data": {
      "image/png": "[encoded data removed]",
      "text/plain": [
       "<Figure size 720x360 with 2 Axes>"
      ]
     },
     "metadata": {
      "needs_background": "light"
     },
     "output_type": "display_data"
    }
   ],
   "source": [
    "# derivada\n",
    "x = np.linspace(-2, 2, 100)\n",
    "\n",
    "def d_lineal(x):\n",
    "    return 1\n",
    "d_lineal = np.vectorize(d_lineal)\n",
    "\n",
    "plot_af(x,\n",
    "        af=keras.activations.linear,\n",
    "        daf=d_lineal,\n",
    "        af_ylabel=f\"$f(x)=x$\",\n",
    "        daf_ylabel=f\"$df/dx=1$\")\n"
   ]
  },
  {
   "cell_type": "markdown",
   "id": "a00d1867",
   "metadata": {},
   "source": [
    "Aparte de lo que ya se ha dicho hasta este momento, hay una característica importante que se puede resaltar sobre la función identidad, y es que su derivada es constante, es decir siempre tiene el mismo valor, $1$. Este hecho permite que se pueda producir una actualización constante de los pesos pues, como se verá cuando analicemos el algoritmo de backpropagation, una de las condiciones que tienen que cumplir las funciones de activación es que su derivada no puede ser nula en todos los puntos de su dominio. La derivada de la función de activación es determinante a la hora de entrenar un modelo pues determinará la rapidez con la cual este aprende. "
   ]
  },
  {
   "cell_type": "code",
   "execution_count": 5,
   "id": "fc269954",
   "metadata": {},
   "outputs": [
    {
     "data": {
      "text/plain": [
       "array([ 0.97627008,  4.30378733,  2.05526752,  0.89766366, -1.52690401,\n",
       "        2.91788226, -1.24825577,  7.83546002,  9.27325521, -2.33116962])"
      ]
     },
     "execution_count": 5,
     "metadata": {},
     "output_type": "execute_result"
    }
   ],
   "source": [
    "# Algunos datos de prueba\n",
    "np.random.seed(0)\n",
    "xp = np.random.uniform(-10, 10, 10)\n",
    "xp"
   ]
  },
  {
   "cell_type": "code",
   "execution_count": 6,
   "id": "3f373b96",
   "metadata": {},
   "outputs": [
    {
     "data": {
      "text/plain": [
       "array([ 0.97627008,  4.30378733,  2.05526752,  0.89766366, -1.52690401,\n",
       "        2.91788226, -1.24825577,  7.83546002,  9.27325521, -2.33116962])"
      ]
     },
     "execution_count": 6,
     "metadata": {},
     "output_type": "execute_result"
    }
   ],
   "source": [
    "keras.activations.linear(xp)"
   ]
  },
  {
   "cell_type": "markdown",
   "id": "a3b7355d",
   "metadata": {},
   "source": [
    "Generemos ahora un modelo con múltiples capas para probar el aprendizaje de una red neuronal. "
   ]
  },
  {
   "cell_type": "code",
   "execution_count": 7,
   "id": "7fdc6600",
   "metadata": {},
   "outputs": [],
   "source": [
    "def create_model(name,\n",
    "                 shape,\n",
    "                 units=50,\n",
    "                 af=\"relu\",\n",
    "                 output_af=\"softmax\"):\n",
    "    \n",
    "    layers = 4\n",
    "    if type(units)==int:\n",
    "        units=[units]*layers\n",
    "    if type(af)==str:\n",
    "        af=[af]*layers\n",
    "        \n",
    "    model = keras.Sequential(name=name)\n",
    "    model.add(keras.Input(shape=shape))\n",
    "    model.add(keras.layers.Flatten(name=\"Flatten\"))\n",
    "    model.add(keras.layers.Dense(units=units[0], activation=af[0], name=\"layer_1\"))\n",
    "    model.add(keras.layers.Dense(units=units[1], activation=af[1], name=\"layer_2\"))\n",
    "    model.add(keras.layers.Dense(units=units[2], activation=af[2], name=\"layer_3\"))\n",
    "    model.add(keras.layers.Dense(units=units[3], activation=af[3], name=\"layer_4\"))\n",
    "    model.add(keras.layers.Dense(units=len(class_names), activation=output_af, name=\"output\"))\n",
    "    \n",
    "    return model"
   ]
  },
  {
   "cell_type": "markdown",
   "id": "7bb45128",
   "metadata": {},
   "source": [
    "#### Datos"
   ]
  },
  {
   "cell_type": "code",
   "execution_count": 8,
   "id": "7d65ebea",
   "metadata": {},
   "outputs": [
    {
     "name": "stdout",
     "output_type": "stream",
     "text": [
      "0 --> T-shirt/top\n",
      "1 --> Trouser\n",
      "2 --> Pullover\n",
      "3 --> Dress\n",
      "4 --> Coat\n",
      "5 --> Sandal\n",
      "6 --> Shirt\n",
      "7 --> Sneaker\n",
      "8 --> Bag\n",
      "9 --> Ankle boot\n"
     ]
    },
    {
     "data": {
      "text/plain": [
       "((60000, 28, 28), (10000, 28, 28))"
      ]
     },
     "execution_count": 8,
     "metadata": {},
     "output_type": "execute_result"
    }
   ],
   "source": [
    "# carga\n",
    "fm = keras.datasets.fashion_mnist\n",
    "(train_images, train_labels), (test_images, test_labels) = fm.load_data()\n",
    "\n",
    "# normalización\n",
    "train_images, test_images = train_images/255., test_images/255.\n",
    "\n",
    "# clases\n",
    "class_names = np.array(['T-shirt/top', 'Trouser', 'Pullover', 'Dress', 'Coat',\n",
    "               'Sandal', 'Shirt', 'Sneaker', 'Bag', 'Ankle boot']\n",
    ")\n",
    "\n",
    "for i, label in enumerate(class_names):\n",
    "    print(f\"{i} --> {label}\")\n",
    "    \n",
    "train_images.shape, test_images.shape"
   ]
  },
  {
   "cell_type": "code",
   "execution_count": 9,
   "id": "73011227",
   "metadata": {},
   "outputs": [
    {
     "name": "stderr",
     "output_type": "stream",
     "text": [
      "2024-04-25 16:17:26.782413: E external/local_xla/xla/stream_executor/cuda/cuda_driver.cc:282] failed call to cuInit: CUDA_ERROR_NO_DEVICE: no CUDA-capable device is detected\n"
     ]
    },
    {
     "data": {
      "text/html": [
       "<pre style=\"white-space:pre;overflow-x:auto;line-height:normal;font-family:Menlo,'DejaVu Sans Mono',consolas,'Courier New',monospace\"><span style=\"font-weight: bold\">Model: \"fashionmn_af_linear\"</span>\n",
       "</pre>\n"
      ],
      "text/plain": [
       "\u001b[1mModel: \"fashionmn_af_linear\"\u001b[0m\n"
      ]
     },
     "metadata": {},
     "output_type": "display_data"
    },
    {
     "data": {
      "text/html": [
       "<pre style=\"white-space:pre;overflow-x:auto;line-height:normal;font-family:Menlo,'DejaVu Sans Mono',consolas,'Courier New',monospace\">┏━━━━━━━━━━━━━━━━━━━━━━━━━━━━━━━━━┳━━━━━━━━━━━━━━━━━━━━━━━━┳━━━━━━━━━━━━━━━┓\n",
       "┃<span style=\"font-weight: bold\"> Layer (type)                    </span>┃<span style=\"font-weight: bold\"> Output Shape           </span>┃<span style=\"font-weight: bold\">       Param # </span>┃\n",
       "┡━━━━━━━━━━━━━━━━━━━━━━━━━━━━━━━━━╇━━━━━━━━━━━━━━━━━━━━━━━━╇━━━━━━━━━━━━━━━┩\n",
       "│ Flatten (<span style=\"color: #0087ff; text-decoration-color: #0087ff\">Flatten</span>)               │ (<span style=\"color: #00d7ff; text-decoration-color: #00d7ff\">None</span>, <span style=\"color: #00af00; text-decoration-color: #00af00\">784</span>)            │             <span style=\"color: #00af00; text-decoration-color: #00af00\">0</span> │\n",
       "├─────────────────────────────────┼────────────────────────┼───────────────┤\n",
       "│ layer_1 (<span style=\"color: #0087ff; text-decoration-color: #0087ff\">Dense</span>)                 │ (<span style=\"color: #00d7ff; text-decoration-color: #00d7ff\">None</span>, <span style=\"color: #00af00; text-decoration-color: #00af00\">50</span>)             │        <span style=\"color: #00af00; text-decoration-color: #00af00\">39,250</span> │\n",
       "├─────────────────────────────────┼────────────────────────┼───────────────┤\n",
       "│ layer_2 (<span style=\"color: #0087ff; text-decoration-color: #0087ff\">Dense</span>)                 │ (<span style=\"color: #00d7ff; text-decoration-color: #00d7ff\">None</span>, <span style=\"color: #00af00; text-decoration-color: #00af00\">50</span>)             │         <span style=\"color: #00af00; text-decoration-color: #00af00\">2,550</span> │\n",
       "├─────────────────────────────────┼────────────────────────┼───────────────┤\n",
       "│ layer_3 (<span style=\"color: #0087ff; text-decoration-color: #0087ff\">Dense</span>)                 │ (<span style=\"color: #00d7ff; text-decoration-color: #00d7ff\">None</span>, <span style=\"color: #00af00; text-decoration-color: #00af00\">50</span>)             │         <span style=\"color: #00af00; text-decoration-color: #00af00\">2,550</span> │\n",
       "├─────────────────────────────────┼────────────────────────┼───────────────┤\n",
       "│ layer_4 (<span style=\"color: #0087ff; text-decoration-color: #0087ff\">Dense</span>)                 │ (<span style=\"color: #00d7ff; text-decoration-color: #00d7ff\">None</span>, <span style=\"color: #00af00; text-decoration-color: #00af00\">50</span>)             │         <span style=\"color: #00af00; text-decoration-color: #00af00\">2,550</span> │\n",
       "├─────────────────────────────────┼────────────────────────┼───────────────┤\n",
       "│ output (<span style=\"color: #0087ff; text-decoration-color: #0087ff\">Dense</span>)                  │ (<span style=\"color: #00d7ff; text-decoration-color: #00d7ff\">None</span>, <span style=\"color: #00af00; text-decoration-color: #00af00\">10</span>)             │           <span style=\"color: #00af00; text-decoration-color: #00af00\">510</span> │\n",
       "└─────────────────────────────────┴────────────────────────┴───────────────┘\n",
       "</pre>\n"
      ],
      "text/plain": [
       "┏━━━━━━━━━━━━━━━━━━━━━━━━━━━━━━━━━┳━━━━━━━━━━━━━━━━━━━━━━━━┳━━━━━━━━━━━━━━━┓\n",
       "┃\u001b[1m \u001b[0m\u001b[1mLayer (type)                   \u001b[0m\u001b[1m \u001b[0m┃\u001b[1m \u001b[0m\u001b[1mOutput Shape          \u001b[0m\u001b[1m \u001b[0m┃\u001b[1m \u001b[0m\u001b[1m      Param #\u001b[0m\u001b[1m \u001b[0m┃\n",
       "┡━━━━━━━━━━━━━━━━━━━━━━━━━━━━━━━━━╇━━━━━━━━━━━━━━━━━━━━━━━━╇━━━━━━━━━━━━━━━┩\n",
       "│ Flatten (\u001b[38;5;33mFlatten\u001b[0m)               │ (\u001b[38;5;45mNone\u001b[0m, \u001b[38;5;34m784\u001b[0m)            │             \u001b[38;5;34m0\u001b[0m │\n",
       "├─────────────────────────────────┼────────────────────────┼───────────────┤\n",
       "│ layer_1 (\u001b[38;5;33mDense\u001b[0m)                 │ (\u001b[38;5;45mNone\u001b[0m, \u001b[38;5;34m50\u001b[0m)             │        \u001b[38;5;34m39,250\u001b[0m │\n",
       "├─────────────────────────────────┼────────────────────────┼───────────────┤\n",
       "│ layer_2 (\u001b[38;5;33mDense\u001b[0m)                 │ (\u001b[38;5;45mNone\u001b[0m, \u001b[38;5;34m50\u001b[0m)             │         \u001b[38;5;34m2,550\u001b[0m │\n",
       "├─────────────────────────────────┼────────────────────────┼───────────────┤\n",
       "│ layer_3 (\u001b[38;5;33mDense\u001b[0m)                 │ (\u001b[38;5;45mNone\u001b[0m, \u001b[38;5;34m50\u001b[0m)             │         \u001b[38;5;34m2,550\u001b[0m │\n",
       "├─────────────────────────────────┼────────────────────────┼───────────────┤\n",
       "│ layer_4 (\u001b[38;5;33mDense\u001b[0m)                 │ (\u001b[38;5;45mNone\u001b[0m, \u001b[38;5;34m50\u001b[0m)             │         \u001b[38;5;34m2,550\u001b[0m │\n",
       "├─────────────────────────────────┼────────────────────────┼───────────────┤\n",
       "│ output (\u001b[38;5;33mDense\u001b[0m)                  │ (\u001b[38;5;45mNone\u001b[0m, \u001b[38;5;34m10\u001b[0m)             │           \u001b[38;5;34m510\u001b[0m │\n",
       "└─────────────────────────────────┴────────────────────────┴───────────────┘\n"
      ]
     },
     "metadata": {},
     "output_type": "display_data"
    },
    {
     "data": {
      "text/html": [
       "<pre style=\"white-space:pre;overflow-x:auto;line-height:normal;font-family:Menlo,'DejaVu Sans Mono',consolas,'Courier New',monospace\"><span style=\"font-weight: bold\"> Total params: </span><span style=\"color: #00af00; text-decoration-color: #00af00\">47,410</span> (185.20 KB)\n",
       "</pre>\n"
      ],
      "text/plain": [
       "\u001b[1m Total params: \u001b[0m\u001b[38;5;34m47,410\u001b[0m (185.20 KB)\n"
      ]
     },
     "metadata": {},
     "output_type": "display_data"
    },
    {
     "data": {
      "text/html": [
       "<pre style=\"white-space:pre;overflow-x:auto;line-height:normal;font-family:Menlo,'DejaVu Sans Mono',consolas,'Courier New',monospace\"><span style=\"font-weight: bold\"> Trainable params: </span><span style=\"color: #00af00; text-decoration-color: #00af00\">47,410</span> (185.20 KB)\n",
       "</pre>\n"
      ],
      "text/plain": [
       "\u001b[1m Trainable params: \u001b[0m\u001b[38;5;34m47,410\u001b[0m (185.20 KB)\n"
      ]
     },
     "metadata": {},
     "output_type": "display_data"
    },
    {
     "data": {
      "text/html": [
       "<pre style=\"white-space:pre;overflow-x:auto;line-height:normal;font-family:Menlo,'DejaVu Sans Mono',consolas,'Courier New',monospace\"><span style=\"font-weight: bold\"> Non-trainable params: </span><span style=\"color: #00af00; text-decoration-color: #00af00\">0</span> (0.00 B)\n",
       "</pre>\n"
      ],
      "text/plain": [
       "\u001b[1m Non-trainable params: \u001b[0m\u001b[38;5;34m0\u001b[0m (0.00 B)\n"
      ]
     },
     "metadata": {},
     "output_type": "display_data"
    }
   ],
   "source": [
    "# modelo\n",
    "model_fm_linear = create_model(name=\"fashionmn_af_linear\", \n",
    "                               shape=train_images[0].shape, \n",
    "                               af=\"linear\",\n",
    "                               output_af=\"softmax\")\n",
    "\n",
    "# compilación\n",
    "opt  = keras.optimizers.Adam(learning_rate=0.001)\n",
    "loss = keras.losses.SparseCategoricalCrossentropy()\n",
    "\n",
    "model_fm_linear.compile(optimizer=opt,\n",
    "                        loss=loss, metrics=[\"accuracy\"])\n",
    "\n",
    "model_fm_linear.summary()"
   ]
  },
  {
   "cell_type": "code",
   "execution_count": 10,
   "id": "f59f5b49",
   "metadata": {},
   "outputs": [
    {
     "name": "stdout",
     "output_type": "stream",
     "text": [
      "Epoch 1/10\n"
     ]
    },
    {
     "name": "stderr",
     "output_type": "stream",
     "text": [
      "2024-04-25 16:17:27.382811: W external/local_tsl/tsl/framework/cpu_allocator_impl.cc:83] Allocation of 150528000 exceeds 10% of free system memory.\n"
     ]
    },
    {
     "name": "stdout",
     "output_type": "stream",
     "text": [
      "\u001b[1m1500/1500\u001b[0m \u001b[32m━━━━━━━━━━━━━━━━━━━━\u001b[0m\u001b[37m\u001b[0m \u001b[1m6s\u001b[0m 3ms/step - accuracy: 0.7511 - loss: 0.6985 - val_accuracy: 0.8292 - val_loss: 0.4923\n",
      "Epoch 2/10\n",
      "\u001b[1m1500/1500\u001b[0m \u001b[32m━━━━━━━━━━━━━━━━━━━━\u001b[0m\u001b[37m\u001b[0m \u001b[1m4s\u001b[0m 3ms/step - accuracy: 0.8320 - loss: 0.4791 - val_accuracy: 0.8378 - val_loss: 0.4631\n",
      "Epoch 3/10\n",
      "\u001b[1m1500/1500\u001b[0m \u001b[32m━━━━━━━━━━━━━━━━━━━━\u001b[0m\u001b[37m\u001b[0m \u001b[1m4s\u001b[0m 3ms/step - accuracy: 0.8407 - loss: 0.4614 - val_accuracy: 0.8286 - val_loss: 0.4832\n",
      "Epoch 4/10\n",
      "\u001b[1m1500/1500\u001b[0m \u001b[32m━━━━━━━━━━━━━━━━━━━━\u001b[0m\u001b[37m\u001b[0m \u001b[1m5s\u001b[0m 3ms/step - accuracy: 0.8458 - loss: 0.4415 - val_accuracy: 0.8420 - val_loss: 0.4706\n",
      "Epoch 5/10\n",
      "\u001b[1m1500/1500\u001b[0m \u001b[32m━━━━━━━━━━━━━━━━━━━━\u001b[0m\u001b[37m\u001b[0m \u001b[1m5s\u001b[0m 3ms/step - accuracy: 0.8444 - loss: 0.4428 - val_accuracy: 0.8297 - val_loss: 0.4745\n",
      "Epoch 6/10\n",
      "\u001b[1m1500/1500\u001b[0m \u001b[32m━━━━━━━━━━━━━━━━━━━━\u001b[0m\u001b[37m\u001b[0m \u001b[1m4s\u001b[0m 3ms/step - accuracy: 0.8487 - loss: 0.4296 - val_accuracy: 0.8479 - val_loss: 0.4402\n",
      "Epoch 7/10\n",
      "\u001b[1m1500/1500\u001b[0m \u001b[32m━━━━━━━━━━━━━━━━━━━━\u001b[0m\u001b[37m\u001b[0m \u001b[1m4s\u001b[0m 3ms/step - accuracy: 0.8509 - loss: 0.4261 - val_accuracy: 0.8518 - val_loss: 0.4370\n",
      "Epoch 8/10\n",
      "\u001b[1m1500/1500\u001b[0m \u001b[32m━━━━━━━━━━━━━━━━━━━━\u001b[0m\u001b[37m\u001b[0m \u001b[1m4s\u001b[0m 3ms/step - accuracy: 0.8489 - loss: 0.4245 - val_accuracy: 0.8454 - val_loss: 0.4542\n",
      "Epoch 9/10\n",
      "\u001b[1m1500/1500\u001b[0m \u001b[32m━━━━━━━━━━━━━━━━━━━━\u001b[0m\u001b[37m\u001b[0m \u001b[1m4s\u001b[0m 3ms/step - accuracy: 0.8484 - loss: 0.4272 - val_accuracy: 0.8493 - val_loss: 0.4353\n",
      "Epoch 10/10\n",
      "\u001b[1m1500/1500\u001b[0m \u001b[32m━━━━━━━━━━━━━━━━━━━━\u001b[0m\u001b[37m\u001b[0m \u001b[1m4s\u001b[0m 3ms/step - accuracy: 0.8513 - loss: 0.4225 - val_accuracy: 0.8355 - val_loss: 0.4624\n",
      "\n",
      "Time to run using linear: 0:00:46.521515\n"
     ]
    }
   ],
   "source": [
    "# Entrenamiento \n",
    "start = datetime.datetime.now()\n",
    "history_fm_linear = model_fm_linear.fit(train_images,\n",
    "                                        train_labels,\n",
    "                                        validation_split=0.2,\n",
    "                                        epochs=10)\n",
    "\n",
    "history_fm_linear = history_fm_linear.history\n",
    "\n",
    "# medimos el tiempo de ejecución\n",
    "time_fm_linear = datetime.datetime.now() - start\n",
    "print(f\"\\nTime to run using linear: {time_fm_linear}\")"
   ]
  },
  {
   "cell_type": "markdown",
   "id": "f79b4657",
   "metadata": {},
   "source": [
    "Lo primero que podemos observar del uso de la función de activación lineal es que las métricas del modelo y su función de costo no mejoran en cada época, contrario a esto parecen oscilar al rededor de un valor promedio. Esto nos muestra de entrada que la elección de esta función de activación para todas las capas no es una buena elección, algo que irémos confirmando a medida que veamos la aplicación de otras funciones de activación. Se debe esperar que el valor de las métricas y la función de costo mejoren en cada época, este no es el caso."
   ]
  },
  {
   "cell_type": "code",
   "execution_count": 11,
   "id": "7700d03c",
   "metadata": {
    "scrolled": true
   },
   "outputs": [
    {
     "data": {
      "image/png": "[encoded data removed]",
      "text/plain": [
       "<Figure size 720x576 with 1 Axes>"
      ]
     },
     "metadata": {
      "needs_background": "light"
     },
     "output_type": "display_data"
    }
   ],
   "source": [
    "fig, ax = plt.subplots(figsize=(10,8))\n",
    "\n",
    "ax.plot(history_fm_linear[\"accuracy\"],     color=\"red\",   ls=\"-\",  lw=2, label=list(history_fm_linear.keys())[0])\n",
    "ax.plot(history_fm_linear[\"val_accuracy\"], color=\"red\",   ls=\"--\", lw=2, label=list(history_fm_linear.keys())[2])\n",
    "ax.plot(history_fm_linear[\"loss\"],         color=\"black\", ls=\"-\",  lw=2, label=list(history_fm_linear.keys())[1])\n",
    "ax.plot(history_fm_linear[\"val_loss\"],     color=\"black\", ls=\"--\", lw=2, label=list(history_fm_linear.keys())[3])\n",
    "\n",
    "ax.set_xlim(0, len(history_fm_linear[\"accuracy\"])-1)\n",
    "ax.set_xlabel(\"Ephocs\", **font)\n",
    "ax.set_ylabel(\"Score\", **font)\n",
    "\n",
    "ax.legend(prop=font, ncol=2, frameon=False)\n",
    "plt.show()"
   ]
  },
  {
   "cell_type": "markdown",
   "id": "7f36050d",
   "metadata": {},
   "source": [
    "Como decíamos, las métricas y función de costo permanecen casi constantes en el tiempo."
   ]
  },
  {
   "cell_type": "code",
   "execution_count": null,
   "id": "c6826da9",
   "metadata": {},
   "outputs": [],
   "source": []
  },
  {
   "cell_type": "markdown",
   "id": "09cf4b03",
   "metadata": {},
   "source": [
    "### ReLU\n",
    "\n",
    "[ReLU](https://es.wikipedia.org/wiki/Rectificador_(redes_neuronales)) es una de las funciones de activación más utilizadas para capas ocultas en la actualidad por sus excelentes características a la hora de entrenar. Está definida por\n",
    "\n",
    "\\begin{eqnarray}\n",
    "    \\text{ReLU}(x) = \\text{max}(0,x)\n",
    "\\end{eqnarray}\n",
    "\n",
    "Por lo cual su derivada es:\n",
    "\n",
    "\\begin{equation}\n",
    " \\frac{d\\text{ReLU}}{dx} = \\left\\{ \\begin{array}{lcc} \n",
    "                                                      0 & si & x \\leq 0 \\\\\n",
    "                                                      1 & si & x > 0     \\\\\n",
    "                                   \\end{array}\n",
    "                           \\right.\n",
    "\\end{equation}\n",
    "\n",
    "graficamente tenemos"
   ]
  },
  {
   "cell_type": "code",
   "execution_count": 12,
   "id": "46b59cc7",
   "metadata": {},
   "outputs": [
    {
     "data": {
      "image/png": "[encoded data removed]",
      "text/plain": [
       "<Figure size 720x360 with 2 Axes>"
      ]
     },
     "metadata": {
      "needs_background": "light"
     },
     "output_type": "display_data"
    }
   ],
   "source": [
    "# derivada\n",
    "x = np.linspace(-2, 2, 100)\n",
    "\n",
    "def d_relu(x):\n",
    "    if x<=0:\n",
    "        return 0\n",
    "    return 1\n",
    "\n",
    "d_relu = np.vectorize(d_relu)\n",
    "\n",
    "plot_af(x,\n",
    "        af=keras.activations.relu,\n",
    "        daf=d_relu,\n",
    "        af_ylabel=f\"ReLU$(x)$=max$(0,x)$\",\n",
    "        daf_ylabel=f\"$d$ReLU$/dx$\")\n"
   ]
  },
  {
   "cell_type": "markdown",
   "id": "b59fcdfb",
   "metadata": {},
   "source": [
    "Otras funciones de activación como *tanh* y *sofmax* tienen derivadas que en los extremos tienden a ser nulas y esto genera el conocido como *desvanecimiento del gradiente* que estudiaremos más adelante. La función RelU, por otro lado, tiene una derivada constante para valores positivos, además de ser una función muy sencilla de calcular comparada con funciones como *tanh* y *sofmax*. Estas características hacen de ella una función de activación altamente utilizada ya que puede acelerar el proceso de aprendizaje de la red. Otro atributo relevante es que genera esparsidad en la red al apagar algunas neuronas (su derivada es cero para valores menores a cero) conduciendo así a una reducción indirecta del overfitting. \n",
    "\n",
    "Veamos su comportamiento con algunos datos:"
   ]
  },
  {
   "cell_type": "code",
   "execution_count": 13,
   "id": "697f77b1",
   "metadata": {},
   "outputs": [
    {
     "data": {
      "text/plain": [
       "array([ 0.97627008,  4.30378733,  2.05526752,  0.89766366, -1.52690401,\n",
       "        2.91788226, -1.24825577,  7.83546002,  9.27325521, -2.33116962])"
      ]
     },
     "execution_count": 13,
     "metadata": {},
     "output_type": "execute_result"
    }
   ],
   "source": [
    "xp"
   ]
  },
  {
   "cell_type": "code",
   "execution_count": 14,
   "id": "7b8f9888",
   "metadata": {},
   "outputs": [
    {
     "data": {
      "text/plain": [
       "<tf.Tensor: shape=(10,), dtype=float64, numpy=\n",
       "array([0.97627008, 4.30378733, 2.05526752, 0.89766366, 0.        ,\n",
       "       2.91788226, 0.        , 7.83546002, 9.27325521, 0.        ])>"
      ]
     },
     "execution_count": 14,
     "metadata": {},
     "output_type": "execute_result"
    }
   ],
   "source": [
    "keras.activations.relu(xp)"
   ]
  },
  {
   "cell_type": "markdown",
   "id": "82a4c55f",
   "metadata": {},
   "source": [
    "Ahora entrenemos un modelo con la misma aquitectura que el modelo anterior pero utilizaremos una función de activación RelU en las capas ocultas. "
   ]
  },
  {
   "cell_type": "code",
   "execution_count": 15,
   "id": "673af550",
   "metadata": {},
   "outputs": [
    {
     "data": {
      "text/html": [
       "<pre style=\"white-space:pre;overflow-x:auto;line-height:normal;font-family:Menlo,'DejaVu Sans Mono',consolas,'Courier New',monospace\"><span style=\"font-weight: bold\">Model: \"fashionmn_af_relu\"</span>\n",
       "</pre>\n"
      ],
      "text/plain": [
       "\u001b[1mModel: \"fashionmn_af_relu\"\u001b[0m\n"
      ]
     },
     "metadata": {},
     "output_type": "display_data"
    },
    {
     "data": {
      "text/html": [
       "<pre style=\"white-space:pre;overflow-x:auto;line-height:normal;font-family:Menlo,'DejaVu Sans Mono',consolas,'Courier New',monospace\">┏━━━━━━━━━━━━━━━━━━━━━━━━━━━━━━━━━┳━━━━━━━━━━━━━━━━━━━━━━━━┳━━━━━━━━━━━━━━━┓\n",
       "┃<span style=\"font-weight: bold\"> Layer (type)                    </span>┃<span style=\"font-weight: bold\"> Output Shape           </span>┃<span style=\"font-weight: bold\">       Param # </span>┃\n",
       "┡━━━━━━━━━━━━━━━━━━━━━━━━━━━━━━━━━╇━━━━━━━━━━━━━━━━━━━━━━━━╇━━━━━━━━━━━━━━━┩\n",
       "│ Flatten (<span style=\"color: #0087ff; text-decoration-color: #0087ff\">Flatten</span>)               │ (<span style=\"color: #00d7ff; text-decoration-color: #00d7ff\">None</span>, <span style=\"color: #00af00; text-decoration-color: #00af00\">784</span>)            │             <span style=\"color: #00af00; text-decoration-color: #00af00\">0</span> │\n",
       "├─────────────────────────────────┼────────────────────────┼───────────────┤\n",
       "│ layer_1 (<span style=\"color: #0087ff; text-decoration-color: #0087ff\">Dense</span>)                 │ (<span style=\"color: #00d7ff; text-decoration-color: #00d7ff\">None</span>, <span style=\"color: #00af00; text-decoration-color: #00af00\">50</span>)             │        <span style=\"color: #00af00; text-decoration-color: #00af00\">39,250</span> │\n",
       "├─────────────────────────────────┼────────────────────────┼───────────────┤\n",
       "│ layer_2 (<span style=\"color: #0087ff; text-decoration-color: #0087ff\">Dense</span>)                 │ (<span style=\"color: #00d7ff; text-decoration-color: #00d7ff\">None</span>, <span style=\"color: #00af00; text-decoration-color: #00af00\">50</span>)             │         <span style=\"color: #00af00; text-decoration-color: #00af00\">2,550</span> │\n",
       "├─────────────────────────────────┼────────────────────────┼───────────────┤\n",
       "│ layer_3 (<span style=\"color: #0087ff; text-decoration-color: #0087ff\">Dense</span>)                 │ (<span style=\"color: #00d7ff; text-decoration-color: #00d7ff\">None</span>, <span style=\"color: #00af00; text-decoration-color: #00af00\">50</span>)             │         <span style=\"color: #00af00; text-decoration-color: #00af00\">2,550</span> │\n",
       "├─────────────────────────────────┼────────────────────────┼───────────────┤\n",
       "│ layer_4 (<span style=\"color: #0087ff; text-decoration-color: #0087ff\">Dense</span>)                 │ (<span style=\"color: #00d7ff; text-decoration-color: #00d7ff\">None</span>, <span style=\"color: #00af00; text-decoration-color: #00af00\">50</span>)             │         <span style=\"color: #00af00; text-decoration-color: #00af00\">2,550</span> │\n",
       "├─────────────────────────────────┼────────────────────────┼───────────────┤\n",
       "│ output (<span style=\"color: #0087ff; text-decoration-color: #0087ff\">Dense</span>)                  │ (<span style=\"color: #00d7ff; text-decoration-color: #00d7ff\">None</span>, <span style=\"color: #00af00; text-decoration-color: #00af00\">10</span>)             │           <span style=\"color: #00af00; text-decoration-color: #00af00\">510</span> │\n",
       "└─────────────────────────────────┴────────────────────────┴───────────────┘\n",
       "</pre>\n"
      ],
      "text/plain": [
       "┏━━━━━━━━━━━━━━━━━━━━━━━━━━━━━━━━━┳━━━━━━━━━━━━━━━━━━━━━━━━┳━━━━━━━━━━━━━━━┓\n",
       "┃\u001b[1m \u001b[0m\u001b[1mLayer (type)                   \u001b[0m\u001b[1m \u001b[0m┃\u001b[1m \u001b[0m\u001b[1mOutput Shape          \u001b[0m\u001b[1m \u001b[0m┃\u001b[1m \u001b[0m\u001b[1m      Param #\u001b[0m\u001b[1m \u001b[0m┃\n",
       "┡━━━━━━━━━━━━━━━━━━━━━━━━━━━━━━━━━╇━━━━━━━━━━━━━━━━━━━━━━━━╇━━━━━━━━━━━━━━━┩\n",
       "│ Flatten (\u001b[38;5;33mFlatten\u001b[0m)               │ (\u001b[38;5;45mNone\u001b[0m, \u001b[38;5;34m784\u001b[0m)            │             \u001b[38;5;34m0\u001b[0m │\n",
       "├─────────────────────────────────┼────────────────────────┼───────────────┤\n",
       "│ layer_1 (\u001b[38;5;33mDense\u001b[0m)                 │ (\u001b[38;5;45mNone\u001b[0m, \u001b[38;5;34m50\u001b[0m)             │        \u001b[38;5;34m39,250\u001b[0m │\n",
       "├─────────────────────────────────┼────────────────────────┼───────────────┤\n",
       "│ layer_2 (\u001b[38;5;33mDense\u001b[0m)                 │ (\u001b[38;5;45mNone\u001b[0m, \u001b[38;5;34m50\u001b[0m)             │         \u001b[38;5;34m2,550\u001b[0m │\n",
       "├─────────────────────────────────┼────────────────────────┼───────────────┤\n",
       "│ layer_3 (\u001b[38;5;33mDense\u001b[0m)                 │ (\u001b[38;5;45mNone\u001b[0m, \u001b[38;5;34m50\u001b[0m)             │         \u001b[38;5;34m2,550\u001b[0m │\n",
       "├─────────────────────────────────┼────────────────────────┼───────────────┤\n",
       "│ layer_4 (\u001b[38;5;33mDense\u001b[0m)                 │ (\u001b[38;5;45mNone\u001b[0m, \u001b[38;5;34m50\u001b[0m)             │         \u001b[38;5;34m2,550\u001b[0m │\n",
       "├─────────────────────────────────┼────────────────────────┼───────────────┤\n",
       "│ output (\u001b[38;5;33mDense\u001b[0m)                  │ (\u001b[38;5;45mNone\u001b[0m, \u001b[38;5;34m10\u001b[0m)             │           \u001b[38;5;34m510\u001b[0m │\n",
       "└─────────────────────────────────┴────────────────────────┴───────────────┘\n"
      ]
     },
     "metadata": {},
     "output_type": "display_data"
    },
    {
     "data": {
      "text/html": [
       "<pre style=\"white-space:pre;overflow-x:auto;line-height:normal;font-family:Menlo,'DejaVu Sans Mono',consolas,'Courier New',monospace\"><span style=\"font-weight: bold\"> Total params: </span><span style=\"color: #00af00; text-decoration-color: #00af00\">47,410</span> (185.20 KB)\n",
       "</pre>\n"
      ],
      "text/plain": [
       "\u001b[1m Total params: \u001b[0m\u001b[38;5;34m47,410\u001b[0m (185.20 KB)\n"
      ]
     },
     "metadata": {},
     "output_type": "display_data"
    },
    {
     "data": {
      "text/html": [
       "<pre style=\"white-space:pre;overflow-x:auto;line-height:normal;font-family:Menlo,'DejaVu Sans Mono',consolas,'Courier New',monospace\"><span style=\"font-weight: bold\"> Trainable params: </span><span style=\"color: #00af00; text-decoration-color: #00af00\">47,410</span> (185.20 KB)\n",
       "</pre>\n"
      ],
      "text/plain": [
       "\u001b[1m Trainable params: \u001b[0m\u001b[38;5;34m47,410\u001b[0m (185.20 KB)\n"
      ]
     },
     "metadata": {},
     "output_type": "display_data"
    },
    {
     "data": {
      "text/html": [
       "<pre style=\"white-space:pre;overflow-x:auto;line-height:normal;font-family:Menlo,'DejaVu Sans Mono',consolas,'Courier New',monospace\"><span style=\"font-weight: bold\"> Non-trainable params: </span><span style=\"color: #00af00; text-decoration-color: #00af00\">0</span> (0.00 B)\n",
       "</pre>\n"
      ],
      "text/plain": [
       "\u001b[1m Non-trainable params: \u001b[0m\u001b[38;5;34m0\u001b[0m (0.00 B)\n"
      ]
     },
     "metadata": {},
     "output_type": "display_data"
    }
   ],
   "source": [
    "# modelo\n",
    "model_fm_relu = create_model(name=\"fashionmn_af_relu\", \n",
    "                               shape=train_images[0].shape, \n",
    "                               af=\"relu\",\n",
    "                               output_af=\"softmax\")\n",
    "\n",
    "# compilación\n",
    "opt  = keras.optimizers.Adam(learning_rate=0.001)\n",
    "loss = keras.losses.SparseCategoricalCrossentropy()\n",
    "\n",
    "model_fm_relu.compile(optimizer=opt,\n",
    "                      loss=loss,\n",
    "                      metrics=[\"accuracy\"])\n",
    "\n",
    "model_fm_relu.summary()"
   ]
  },
  {
   "cell_type": "code",
   "execution_count": 16,
   "id": "1dff2889",
   "metadata": {},
   "outputs": [
    {
     "name": "stdout",
     "output_type": "stream",
     "text": [
      "Epoch 1/10\n"
     ]
    },
    {
     "name": "stderr",
     "output_type": "stream",
     "text": [
      "2024-04-25 16:18:14.716417: W external/local_tsl/tsl/framework/cpu_allocator_impl.cc:83] Allocation of 150528000 exceeds 10% of free system memory.\n"
     ]
    },
    {
     "name": "stdout",
     "output_type": "stream",
     "text": [
      "\u001b[1m1500/1500\u001b[0m \u001b[32m━━━━━━━━━━━━━━━━━━━━\u001b[0m\u001b[37m\u001b[0m \u001b[1m6s\u001b[0m 3ms/step - accuracy: 0.7297 - loss: 0.7535 - val_accuracy: 0.8342 - val_loss: 0.4567\n",
      "Epoch 2/10\n",
      "\u001b[1m1500/1500\u001b[0m \u001b[32m━━━━━━━━━━━━━━━━━━━━\u001b[0m\u001b[37m\u001b[0m \u001b[1m4s\u001b[0m 3ms/step - accuracy: 0.8520 - loss: 0.4113 - val_accuracy: 0.8451 - val_loss: 0.4132\n",
      "Epoch 3/10\n",
      "\u001b[1m1500/1500\u001b[0m \u001b[32m━━━━━━━━━━━━━━━━━━━━\u001b[0m\u001b[37m\u001b[0m \u001b[1m4s\u001b[0m 3ms/step - accuracy: 0.8674 - loss: 0.3627 - val_accuracy: 0.8700 - val_loss: 0.3625\n",
      "Epoch 4/10\n",
      "\u001b[1m1500/1500\u001b[0m \u001b[32m━━━━━━━━━━━━━━━━━━━━\u001b[0m\u001b[37m\u001b[0m \u001b[1m4s\u001b[0m 3ms/step - accuracy: 0.8737 - loss: 0.3396 - val_accuracy: 0.8644 - val_loss: 0.3670\n",
      "Epoch 5/10\n",
      "\u001b[1m1500/1500\u001b[0m \u001b[32m━━━━━━━━━━━━━━━━━━━━\u001b[0m\u001b[37m\u001b[0m \u001b[1m4s\u001b[0m 3ms/step - accuracy: 0.8821 - loss: 0.3180 - val_accuracy: 0.8540 - val_loss: 0.4026\n",
      "Epoch 6/10\n",
      "\u001b[1m1500/1500\u001b[0m \u001b[32m━━━━━━━━━━━━━━━━━━━━\u001b[0m\u001b[37m\u001b[0m \u001b[1m4s\u001b[0m 3ms/step - accuracy: 0.8843 - loss: 0.3102 - val_accuracy: 0.8744 - val_loss: 0.3428\n",
      "Epoch 7/10\n",
      "\u001b[1m1500/1500\u001b[0m \u001b[32m━━━━━━━━━━━━━━━━━━━━\u001b[0m\u001b[37m\u001b[0m \u001b[1m5s\u001b[0m 3ms/step - accuracy: 0.8958 - loss: 0.2839 - val_accuracy: 0.8730 - val_loss: 0.3471\n",
      "Epoch 8/10\n",
      "\u001b[1m1500/1500\u001b[0m \u001b[32m━━━━━━━━━━━━━━━━━━━━\u001b[0m\u001b[37m\u001b[0m \u001b[1m5s\u001b[0m 3ms/step - accuracy: 0.8957 - loss: 0.2789 - val_accuracy: 0.8766 - val_loss: 0.3450\n",
      "Epoch 9/10\n",
      "\u001b[1m1500/1500\u001b[0m \u001b[32m━━━━━━━━━━━━━━━━━━━━\u001b[0m\u001b[37m\u001b[0m \u001b[1m4s\u001b[0m 3ms/step - accuracy: 0.8981 - loss: 0.2744 - val_accuracy: 0.8780 - val_loss: 0.3511\n",
      "Epoch 10/10\n",
      "\u001b[1m1500/1500\u001b[0m \u001b[32m━━━━━━━━━━━━━━━━━━━━\u001b[0m\u001b[37m\u001b[0m \u001b[1m4s\u001b[0m 3ms/step - accuracy: 0.8997 - loss: 0.2655 - val_accuracy: 0.8862 - val_loss: 0.3239\n",
      "\n",
      "Time to run using relu: 0:00:46.895580\n"
     ]
    }
   ],
   "source": [
    "# Entrenamiento \n",
    "start = datetime.datetime.now()\n",
    "history_fm_relu = model_fm_relu.fit(train_images,\n",
    "                                    train_labels,\n",
    "                                    validation_split=0.2,\n",
    "                                    epochs=10)\n",
    "\n",
    "history_fm_relu = history_fm_relu.history\n",
    "# medimos el tiempo de ejecución\n",
    "time_fm_relu = datetime.datetime.now() - start\n",
    "print(f\"\\nTime to run using relu: {time_fm_relu}\")"
   ]
  },
  {
   "cell_type": "code",
   "execution_count": 17,
   "id": "2e3923c6",
   "metadata": {},
   "outputs": [
    {
     "data": {
      "image/png": "[encoded data removed]",
      "text/plain": [
       "<Figure size 720x576 with 1 Axes>"
      ]
     },
     "metadata": {
      "needs_background": "light"
     },
     "output_type": "display_data"
    }
   ],
   "source": [
    "fig, ax = plt.subplots(figsize=(10,8))\n",
    "\n",
    "ax.plot(history_fm_relu[\"accuracy\"],     color=\"red\",   ls=\"-\",  lw=2, label=list(history_fm_relu.keys())[0])\n",
    "ax.plot(history_fm_relu[\"val_accuracy\"], color=\"red\",   ls=\"--\", lw=2, label=list(history_fm_relu.keys())[2])\n",
    "ax.plot(history_fm_relu[\"loss\"],         color=\"black\", ls=\"-\",  lw=2, label=list(history_fm_relu.keys())[1])\n",
    "ax.plot(history_fm_relu[\"val_loss\"],     color=\"black\", ls=\"--\", lw=2, label=list(history_fm_relu.keys())[3])\n",
    "\n",
    "ax.set_xlim(0, len(history_fm_relu[\"accuracy\"])-1)\n",
    "ax.set_xlabel(\"Ephocs\", **font)\n",
    "ax.set_ylabel(\"Score\", **font)\n",
    "\n",
    "ax.legend(prop=font, ncol=2, frameon=False)\n",
    "plt.show()"
   ]
  },
  {
   "cell_type": "markdown",
   "id": "7dc397e2",
   "metadata": {},
   "source": [
    "En esta ocasión vemos que tanto las métricas como la función de perdida mejoran en cada iteración, contrario a cuando utilizamos la función de activación lineal. "
   ]
  },
  {
   "cell_type": "code",
   "execution_count": null,
   "id": "7162bf78",
   "metadata": {},
   "outputs": [],
   "source": []
  },
  {
   "cell_type": "markdown",
   "id": "f11d0c94",
   "metadata": {},
   "source": [
    "## Funciones de perdida"
   ]
  },
  {
   "cell_type": "code",
   "execution_count": null,
   "id": "8c8efb54",
   "metadata": {},
   "outputs": [],
   "source": []
  },
  {
   "cell_type": "code",
   "execution_count": null,
   "id": "2ad67939",
   "metadata": {},
   "outputs": [],
   "source": []
  },
  {
   "cell_type": "code",
   "execution_count": null,
   "id": "35d9587b",
   "metadata": {},
   "outputs": [],
   "source": []
  },
  {
   "cell_type": "code",
   "execution_count": null,
   "id": "438eee2a",
   "metadata": {},
   "outputs": [],
   "source": []
  },
  {
   "cell_type": "code",
   "execution_count": null,
   "id": "36d1044d",
   "metadata": {},
   "outputs": [],
   "source": []
  },
  {
   "cell_type": "code",
   "execution_count": null,
   "id": "e5bf7cae",
   "metadata": {},
   "outputs": [],
   "source": []
  },
  {
   "cell_type": "code",
   "execution_count": null,
   "id": "5c3a0a8c",
   "metadata": {},
   "outputs": [],
   "source": []
  },
  {
   "cell_type": "code",
   "execution_count": null,
   "id": "32279c5f",
   "metadata": {},
   "outputs": [],
   "source": []
  },
  {
   "cell_type": "code",
   "execution_count": null,
   "id": "25b180c1",
   "metadata": {},
   "outputs": [],
   "source": []
  },
  {
   "cell_type": "code",
   "execution_count": null,
   "id": "7507f5b1",
   "metadata": {},
   "outputs": [],
   "source": []
  },
  {
   "cell_type": "code",
   "execution_count": null,
   "id": "bde0b089",
   "metadata": {},
   "outputs": [],
   "source": []
  },
  {
   "cell_type": "code",
   "execution_count": null,
   "id": "5a4ef742",
   "metadata": {},
   "outputs": [],
   "source": []
  },
  {
   "cell_type": "markdown",
   "id": "a02fa1f0",
   "metadata": {},
   "source": [
    "## Optimizadores"
   ]
  },
  {
   "cell_type": "code",
   "execution_count": null,
   "id": "d42a79c7",
   "metadata": {},
   "outputs": [],
   "source": []
  },
  {
   "cell_type": "code",
   "execution_count": null,
   "id": "739141f3",
   "metadata": {},
   "outputs": [],
   "source": []
  },
  {
   "cell_type": "code",
   "execution_count": null,
   "id": "e8b048e7",
   "metadata": {},
   "outputs": [],
   "source": []
  },
  {
   "cell_type": "code",
   "execution_count": null,
   "id": "412b21d0",
   "metadata": {},
   "outputs": [],
   "source": []
  },
  {
   "cell_type": "code",
   "execution_count": null,
   "id": "80d7a0fb",
   "metadata": {},
   "outputs": [],
   "source": []
  },
  {
   "cell_type": "code",
   "execution_count": null,
   "id": "93ac397a",
   "metadata": {},
   "outputs": [],
   "source": []
  },
  {
   "cell_type": "code",
   "execution_count": null,
   "id": "c7ffd4b8",
   "metadata": {},
   "outputs": [],
   "source": []
  },
  {
   "cell_type": "code",
   "execution_count": null,
   "id": "2aaf4806",
   "metadata": {},
   "outputs": [],
   "source": []
  },
  {
   "cell_type": "markdown",
   "id": "99ccbd16",
   "metadata": {},
   "source": [
    "## Algoritmo de Backpropagation"
   ]
  },
  {
   "cell_type": "code",
   "execution_count": null,
   "id": "ab432c9e",
   "metadata": {},
   "outputs": [],
   "source": []
  },
  {
   "cell_type": "code",
   "execution_count": null,
   "id": "e1dbc9e2",
   "metadata": {},
   "outputs": [],
   "source": []
  },
  {
   "cell_type": "code",
   "execution_count": null,
   "id": "5e1ac4f0",
   "metadata": {},
   "outputs": [],
   "source": []
  }
 ],
 "metadata": {
  "kernelspec": {
   "display_name": "Python 3 (ipykernel)",
   "language": "python",
   "name": "python3"
  },
  "language_info": {
   "codemirror_mode": {
    "name": "ipython",
    "version": 3
   },
   "file_extension": ".py",
   "mimetype": "text/x-python",
   "name": "python",
   "nbconvert_exporter": "python",
   "pygments_lexer": "ipython3",
   "version": "3.9.12"
  }
 },
 "nbformat": 4,
 "nbformat_minor": 5
}
