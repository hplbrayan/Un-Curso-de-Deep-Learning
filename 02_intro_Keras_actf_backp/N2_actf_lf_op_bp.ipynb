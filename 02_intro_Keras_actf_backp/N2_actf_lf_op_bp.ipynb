{
 "cells": [
  {
   "cell_type": "code",
   "execution_count": 2,
   "id": "ec19b5d7",
   "metadata": {},
   "outputs": [
    {
     "name": "stderr",
     "output_type": "stream",
     "text": [
      "2024-04-24 19:08:08.968305: W tensorflow/compiler/tf2tensorrt/utils/py_utils.cc:38] TF-TRT Warning: Could not find TensorRT\n"
     ]
    }
   ],
   "source": [
    "import numpy as np\n",
    "\n",
    "import tensorflow as tf\n",
    "from tensorflow import keras\n",
    "\n",
    "import matplotlib.pyplot as plt"
   ]
  },
  {
   "cell_type": "markdown",
   "id": "a860765b",
   "metadata": {},
   "source": [
    "### Estilos"
   ]
  },
  {
   "cell_type": "code",
   "execution_count": 14,
   "id": "fceaaef3",
   "metadata": {},
   "outputs": [],
   "source": [
    "font = {'family' : 'DejaVu Sans',\n",
    "        'weight' : 'bold',\n",
    "        'size'   : 18}\n",
    "\n",
    "font_leg = {'family' : 'DejaVu Sans',\n",
    "            'weight' : 'bold',\n",
    "            'size'   : 10}"
   ]
  },
  {
   "cell_type": "markdown",
   "id": "0e8337ec",
   "metadata": {},
   "source": [
    "## <center><h2>Elementos de una red neuronal</h2></center>\n",
    "\n",
    "Ya se ha visto la estructura básica de una red neuronal. Vimos que una neurona realiza una suma ponderada y sobre esta aplica una función de activación que será el valor de salida de la neurona, luego, una vez se han obtenido las predicciones de la red para los datos de entrenamiento, se puede calcular la función de costo que será el objetivo a minimizar por medio del ajuste de los pesos en cada época del entrenamiento. Este ajuste se realiza por medio de algún algoritmo de minimización y, en esencia, todos hacen uso del gradiente de la función de costo. Para calcular este gradiente se debe utilizar un algoritmo muy especial conocido como *El Algoritmo de Backpropagation*. En este notebook se analizarán en mayor detalle cada una de estas componentes del proceso de entrenamiento de la red neuronal. "
   ]
  },
  {
   "cell_type": "markdown",
   "id": "3cd52a66",
   "metadata": {},
   "source": [
    "## Funciones de activación\n",
    "\n",
    "Una neurona tendrá un determinado número de entradas $x_i$, cada una de ellas un escalar, e internamente realizará una suma ponderada $z=\\sum w_ix_i+b$ de estas, luego la suma es entregada a una función de activación $a(z)$ y este será el valor de salida de la neurona. \n",
    "\n",
    "Por ejemplo, en el caso del perceptrón propuesto por [Frank Rosenblatt](https://es.wikipedia.org/wiki/Perceptr%C3%B3n), la función de activación es la función escalón unitario, pero tenemos gran variedad de funciones de activación, por ejemplo, keras nos ofrece las siguientes:\n",
    "\n",
    "<p><center>relu, sigmoid, softmax, softplus, softsign, tanh, selu, elu, exponential, leaky_relu, relu6, silu, hard_silu, gelu, hard_sigmoid, linear, mish, log_softmax.</center></p>\n",
    "\n",
    "aunque también nos permite definir las nuestras propias. A continuación vamos a comenzar por analizar algunas de las funciones de activación más relevantes y su derivada pues esta es también de alta importancia para poder entender su uso. "
   ]
  },
  {
   "cell_type": "markdown",
   "id": "4778e6f8",
   "metadata": {},
   "source": [
    "#### lineal\n",
    "La función de activación más simple sería la función de activación lineal que es una función identidad, retorna lo mismo que le entra. Veamos su representación gráfica y la de su derivada. Pero antes, como estaremos graficando varias funciones de activación minimicemos código generando una función que haga esto."
   ]
  },
  {
   "cell_type": "code",
   "execution_count": 37,
   "id": "8b6f8d22",
   "metadata": {},
   "outputs": [],
   "source": [
    "def plot_af(x,\n",
    "            af,\n",
    "            daf,\n",
    "            af_ylabel,\n",
    "            daf_ylabel):\n",
    "    \n",
    "    # gráfico\n",
    "    fig, ax = plt.subplots(figsize=(10,5), ncols=2, nrows=1)\n",
    "\n",
    "    ax[0].plot(x, af(x), color=\"k\", lw=2)\n",
    "    ax[0].set_title(\"AF\", **font)\n",
    "    ax[0].set_ylabel(af_ylabel, **font)\n",
    "    ax[0].set_xlim(min(x), max(x))\n",
    "\n",
    "    ax[1].plot(x, daf(x), color=\"red\", lw=2)\n",
    "    ax[1].set_title(\"Derivative of the AF\", **font)\n",
    "    ax[1].set_ylabel(daf_ylabel, **font)\n",
    "    ax[1].set_xlim(min(x), max(x))\n",
    "\n",
    "    plt.tight_layout()"
   ]
  },
  {
   "cell_type": "code",
   "execution_count": 40,
   "id": "c5ec9647",
   "metadata": {},
   "outputs": [
    {
     "data": {
      "image/png": "[encoded data removed]",
      "text/plain": [
       "<Figure size 720x360 with 2 Axes>"
      ]
     },
     "metadata": {
      "needs_background": "light"
     },
     "output_type": "display_data"
    }
   ],
   "source": [
    "# derivada\n",
    "x = np.linspace(-2, 2, 100)\n",
    "\n",
    "def d_lineal(x):\n",
    "    return 1\n",
    "d_lineal = np.vectorize(d_lineal)\n",
    "\n",
    "plot_af(x,\n",
    "        af=keras.activations.linear,\n",
    "        daf=d_lineal,\n",
    "        af_ylabel=f\"$f(x)=x$\",\n",
    "        daf_ylabel=f\"$df/dx=1$\")\n"
   ]
  },
  {
   "cell_type": "code",
   "execution_count": 34,
   "id": "fc269954",
   "metadata": {},
   "outputs": [
    {
     "data": {
      "text/plain": [
       "array([ 0.97627008,  4.30378733,  2.05526752,  0.89766366, -1.52690401,\n",
       "        2.91788226, -1.24825577,  7.83546002,  9.27325521, -2.33116962])"
      ]
     },
     "execution_count": 34,
     "metadata": {},
     "output_type": "execute_result"
    }
   ],
   "source": [
    "# Algunos datos de prueba\n",
    "np.random.seed(0)\n",
    "xp = np.random.uniform(-10, 10, 10)\n",
    "xp"
   ]
  },
  {
   "cell_type": "code",
   "execution_count": 35,
   "id": "3f373b96",
   "metadata": {},
   "outputs": [
    {
     "data": {
      "text/plain": [
       "array([ 0.97627008,  4.30378733,  2.05526752,  0.89766366, -1.52690401,\n",
       "        2.91788226, -1.24825577,  7.83546002,  9.27325521, -2.33116962])"
      ]
     },
     "execution_count": 35,
     "metadata": {},
     "output_type": "execute_result"
    }
   ],
   "source": [
    "keras.activations.linear(xp)"
   ]
  },
  {
   "cell_type": "code",
   "execution_count": null,
   "id": "20ee47e7",
   "metadata": {},
   "outputs": [],
   "source": []
  },
  {
   "cell_type": "code",
   "execution_count": null,
   "id": "7fdc6600",
   "metadata": {},
   "outputs": [],
   "source": []
  },
  {
   "cell_type": "code",
   "execution_count": null,
   "id": "672093e6",
   "metadata": {},
   "outputs": [],
   "source": []
  },
  {
   "cell_type": "code",
   "execution_count": null,
   "id": "7d65ebea",
   "metadata": {},
   "outputs": [],
   "source": []
  },
  {
   "cell_type": "code",
   "execution_count": null,
   "id": "73011227",
   "metadata": {},
   "outputs": [],
   "source": []
  },
  {
   "cell_type": "code",
   "execution_count": null,
   "id": "f59f5b49",
   "metadata": {},
   "outputs": [],
   "source": []
  },
  {
   "cell_type": "code",
   "execution_count": null,
   "id": "6b62260b",
   "metadata": {},
   "outputs": [],
   "source": []
  },
  {
   "cell_type": "code",
   "execution_count": null,
   "id": "7700d03c",
   "metadata": {},
   "outputs": [],
   "source": []
  },
  {
   "cell_type": "code",
   "execution_count": null,
   "id": "673af550",
   "metadata": {},
   "outputs": [],
   "source": []
  },
  {
   "cell_type": "markdown",
   "id": "f11d0c94",
   "metadata": {},
   "source": [
    "## Funciones de perdida"
   ]
  },
  {
   "cell_type": "code",
   "execution_count": null,
   "id": "8c8efb54",
   "metadata": {},
   "outputs": [],
   "source": []
  },
  {
   "cell_type": "code",
   "execution_count": null,
   "id": "2ad67939",
   "metadata": {},
   "outputs": [],
   "source": []
  },
  {
   "cell_type": "code",
   "execution_count": null,
   "id": "35d9587b",
   "metadata": {},
   "outputs": [],
   "source": []
  },
  {
   "cell_type": "code",
   "execution_count": null,
   "id": "438eee2a",
   "metadata": {},
   "outputs": [],
   "source": []
  },
  {
   "cell_type": "code",
   "execution_count": null,
   "id": "36d1044d",
   "metadata": {},
   "outputs": [],
   "source": []
  },
  {
   "cell_type": "code",
   "execution_count": null,
   "id": "e5bf7cae",
   "metadata": {},
   "outputs": [],
   "source": []
  },
  {
   "cell_type": "code",
   "execution_count": null,
   "id": "5c3a0a8c",
   "metadata": {},
   "outputs": [],
   "source": []
  },
  {
   "cell_type": "code",
   "execution_count": null,
   "id": "32279c5f",
   "metadata": {},
   "outputs": [],
   "source": []
  },
  {
   "cell_type": "code",
   "execution_count": null,
   "id": "25b180c1",
   "metadata": {},
   "outputs": [],
   "source": []
  },
  {
   "cell_type": "code",
   "execution_count": null,
   "id": "7507f5b1",
   "metadata": {},
   "outputs": [],
   "source": []
  },
  {
   "cell_type": "code",
   "execution_count": null,
   "id": "bde0b089",
   "metadata": {},
   "outputs": [],
   "source": []
  },
  {
   "cell_type": "code",
   "execution_count": null,
   "id": "5a4ef742",
   "metadata": {},
   "outputs": [],
   "source": []
  },
  {
   "cell_type": "markdown",
   "id": "a02fa1f0",
   "metadata": {},
   "source": [
    "## Optimizadores"
   ]
  },
  {
   "cell_type": "code",
   "execution_count": null,
   "id": "d42a79c7",
   "metadata": {},
   "outputs": [],
   "source": []
  },
  {
   "cell_type": "code",
   "execution_count": null,
   "id": "739141f3",
   "metadata": {},
   "outputs": [],
   "source": []
  },
  {
   "cell_type": "code",
   "execution_count": null,
   "id": "e8b048e7",
   "metadata": {},
   "outputs": [],
   "source": []
  },
  {
   "cell_type": "code",
   "execution_count": null,
   "id": "412b21d0",
   "metadata": {},
   "outputs": [],
   "source": []
  },
  {
   "cell_type": "code",
   "execution_count": null,
   "id": "80d7a0fb",
   "metadata": {},
   "outputs": [],
   "source": []
  },
  {
   "cell_type": "code",
   "execution_count": null,
   "id": "93ac397a",
   "metadata": {},
   "outputs": [],
   "source": []
  },
  {
   "cell_type": "code",
   "execution_count": null,
   "id": "c7ffd4b8",
   "metadata": {},
   "outputs": [],
   "source": []
  },
  {
   "cell_type": "code",
   "execution_count": null,
   "id": "2aaf4806",
   "metadata": {},
   "outputs": [],
   "source": []
  },
  {
   "cell_type": "markdown",
   "id": "99ccbd16",
   "metadata": {},
   "source": [
    "## Algoritmo de Backpropagation"
   ]
  },
  {
   "cell_type": "code",
   "execution_count": null,
   "id": "ab432c9e",
   "metadata": {},
   "outputs": [],
   "source": []
  }
 ],
 "metadata": {
  "kernelspec": {
   "display_name": "Python 3 (ipykernel)",
   "language": "python",
   "name": "python3"
  },
  "language_info": {
   "codemirror_mode": {
    "name": "ipython",
    "version": 3
   },
   "file_extension": ".py",
   "mimetype": "text/x-python",
   "name": "python",
   "nbconvert_exporter": "python",
   "pygments_lexer": "ipython3",
   "version": "3.9.12"
  }
 },
 "nbformat": 4,
 "nbformat_minor": 5
}
