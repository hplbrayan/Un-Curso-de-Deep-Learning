{
 "cells": [
  {
   "cell_type": "code",
   "execution_count": 1,
   "id": "ec19b5d7",
   "metadata": {},
   "outputs": [
    {
     "name": "stderr",
     "output_type": "stream",
     "text": [
      "2024-04-30 12:56:43.707475: W tensorflow/compiler/tf2tensorrt/utils/py_utils.cc:38] TF-TRT Warning: Could not find TensorRT\n"
     ]
    }
   ],
   "source": [
    "import numpy as np\n",
    "import pandas as pd\n",
    "import datetime\n",
    "\n",
    "import tensorflow as tf\n",
    "from tensorflow import keras\n",
    "\n",
    "import matplotlib.pyplot as plt"
   ]
  },
  {
   "cell_type": "markdown",
   "id": "a860765b",
   "metadata": {},
   "source": [
    "### Estilos"
   ]
  },
  {
   "cell_type": "code",
   "execution_count": 2,
   "id": "fceaaef3",
   "metadata": {},
   "outputs": [],
   "source": [
    "font = {'family' : 'DejaVu Sans',\n",
    "        'weight' : 'bold',\n",
    "        'size'   : 18}\n",
    "\n",
    "font_leg = {'family' : 'DejaVu Sans',\n",
    "            'weight' : 'bold',\n",
    "            'size'   : 10}"
   ]
  },
  {
   "cell_type": "markdown",
   "id": "0e8337ec",
   "metadata": {},
   "source": [
    "## <center><h2>Elementos de una red neuronal</h2></center>\n",
    "\n",
    "Ya se ha visto la estructura básica de una red neuronal. Vimos que una neurona realiza una suma ponderada y sobre esta aplica una función de activación que será el valor de salida de la neurona, luego, una vez se han obtenido las predicciones de la red para los datos de entrenamiento, se puede calcular la función de costo que será el objetivo a minimizar por medio del ajuste de los pesos en cada época del entrenamiento. Este ajuste se realiza por medio de algún algoritmo de minimización y, en esencia, todos hacen uso del gradiente de la función de costo. Para calcular este gradiente se debe utilizar un algoritmo muy especial conocido como *El Algoritmo de Backpropagation*. En este notebook se analizarán en mayor detalle cada una de estas componentes del proceso de entrenamiento de la red neuronal. "
   ]
  },
  {
   "cell_type": "markdown",
   "id": "3cd52a66",
   "metadata": {},
   "source": [
    "## Funciones de activación\n",
    "\n",
    "Una neurona tendrá un determinado número de entradas $x_i$, cada una de ellas un escalar, e internamente realizará una suma ponderada $z=\\sum w_ix_i+b$ de estas, luego la suma es entregada a una función de activación $a(z)$ y este será el valor de salida de la neurona. \n",
    "\n",
    "Por ejemplo, en el caso del perceptrón propuesto por [Frank Rosenblatt](https://es.wikipedia.org/wiki/Perceptr%C3%B3n), la función de activación es la función escalón unitario, pero tenemos gran variedad de funciones de activación, por ejemplo, keras nos ofrece las siguientes:\n",
    "\n",
    "<p><center>relu, sigmoid, softmax, softplus, softsign, tanh, selu, elu, exponential, leaky_relu, relu6, silu, hard_silu, gelu, hard_sigmoid, linear, mish, log_softmax.</center></p>\n",
    "\n",
    "aunque también nos permite definir las nuestras propias. El objetivo de una función de activación es lograr activar las neuronas de modo que la red completa logre aprender. No tener una función de activación en una red, por más grande que sea, hará que toda la red se comporte como si tuviésemos una sola capa. Consideremos la primera capa con función de activación $a^{[1]}(z)$, denotemos por $z^{[1]}$ las sumas ponderadas para cada neurona de la primera capa: \n",
    "\n",
    "\\begin{equation}\n",
    "z^{[1]} = w^{[1]}x^{[1]}+b^{[1]} \\nonumber\n",
    "\\end{equation}\n",
    "\n",
    "con $x^{[1]}$ la entrada a la capa $1$. Para la segunda capa sus entradas serían las salidas de la primera capa, es decir $a^{[1]}(z^{[1]})$. No tener función de activación es lo mismo que usar $a(z)=z$, así, para la segunda capa tendríamos que su salida sería:\n",
    "\n",
    "\\begin{eqnarray}\n",
    "a^{[2]}(z^{[2]}) &=& z^{[2]}\\\\\n",
    "                 &=& w^{[2]}x^{[2]}+b^{[2]}\\nonumber \\\\\n",
    "                 &=& w^{[2]}a^{[1]}+b^{[2]}\\nonumber  \\\\\n",
    "                 &=& w^{[2]}z^{[1]}+b^{[2]}\\nonumber  \\\\\n",
    "                 &=& w^{[2]}[w^{[1]}x^{[1]}+b^{[1]}]+b^{[2]}\\nonumber \\\\\n",
    "                 &=& w^{[2]}w^{[1]}x^{[1]} + w^{[2]}b^{[1]} +b^{[2]}\\nonumber  \\\\ \n",
    "\\end{eqnarray}\n",
    "\n",
    "definiendo $w^{[2]}w^{[1]}=w'$ y $w^{[2]}b^{[1]} +b^{[2]}=b'$ obtenemos\n",
    "\n",
    "\\begin{equation}\n",
    "a^{[2]}(z^{[2]}) = w'x^{[1]}+b' \\nonumber \n",
    "\\end{equation}\n",
    "\n",
    "De esta expresión concluimos que la ausencia de una función de activación acabará por hacer que toda la red colapse a una sola capa lineal por lo que no se produce aprendizaje durante el entrenamiento sin importar cuantas capas se utilicen. \n",
    "\n",
    "A continuación vamos a comenzar por analizar algunas de las funciones de activación más relevantes y su derivada pues esta es también de alta importancia para poder entender su uso. "
   ]
  },
  {
   "cell_type": "markdown",
   "id": "4778e6f8",
   "metadata": {},
   "source": [
    "### Lineal\n",
    "La función de activación más simple sería la función de activación lineal que es una función identidad que, como acabamos de ver, no permite que se produzca aprendizaje en las capas internas de la red.\n",
    "\n",
    "Veamos su representación gráfica y la de su derivada. Pero antes, como estaremos graficando varias funciones de activación minimicemos código generando una función que haga esto."
   ]
  },
  {
   "cell_type": "code",
   "execution_count": 3,
   "id": "8b6f8d22",
   "metadata": {},
   "outputs": [],
   "source": [
    "def plot_af(x,\n",
    "            af,\n",
    "            daf,\n",
    "            af_ylabel,\n",
    "            daf_ylabel, **kwards):\n",
    "    \n",
    "    # gráfico\n",
    "    fig, ax = plt.subplots(figsize=(10,5), ncols=2, nrows=1)\n",
    "\n",
    "    ax[0].plot(x, af(x, **kwards), color=\"k\", lw=2)\n",
    "    ax[0].set_title(\"AF\", **font)\n",
    "    ax[0].set_ylabel(af_ylabel, **font)\n",
    "    ax[0].set_xlim(min(x), max(x))\n",
    "\n",
    "    ax[1].plot(x, daf(x), color=\"red\", lw=2)\n",
    "    ax[1].set_title(\"Derivative of the AF\", **font)\n",
    "    ax[1].set_ylabel(daf_ylabel, **font)\n",
    "    ax[1].set_xlim(min(x), max(x))\n",
    "\n",
    "    plt.tight_layout()\n",
    "    \n",
    "    \n",
    "\n",
    "def plot_accuracy_loss(history, name):\n",
    "    \n",
    "    fig, ax = plt.subplots(figsize=(10,8))\n",
    "\n",
    "    ax.plot(history[\"accuracy\"],     color=\"red\",   ls=\"-\",  lw=2, label=list(history.keys())[0])\n",
    "    ax.plot(history[\"val_accuracy\"], color=\"red\",   ls=\"--\", lw=2, label=list(history.keys())[2])\n",
    "    ax.plot(history[\"loss\"],         color=\"black\", ls=\"-\",  lw=2, label=list(history.keys())[1])\n",
    "    ax.plot(history[\"val_loss\"],     color=\"black\", ls=\"--\", lw=2, label=list(history.keys())[3])\n",
    "\n",
    "    ax.set_xlim(0, len(history[\"accuracy\"])-1)\n",
    "    ax.set_xlabel(\"Ephocs\", **font)\n",
    "    ax.set_ylabel(\"Score\", **font)\n",
    "    ax.set_title(name, **font)\n",
    "\n",
    "    ax.legend(prop=font, ncol=2, frameon=False)\n",
    "    plt.show()"
   ]
  },
  {
   "cell_type": "code",
   "execution_count": 4,
   "id": "c5ec9647",
   "metadata": {},
   "outputs": [
    {
     "data": {
      "image/png": "[encoded data removed]",
      "text/plain": [
       "<Figure size 720x360 with 2 Axes>"
      ]
     },
     "metadata": {
      "needs_background": "light"
     },
     "output_type": "display_data"
    }
   ],
   "source": [
    "# derivada\n",
    "x = np.linspace(-2, 2, 100)\n",
    "\n",
    "def d_lineal(x):\n",
    "    return 1\n",
    "d_lineal = np.vectorize(d_lineal)\n",
    "\n",
    "plot_af(x,\n",
    "        af=keras.activations.linear,\n",
    "        daf=d_lineal,\n",
    "        af_ylabel=f\"$f(x)=x$\",\n",
    "        daf_ylabel=f\"$df/dx=1$\")\n"
   ]
  },
  {
   "cell_type": "markdown",
   "id": "a00d1867",
   "metadata": {},
   "source": [
    "Aparte de lo que ya se ha dicho hasta este momento, hay una característica importante que se puede resaltar sobre la función identidad, y es que su derivada es constante, es decir siempre tiene el mismo valor, $1$. Este hecho permite que se pueda producir una actualización constante de los pesos pues, como se verá cuando analicemos el algoritmo de backpropagation, una de las condiciones que tienen que cumplir las funciones de activación es que su derivada no puede ser nula en todos los puntos de su dominio. La derivada de la función de activación es determinante a la hora de entrenar un modelo pues determinará la rapidez con la cual este aprende. \n",
    "\n",
    "Esta función de activación es usada principalmente en la última capa de redes para problemas de regresión. "
   ]
  },
  {
   "cell_type": "code",
   "execution_count": 5,
   "id": "fc269954",
   "metadata": {},
   "outputs": [
    {
     "data": {
      "text/plain": [
       "array([ 0.97627008,  4.30378733,  2.05526752,  0.89766366, -1.52690401,\n",
       "        2.91788226, -1.24825577,  7.83546002,  9.27325521, -2.33116962])"
      ]
     },
     "execution_count": 5,
     "metadata": {},
     "output_type": "execute_result"
    }
   ],
   "source": [
    "# Algunos datos de prueba\n",
    "np.random.seed(0)\n",
    "xp = np.random.uniform(-10, 10, 10)\n",
    "xp"
   ]
  },
  {
   "cell_type": "code",
   "execution_count": 6,
   "id": "3f373b96",
   "metadata": {},
   "outputs": [
    {
     "data": {
      "text/plain": [
       "array([ 0.97627008,  4.30378733,  2.05526752,  0.89766366, -1.52690401,\n",
       "        2.91788226, -1.24825577,  7.83546002,  9.27325521, -2.33116962])"
      ]
     },
     "execution_count": 6,
     "metadata": {},
     "output_type": "execute_result"
    }
   ],
   "source": [
    "keras.activations.linear(xp)"
   ]
  },
  {
   "cell_type": "markdown",
   "id": "a3b7355d",
   "metadata": {},
   "source": [
    "Generemos ahora un modelo con múltiples capas para probar el aprendizaje de una red neuronal. "
   ]
  },
  {
   "cell_type": "code",
   "execution_count": 7,
   "id": "7fdc6600",
   "metadata": {},
   "outputs": [],
   "source": [
    "def create_model(name,\n",
    "                 shape,\n",
    "                 units=[80, 90, 80, 80],\n",
    "                 af=\"relu\",\n",
    "                 output_af=\"softmax\"):\n",
    "    \n",
    "    layers = 4\n",
    "    if type(units)==int:\n",
    "        units=[units]*layers\n",
    "    if type(af)==str:\n",
    "        af=[af]*layers\n",
    "        \n",
    "    model = keras.Sequential(name=name)\n",
    "    model.add(keras.Input(shape=shape))\n",
    "    model.add(keras.layers.Flatten(name=\"Flatten\"))\n",
    "    model.add(keras.layers.Dense(units=units[0], activation=af[0], name=\"layer_1\"))\n",
    "    model.add(keras.layers.Dense(units=units[1], activation=af[1], name=\"layer_2\"))\n",
    "    model.add(keras.layers.Dense(units=units[2], activation=af[2], name=\"layer_3\"))\n",
    "    model.add(keras.layers.Dense(units=units[3], activation=af[3], name=\"layer_4\"))\n",
    "    model.add(keras.layers.Dense(units=len(class_names), activation=output_af, name=\"output\"))\n",
    "    \n",
    "    return model"
   ]
  },
  {
   "cell_type": "markdown",
   "id": "7bb45128",
   "metadata": {},
   "source": [
    "#### Datos"
   ]
  },
  {
   "cell_type": "code",
   "execution_count": 8,
   "id": "7d65ebea",
   "metadata": {},
   "outputs": [
    {
     "name": "stdout",
     "output_type": "stream",
     "text": [
      "0 --> T-shirt/top\n",
      "1 --> Trouser\n",
      "2 --> Pullover\n",
      "3 --> Dress\n",
      "4 --> Coat\n",
      "5 --> Sandal\n",
      "6 --> Shirt\n",
      "7 --> Sneaker\n",
      "8 --> Bag\n",
      "9 --> Ankle boot\n"
     ]
    },
    {
     "data": {
      "text/plain": [
       "((60000, 28, 28), (10000, 28, 28))"
      ]
     },
     "execution_count": 8,
     "metadata": {},
     "output_type": "execute_result"
    }
   ],
   "source": [
    "# carga\n",
    "fm = keras.datasets.fashion_mnist\n",
    "(train_images, train_labels), (test_images, test_labels) = fm.load_data()\n",
    "\n",
    "# normalización\n",
    "train_images, test_images = train_images/255., test_images/255.\n",
    "\n",
    "# clases\n",
    "class_names = np.array(['T-shirt/top', 'Trouser', 'Pullover', 'Dress', 'Coat',\n",
    "               'Sandal', 'Shirt', 'Sneaker', 'Bag', 'Ankle boot']\n",
    ")\n",
    "\n",
    "for i, label in enumerate(class_names):\n",
    "    print(f\"{i} --> {label}\")\n",
    "    \n",
    "train_images.shape, test_images.shape"
   ]
  },
  {
   "cell_type": "code",
   "execution_count": 9,
   "id": "73011227",
   "metadata": {},
   "outputs": [
    {
     "name": "stderr",
     "output_type": "stream",
     "text": [
      "2024-04-30 12:56:56.174787: E external/local_xla/xla/stream_executor/cuda/cuda_driver.cc:282] failed call to cuInit: CUDA_ERROR_NO_DEVICE: no CUDA-capable device is detected\n"
     ]
    },
    {
     "data": {
      "text/html": [
       "<pre style=\"white-space:pre;overflow-x:auto;line-height:normal;font-family:Menlo,'DejaVu Sans Mono',consolas,'Courier New',monospace\"><span style=\"font-weight: bold\">Model: \"fashionmn_af_linear\"</span>\n",
       "</pre>\n"
      ],
      "text/plain": [
       "\u001b[1mModel: \"fashionmn_af_linear\"\u001b[0m\n"
      ]
     },
     "metadata": {},
     "output_type": "display_data"
    },
    {
     "data": {
      "text/html": [
       "<pre style=\"white-space:pre;overflow-x:auto;line-height:normal;font-family:Menlo,'DejaVu Sans Mono',consolas,'Courier New',monospace\">┏━━━━━━━━━━━━━━━━━━━━━━━━━━━━━━━━━┳━━━━━━━━━━━━━━━━━━━━━━━━┳━━━━━━━━━━━━━━━┓\n",
       "┃<span style=\"font-weight: bold\"> Layer (type)                    </span>┃<span style=\"font-weight: bold\"> Output Shape           </span>┃<span style=\"font-weight: bold\">       Param # </span>┃\n",
       "┡━━━━━━━━━━━━━━━━━━━━━━━━━━━━━━━━━╇━━━━━━━━━━━━━━━━━━━━━━━━╇━━━━━━━━━━━━━━━┩\n",
       "│ Flatten (<span style=\"color: #0087ff; text-decoration-color: #0087ff\">Flatten</span>)               │ (<span style=\"color: #00d7ff; text-decoration-color: #00d7ff\">None</span>, <span style=\"color: #00af00; text-decoration-color: #00af00\">784</span>)            │             <span style=\"color: #00af00; text-decoration-color: #00af00\">0</span> │\n",
       "├─────────────────────────────────┼────────────────────────┼───────────────┤\n",
       "│ layer_1 (<span style=\"color: #0087ff; text-decoration-color: #0087ff\">Dense</span>)                 │ (<span style=\"color: #00d7ff; text-decoration-color: #00d7ff\">None</span>, <span style=\"color: #00af00; text-decoration-color: #00af00\">80</span>)             │        <span style=\"color: #00af00; text-decoration-color: #00af00\">62,800</span> │\n",
       "├─────────────────────────────────┼────────────────────────┼───────────────┤\n",
       "│ layer_2 (<span style=\"color: #0087ff; text-decoration-color: #0087ff\">Dense</span>)                 │ (<span style=\"color: #00d7ff; text-decoration-color: #00d7ff\">None</span>, <span style=\"color: #00af00; text-decoration-color: #00af00\">90</span>)             │         <span style=\"color: #00af00; text-decoration-color: #00af00\">7,290</span> │\n",
       "├─────────────────────────────────┼────────────────────────┼───────────────┤\n",
       "│ layer_3 (<span style=\"color: #0087ff; text-decoration-color: #0087ff\">Dense</span>)                 │ (<span style=\"color: #00d7ff; text-decoration-color: #00d7ff\">None</span>, <span style=\"color: #00af00; text-decoration-color: #00af00\">80</span>)             │         <span style=\"color: #00af00; text-decoration-color: #00af00\">7,280</span> │\n",
       "├─────────────────────────────────┼────────────────────────┼───────────────┤\n",
       "│ layer_4 (<span style=\"color: #0087ff; text-decoration-color: #0087ff\">Dense</span>)                 │ (<span style=\"color: #00d7ff; text-decoration-color: #00d7ff\">None</span>, <span style=\"color: #00af00; text-decoration-color: #00af00\">80</span>)             │         <span style=\"color: #00af00; text-decoration-color: #00af00\">6,480</span> │\n",
       "├─────────────────────────────────┼────────────────────────┼───────────────┤\n",
       "│ output (<span style=\"color: #0087ff; text-decoration-color: #0087ff\">Dense</span>)                  │ (<span style=\"color: #00d7ff; text-decoration-color: #00d7ff\">None</span>, <span style=\"color: #00af00; text-decoration-color: #00af00\">10</span>)             │           <span style=\"color: #00af00; text-decoration-color: #00af00\">810</span> │\n",
       "└─────────────────────────────────┴────────────────────────┴───────────────┘\n",
       "</pre>\n"
      ],
      "text/plain": [
       "┏━━━━━━━━━━━━━━━━━━━━━━━━━━━━━━━━━┳━━━━━━━━━━━━━━━━━━━━━━━━┳━━━━━━━━━━━━━━━┓\n",
       "┃\u001b[1m \u001b[0m\u001b[1mLayer (type)                   \u001b[0m\u001b[1m \u001b[0m┃\u001b[1m \u001b[0m\u001b[1mOutput Shape          \u001b[0m\u001b[1m \u001b[0m┃\u001b[1m \u001b[0m\u001b[1m      Param #\u001b[0m\u001b[1m \u001b[0m┃\n",
       "┡━━━━━━━━━━━━━━━━━━━━━━━━━━━━━━━━━╇━━━━━━━━━━━━━━━━━━━━━━━━╇━━━━━━━━━━━━━━━┩\n",
       "│ Flatten (\u001b[38;5;33mFlatten\u001b[0m)               │ (\u001b[38;5;45mNone\u001b[0m, \u001b[38;5;34m784\u001b[0m)            │             \u001b[38;5;34m0\u001b[0m │\n",
       "├─────────────────────────────────┼────────────────────────┼───────────────┤\n",
       "│ layer_1 (\u001b[38;5;33mDense\u001b[0m)                 │ (\u001b[38;5;45mNone\u001b[0m, \u001b[38;5;34m80\u001b[0m)             │        \u001b[38;5;34m62,800\u001b[0m │\n",
       "├─────────────────────────────────┼────────────────────────┼───────────────┤\n",
       "│ layer_2 (\u001b[38;5;33mDense\u001b[0m)                 │ (\u001b[38;5;45mNone\u001b[0m, \u001b[38;5;34m90\u001b[0m)             │         \u001b[38;5;34m7,290\u001b[0m │\n",
       "├─────────────────────────────────┼────────────────────────┼───────────────┤\n",
       "│ layer_3 (\u001b[38;5;33mDense\u001b[0m)                 │ (\u001b[38;5;45mNone\u001b[0m, \u001b[38;5;34m80\u001b[0m)             │         \u001b[38;5;34m7,280\u001b[0m │\n",
       "├─────────────────────────────────┼────────────────────────┼───────────────┤\n",
       "│ layer_4 (\u001b[38;5;33mDense\u001b[0m)                 │ (\u001b[38;5;45mNone\u001b[0m, \u001b[38;5;34m80\u001b[0m)             │         \u001b[38;5;34m6,480\u001b[0m │\n",
       "├─────────────────────────────────┼────────────────────────┼───────────────┤\n",
       "│ output (\u001b[38;5;33mDense\u001b[0m)                  │ (\u001b[38;5;45mNone\u001b[0m, \u001b[38;5;34m10\u001b[0m)             │           \u001b[38;5;34m810\u001b[0m │\n",
       "└─────────────────────────────────┴────────────────────────┴───────────────┘\n"
      ]
     },
     "metadata": {},
     "output_type": "display_data"
    },
    {
     "data": {
      "text/html": [
       "<pre style=\"white-space:pre;overflow-x:auto;line-height:normal;font-family:Menlo,'DejaVu Sans Mono',consolas,'Courier New',monospace\"><span style=\"font-weight: bold\"> Total params: </span><span style=\"color: #00af00; text-decoration-color: #00af00\">84,660</span> (330.70 KB)\n",
       "</pre>\n"
      ],
      "text/plain": [
       "\u001b[1m Total params: \u001b[0m\u001b[38;5;34m84,660\u001b[0m (330.70 KB)\n"
      ]
     },
     "metadata": {},
     "output_type": "display_data"
    },
    {
     "data": {
      "text/html": [
       "<pre style=\"white-space:pre;overflow-x:auto;line-height:normal;font-family:Menlo,'DejaVu Sans Mono',consolas,'Courier New',monospace\"><span style=\"font-weight: bold\"> Trainable params: </span><span style=\"color: #00af00; text-decoration-color: #00af00\">84,660</span> (330.70 KB)\n",
       "</pre>\n"
      ],
      "text/plain": [
       "\u001b[1m Trainable params: \u001b[0m\u001b[38;5;34m84,660\u001b[0m (330.70 KB)\n"
      ]
     },
     "metadata": {},
     "output_type": "display_data"
    },
    {
     "data": {
      "text/html": [
       "<pre style=\"white-space:pre;overflow-x:auto;line-height:normal;font-family:Menlo,'DejaVu Sans Mono',consolas,'Courier New',monospace\"><span style=\"font-weight: bold\"> Non-trainable params: </span><span style=\"color: #00af00; text-decoration-color: #00af00\">0</span> (0.00 B)\n",
       "</pre>\n"
      ],
      "text/plain": [
       "\u001b[1m Non-trainable params: \u001b[0m\u001b[38;5;34m0\u001b[0m (0.00 B)\n"
      ]
     },
     "metadata": {},
     "output_type": "display_data"
    }
   ],
   "source": [
    "# modelo\n",
    "model_fm_linear = create_model(name=\"fashionmn_af_linear\", \n",
    "                               shape=train_images[0].shape, \n",
    "                               af=\"linear\",\n",
    "                               output_af=\"softmax\")\n",
    "\n",
    "# compilación\n",
    "opt  = keras.optimizers.Adam(learning_rate=0.001)\n",
    "loss = keras.losses.SparseCategoricalCrossentropy()\n",
    "\n",
    "model_fm_linear.compile(optimizer=opt,\n",
    "                        loss=loss, metrics=[\"accuracy\"])\n",
    "\n",
    "model_fm_linear.summary()"
   ]
  },
  {
   "cell_type": "code",
   "execution_count": 10,
   "id": "f59f5b49",
   "metadata": {},
   "outputs": [
    {
     "name": "stdout",
     "output_type": "stream",
     "text": [
      "Epoch 1/10\n"
     ]
    },
    {
     "name": "stderr",
     "output_type": "stream",
     "text": [
      "2024-04-30 12:56:56.784856: W external/local_tsl/tsl/framework/cpu_allocator_impl.cc:83] Allocation of 150528000 exceeds 10% of free system memory.\n"
     ]
    },
    {
     "name": "stdout",
     "output_type": "stream",
     "text": [
      "\u001b[1m1500/1500\u001b[0m \u001b[32m━━━━━━━━━━━━━━━━━━━━\u001b[0m\u001b[37m\u001b[0m \u001b[1m7s\u001b[0m 3ms/step - accuracy: 0.7546 - loss: 0.6927 - val_accuracy: 0.8260 - val_loss: 0.4991\n",
      "Epoch 2/10\n",
      "\u001b[1m1500/1500\u001b[0m \u001b[32m━━━━━━━━━━━━━━━━━━━━\u001b[0m\u001b[37m\u001b[0m \u001b[1m5s\u001b[0m 3ms/step - accuracy: 0.8279 - loss: 0.4910 - val_accuracy: 0.8406 - val_loss: 0.4704\n",
      "Epoch 3/10\n",
      "\u001b[1m1500/1500\u001b[0m \u001b[32m━━━━━━━━━━━━━━━━━━━━\u001b[0m\u001b[37m\u001b[0m \u001b[1m5s\u001b[0m 3ms/step - accuracy: 0.8392 - loss: 0.4644 - val_accuracy: 0.8278 - val_loss: 0.4847\n",
      "Epoch 4/10\n",
      "\u001b[1m1500/1500\u001b[0m \u001b[32m━━━━━━━━━━━━━━━━━━━━\u001b[0m\u001b[37m\u001b[0m \u001b[1m5s\u001b[0m 3ms/step - accuracy: 0.8372 - loss: 0.4578 - val_accuracy: 0.8339 - val_loss: 0.4812\n",
      "Epoch 5/10\n",
      "\u001b[1m1500/1500\u001b[0m \u001b[32m━━━━━━━━━━━━━━━━━━━━\u001b[0m\u001b[37m\u001b[0m \u001b[1m5s\u001b[0m 3ms/step - accuracy: 0.8421 - loss: 0.4523 - val_accuracy: 0.8439 - val_loss: 0.4491\n",
      "Epoch 6/10\n",
      "\u001b[1m1500/1500\u001b[0m \u001b[32m━━━━━━━━━━━━━━━━━━━━\u001b[0m\u001b[37m\u001b[0m \u001b[1m5s\u001b[0m 3ms/step - accuracy: 0.8460 - loss: 0.4426 - val_accuracy: 0.8387 - val_loss: 0.4662\n",
      "Epoch 7/10\n",
      "\u001b[1m1500/1500\u001b[0m \u001b[32m━━━━━━━━━━━━━━━━━━━━\u001b[0m\u001b[37m\u001b[0m \u001b[1m5s\u001b[0m 3ms/step - accuracy: 0.8516 - loss: 0.4301 - val_accuracy: 0.8348 - val_loss: 0.4621\n",
      "Epoch 8/10\n",
      "\u001b[1m1500/1500\u001b[0m \u001b[32m━━━━━━━━━━━━━━━━━━━━\u001b[0m\u001b[37m\u001b[0m \u001b[1m5s\u001b[0m 3ms/step - accuracy: 0.8514 - loss: 0.4250 - val_accuracy: 0.8403 - val_loss: 0.4626\n",
      "Epoch 9/10\n",
      "\u001b[1m1500/1500\u001b[0m \u001b[32m━━━━━━━━━━━━━━━━━━━━\u001b[0m\u001b[37m\u001b[0m \u001b[1m5s\u001b[0m 3ms/step - accuracy: 0.8516 - loss: 0.4254 - val_accuracy: 0.8353 - val_loss: 0.4637\n",
      "Epoch 10/10\n",
      "\u001b[1m1500/1500\u001b[0m \u001b[32m━━━━━━━━━━━━━━━━━━━━\u001b[0m\u001b[37m\u001b[0m \u001b[1m5s\u001b[0m 3ms/step - accuracy: 0.8525 - loss: 0.4162 - val_accuracy: 0.8476 - val_loss: 0.4301\n",
      "\n",
      "Time to run using linear: 0:00:51.170495\n"
     ]
    }
   ],
   "source": [
    "# Entrenamiento \n",
    "start = datetime.datetime.now()\n",
    "history_fm_linear = model_fm_linear.fit(train_images,\n",
    "                                        train_labels,\n",
    "                                        validation_split=0.2,\n",
    "                                        epochs=10)\n",
    "\n",
    "history_fm_linear = history_fm_linear.history\n",
    "\n",
    "# medimos el tiempo de ejecución\n",
    "time_fm_linear = datetime.datetime.now() - start\n",
    "print(f\"\\nTime to run using linear: {time_fm_linear}\")"
   ]
  },
  {
   "cell_type": "markdown",
   "id": "033ce60f",
   "metadata": {},
   "source": [
    "Lo primero que podemos observar del uso de la función de activación lineal es que las métricas del modelo y su función de costo no mejoran en cada época, contrario a esto parecen oscilar al rededor de un valor promedio. Esto nos muestra de entrada que la elección de esta función de activación para todas las capas no es una buena elección, algo que irémos confirmando a medida que veamos la aplicación de otras funciones de activación. Se debe esperar que el valor de las métricas y la función de costo mejoren en cada época, este no es el caso."
   ]
  },
  {
   "cell_type": "code",
   "execution_count": 11,
   "id": "7700d03c",
   "metadata": {
    "scrolled": false
   },
   "outputs": [
    {
     "data": {
      "image/png": "[encoded data removed]",
      "text/plain": [
       "<Figure size 720x576 with 1 Axes>"
      ]
     },
     "metadata": {
      "needs_background": "light"
     },
     "output_type": "display_data"
    }
   ],
   "source": [
    "plot_accuracy_loss(history_fm_linear, name=\"Linear AF\")"
   ]
  },
  {
   "cell_type": "markdown",
   "id": "55c9c792",
   "metadata": {},
   "source": [
    "Como decíamos, las métricas y función de costo varían muy poco en cada iteración, este comportamiento se hará más evidente cuando veamos las otras funciones de activación.\n",
    "\n",
    "Veamos ahora la capacidad de predicción de este modelo."
   ]
  },
  {
   "cell_type": "code",
   "execution_count": 12,
   "id": "db954d36",
   "metadata": {},
   "outputs": [
    {
     "name": "stdout",
     "output_type": "stream",
     "text": [
      "\u001b[1m313/313\u001b[0m \u001b[32m━━━━━━━━━━━━━━━━━━━━\u001b[0m\u001b[37m\u001b[0m \u001b[1m1s\u001b[0m 2ms/step - accuracy: 0.8449 - loss: 0.4505\n"
     ]
    }
   ],
   "source": [
    "# Métricas de testeo\n",
    "loss_acc_linear_test = model_fm_linear.evaluate(x=test_images, y=test_labels)"
   ]
  },
  {
   "cell_type": "code",
   "execution_count": 13,
   "id": "c5f07bad",
   "metadata": {},
   "outputs": [
    {
     "name": "stdout",
     "output_type": "stream",
     "text": [
      "\u001b[1m  55/1875\u001b[0m \u001b[37m━━━━━━━━━━━━━━━━━━━━\u001b[0m \u001b[1m3s\u001b[0m 2ms/step - accuracy: 0.8647 - loss: 0.3766"
     ]
    },
    {
     "name": "stderr",
     "output_type": "stream",
     "text": [
      "2024-04-30 12:57:48.825963: W external/local_tsl/tsl/framework/cpu_allocator_impl.cc:83] Allocation of 188160000 exceeds 10% of free system memory.\n"
     ]
    },
    {
     "name": "stdout",
     "output_type": "stream",
     "text": [
      "\u001b[1m1875/1875\u001b[0m \u001b[32m━━━━━━━━━━━━━━━━━━━━\u001b[0m\u001b[37m\u001b[0m \u001b[1m3s\u001b[0m 2ms/step - accuracy: 0.8619 - loss: 0.3925\n"
     ]
    }
   ],
   "source": [
    "# Métricas de entrenamiento\n",
    "loss_acc_linear_train = model_fm_linear.evaluate(x=train_images, y=train_labels)"
   ]
  },
  {
   "cell_type": "markdown",
   "id": "4e6b63cd",
   "metadata": {},
   "source": [
    "### ReLU\n",
    "\n",
    "[ReLU](https://es.wikipedia.org/wiki/Rectificador_(redes_neuronales)) es una de las funciones de activación más utilizadas para capas ocultas en la actualidad por sus excelentes características a la hora de entrenar. Está definida por\n",
    "\n",
    "\\begin{eqnarray}\n",
    "    \\text{ReLU}(x) = \\text{max}(0,x)\n",
    "\\end{eqnarray}\n",
    "\n",
    "Por lo cual su derivada es:\n",
    "\n",
    "\\begin{equation}\n",
    " \\frac{d\\text{ReLU}}{dx} = \\left\\{ \\begin{array}{lcc} \n",
    "                                                      0 & si & x < 0 \\\\\n",
    "                                                      1 & si & x \\geq 0     \\\\\n",
    "                                   \\end{array}\n",
    "                           \\right.\n",
    "\\end{equation}\n",
    "\n",
    "graficamente tenemos"
   ]
  },
  {
   "cell_type": "code",
   "execution_count": 14,
   "id": "e26aa681",
   "metadata": {},
   "outputs": [
    {
     "data": {
      "image/png": "[encoded data removed]",
      "text/plain": [
       "<Figure size 720x360 with 2 Axes>"
      ]
     },
     "metadata": {
      "needs_background": "light"
     },
     "output_type": "display_data"
    }
   ],
   "source": [
    "# derivada\n",
    "x = np.linspace(-2, 2, 100)\n",
    "\n",
    "def d_relu(x):\n",
    "    if x<0:\n",
    "        return 0\n",
    "    return 1\n",
    "\n",
    "d_relu = np.vectorize(d_relu)\n",
    "\n",
    "plot_af(x,\n",
    "        af=keras.activations.relu,\n",
    "        daf=d_relu,\n",
    "        af_ylabel=f\"ReLU$(x)$=max$(0,x)$\",\n",
    "        daf_ylabel=f\"$d$ReLU$/dx$\")\n"
   ]
  },
  {
   "cell_type": "markdown",
   "id": "3c5fac74",
   "metadata": {},
   "source": [
    "Otras funciones de activación como *tanh* y *sofmax* tienen derivadas que en los extremos tienden a ser nulas y esto genera el conocido como *desvanecimiento del gradiente* que estudiaremos más adelante. La función ReLU, por otro lado, tiene una derivada constante para valores positivos, además de ser una función muy sencilla de calcular comparada con funciones como *tanh* y *sofmax*. Estas características hacen de ella una función de activación altamente utilizada ya que puede acelerar el proceso de aprendizaje de la red. Otro atributo relevante es que genera esparsidad en la red al apagar algunas neuronas (su derivada es cero para valores menores a cero) conduciendo así a una reducción indirecta del overfitting. \n",
    "\n",
    "Veamos su comportamiento con algunos datos:"
   ]
  },
  {
   "cell_type": "code",
   "execution_count": 15,
   "id": "fa14a215",
   "metadata": {},
   "outputs": [
    {
     "data": {
      "text/plain": [
       "array([ 0.97627008,  4.30378733,  2.05526752,  0.89766366, -1.52690401,\n",
       "        2.91788226, -1.24825577,  7.83546002,  9.27325521, -2.33116962])"
      ]
     },
     "execution_count": 15,
     "metadata": {},
     "output_type": "execute_result"
    }
   ],
   "source": [
    "xp"
   ]
  },
  {
   "cell_type": "code",
   "execution_count": 16,
   "id": "96a42b55",
   "metadata": {},
   "outputs": [
    {
     "data": {
      "text/plain": [
       "<tf.Tensor: shape=(10,), dtype=float64, numpy=\n",
       "array([0.97627008, 4.30378733, 2.05526752, 0.89766366, 0.        ,\n",
       "       2.91788226, 0.        , 7.83546002, 9.27325521, 0.        ])>"
      ]
     },
     "execution_count": 16,
     "metadata": {},
     "output_type": "execute_result"
    }
   ],
   "source": [
    "keras.activations.relu(xp)"
   ]
  },
  {
   "cell_type": "markdown",
   "id": "9110e294",
   "metadata": {},
   "source": [
    "Ahora entrenemos un modelo con la misma aquitectura que el modelo anterior pero utilizaremos una función de activación RelU en las capas ocultas. "
   ]
  },
  {
   "cell_type": "code",
   "execution_count": 17,
   "id": "673af550",
   "metadata": {},
   "outputs": [
    {
     "data": {
      "text/html": [
       "<pre style=\"white-space:pre;overflow-x:auto;line-height:normal;font-family:Menlo,'DejaVu Sans Mono',consolas,'Courier New',monospace\"><span style=\"font-weight: bold\">Model: \"fashionmn_af_relu\"</span>\n",
       "</pre>\n"
      ],
      "text/plain": [
       "\u001b[1mModel: \"fashionmn_af_relu\"\u001b[0m\n"
      ]
     },
     "metadata": {},
     "output_type": "display_data"
    },
    {
     "data": {
      "text/html": [
       "<pre style=\"white-space:pre;overflow-x:auto;line-height:normal;font-family:Menlo,'DejaVu Sans Mono',consolas,'Courier New',monospace\">┏━━━━━━━━━━━━━━━━━━━━━━━━━━━━━━━━━┳━━━━━━━━━━━━━━━━━━━━━━━━┳━━━━━━━━━━━━━━━┓\n",
       "┃<span style=\"font-weight: bold\"> Layer (type)                    </span>┃<span style=\"font-weight: bold\"> Output Shape           </span>┃<span style=\"font-weight: bold\">       Param # </span>┃\n",
       "┡━━━━━━━━━━━━━━━━━━━━━━━━━━━━━━━━━╇━━━━━━━━━━━━━━━━━━━━━━━━╇━━━━━━━━━━━━━━━┩\n",
       "│ Flatten (<span style=\"color: #0087ff; text-decoration-color: #0087ff\">Flatten</span>)               │ (<span style=\"color: #00d7ff; text-decoration-color: #00d7ff\">None</span>, <span style=\"color: #00af00; text-decoration-color: #00af00\">784</span>)            │             <span style=\"color: #00af00; text-decoration-color: #00af00\">0</span> │\n",
       "├─────────────────────────────────┼────────────────────────┼───────────────┤\n",
       "│ layer_1 (<span style=\"color: #0087ff; text-decoration-color: #0087ff\">Dense</span>)                 │ (<span style=\"color: #00d7ff; text-decoration-color: #00d7ff\">None</span>, <span style=\"color: #00af00; text-decoration-color: #00af00\">80</span>)             │        <span style=\"color: #00af00; text-decoration-color: #00af00\">62,800</span> │\n",
       "├─────────────────────────────────┼────────────────────────┼───────────────┤\n",
       "│ layer_2 (<span style=\"color: #0087ff; text-decoration-color: #0087ff\">Dense</span>)                 │ (<span style=\"color: #00d7ff; text-decoration-color: #00d7ff\">None</span>, <span style=\"color: #00af00; text-decoration-color: #00af00\">90</span>)             │         <span style=\"color: #00af00; text-decoration-color: #00af00\">7,290</span> │\n",
       "├─────────────────────────────────┼────────────────────────┼───────────────┤\n",
       "│ layer_3 (<span style=\"color: #0087ff; text-decoration-color: #0087ff\">Dense</span>)                 │ (<span style=\"color: #00d7ff; text-decoration-color: #00d7ff\">None</span>, <span style=\"color: #00af00; text-decoration-color: #00af00\">80</span>)             │         <span style=\"color: #00af00; text-decoration-color: #00af00\">7,280</span> │\n",
       "├─────────────────────────────────┼────────────────────────┼───────────────┤\n",
       "│ layer_4 (<span style=\"color: #0087ff; text-decoration-color: #0087ff\">Dense</span>)                 │ (<span style=\"color: #00d7ff; text-decoration-color: #00d7ff\">None</span>, <span style=\"color: #00af00; text-decoration-color: #00af00\">80</span>)             │         <span style=\"color: #00af00; text-decoration-color: #00af00\">6,480</span> │\n",
       "├─────────────────────────────────┼────────────────────────┼───────────────┤\n",
       "│ output (<span style=\"color: #0087ff; text-decoration-color: #0087ff\">Dense</span>)                  │ (<span style=\"color: #00d7ff; text-decoration-color: #00d7ff\">None</span>, <span style=\"color: #00af00; text-decoration-color: #00af00\">10</span>)             │           <span style=\"color: #00af00; text-decoration-color: #00af00\">810</span> │\n",
       "└─────────────────────────────────┴────────────────────────┴───────────────┘\n",
       "</pre>\n"
      ],
      "text/plain": [
       "┏━━━━━━━━━━━━━━━━━━━━━━━━━━━━━━━━━┳━━━━━━━━━━━━━━━━━━━━━━━━┳━━━━━━━━━━━━━━━┓\n",
       "┃\u001b[1m \u001b[0m\u001b[1mLayer (type)                   \u001b[0m\u001b[1m \u001b[0m┃\u001b[1m \u001b[0m\u001b[1mOutput Shape          \u001b[0m\u001b[1m \u001b[0m┃\u001b[1m \u001b[0m\u001b[1m      Param #\u001b[0m\u001b[1m \u001b[0m┃\n",
       "┡━━━━━━━━━━━━━━━━━━━━━━━━━━━━━━━━━╇━━━━━━━━━━━━━━━━━━━━━━━━╇━━━━━━━━━━━━━━━┩\n",
       "│ Flatten (\u001b[38;5;33mFlatten\u001b[0m)               │ (\u001b[38;5;45mNone\u001b[0m, \u001b[38;5;34m784\u001b[0m)            │             \u001b[38;5;34m0\u001b[0m │\n",
       "├─────────────────────────────────┼────────────────────────┼───────────────┤\n",
       "│ layer_1 (\u001b[38;5;33mDense\u001b[0m)                 │ (\u001b[38;5;45mNone\u001b[0m, \u001b[38;5;34m80\u001b[0m)             │        \u001b[38;5;34m62,800\u001b[0m │\n",
       "├─────────────────────────────────┼────────────────────────┼───────────────┤\n",
       "│ layer_2 (\u001b[38;5;33mDense\u001b[0m)                 │ (\u001b[38;5;45mNone\u001b[0m, \u001b[38;5;34m90\u001b[0m)             │         \u001b[38;5;34m7,290\u001b[0m │\n",
       "├─────────────────────────────────┼────────────────────────┼───────────────┤\n",
       "│ layer_3 (\u001b[38;5;33mDense\u001b[0m)                 │ (\u001b[38;5;45mNone\u001b[0m, \u001b[38;5;34m80\u001b[0m)             │         \u001b[38;5;34m7,280\u001b[0m │\n",
       "├─────────────────────────────────┼────────────────────────┼───────────────┤\n",
       "│ layer_4 (\u001b[38;5;33mDense\u001b[0m)                 │ (\u001b[38;5;45mNone\u001b[0m, \u001b[38;5;34m80\u001b[0m)             │         \u001b[38;5;34m6,480\u001b[0m │\n",
       "├─────────────────────────────────┼────────────────────────┼───────────────┤\n",
       "│ output (\u001b[38;5;33mDense\u001b[0m)                  │ (\u001b[38;5;45mNone\u001b[0m, \u001b[38;5;34m10\u001b[0m)             │           \u001b[38;5;34m810\u001b[0m │\n",
       "└─────────────────────────────────┴────────────────────────┴───────────────┘\n"
      ]
     },
     "metadata": {},
     "output_type": "display_data"
    },
    {
     "data": {
      "text/html": [
       "<pre style=\"white-space:pre;overflow-x:auto;line-height:normal;font-family:Menlo,'DejaVu Sans Mono',consolas,'Courier New',monospace\"><span style=\"font-weight: bold\"> Total params: </span><span style=\"color: #00af00; text-decoration-color: #00af00\">84,660</span> (330.70 KB)\n",
       "</pre>\n"
      ],
      "text/plain": [
       "\u001b[1m Total params: \u001b[0m\u001b[38;5;34m84,660\u001b[0m (330.70 KB)\n"
      ]
     },
     "metadata": {},
     "output_type": "display_data"
    },
    {
     "data": {
      "text/html": [
       "<pre style=\"white-space:pre;overflow-x:auto;line-height:normal;font-family:Menlo,'DejaVu Sans Mono',consolas,'Courier New',monospace\"><span style=\"font-weight: bold\"> Trainable params: </span><span style=\"color: #00af00; text-decoration-color: #00af00\">84,660</span> (330.70 KB)\n",
       "</pre>\n"
      ],
      "text/plain": [
       "\u001b[1m Trainable params: \u001b[0m\u001b[38;5;34m84,660\u001b[0m (330.70 KB)\n"
      ]
     },
     "metadata": {},
     "output_type": "display_data"
    },
    {
     "data": {
      "text/html": [
       "<pre style=\"white-space:pre;overflow-x:auto;line-height:normal;font-family:Menlo,'DejaVu Sans Mono',consolas,'Courier New',monospace\"><span style=\"font-weight: bold\"> Non-trainable params: </span><span style=\"color: #00af00; text-decoration-color: #00af00\">0</span> (0.00 B)\n",
       "</pre>\n"
      ],
      "text/plain": [
       "\u001b[1m Non-trainable params: \u001b[0m\u001b[38;5;34m0\u001b[0m (0.00 B)\n"
      ]
     },
     "metadata": {},
     "output_type": "display_data"
    }
   ],
   "source": [
    "# modelo\n",
    "model_fm_relu = create_model(name=\"fashionmn_af_relu\", \n",
    "                               shape=train_images[0].shape, \n",
    "                               af=\"relu\",\n",
    "                               output_af=\"softmax\")\n",
    "\n",
    "# compilación\n",
    "opt  = keras.optimizers.Adam(learning_rate=0.001)\n",
    "loss = keras.losses.SparseCategoricalCrossentropy()\n",
    "\n",
    "model_fm_relu.compile(optimizer=opt,\n",
    "                      loss=loss,\n",
    "                      metrics=[\"accuracy\"])\n",
    "\n",
    "model_fm_relu.summary()"
   ]
  },
  {
   "cell_type": "code",
   "execution_count": 18,
   "id": "f1fe1a70",
   "metadata": {},
   "outputs": [
    {
     "name": "stdout",
     "output_type": "stream",
     "text": [
      "Epoch 1/10\n"
     ]
    },
    {
     "name": "stderr",
     "output_type": "stream",
     "text": [
      "2024-04-30 12:57:53.070301: W external/local_tsl/tsl/framework/cpu_allocator_impl.cc:83] Allocation of 150528000 exceeds 10% of free system memory.\n"
     ]
    },
    {
     "name": "stdout",
     "output_type": "stream",
     "text": [
      "\u001b[1m1500/1500\u001b[0m \u001b[32m━━━━━━━━━━━━━━━━━━━━\u001b[0m\u001b[37m\u001b[0m \u001b[1m7s\u001b[0m 3ms/step - accuracy: 0.7507 - loss: 0.7089 - val_accuracy: 0.8534 - val_loss: 0.4022\n",
      "Epoch 2/10\n",
      "\u001b[1m1500/1500\u001b[0m \u001b[32m━━━━━━━━━━━━━━━━━━━━\u001b[0m\u001b[37m\u001b[0m \u001b[1m5s\u001b[0m 3ms/step - accuracy: 0.8577 - loss: 0.3882 - val_accuracy: 0.8684 - val_loss: 0.3691\n",
      "Epoch 3/10\n",
      "\u001b[1m1500/1500\u001b[0m \u001b[32m━━━━━━━━━━━━━━━━━━━━\u001b[0m\u001b[37m\u001b[0m \u001b[1m5s\u001b[0m 3ms/step - accuracy: 0.8696 - loss: 0.3528 - val_accuracy: 0.8642 - val_loss: 0.3650\n",
      "Epoch 4/10\n",
      "\u001b[1m1500/1500\u001b[0m \u001b[32m━━━━━━━━━━━━━━━━━━━━\u001b[0m\u001b[37m\u001b[0m \u001b[1m5s\u001b[0m 4ms/step - accuracy: 0.8823 - loss: 0.3177 - val_accuracy: 0.8690 - val_loss: 0.3567\n",
      "Epoch 5/10\n",
      "\u001b[1m1500/1500\u001b[0m \u001b[32m━━━━━━━━━━━━━━━━━━━━\u001b[0m\u001b[37m\u001b[0m \u001b[1m5s\u001b[0m 4ms/step - accuracy: 0.8882 - loss: 0.3040 - val_accuracy: 0.8786 - val_loss: 0.3398\n",
      "Epoch 6/10\n",
      "\u001b[1m1500/1500\u001b[0m \u001b[32m━━━━━━━━━━━━━━━━━━━━\u001b[0m\u001b[37m\u001b[0m \u001b[1m10s\u001b[0m 3ms/step - accuracy: 0.8937 - loss: 0.2883 - val_accuracy: 0.8804 - val_loss: 0.3365\n",
      "Epoch 7/10\n",
      "\u001b[1m1500/1500\u001b[0m \u001b[32m━━━━━━━━━━━━━━━━━━━━\u001b[0m\u001b[37m\u001b[0m \u001b[1m5s\u001b[0m 3ms/step - accuracy: 0.8932 - loss: 0.2812 - val_accuracy: 0.8765 - val_loss: 0.3553\n",
      "Epoch 8/10\n",
      "\u001b[1m1500/1500\u001b[0m \u001b[32m━━━━━━━━━━━━━━━━━━━━\u001b[0m\u001b[37m\u001b[0m \u001b[1m5s\u001b[0m 3ms/step - accuracy: 0.9007 - loss: 0.2634 - val_accuracy: 0.8717 - val_loss: 0.3545\n",
      "Epoch 9/10\n",
      "\u001b[1m1500/1500\u001b[0m \u001b[32m━━━━━━━━━━━━━━━━━━━━\u001b[0m\u001b[37m\u001b[0m \u001b[1m5s\u001b[0m 3ms/step - accuracy: 0.9057 - loss: 0.2527 - val_accuracy: 0.8788 - val_loss: 0.3338\n",
      "Epoch 10/10\n",
      "\u001b[1m1500/1500\u001b[0m \u001b[32m━━━━━━━━━━━━━━━━━━━━\u001b[0m\u001b[37m\u001b[0m \u001b[1m6s\u001b[0m 4ms/step - accuracy: 0.9069 - loss: 0.2459 - val_accuracy: 0.8823 - val_loss: 0.3483\n",
      "\n",
      "Time to run using relu: 0:00:58.849786\n"
     ]
    }
   ],
   "source": [
    "# Entrenamiento \n",
    "start = datetime.datetime.now()\n",
    "history_fm_relu = model_fm_relu.fit(train_images,\n",
    "                                    train_labels,\n",
    "                                    validation_split=0.2,\n",
    "                                    epochs=10)\n",
    "\n",
    "history_fm_relu = history_fm_relu.history\n",
    "# medimos el tiempo de ejecución\n",
    "time_fm_relu = datetime.datetime.now() - start\n",
    "print(f\"\\nTime to run using relu: {time_fm_relu}\")"
   ]
  },
  {
   "cell_type": "code",
   "execution_count": 19,
   "id": "e455d64d",
   "metadata": {},
   "outputs": [
    {
     "data": {
      "image/png": "[encoded data removed]",
      "text/plain": [
       "<Figure size 720x576 with 1 Axes>"
      ]
     },
     "metadata": {
      "needs_background": "light"
     },
     "output_type": "display_data"
    }
   ],
   "source": [
    "plot_accuracy_loss(history_fm_relu, name=\"ReLU AF\")"
   ]
  },
  {
   "cell_type": "markdown",
   "id": "9d00e6db",
   "metadata": {},
   "source": [
    "En esta ocasión vemos que tanto las métricas como la función de perdida mejoran en cada iteración, contrario a cuando utilizamos la función de activación lineal. "
   ]
  },
  {
   "cell_type": "code",
   "execution_count": 20,
   "id": "3938b9fa",
   "metadata": {},
   "outputs": [
    {
     "name": "stdout",
     "output_type": "stream",
     "text": [
      "\u001b[1m313/313\u001b[0m \u001b[32m━━━━━━━━━━━━━━━━━━━━\u001b[0m\u001b[37m\u001b[0m \u001b[1m1s\u001b[0m 2ms/step - accuracy: 0.8713 - loss: 0.3655\n"
     ]
    }
   ],
   "source": [
    "# Métricas de testeo\n",
    "loss_acc_relu_test = model_fm_relu.evaluate(x=test_images, y=test_labels)"
   ]
  },
  {
   "cell_type": "code",
   "execution_count": 21,
   "id": "cc0830ce",
   "metadata": {},
   "outputs": [
    {
     "name": "stdout",
     "output_type": "stream",
     "text": [
      "\u001b[1m  56/1875\u001b[0m \u001b[37m━━━━━━━━━━━━━━━━━━━━\u001b[0m \u001b[1m3s\u001b[0m 2ms/step - accuracy: 0.9192 - loss: 0.2233 "
     ]
    },
    {
     "name": "stderr",
     "output_type": "stream",
     "text": [
      "2024-04-30 12:58:53.183375: W external/local_tsl/tsl/framework/cpu_allocator_impl.cc:83] Allocation of 188160000 exceeds 10% of free system memory.\n"
     ]
    },
    {
     "name": "stdout",
     "output_type": "stream",
     "text": [
      "\u001b[1m1875/1875\u001b[0m \u001b[32m━━━━━━━━━━━━━━━━━━━━\u001b[0m\u001b[37m\u001b[0m \u001b[1m4s\u001b[0m 2ms/step - accuracy: 0.9097 - loss: 0.2401\n"
     ]
    }
   ],
   "source": [
    "# Métricas de entrenamiento\n",
    "loss_acc_relu_train = model_fm_relu.evaluate(x=train_images, y=train_labels)"
   ]
  },
  {
   "cell_type": "markdown",
   "id": "0643f06e",
   "metadata": {},
   "source": [
    "### sigmoide\n",
    "La función de activación sigmoide o logística está definida por:\n",
    "\n",
    "\\begin{eqnarray}\n",
    "    \\text{sig}(x) = \\frac{1}{1+e^{-x}}\n",
    "\\end{eqnarray}\n",
    "\n",
    "Por lo cual su derivada es:\n",
    "\n",
    "\\begin{equation}\n",
    " \\frac{d\\text{sig}}{dx} = \\text{sig}(x)[1-\\text{sig}(x)]\n",
    "\\end{equation}\n",
    "\n",
    "graficamente tenemos\n"
   ]
  },
  {
   "cell_type": "code",
   "execution_count": 22,
   "id": "bb9cd8b6",
   "metadata": {},
   "outputs": [
    {
     "data": {
      "image/png": "[encoded data removed]",
      "text/plain": [
       "<Figure size 720x360 with 2 Axes>"
      ]
     },
     "metadata": {
      "needs_background": "light"
     },
     "output_type": "display_data"
    }
   ],
   "source": [
    "# derivada\n",
    "x = np.linspace(-5, 5, 100)\n",
    "\n",
    "def d_sig(x):\n",
    "    return np.exp(-x)/(1+np.exp(-x))**2\n",
    "\n",
    "d_sig = np.vectorize(d_sig)\n",
    "\n",
    "plot_af(x,\n",
    "        af=keras.activations.sigmoid,\n",
    "        daf=d_sig,\n",
    "        af_ylabel=f\"sig$(x)$\",\n",
    "        daf_ylabel=f\"$d$sig$/dx$\")"
   ]
  },
  {
   "cell_type": "markdown",
   "id": "8b8d4c50",
   "metadata": {},
   "source": [
    "La función sigmoide sólo puede retornar valores positivos pues está acotada entre $0$ y $1$, esto representa de entrada un problema pues puede restringir los pesos durante el entrenamiento retardando así la velocidad de entrenamiento de la red. Su derivada, diferente a la función de activación ReLU, nunca es nula, pero tiende a serlo para valores alejados de cero de la suma ponderada, por lo cual también sufre del problema del desvanecimiento del gradiente, además su derivada no es tan grande como por ejemplo si lo es la de la función tanh que veremos a continuación. \n",
    "\n",
    "La función sigmoide es clasicamente utilizada en la última capa de las redes neuronales cuando se tienen problemas de clasificación binaria. "
   ]
  },
  {
   "cell_type": "code",
   "execution_count": 23,
   "id": "9956b730",
   "metadata": {},
   "outputs": [
    {
     "data": {
      "text/plain": [
       "array([ 0.97627008,  4.30378733,  2.05526752,  0.89766366, -1.52690401,\n",
       "        2.91788226, -1.24825577,  7.83546002,  9.27325521, -2.33116962])"
      ]
     },
     "execution_count": 23,
     "metadata": {},
     "output_type": "execute_result"
    }
   ],
   "source": [
    "xp"
   ]
  },
  {
   "cell_type": "code",
   "execution_count": 24,
   "id": "b736ab44",
   "metadata": {},
   "outputs": [
    {
     "data": {
      "text/plain": [
       "<tf.Tensor: shape=(10,), dtype=float64, numpy=\n",
       "array([0.72636749, 0.98666301, 0.88647879, 0.71046915, 0.17844712,\n",
       "       0.94872337, 0.22300222, 0.9996047 , 0.99990611, 0.0885742 ])>"
      ]
     },
     "execution_count": 24,
     "metadata": {},
     "output_type": "execute_result"
    }
   ],
   "source": [
    "# con sigmoide de keras\n",
    "keras.activations.sigmoid(xp)"
   ]
  },
  {
   "cell_type": "code",
   "execution_count": 25,
   "id": "4042fd86",
   "metadata": {},
   "outputs": [
    {
     "data": {
      "text/plain": [
       "array([0.72636749, 0.98666301, 0.88647879, 0.71046915, 0.17844712,\n",
       "       0.94872337, 0.22300222, 0.9996047 , 0.99990611, 0.0885742 ])"
      ]
     },
     "execution_count": 25,
     "metadata": {},
     "output_type": "execute_result"
    }
   ],
   "source": [
    "# con numpy\n",
    "1/(1+np.exp(-xp))"
   ]
  },
  {
   "cell_type": "markdown",
   "id": "b087b384",
   "metadata": {},
   "source": [
    "Ahora entrenemos un modelo con una función de activación tanh en las capas ocultas. "
   ]
  },
  {
   "cell_type": "code",
   "execution_count": 26,
   "id": "d6c43f36",
   "metadata": {},
   "outputs": [
    {
     "data": {
      "text/html": [
       "<pre style=\"white-space:pre;overflow-x:auto;line-height:normal;font-family:Menlo,'DejaVu Sans Mono',consolas,'Courier New',monospace\"><span style=\"font-weight: bold\">Model: \"fashionmn_af_sigm\"</span>\n",
       "</pre>\n"
      ],
      "text/plain": [
       "\u001b[1mModel: \"fashionmn_af_sigm\"\u001b[0m\n"
      ]
     },
     "metadata": {},
     "output_type": "display_data"
    },
    {
     "data": {
      "text/html": [
       "<pre style=\"white-space:pre;overflow-x:auto;line-height:normal;font-family:Menlo,'DejaVu Sans Mono',consolas,'Courier New',monospace\">┏━━━━━━━━━━━━━━━━━━━━━━━━━━━━━━━━━┳━━━━━━━━━━━━━━━━━━━━━━━━┳━━━━━━━━━━━━━━━┓\n",
       "┃<span style=\"font-weight: bold\"> Layer (type)                    </span>┃<span style=\"font-weight: bold\"> Output Shape           </span>┃<span style=\"font-weight: bold\">       Param # </span>┃\n",
       "┡━━━━━━━━━━━━━━━━━━━━━━━━━━━━━━━━━╇━━━━━━━━━━━━━━━━━━━━━━━━╇━━━━━━━━━━━━━━━┩\n",
       "│ Flatten (<span style=\"color: #0087ff; text-decoration-color: #0087ff\">Flatten</span>)               │ (<span style=\"color: #00d7ff; text-decoration-color: #00d7ff\">None</span>, <span style=\"color: #00af00; text-decoration-color: #00af00\">784</span>)            │             <span style=\"color: #00af00; text-decoration-color: #00af00\">0</span> │\n",
       "├─────────────────────────────────┼────────────────────────┼───────────────┤\n",
       "│ layer_1 (<span style=\"color: #0087ff; text-decoration-color: #0087ff\">Dense</span>)                 │ (<span style=\"color: #00d7ff; text-decoration-color: #00d7ff\">None</span>, <span style=\"color: #00af00; text-decoration-color: #00af00\">80</span>)             │        <span style=\"color: #00af00; text-decoration-color: #00af00\">62,800</span> │\n",
       "├─────────────────────────────────┼────────────────────────┼───────────────┤\n",
       "│ layer_2 (<span style=\"color: #0087ff; text-decoration-color: #0087ff\">Dense</span>)                 │ (<span style=\"color: #00d7ff; text-decoration-color: #00d7ff\">None</span>, <span style=\"color: #00af00; text-decoration-color: #00af00\">90</span>)             │         <span style=\"color: #00af00; text-decoration-color: #00af00\">7,290</span> │\n",
       "├─────────────────────────────────┼────────────────────────┼───────────────┤\n",
       "│ layer_3 (<span style=\"color: #0087ff; text-decoration-color: #0087ff\">Dense</span>)                 │ (<span style=\"color: #00d7ff; text-decoration-color: #00d7ff\">None</span>, <span style=\"color: #00af00; text-decoration-color: #00af00\">80</span>)             │         <span style=\"color: #00af00; text-decoration-color: #00af00\">7,280</span> │\n",
       "├─────────────────────────────────┼────────────────────────┼───────────────┤\n",
       "│ layer_4 (<span style=\"color: #0087ff; text-decoration-color: #0087ff\">Dense</span>)                 │ (<span style=\"color: #00d7ff; text-decoration-color: #00d7ff\">None</span>, <span style=\"color: #00af00; text-decoration-color: #00af00\">80</span>)             │         <span style=\"color: #00af00; text-decoration-color: #00af00\">6,480</span> │\n",
       "├─────────────────────────────────┼────────────────────────┼───────────────┤\n",
       "│ output (<span style=\"color: #0087ff; text-decoration-color: #0087ff\">Dense</span>)                  │ (<span style=\"color: #00d7ff; text-decoration-color: #00d7ff\">None</span>, <span style=\"color: #00af00; text-decoration-color: #00af00\">10</span>)             │           <span style=\"color: #00af00; text-decoration-color: #00af00\">810</span> │\n",
       "└─────────────────────────────────┴────────────────────────┴───────────────┘\n",
       "</pre>\n"
      ],
      "text/plain": [
       "┏━━━━━━━━━━━━━━━━━━━━━━━━━━━━━━━━━┳━━━━━━━━━━━━━━━━━━━━━━━━┳━━━━━━━━━━━━━━━┓\n",
       "┃\u001b[1m \u001b[0m\u001b[1mLayer (type)                   \u001b[0m\u001b[1m \u001b[0m┃\u001b[1m \u001b[0m\u001b[1mOutput Shape          \u001b[0m\u001b[1m \u001b[0m┃\u001b[1m \u001b[0m\u001b[1m      Param #\u001b[0m\u001b[1m \u001b[0m┃\n",
       "┡━━━━━━━━━━━━━━━━━━━━━━━━━━━━━━━━━╇━━━━━━━━━━━━━━━━━━━━━━━━╇━━━━━━━━━━━━━━━┩\n",
       "│ Flatten (\u001b[38;5;33mFlatten\u001b[0m)               │ (\u001b[38;5;45mNone\u001b[0m, \u001b[38;5;34m784\u001b[0m)            │             \u001b[38;5;34m0\u001b[0m │\n",
       "├─────────────────────────────────┼────────────────────────┼───────────────┤\n",
       "│ layer_1 (\u001b[38;5;33mDense\u001b[0m)                 │ (\u001b[38;5;45mNone\u001b[0m, \u001b[38;5;34m80\u001b[0m)             │        \u001b[38;5;34m62,800\u001b[0m │\n",
       "├─────────────────────────────────┼────────────────────────┼───────────────┤\n",
       "│ layer_2 (\u001b[38;5;33mDense\u001b[0m)                 │ (\u001b[38;5;45mNone\u001b[0m, \u001b[38;5;34m90\u001b[0m)             │         \u001b[38;5;34m7,290\u001b[0m │\n",
       "├─────────────────────────────────┼────────────────────────┼───────────────┤\n",
       "│ layer_3 (\u001b[38;5;33mDense\u001b[0m)                 │ (\u001b[38;5;45mNone\u001b[0m, \u001b[38;5;34m80\u001b[0m)             │         \u001b[38;5;34m7,280\u001b[0m │\n",
       "├─────────────────────────────────┼────────────────────────┼───────────────┤\n",
       "│ layer_4 (\u001b[38;5;33mDense\u001b[0m)                 │ (\u001b[38;5;45mNone\u001b[0m, \u001b[38;5;34m80\u001b[0m)             │         \u001b[38;5;34m6,480\u001b[0m │\n",
       "├─────────────────────────────────┼────────────────────────┼───────────────┤\n",
       "│ output (\u001b[38;5;33mDense\u001b[0m)                  │ (\u001b[38;5;45mNone\u001b[0m, \u001b[38;5;34m10\u001b[0m)             │           \u001b[38;5;34m810\u001b[0m │\n",
       "└─────────────────────────────────┴────────────────────────┴───────────────┘\n"
      ]
     },
     "metadata": {},
     "output_type": "display_data"
    },
    {
     "data": {
      "text/html": [
       "<pre style=\"white-space:pre;overflow-x:auto;line-height:normal;font-family:Menlo,'DejaVu Sans Mono',consolas,'Courier New',monospace\"><span style=\"font-weight: bold\"> Total params: </span><span style=\"color: #00af00; text-decoration-color: #00af00\">84,660</span> (330.70 KB)\n",
       "</pre>\n"
      ],
      "text/plain": [
       "\u001b[1m Total params: \u001b[0m\u001b[38;5;34m84,660\u001b[0m (330.70 KB)\n"
      ]
     },
     "metadata": {},
     "output_type": "display_data"
    },
    {
     "data": {
      "text/html": [
       "<pre style=\"white-space:pre;overflow-x:auto;line-height:normal;font-family:Menlo,'DejaVu Sans Mono',consolas,'Courier New',monospace\"><span style=\"font-weight: bold\"> Trainable params: </span><span style=\"color: #00af00; text-decoration-color: #00af00\">84,660</span> (330.70 KB)\n",
       "</pre>\n"
      ],
      "text/plain": [
       "\u001b[1m Trainable params: \u001b[0m\u001b[38;5;34m84,660\u001b[0m (330.70 KB)\n"
      ]
     },
     "metadata": {},
     "output_type": "display_data"
    },
    {
     "data": {
      "text/html": [
       "<pre style=\"white-space:pre;overflow-x:auto;line-height:normal;font-family:Menlo,'DejaVu Sans Mono',consolas,'Courier New',monospace\"><span style=\"font-weight: bold\"> Non-trainable params: </span><span style=\"color: #00af00; text-decoration-color: #00af00\">0</span> (0.00 B)\n",
       "</pre>\n"
      ],
      "text/plain": [
       "\u001b[1m Non-trainable params: \u001b[0m\u001b[38;5;34m0\u001b[0m (0.00 B)\n"
      ]
     },
     "metadata": {},
     "output_type": "display_data"
    }
   ],
   "source": [
    "# modelo\n",
    "model_fm_sig = create_model(name=\"fashionmn_af_sigm\", \n",
    "                             shape=train_images[0].shape, \n",
    "                             af=\"sigmoid\",\n",
    "                             output_af=\"softmax\")\n",
    "\n",
    "# compilación\n",
    "opt  = keras.optimizers.Adam(learning_rate=0.001)\n",
    "loss = keras.losses.SparseCategoricalCrossentropy()\n",
    "\n",
    "model_fm_sig.compile(optimizer=opt,\n",
    "                      loss=loss,\n",
    "                      metrics=[\"accuracy\"])\n",
    "\n",
    "model_fm_sig.summary()"
   ]
  },
  {
   "cell_type": "code",
   "execution_count": 27,
   "id": "5209516e",
   "metadata": {},
   "outputs": [
    {
     "name": "stdout",
     "output_type": "stream",
     "text": [
      "Epoch 1/10\n"
     ]
    },
    {
     "name": "stderr",
     "output_type": "stream",
     "text": [
      "2024-04-30 12:58:57.973324: W external/local_tsl/tsl/framework/cpu_allocator_impl.cc:83] Allocation of 150528000 exceeds 10% of free system memory.\n"
     ]
    },
    {
     "name": "stdout",
     "output_type": "stream",
     "text": [
      "\u001b[1m1500/1500\u001b[0m \u001b[32m━━━━━━━━━━━━━━━━━━━━\u001b[0m\u001b[37m\u001b[0m \u001b[1m7s\u001b[0m 4ms/step - accuracy: 0.4818 - loss: 1.3733 - val_accuracy: 0.7608 - val_loss: 0.6116\n",
      "Epoch 2/10\n",
      "\u001b[1m1500/1500\u001b[0m \u001b[32m━━━━━━━━━━━━━━━━━━━━\u001b[0m\u001b[37m\u001b[0m \u001b[1m6s\u001b[0m 4ms/step - accuracy: 0.8007 - loss: 0.5382 - val_accuracy: 0.8468 - val_loss: 0.4369\n",
      "Epoch 3/10\n",
      "\u001b[1m1500/1500\u001b[0m \u001b[32m━━━━━━━━━━━━━━━━━━━━\u001b[0m\u001b[37m\u001b[0m \u001b[1m6s\u001b[0m 4ms/step - accuracy: 0.8496 - loss: 0.4265 - val_accuracy: 0.8547 - val_loss: 0.4110\n",
      "Epoch 4/10\n",
      "\u001b[1m1500/1500\u001b[0m \u001b[32m━━━━━━━━━━━━━━━━━━━━\u001b[0m\u001b[37m\u001b[0m \u001b[1m5s\u001b[0m 4ms/step - accuracy: 0.8668 - loss: 0.3745 - val_accuracy: 0.8618 - val_loss: 0.3836\n",
      "Epoch 5/10\n",
      "\u001b[1m1500/1500\u001b[0m \u001b[32m━━━━━━━━━━━━━━━━━━━━\u001b[0m\u001b[37m\u001b[0m \u001b[1m5s\u001b[0m 4ms/step - accuracy: 0.8737 - loss: 0.3533 - val_accuracy: 0.8715 - val_loss: 0.3590\n",
      "Epoch 6/10\n",
      "\u001b[1m1500/1500\u001b[0m \u001b[32m━━━━━━━━━━━━━━━━━━━━\u001b[0m\u001b[37m\u001b[0m \u001b[1m5s\u001b[0m 4ms/step - accuracy: 0.8817 - loss: 0.3317 - val_accuracy: 0.8756 - val_loss: 0.3517\n",
      "Epoch 7/10\n",
      "\u001b[1m1500/1500\u001b[0m \u001b[32m━━━━━━━━━━━━━━━━━━━━\u001b[0m\u001b[37m\u001b[0m \u001b[1m5s\u001b[0m 4ms/step - accuracy: 0.8881 - loss: 0.3123 - val_accuracy: 0.8648 - val_loss: 0.3695\n",
      "Epoch 8/10\n",
      "\u001b[1m1500/1500\u001b[0m \u001b[32m━━━━━━━━━━━━━━━━━━━━\u001b[0m\u001b[37m\u001b[0m \u001b[1m6s\u001b[0m 4ms/step - accuracy: 0.8896 - loss: 0.3049 - val_accuracy: 0.8733 - val_loss: 0.3544\n",
      "Epoch 9/10\n",
      "\u001b[1m1500/1500\u001b[0m \u001b[32m━━━━━━━━━━━━━━━━━━━━\u001b[0m\u001b[37m\u001b[0m \u001b[1m5s\u001b[0m 4ms/step - accuracy: 0.8946 - loss: 0.2887 - val_accuracy: 0.8783 - val_loss: 0.3384\n",
      "Epoch 10/10\n",
      "\u001b[1m1500/1500\u001b[0m \u001b[32m━━━━━━━━━━━━━━━━━━━━\u001b[0m\u001b[37m\u001b[0m \u001b[1m5s\u001b[0m 4ms/step - accuracy: 0.8969 - loss: 0.2802 - val_accuracy: 0.8700 - val_loss: 0.3567\n",
      "\n",
      "Time to run using sigmoid: 0:00:56.549113\n"
     ]
    }
   ],
   "source": [
    "# Entrenamiento \n",
    "start = datetime.datetime.now()\n",
    "history_fm_sig = model_fm_sig.fit(train_images,\n",
    "                                  train_labels,\n",
    "                                  validation_split=0.2,\n",
    "                                  epochs=10)\n",
    "\n",
    "history_fm_sig = history_fm_sig.history\n",
    "\n",
    "# medimos el tiempo de ejecución\n",
    "time_fm_sig = datetime.datetime.now() - start\n",
    "print(f\"\\nTime to run using sigmoid: {time_fm_sig}\")"
   ]
  },
  {
   "cell_type": "code",
   "execution_count": 28,
   "id": "7bb92a16",
   "metadata": {},
   "outputs": [
    {
     "data": {
      "image/png": "[encoded data removed]",
      "text/plain": [
       "<Figure size 720x576 with 1 Axes>"
      ]
     },
     "metadata": {
      "needs_background": "light"
     },
     "output_type": "display_data"
    }
   ],
   "source": [
    "plot_accuracy_loss(history_fm_sig, name=\"sigmoid AF\")"
   ]
  },
  {
   "cell_type": "code",
   "execution_count": 29,
   "id": "f9b3da01",
   "metadata": {},
   "outputs": [
    {
     "name": "stdout",
     "output_type": "stream",
     "text": [
      "\u001b[1m313/313\u001b[0m \u001b[32m━━━━━━━━━━━━━━━━━━━━\u001b[0m\u001b[37m\u001b[0m \u001b[1m1s\u001b[0m 2ms/step - accuracy: 0.8580 - loss: 0.3832\n"
     ]
    }
   ],
   "source": [
    "# Métricas de testeo\n",
    "loss_acc_sig_test = model_fm_sig.evaluate(x=test_images, y=test_labels)"
   ]
  },
  {
   "cell_type": "code",
   "execution_count": 30,
   "id": "5e4d4bef",
   "metadata": {},
   "outputs": [
    {
     "name": "stdout",
     "output_type": "stream",
     "text": [
      "\u001b[1m1875/1875\u001b[0m \u001b[32m━━━━━━━━━━━━━━━━━━━━\u001b[0m\u001b[37m\u001b[0m \u001b[1m3s\u001b[0m 2ms/step - accuracy: 0.8905 - loss: 0.2871\n"
     ]
    }
   ],
   "source": [
    "# Métricas de entrenamiento\n",
    "loss_acc_sig_train = model_fm_sig.evaluate(x=train_images, y=train_labels)"
   ]
  },
  {
   "cell_type": "markdown",
   "id": "99a05f02",
   "metadata": {},
   "source": [
    "### tanh\n",
    "\n",
    "La función tangente hiperbólica está definida a partir del uso de funciones exponenciales:\n",
    "\n",
    "\\begin{eqnarray}\n",
    "    \\text{tanh}(x) = \\frac{e^x-e^{-x}}{e^x+e^{-x}}\n",
    "\\end{eqnarray}\n",
    "\n",
    "Por lo cual su derivada es:\n",
    "\n",
    "\\begin{equation}\n",
    " \\frac{d\\text{tanh}}{dx} = 1- \\text{tanh}^2(x)\n",
    "\\end{equation}\n",
    "\n",
    "graficamente tenemos"
   ]
  },
  {
   "cell_type": "code",
   "execution_count": 31,
   "id": "09ced268",
   "metadata": {},
   "outputs": [
    {
     "data": {
      "image/png": "[encoded data removed]",
      "text/plain": [
       "<Figure size 720x360 with 2 Axes>"
      ]
     },
     "metadata": {
      "needs_background": "light"
     },
     "output_type": "display_data"
    }
   ],
   "source": [
    "# derivada\n",
    "x = np.linspace(-5, 5, 100)\n",
    "\n",
    "def d_tanh(x):\n",
    "    return 1 - np.tanh(x)**2\n",
    "\n",
    "d_tanh = np.vectorize(d_tanh)\n",
    "\n",
    "plot_af(x,\n",
    "        af=keras.activations.tanh,\n",
    "        daf=d_tanh,\n",
    "        af_ylabel=f\"tanh$(x)$\",\n",
    "        daf_ylabel=f\"$d$tanh$/dx$\")"
   ]
  },
  {
   "cell_type": "markdown",
   "id": "8e14686d",
   "metadata": {},
   "source": [
    "Una primera apreciación importante es que  la $tanh$ tiene un rango que está entre $-1$ y $1$, es decir, puede tomar valores negativos, contrario a las funciones ReLU y sigmoide que solo retornan valores positivos. Esto podría favorecer un entrenamioento más rápido de la red neuronal. Además, al tener una derivada más pronunciada cerca a cero podría acelerar el proceso de entrenamiento siempre  cuando las sumas ponderadas al interior de la neurona permanezcan \"pequeños\". \n",
    "\n",
    "La función tangente hiperbólica presenta una derivada con valores \"grandes\" cuando está cerca del cero pero tiende a ser nula en los extremos produciendo que el gradiente se desvanezca en esas regiones (más adelante trataremos esto con mayor detalle). Este es un problema para muchas arquitecturas de redes neuronales pues tiende a hacer que la actualización de los pesos se vea frenada cuando la suma ponderada de la neurona es muy grande.\n",
    "\n",
    "Su uso es recomendado para las capas ocultas de redes neuronales recurrentes (RNN) pues precisamente la característica de que tienda a desvanecer el gradiente ayuda a que este no explote, lo cual puede suceder con relativa facilidad en una RNN al usar otras funciones de activación como ReLU. Por otro lado, no se recomienda su uso en las capas ocultas de redes neuronales profundas pues, aunque tanh puede ser útil en capas ocultas, especialmente en redes neuronales recurrentes, también puede sufrir de saturación en estas redes, lo que puede ralentizar el entrenamiento. \n",
    "\n",
    "Tanto la función tanh como la sigmoide se utilizan para problemas de clasificación binarios ubicandolas en la capa de salida de la red. "
   ]
  },
  {
   "cell_type": "code",
   "execution_count": 32,
   "id": "a4fa19e1",
   "metadata": {},
   "outputs": [
    {
     "data": {
      "text/plain": [
       "array([ 0.97627008,  4.30378733,  2.05526752,  0.89766366, -1.52690401,\n",
       "        2.91788226, -1.24825577,  7.83546002,  9.27325521, -2.33116962])"
      ]
     },
     "execution_count": 32,
     "metadata": {},
     "output_type": "execute_result"
    }
   ],
   "source": [
    "xp"
   ]
  },
  {
   "cell_type": "code",
   "execution_count": 33,
   "id": "7d35df15",
   "metadata": {},
   "outputs": [
    {
     "data": {
      "text/plain": [
       "<tf.Tensor: shape=(10,), dtype=float64, numpy=\n",
       "array([ 0.75144671,  0.99963463,  0.96773118,  0.71515836, -0.90989329,\n",
       "        0.99417464, -0.84779381,  0.99999969,  0.99999998, -0.98128803])>"
      ]
     },
     "execution_count": 33,
     "metadata": {},
     "output_type": "execute_result"
    }
   ],
   "source": [
    "# con tanh de keras\n",
    "keras.activations.tanh(xp)"
   ]
  },
  {
   "cell_type": "code",
   "execution_count": 34,
   "id": "6bdcf0ed",
   "metadata": {},
   "outputs": [
    {
     "data": {
      "text/plain": [
       "array([ 0.75144671,  0.99963463,  0.96773118,  0.71515836, -0.90989329,\n",
       "        0.99417464, -0.84779381,  0.99999969,  0.99999998, -0.98128803])"
      ]
     },
     "execution_count": 34,
     "metadata": {},
     "output_type": "execute_result"
    }
   ],
   "source": [
    "# con numpy\n",
    "np.tanh(xp)"
   ]
  },
  {
   "cell_type": "markdown",
   "id": "f054f64b",
   "metadata": {},
   "source": [
    "Ahora entrenemos un modelo con una función de activación tanh en las capas ocultas. "
   ]
  },
  {
   "cell_type": "code",
   "execution_count": 35,
   "id": "deec9fc7",
   "metadata": {},
   "outputs": [
    {
     "data": {
      "text/html": [
       "<pre style=\"white-space:pre;overflow-x:auto;line-height:normal;font-family:Menlo,'DejaVu Sans Mono',consolas,'Courier New',monospace\"><span style=\"font-weight: bold\">Model: \"fashionmn_af_tanh\"</span>\n",
       "</pre>\n"
      ],
      "text/plain": [
       "\u001b[1mModel: \"fashionmn_af_tanh\"\u001b[0m\n"
      ]
     },
     "metadata": {},
     "output_type": "display_data"
    },
    {
     "data": {
      "text/html": [
       "<pre style=\"white-space:pre;overflow-x:auto;line-height:normal;font-family:Menlo,'DejaVu Sans Mono',consolas,'Courier New',monospace\">┏━━━━━━━━━━━━━━━━━━━━━━━━━━━━━━━━━┳━━━━━━━━━━━━━━━━━━━━━━━━┳━━━━━━━━━━━━━━━┓\n",
       "┃<span style=\"font-weight: bold\"> Layer (type)                    </span>┃<span style=\"font-weight: bold\"> Output Shape           </span>┃<span style=\"font-weight: bold\">       Param # </span>┃\n",
       "┡━━━━━━━━━━━━━━━━━━━━━━━━━━━━━━━━━╇━━━━━━━━━━━━━━━━━━━━━━━━╇━━━━━━━━━━━━━━━┩\n",
       "│ Flatten (<span style=\"color: #0087ff; text-decoration-color: #0087ff\">Flatten</span>)               │ (<span style=\"color: #00d7ff; text-decoration-color: #00d7ff\">None</span>, <span style=\"color: #00af00; text-decoration-color: #00af00\">784</span>)            │             <span style=\"color: #00af00; text-decoration-color: #00af00\">0</span> │\n",
       "├─────────────────────────────────┼────────────────────────┼───────────────┤\n",
       "│ layer_1 (<span style=\"color: #0087ff; text-decoration-color: #0087ff\">Dense</span>)                 │ (<span style=\"color: #00d7ff; text-decoration-color: #00d7ff\">None</span>, <span style=\"color: #00af00; text-decoration-color: #00af00\">80</span>)             │        <span style=\"color: #00af00; text-decoration-color: #00af00\">62,800</span> │\n",
       "├─────────────────────────────────┼────────────────────────┼───────────────┤\n",
       "│ layer_2 (<span style=\"color: #0087ff; text-decoration-color: #0087ff\">Dense</span>)                 │ (<span style=\"color: #00d7ff; text-decoration-color: #00d7ff\">None</span>, <span style=\"color: #00af00; text-decoration-color: #00af00\">90</span>)             │         <span style=\"color: #00af00; text-decoration-color: #00af00\">7,290</span> │\n",
       "├─────────────────────────────────┼────────────────────────┼───────────────┤\n",
       "│ layer_3 (<span style=\"color: #0087ff; text-decoration-color: #0087ff\">Dense</span>)                 │ (<span style=\"color: #00d7ff; text-decoration-color: #00d7ff\">None</span>, <span style=\"color: #00af00; text-decoration-color: #00af00\">80</span>)             │         <span style=\"color: #00af00; text-decoration-color: #00af00\">7,280</span> │\n",
       "├─────────────────────────────────┼────────────────────────┼───────────────┤\n",
       "│ layer_4 (<span style=\"color: #0087ff; text-decoration-color: #0087ff\">Dense</span>)                 │ (<span style=\"color: #00d7ff; text-decoration-color: #00d7ff\">None</span>, <span style=\"color: #00af00; text-decoration-color: #00af00\">80</span>)             │         <span style=\"color: #00af00; text-decoration-color: #00af00\">6,480</span> │\n",
       "├─────────────────────────────────┼────────────────────────┼───────────────┤\n",
       "│ output (<span style=\"color: #0087ff; text-decoration-color: #0087ff\">Dense</span>)                  │ (<span style=\"color: #00d7ff; text-decoration-color: #00d7ff\">None</span>, <span style=\"color: #00af00; text-decoration-color: #00af00\">10</span>)             │           <span style=\"color: #00af00; text-decoration-color: #00af00\">810</span> │\n",
       "└─────────────────────────────────┴────────────────────────┴───────────────┘\n",
       "</pre>\n"
      ],
      "text/plain": [
       "┏━━━━━━━━━━━━━━━━━━━━━━━━━━━━━━━━━┳━━━━━━━━━━━━━━━━━━━━━━━━┳━━━━━━━━━━━━━━━┓\n",
       "┃\u001b[1m \u001b[0m\u001b[1mLayer (type)                   \u001b[0m\u001b[1m \u001b[0m┃\u001b[1m \u001b[0m\u001b[1mOutput Shape          \u001b[0m\u001b[1m \u001b[0m┃\u001b[1m \u001b[0m\u001b[1m      Param #\u001b[0m\u001b[1m \u001b[0m┃\n",
       "┡━━━━━━━━━━━━━━━━━━━━━━━━━━━━━━━━━╇━━━━━━━━━━━━━━━━━━━━━━━━╇━━━━━━━━━━━━━━━┩\n",
       "│ Flatten (\u001b[38;5;33mFlatten\u001b[0m)               │ (\u001b[38;5;45mNone\u001b[0m, \u001b[38;5;34m784\u001b[0m)            │             \u001b[38;5;34m0\u001b[0m │\n",
       "├─────────────────────────────────┼────────────────────────┼───────────────┤\n",
       "│ layer_1 (\u001b[38;5;33mDense\u001b[0m)                 │ (\u001b[38;5;45mNone\u001b[0m, \u001b[38;5;34m80\u001b[0m)             │        \u001b[38;5;34m62,800\u001b[0m │\n",
       "├─────────────────────────────────┼────────────────────────┼───────────────┤\n",
       "│ layer_2 (\u001b[38;5;33mDense\u001b[0m)                 │ (\u001b[38;5;45mNone\u001b[0m, \u001b[38;5;34m90\u001b[0m)             │         \u001b[38;5;34m7,290\u001b[0m │\n",
       "├─────────────────────────────────┼────────────────────────┼───────────────┤\n",
       "│ layer_3 (\u001b[38;5;33mDense\u001b[0m)                 │ (\u001b[38;5;45mNone\u001b[0m, \u001b[38;5;34m80\u001b[0m)             │         \u001b[38;5;34m7,280\u001b[0m │\n",
       "├─────────────────────────────────┼────────────────────────┼───────────────┤\n",
       "│ layer_4 (\u001b[38;5;33mDense\u001b[0m)                 │ (\u001b[38;5;45mNone\u001b[0m, \u001b[38;5;34m80\u001b[0m)             │         \u001b[38;5;34m6,480\u001b[0m │\n",
       "├─────────────────────────────────┼────────────────────────┼───────────────┤\n",
       "│ output (\u001b[38;5;33mDense\u001b[0m)                  │ (\u001b[38;5;45mNone\u001b[0m, \u001b[38;5;34m10\u001b[0m)             │           \u001b[38;5;34m810\u001b[0m │\n",
       "└─────────────────────────────────┴────────────────────────┴───────────────┘\n"
      ]
     },
     "metadata": {},
     "output_type": "display_data"
    },
    {
     "data": {
      "text/html": [
       "<pre style=\"white-space:pre;overflow-x:auto;line-height:normal;font-family:Menlo,'DejaVu Sans Mono',consolas,'Courier New',monospace\"><span style=\"font-weight: bold\"> Total params: </span><span style=\"color: #00af00; text-decoration-color: #00af00\">84,660</span> (330.70 KB)\n",
       "</pre>\n"
      ],
      "text/plain": [
       "\u001b[1m Total params: \u001b[0m\u001b[38;5;34m84,660\u001b[0m (330.70 KB)\n"
      ]
     },
     "metadata": {},
     "output_type": "display_data"
    },
    {
     "data": {
      "text/html": [
       "<pre style=\"white-space:pre;overflow-x:auto;line-height:normal;font-family:Menlo,'DejaVu Sans Mono',consolas,'Courier New',monospace\"><span style=\"font-weight: bold\"> Trainable params: </span><span style=\"color: #00af00; text-decoration-color: #00af00\">84,660</span> (330.70 KB)\n",
       "</pre>\n"
      ],
      "text/plain": [
       "\u001b[1m Trainable params: \u001b[0m\u001b[38;5;34m84,660\u001b[0m (330.70 KB)\n"
      ]
     },
     "metadata": {},
     "output_type": "display_data"
    },
    {
     "data": {
      "text/html": [
       "<pre style=\"white-space:pre;overflow-x:auto;line-height:normal;font-family:Menlo,'DejaVu Sans Mono',consolas,'Courier New',monospace\"><span style=\"font-weight: bold\"> Non-trainable params: </span><span style=\"color: #00af00; text-decoration-color: #00af00\">0</span> (0.00 B)\n",
       "</pre>\n"
      ],
      "text/plain": [
       "\u001b[1m Non-trainable params: \u001b[0m\u001b[38;5;34m0\u001b[0m (0.00 B)\n"
      ]
     },
     "metadata": {},
     "output_type": "display_data"
    }
   ],
   "source": [
    "# modelo\n",
    "model_fm_tanh = create_model(name=\"fashionmn_af_tanh\", \n",
    "                             shape=train_images[0].shape, \n",
    "                             af=\"tanh\",\n",
    "                             output_af=\"softmax\")\n",
    "\n",
    "# compilación\n",
    "opt  = keras.optimizers.Adam(learning_rate=0.001)\n",
    "loss = keras.losses.SparseCategoricalCrossentropy()\n",
    "\n",
    "model_fm_tanh.compile(optimizer=opt,\n",
    "                      loss=loss,\n",
    "                      metrics=[\"accuracy\"])\n",
    "\n",
    "model_fm_tanh.summary()"
   ]
  },
  {
   "cell_type": "code",
   "execution_count": 36,
   "id": "6afcc996",
   "metadata": {},
   "outputs": [
    {
     "name": "stdout",
     "output_type": "stream",
     "text": [
      "Epoch 1/10\n",
      "\u001b[1m1500/1500\u001b[0m \u001b[32m━━━━━━━━━━━━━━━━━━━━\u001b[0m\u001b[37m\u001b[0m \u001b[1m7s\u001b[0m 4ms/step - accuracy: 0.7720 - loss: 0.6374 - val_accuracy: 0.8336 - val_loss: 0.4599\n",
      "Epoch 2/10\n",
      "\u001b[1m1500/1500\u001b[0m \u001b[32m━━━━━━━━━━━━━━━━━━━━\u001b[0m\u001b[37m\u001b[0m \u001b[1m5s\u001b[0m 3ms/step - accuracy: 0.8524 - loss: 0.4009 - val_accuracy: 0.8701 - val_loss: 0.3653\n",
      "Epoch 3/10\n",
      "\u001b[1m1500/1500\u001b[0m \u001b[32m━━━━━━━━━━━━━━━━━━━━\u001b[0m\u001b[37m\u001b[0m \u001b[1m6s\u001b[0m 4ms/step - accuracy: 0.8727 - loss: 0.3466 - val_accuracy: 0.8548 - val_loss: 0.3899\n",
      "Epoch 4/10\n",
      "\u001b[1m1500/1500\u001b[0m \u001b[32m━━━━━━━━━━━━━━━━━━━━\u001b[0m\u001b[37m\u001b[0m \u001b[1m6s\u001b[0m 4ms/step - accuracy: 0.8793 - loss: 0.3239 - val_accuracy: 0.8670 - val_loss: 0.3693\n",
      "Epoch 5/10\n",
      "\u001b[1m1500/1500\u001b[0m \u001b[32m━━━━━━━━━━━━━━━━━━━━\u001b[0m\u001b[37m\u001b[0m \u001b[1m6s\u001b[0m 4ms/step - accuracy: 0.8840 - loss: 0.3107 - val_accuracy: 0.8726 - val_loss: 0.3562\n",
      "Epoch 6/10\n",
      "\u001b[1m1500/1500\u001b[0m \u001b[32m━━━━━━━━━━━━━━━━━━━━\u001b[0m\u001b[37m\u001b[0m \u001b[1m5s\u001b[0m 4ms/step - accuracy: 0.8891 - loss: 0.2979 - val_accuracy: 0.8711 - val_loss: 0.3489\n",
      "Epoch 7/10\n",
      "\u001b[1m1500/1500\u001b[0m \u001b[32m━━━━━━━━━━━━━━━━━━━━\u001b[0m\u001b[37m\u001b[0m \u001b[1m6s\u001b[0m 4ms/step - accuracy: 0.8940 - loss: 0.2831 - val_accuracy: 0.8768 - val_loss: 0.3483\n",
      "Epoch 8/10\n",
      "\u001b[1m1500/1500\u001b[0m \u001b[32m━━━━━━━━━━━━━━━━━━━━\u001b[0m\u001b[37m\u001b[0m \u001b[1m6s\u001b[0m 4ms/step - accuracy: 0.8969 - loss: 0.2733 - val_accuracy: 0.8795 - val_loss: 0.3383\n",
      "Epoch 9/10\n",
      "\u001b[1m1500/1500\u001b[0m \u001b[32m━━━━━━━━━━━━━━━━━━━━\u001b[0m\u001b[37m\u001b[0m \u001b[1m10s\u001b[0m 3ms/step - accuracy: 0.9002 - loss: 0.2624 - val_accuracy: 0.8848 - val_loss: 0.3328\n",
      "Epoch 10/10\n",
      "\u001b[1m1500/1500\u001b[0m \u001b[32m━━━━━━━━━━━━━━━━━━━━\u001b[0m\u001b[37m\u001b[0m \u001b[1m5s\u001b[0m 4ms/step - accuracy: 0.9038 - loss: 0.2569 - val_accuracy: 0.8717 - val_loss: 0.3787\n",
      "\n",
      "Time to run using tanh: 0:01:01.629482\n"
     ]
    }
   ],
   "source": [
    "# Entrenamiento \n",
    "start = datetime.datetime.now()\n",
    "history_fm_tanh = model_fm_tanh.fit(train_images,\n",
    "                                    train_labels,\n",
    "                                    validation_split=0.2,\n",
    "                                    epochs=10)\n",
    "\n",
    "history_fm_tanh = history_fm_tanh.history\n",
    "\n",
    "# medimos el tiempo de ejecución\n",
    "time_fm_tanh = datetime.datetime.now() - start\n",
    "print(f\"\\nTime to run using tanh: {time_fm_tanh}\")"
   ]
  },
  {
   "cell_type": "code",
   "execution_count": 37,
   "id": "c1bffbef",
   "metadata": {},
   "outputs": [
    {
     "data": {
      "image/png": "[encoded data removed]",
      "text/plain": [
       "<Figure size 720x576 with 1 Axes>"
      ]
     },
     "metadata": {
      "needs_background": "light"
     },
     "output_type": "display_data"
    }
   ],
   "source": [
    "plot_accuracy_loss(history_fm_tanh, name=\"tanh AF\")"
   ]
  },
  {
   "cell_type": "code",
   "execution_count": 38,
   "id": "7e99da90",
   "metadata": {},
   "outputs": [
    {
     "name": "stdout",
     "output_type": "stream",
     "text": [
      "\u001b[1m313/313\u001b[0m \u001b[32m━━━━━━━━━━━━━━━━━━━━\u001b[0m\u001b[37m\u001b[0m \u001b[1m1s\u001b[0m 2ms/step - accuracy: 0.8642 - loss: 0.4165\n"
     ]
    }
   ],
   "source": [
    "# Métricas de testeo\n",
    "loss_acc_tanh_test = model_fm_tanh.evaluate(x=test_images, y=test_labels)"
   ]
  },
  {
   "cell_type": "code",
   "execution_count": 39,
   "id": "ece53a7b",
   "metadata": {},
   "outputs": [
    {
     "name": "stdout",
     "output_type": "stream",
     "text": [
      "\u001b[1m1875/1875\u001b[0m \u001b[32m━━━━━━━━━━━━━━━━━━━━\u001b[0m\u001b[37m\u001b[0m \u001b[1m4s\u001b[0m 2ms/step - accuracy: 0.8924 - loss: 0.2905\n"
     ]
    }
   ],
   "source": [
    "# Métricas de entrenamiento\n",
    "loss_acc_tanh_train = model_fm_tanh.evaluate(x=train_images, y=train_labels)"
   ]
  },
  {
   "cell_type": "markdown",
   "id": "ab3f4256",
   "metadata": {},
   "source": [
    "### Leaky ReLU\n",
    "\n",
    "Leaky ReLU es una función de activación que aparece como alternativa para resolver los problemas de ReLU (derivada nula para $x<0$), está definida por:\n",
    "\n",
    "\\begin{eqnarray}\n",
    "    \\text{Leaky ReLU}(x) = \\text{max}(\\alpha x,x)\n",
    "\\end{eqnarray}\n",
    "\n",
    "Por lo cual su derivada es:\n",
    "\n",
    "\\begin{equation}\n",
    " \\frac{d\\text{ReLU}}{dx} = \\left\\{ \\begin{array}{lcc} \n",
    "                                                      \\alpha & si & x < 0 \\\\\n",
    "                                                      1 & si & x \\geq 0     \\\\\n",
    "                                   \\end{array}\n",
    "                           \\right.\n",
    "\\end{equation}\n",
    "\n",
    "donde $\\alpha$ es un valor pequeño usualmente \n",
    "\n",
    "graficamente tenemos"
   ]
  },
  {
   "cell_type": "code",
   "execution_count": 40,
   "id": "69f22027",
   "metadata": {},
   "outputs": [
    {
     "data": {
      "image/png": "[encoded data removed]",
      "text/plain": [
       "<Figure size 720x360 with 2 Axes>"
      ]
     },
     "metadata": {
      "needs_background": "light"
     },
     "output_type": "display_data"
    }
   ],
   "source": [
    "# derivada\n",
    "x = np.linspace(-5, 5, 100)\n",
    "\n",
    "alpha = 0.2\n",
    "def d_lrelu(x, alpha=alpha):\n",
    "    if x<0:\n",
    "        return alpha\n",
    "    return 1\n",
    "\n",
    "d_lrelu = np.vectorize(d_lrelu)\n",
    "\n",
    "plot_af(x,\n",
    "        af=keras.activations.leaky_relu,\n",
    "        daf=d_lrelu,\n",
    "        af_ylabel=f\"Leaky ReLU$(x)$\",\n",
    "        daf_ylabel=f\"$d$LReLU$/dx$\", **{\"negative_slope\":alpha})"
   ]
  },
  {
   "cell_type": "markdown",
   "id": "b07dc707",
   "metadata": {},
   "source": [
    "En comparación con ReLU, Al permitir un pequeño gradiente para las entradas negativas, Leaky ReLU evita el problema de que algunas neuronas se vuelvan \"inactivas\", además Leaky ReLU puede ayudar a reducir la probabilidad de que ocurra el desvanecimiento del gradiente en comparación con ReLU, especialmente en redes neuronales más profundas.\n",
    "\n",
    "Leaky ReLU sigue siendo tema de investigación al igual que muchas otras funciones de activación, por esto no siempre se usa para las capas ocultas y sigue siendo más frecuente el uso de ReLU pero quizá esto cambie conforme avancen los estudios sobre las funciones de activación. \n",
    "\n",
    "Una ventaja que tienen tanto ReLU como Leaky ReLU sobre funciones de activación como la logística o tanh que están definidas usando exponenciales y divisiones, es que no son tan costosas computacionalmente hablando, por lo que su uso sigue siendo preferido en las capas ocultas de muhas redes."
   ]
  },
  {
   "cell_type": "code",
   "execution_count": 41,
   "id": "fc399d2c",
   "metadata": {},
   "outputs": [
    {
     "data": {
      "text/plain": [
       "array([ 0.97627008,  4.30378733,  2.05526752,  0.89766366, -1.52690401,\n",
       "        2.91788226, -1.24825577,  7.83546002,  9.27325521, -2.33116962])"
      ]
     },
     "execution_count": 41,
     "metadata": {},
     "output_type": "execute_result"
    }
   ],
   "source": [
    "xp"
   ]
  },
  {
   "cell_type": "code",
   "execution_count": 42,
   "id": "288c58f9",
   "metadata": {},
   "outputs": [
    {
     "data": {
      "text/plain": [
       "<tf.Tensor: shape=(10,), dtype=float64, numpy=\n",
       "array([ 0.97627008,  4.30378733,  2.05526752,  0.89766366, -0.30538081,\n",
       "        2.91788226, -0.24965116,  7.83546002,  9.27325521, -0.46623393])>"
      ]
     },
     "execution_count": 42,
     "metadata": {},
     "output_type": "execute_result"
    }
   ],
   "source": [
    "keras.activations.leaky_relu(xp, negative_slope=alpha)"
   ]
  },
  {
   "cell_type": "code",
   "execution_count": 43,
   "id": "3445fc4a",
   "metadata": {},
   "outputs": [
    {
     "data": {
      "text/html": [
       "<pre style=\"white-space:pre;overflow-x:auto;line-height:normal;font-family:Menlo,'DejaVu Sans Mono',consolas,'Courier New',monospace\"><span style=\"font-weight: bold\">Model: \"fashionmn_af_lrelu\"</span>\n",
       "</pre>\n"
      ],
      "text/plain": [
       "\u001b[1mModel: \"fashionmn_af_lrelu\"\u001b[0m\n"
      ]
     },
     "metadata": {},
     "output_type": "display_data"
    },
    {
     "data": {
      "text/html": [
       "<pre style=\"white-space:pre;overflow-x:auto;line-height:normal;font-family:Menlo,'DejaVu Sans Mono',consolas,'Courier New',monospace\">┏━━━━━━━━━━━━━━━━━━━━━━━━━━━━━━━━━┳━━━━━━━━━━━━━━━━━━━━━━━━┳━━━━━━━━━━━━━━━┓\n",
       "┃<span style=\"font-weight: bold\"> Layer (type)                    </span>┃<span style=\"font-weight: bold\"> Output Shape           </span>┃<span style=\"font-weight: bold\">       Param # </span>┃\n",
       "┡━━━━━━━━━━━━━━━━━━━━━━━━━━━━━━━━━╇━━━━━━━━━━━━━━━━━━━━━━━━╇━━━━━━━━━━━━━━━┩\n",
       "│ Flatten (<span style=\"color: #0087ff; text-decoration-color: #0087ff\">Flatten</span>)               │ (<span style=\"color: #00d7ff; text-decoration-color: #00d7ff\">None</span>, <span style=\"color: #00af00; text-decoration-color: #00af00\">784</span>)            │             <span style=\"color: #00af00; text-decoration-color: #00af00\">0</span> │\n",
       "├─────────────────────────────────┼────────────────────────┼───────────────┤\n",
       "│ layer_1 (<span style=\"color: #0087ff; text-decoration-color: #0087ff\">Dense</span>)                 │ (<span style=\"color: #00d7ff; text-decoration-color: #00d7ff\">None</span>, <span style=\"color: #00af00; text-decoration-color: #00af00\">80</span>)             │        <span style=\"color: #00af00; text-decoration-color: #00af00\">62,800</span> │\n",
       "├─────────────────────────────────┼────────────────────────┼───────────────┤\n",
       "│ layer_2 (<span style=\"color: #0087ff; text-decoration-color: #0087ff\">Dense</span>)                 │ (<span style=\"color: #00d7ff; text-decoration-color: #00d7ff\">None</span>, <span style=\"color: #00af00; text-decoration-color: #00af00\">90</span>)             │         <span style=\"color: #00af00; text-decoration-color: #00af00\">7,290</span> │\n",
       "├─────────────────────────────────┼────────────────────────┼───────────────┤\n",
       "│ layer_3 (<span style=\"color: #0087ff; text-decoration-color: #0087ff\">Dense</span>)                 │ (<span style=\"color: #00d7ff; text-decoration-color: #00d7ff\">None</span>, <span style=\"color: #00af00; text-decoration-color: #00af00\">80</span>)             │         <span style=\"color: #00af00; text-decoration-color: #00af00\">7,280</span> │\n",
       "├─────────────────────────────────┼────────────────────────┼───────────────┤\n",
       "│ layer_4 (<span style=\"color: #0087ff; text-decoration-color: #0087ff\">Dense</span>)                 │ (<span style=\"color: #00d7ff; text-decoration-color: #00d7ff\">None</span>, <span style=\"color: #00af00; text-decoration-color: #00af00\">80</span>)             │         <span style=\"color: #00af00; text-decoration-color: #00af00\">6,480</span> │\n",
       "├─────────────────────────────────┼────────────────────────┼───────────────┤\n",
       "│ output (<span style=\"color: #0087ff; text-decoration-color: #0087ff\">Dense</span>)                  │ (<span style=\"color: #00d7ff; text-decoration-color: #00d7ff\">None</span>, <span style=\"color: #00af00; text-decoration-color: #00af00\">10</span>)             │           <span style=\"color: #00af00; text-decoration-color: #00af00\">810</span> │\n",
       "└─────────────────────────────────┴────────────────────────┴───────────────┘\n",
       "</pre>\n"
      ],
      "text/plain": [
       "┏━━━━━━━━━━━━━━━━━━━━━━━━━━━━━━━━━┳━━━━━━━━━━━━━━━━━━━━━━━━┳━━━━━━━━━━━━━━━┓\n",
       "┃\u001b[1m \u001b[0m\u001b[1mLayer (type)                   \u001b[0m\u001b[1m \u001b[0m┃\u001b[1m \u001b[0m\u001b[1mOutput Shape          \u001b[0m\u001b[1m \u001b[0m┃\u001b[1m \u001b[0m\u001b[1m      Param #\u001b[0m\u001b[1m \u001b[0m┃\n",
       "┡━━━━━━━━━━━━━━━━━━━━━━━━━━━━━━━━━╇━━━━━━━━━━━━━━━━━━━━━━━━╇━━━━━━━━━━━━━━━┩\n",
       "│ Flatten (\u001b[38;5;33mFlatten\u001b[0m)               │ (\u001b[38;5;45mNone\u001b[0m, \u001b[38;5;34m784\u001b[0m)            │             \u001b[38;5;34m0\u001b[0m │\n",
       "├─────────────────────────────────┼────────────────────────┼───────────────┤\n",
       "│ layer_1 (\u001b[38;5;33mDense\u001b[0m)                 │ (\u001b[38;5;45mNone\u001b[0m, \u001b[38;5;34m80\u001b[0m)             │        \u001b[38;5;34m62,800\u001b[0m │\n",
       "├─────────────────────────────────┼────────────────────────┼───────────────┤\n",
       "│ layer_2 (\u001b[38;5;33mDense\u001b[0m)                 │ (\u001b[38;5;45mNone\u001b[0m, \u001b[38;5;34m90\u001b[0m)             │         \u001b[38;5;34m7,290\u001b[0m │\n",
       "├─────────────────────────────────┼────────────────────────┼───────────────┤\n",
       "│ layer_3 (\u001b[38;5;33mDense\u001b[0m)                 │ (\u001b[38;5;45mNone\u001b[0m, \u001b[38;5;34m80\u001b[0m)             │         \u001b[38;5;34m7,280\u001b[0m │\n",
       "├─────────────────────────────────┼────────────────────────┼───────────────┤\n",
       "│ layer_4 (\u001b[38;5;33mDense\u001b[0m)                 │ (\u001b[38;5;45mNone\u001b[0m, \u001b[38;5;34m80\u001b[0m)             │         \u001b[38;5;34m6,480\u001b[0m │\n",
       "├─────────────────────────────────┼────────────────────────┼───────────────┤\n",
       "│ output (\u001b[38;5;33mDense\u001b[0m)                  │ (\u001b[38;5;45mNone\u001b[0m, \u001b[38;5;34m10\u001b[0m)             │           \u001b[38;5;34m810\u001b[0m │\n",
       "└─────────────────────────────────┴────────────────────────┴───────────────┘\n"
      ]
     },
     "metadata": {},
     "output_type": "display_data"
    },
    {
     "data": {
      "text/html": [
       "<pre style=\"white-space:pre;overflow-x:auto;line-height:normal;font-family:Menlo,'DejaVu Sans Mono',consolas,'Courier New',monospace\"><span style=\"font-weight: bold\"> Total params: </span><span style=\"color: #00af00; text-decoration-color: #00af00\">84,660</span> (330.70 KB)\n",
       "</pre>\n"
      ],
      "text/plain": [
       "\u001b[1m Total params: \u001b[0m\u001b[38;5;34m84,660\u001b[0m (330.70 KB)\n"
      ]
     },
     "metadata": {},
     "output_type": "display_data"
    },
    {
     "data": {
      "text/html": [
       "<pre style=\"white-space:pre;overflow-x:auto;line-height:normal;font-family:Menlo,'DejaVu Sans Mono',consolas,'Courier New',monospace\"><span style=\"font-weight: bold\"> Trainable params: </span><span style=\"color: #00af00; text-decoration-color: #00af00\">84,660</span> (330.70 KB)\n",
       "</pre>\n"
      ],
      "text/plain": [
       "\u001b[1m Trainable params: \u001b[0m\u001b[38;5;34m84,660\u001b[0m (330.70 KB)\n"
      ]
     },
     "metadata": {},
     "output_type": "display_data"
    },
    {
     "data": {
      "text/html": [
       "<pre style=\"white-space:pre;overflow-x:auto;line-height:normal;font-family:Menlo,'DejaVu Sans Mono',consolas,'Courier New',monospace\"><span style=\"font-weight: bold\"> Non-trainable params: </span><span style=\"color: #00af00; text-decoration-color: #00af00\">0</span> (0.00 B)\n",
       "</pre>\n"
      ],
      "text/plain": [
       "\u001b[1m Non-trainable params: \u001b[0m\u001b[38;5;34m0\u001b[0m (0.00 B)\n"
      ]
     },
     "metadata": {},
     "output_type": "display_data"
    }
   ],
   "source": [
    "# modelo\n",
    "model_fm_lrelu = create_model(name=\"fashionmn_af_lrelu\", \n",
    "                             shape=train_images[0].shape, \n",
    "                             af=\"leaky_relu\",\n",
    "                             output_af=\"softmax\")\n",
    "\n",
    "# compilación\n",
    "opt  = keras.optimizers.Adam(learning_rate=0.001)\n",
    "loss = keras.losses.SparseCategoricalCrossentropy()\n",
    "\n",
    "model_fm_lrelu.compile(optimizer=opt,\n",
    "                      loss=loss,\n",
    "                      metrics=[\"accuracy\"])\n",
    "\n",
    "model_fm_lrelu.summary()"
   ]
  },
  {
   "cell_type": "code",
   "execution_count": 44,
   "id": "4608c1b4",
   "metadata": {},
   "outputs": [
    {
     "name": "stdout",
     "output_type": "stream",
     "text": [
      "Epoch 1/10\n",
      "\u001b[1m1500/1500\u001b[0m \u001b[32m━━━━━━━━━━━━━━━━━━━━\u001b[0m\u001b[37m\u001b[0m \u001b[1m8s\u001b[0m 4ms/step - accuracy: 0.7474 - loss: 0.6935 - val_accuracy: 0.8508 - val_loss: 0.4142\n",
      "Epoch 2/10\n",
      "\u001b[1m1500/1500\u001b[0m \u001b[32m━━━━━━━━━━━━━━━━━━━━\u001b[0m\u001b[37m\u001b[0m \u001b[1m5s\u001b[0m 4ms/step - accuracy: 0.8552 - loss: 0.3913 - val_accuracy: 0.8658 - val_loss: 0.3716\n",
      "Epoch 3/10\n",
      "\u001b[1m1500/1500\u001b[0m \u001b[32m━━━━━━━━━━━━━━━━━━━━\u001b[0m\u001b[37m\u001b[0m \u001b[1m6s\u001b[0m 4ms/step - accuracy: 0.8692 - loss: 0.3556 - val_accuracy: 0.8747 - val_loss: 0.3480\n",
      "Epoch 4/10\n",
      "\u001b[1m1500/1500\u001b[0m \u001b[32m━━━━━━━━━━━━━━━━━━━━\u001b[0m\u001b[37m\u001b[0m \u001b[1m5s\u001b[0m 4ms/step - accuracy: 0.8804 - loss: 0.3271 - val_accuracy: 0.8574 - val_loss: 0.3825\n",
      "Epoch 5/10\n",
      "\u001b[1m1500/1500\u001b[0m \u001b[32m━━━━━━━━━━━━━━━━━━━━\u001b[0m\u001b[37m\u001b[0m \u001b[1m5s\u001b[0m 4ms/step - accuracy: 0.8846 - loss: 0.3042 - val_accuracy: 0.8788 - val_loss: 0.3445\n",
      "Epoch 6/10\n",
      "\u001b[1m1500/1500\u001b[0m \u001b[32m━━━━━━━━━━━━━━━━━━━━\u001b[0m\u001b[37m\u001b[0m \u001b[1m6s\u001b[0m 4ms/step - accuracy: 0.8885 - loss: 0.2944 - val_accuracy: 0.8697 - val_loss: 0.3664\n",
      "Epoch 7/10\n",
      "\u001b[1m1500/1500\u001b[0m \u001b[32m━━━━━━━━━━━━━━━━━━━━\u001b[0m\u001b[37m\u001b[0m \u001b[1m6s\u001b[0m 4ms/step - accuracy: 0.8910 - loss: 0.2894 - val_accuracy: 0.8788 - val_loss: 0.3418\n",
      "Epoch 8/10\n",
      "\u001b[1m1500/1500\u001b[0m \u001b[32m━━━━━━━━━━━━━━━━━━━━\u001b[0m\u001b[37m\u001b[0m \u001b[1m6s\u001b[0m 4ms/step - accuracy: 0.8973 - loss: 0.2748 - val_accuracy: 0.8832 - val_loss: 0.3318\n",
      "Epoch 9/10\n",
      "\u001b[1m1500/1500\u001b[0m \u001b[32m━━━━━━━━━━━━━━━━━━━━\u001b[0m\u001b[37m\u001b[0m \u001b[1m6s\u001b[0m 4ms/step - accuracy: 0.9013 - loss: 0.2599 - val_accuracy: 0.8857 - val_loss: 0.3225\n",
      "Epoch 10/10\n",
      "\u001b[1m1500/1500\u001b[0m \u001b[32m━━━━━━━━━━━━━━━━━━━━\u001b[0m\u001b[37m\u001b[0m \u001b[1m10s\u001b[0m 3ms/step - accuracy: 0.9040 - loss: 0.2525 - val_accuracy: 0.8851 - val_loss: 0.3225\n",
      "\n",
      "Time to run using leaky relu: 0:01:02.760386\n"
     ]
    }
   ],
   "source": [
    "# Entrenamiento \n",
    "start = datetime.datetime.now()\n",
    "history_fm_lrelu = model_fm_lrelu.fit(train_images,\n",
    "                                      train_labels,\n",
    "                                      validation_split=0.2,\n",
    "                                      epochs=10)\n",
    "\n",
    "history_fm_lrelu = history_fm_lrelu.history\n",
    "# medimos el tiempo de ejecución\n",
    "time_fm_lrelu = datetime.datetime.now() - start\n",
    "print(f\"\\nTime to run using leaky relu: {time_fm_lrelu}\")"
   ]
  },
  {
   "cell_type": "code",
   "execution_count": 45,
   "id": "fb839f13",
   "metadata": {},
   "outputs": [
    {
     "data": {
      "image/png": "[encoded data removed]",
      "text/plain": [
       "<Figure size 720x576 with 1 Axes>"
      ]
     },
     "metadata": {
      "needs_background": "light"
     },
     "output_type": "display_data"
    }
   ],
   "source": [
    "plot_accuracy_loss(history_fm_lrelu, name=\"Leaky ReLU AF\")"
   ]
  },
  {
   "cell_type": "code",
   "execution_count": 46,
   "id": "1bc62508",
   "metadata": {},
   "outputs": [
    {
     "name": "stdout",
     "output_type": "stream",
     "text": [
      "\u001b[1m313/313\u001b[0m \u001b[32m━━━━━━━━━━━━━━━━━━━━\u001b[0m\u001b[37m\u001b[0m \u001b[1m1s\u001b[0m 2ms/step - accuracy: 0.8789 - loss: 0.3430\n"
     ]
    }
   ],
   "source": [
    "# Métricas de testeo\n",
    "loss_acc_lrelu_test = model_fm_lrelu.evaluate(x=test_images, y=test_labels)"
   ]
  },
  {
   "cell_type": "code",
   "execution_count": 47,
   "id": "c214f700",
   "metadata": {},
   "outputs": [
    {
     "name": "stdout",
     "output_type": "stream",
     "text": [
      "\u001b[1m1875/1875\u001b[0m \u001b[32m━━━━━━━━━━━━━━━━━━━━\u001b[0m\u001b[37m\u001b[0m \u001b[1m3s\u001b[0m 2ms/step - accuracy: 0.9091 - loss: 0.2373\n"
     ]
    }
   ],
   "source": [
    "# Métricas de entrenamiento\n",
    "loss_acc_lrelu_train = model_fm_lrelu.evaluate(x=train_images, y=train_labels)"
   ]
  },
  {
   "cell_type": "markdown",
   "id": "81b272c3",
   "metadata": {},
   "source": [
    "### ELU\n",
    "El estudio de las funciones de activación es un campo bastante activo, entre las últimas propuestas tenemos ELU, Exponential Linear Units, definida como:\n",
    "\n",
    "\\begin{eqnarray}\n",
    "    \\text{ELU}(x) = \\left\\{ \\begin{array}{lcc} \n",
    "                                                      \\alpha(e^x-1) & si & x < 0 \\\\\n",
    "                                                      x  & si & x \\geq 0     \\\\\n",
    "                                   \\end{array}\n",
    "                           \\right.\n",
    "\\end{eqnarray}\n",
    "\n",
    "Por lo cual su derivada es:\n",
    "\n",
    "\\begin{equation}\n",
    " \\frac{d\\text{ReLU}}{dx} = \\left\\{ \\begin{array}{lcc} \n",
    "                                                      \\alpha e^x & si & x < 0 \\\\\n",
    "                                                      1 & si & x \\geq 0     \\\\\n",
    "                                   \\end{array}\n",
    "                           \\right.\n",
    "\\end{equation}\n",
    "\n",
    "donde $\\alpha$ es un parámetro que se suele establecer igual $1$.\n",
    "\n",
    "graficamente tenemos"
   ]
  },
  {
   "cell_type": "code",
   "execution_count": 48,
   "id": "c501fd49",
   "metadata": {},
   "outputs": [
    {
     "data": {
      "image/png": "[encoded data removed]",
      "text/plain": [
       "<Figure size 720x360 with 2 Axes>"
      ]
     },
     "metadata": {
      "needs_background": "light"
     },
     "output_type": "display_data"
    }
   ],
   "source": [
    "# derivada\n",
    "x = np.linspace(-5, 5, 100)\n",
    "\n",
    "alpha = 1\n",
    "def d_elu(x, alpha=alpha):\n",
    "    if x<0:\n",
    "        return alpha*np.exp(x)\n",
    "    return 1\n",
    "\n",
    "d_elu = np.vectorize(d_elu)\n",
    "\n",
    "plot_af(x,\n",
    "        af=keras.activations.elu,\n",
    "        daf=d_elu,\n",
    "        af_ylabel=f\"ELU$(x)$\",\n",
    "        daf_ylabel=f\"$d$ELU$/dx$\", **{\"alpha\":alpha})"
   ]
  },
  {
   "cell_type": "markdown",
   "id": "7ffa8c7e",
   "metadata": {},
   "source": [
    "Al igual que Leaky ReLU, ELU viene a solventar algunos de los problemas de ReLU como lo son las neuronas muertas. A diferencia de Leaky ReLu, ELU es más suave por lo que su derivadda  también tiende a serlo permitiendo un mejor entrenamiento en capas ocultas. Aún así, ELU es computacionalmente más costosa por la presencia del exponencial. "
   ]
  },
  {
   "cell_type": "code",
   "execution_count": 49,
   "id": "03e313f9",
   "metadata": {},
   "outputs": [
    {
     "data": {
      "text/plain": [
       "array([ 0.97627008,  4.30378733,  2.05526752,  0.89766366, -1.52690401,\n",
       "        2.91788226, -1.24825577,  7.83546002,  9.27325521, -2.33116962])"
      ]
     },
     "execution_count": 49,
     "metadata": {},
     "output_type": "execute_result"
    }
   ],
   "source": [
    "xp"
   ]
  },
  {
   "cell_type": "code",
   "execution_count": 50,
   "id": "aecdffc9",
   "metadata": {},
   "outputs": [
    {
     "data": {
      "text/plain": [
       "<tf.Tensor: shape=(10,), dtype=float64, numpy=\n",
       "array([ 0.97627008,  4.30378733,  2.05526752,  0.89766366, -0.7827929 ,\n",
       "        2.91788226, -0.71299504,  7.83546002,  9.27325521, -0.90281799])>"
      ]
     },
     "execution_count": 50,
     "metadata": {},
     "output_type": "execute_result"
    }
   ],
   "source": [
    "keras.activations.elu(xp)"
   ]
  },
  {
   "cell_type": "code",
   "execution_count": 51,
   "id": "e0746612",
   "metadata": {},
   "outputs": [
    {
     "data": {
      "text/html": [
       "<pre style=\"white-space:pre;overflow-x:auto;line-height:normal;font-family:Menlo,'DejaVu Sans Mono',consolas,'Courier New',monospace\"><span style=\"font-weight: bold\">Model: \"fashionmn_af_elu\"</span>\n",
       "</pre>\n"
      ],
      "text/plain": [
       "\u001b[1mModel: \"fashionmn_af_elu\"\u001b[0m\n"
      ]
     },
     "metadata": {},
     "output_type": "display_data"
    },
    {
     "data": {
      "text/html": [
       "<pre style=\"white-space:pre;overflow-x:auto;line-height:normal;font-family:Menlo,'DejaVu Sans Mono',consolas,'Courier New',monospace\">┏━━━━━━━━━━━━━━━━━━━━━━━━━━━━━━━━━┳━━━━━━━━━━━━━━━━━━━━━━━━┳━━━━━━━━━━━━━━━┓\n",
       "┃<span style=\"font-weight: bold\"> Layer (type)                    </span>┃<span style=\"font-weight: bold\"> Output Shape           </span>┃<span style=\"font-weight: bold\">       Param # </span>┃\n",
       "┡━━━━━━━━━━━━━━━━━━━━━━━━━━━━━━━━━╇━━━━━━━━━━━━━━━━━━━━━━━━╇━━━━━━━━━━━━━━━┩\n",
       "│ Flatten (<span style=\"color: #0087ff; text-decoration-color: #0087ff\">Flatten</span>)               │ (<span style=\"color: #00d7ff; text-decoration-color: #00d7ff\">None</span>, <span style=\"color: #00af00; text-decoration-color: #00af00\">784</span>)            │             <span style=\"color: #00af00; text-decoration-color: #00af00\">0</span> │\n",
       "├─────────────────────────────────┼────────────────────────┼───────────────┤\n",
       "│ layer_1 (<span style=\"color: #0087ff; text-decoration-color: #0087ff\">Dense</span>)                 │ (<span style=\"color: #00d7ff; text-decoration-color: #00d7ff\">None</span>, <span style=\"color: #00af00; text-decoration-color: #00af00\">80</span>)             │        <span style=\"color: #00af00; text-decoration-color: #00af00\">62,800</span> │\n",
       "├─────────────────────────────────┼────────────────────────┼───────────────┤\n",
       "│ layer_2 (<span style=\"color: #0087ff; text-decoration-color: #0087ff\">Dense</span>)                 │ (<span style=\"color: #00d7ff; text-decoration-color: #00d7ff\">None</span>, <span style=\"color: #00af00; text-decoration-color: #00af00\">90</span>)             │         <span style=\"color: #00af00; text-decoration-color: #00af00\">7,290</span> │\n",
       "├─────────────────────────────────┼────────────────────────┼───────────────┤\n",
       "│ layer_3 (<span style=\"color: #0087ff; text-decoration-color: #0087ff\">Dense</span>)                 │ (<span style=\"color: #00d7ff; text-decoration-color: #00d7ff\">None</span>, <span style=\"color: #00af00; text-decoration-color: #00af00\">80</span>)             │         <span style=\"color: #00af00; text-decoration-color: #00af00\">7,280</span> │\n",
       "├─────────────────────────────────┼────────────────────────┼───────────────┤\n",
       "│ layer_4 (<span style=\"color: #0087ff; text-decoration-color: #0087ff\">Dense</span>)                 │ (<span style=\"color: #00d7ff; text-decoration-color: #00d7ff\">None</span>, <span style=\"color: #00af00; text-decoration-color: #00af00\">80</span>)             │         <span style=\"color: #00af00; text-decoration-color: #00af00\">6,480</span> │\n",
       "├─────────────────────────────────┼────────────────────────┼───────────────┤\n",
       "│ output (<span style=\"color: #0087ff; text-decoration-color: #0087ff\">Dense</span>)                  │ (<span style=\"color: #00d7ff; text-decoration-color: #00d7ff\">None</span>, <span style=\"color: #00af00; text-decoration-color: #00af00\">10</span>)             │           <span style=\"color: #00af00; text-decoration-color: #00af00\">810</span> │\n",
       "└─────────────────────────────────┴────────────────────────┴───────────────┘\n",
       "</pre>\n"
      ],
      "text/plain": [
       "┏━━━━━━━━━━━━━━━━━━━━━━━━━━━━━━━━━┳━━━━━━━━━━━━━━━━━━━━━━━━┳━━━━━━━━━━━━━━━┓\n",
       "┃\u001b[1m \u001b[0m\u001b[1mLayer (type)                   \u001b[0m\u001b[1m \u001b[0m┃\u001b[1m \u001b[0m\u001b[1mOutput Shape          \u001b[0m\u001b[1m \u001b[0m┃\u001b[1m \u001b[0m\u001b[1m      Param #\u001b[0m\u001b[1m \u001b[0m┃\n",
       "┡━━━━━━━━━━━━━━━━━━━━━━━━━━━━━━━━━╇━━━━━━━━━━━━━━━━━━━━━━━━╇━━━━━━━━━━━━━━━┩\n",
       "│ Flatten (\u001b[38;5;33mFlatten\u001b[0m)               │ (\u001b[38;5;45mNone\u001b[0m, \u001b[38;5;34m784\u001b[0m)            │             \u001b[38;5;34m0\u001b[0m │\n",
       "├─────────────────────────────────┼────────────────────────┼───────────────┤\n",
       "│ layer_1 (\u001b[38;5;33mDense\u001b[0m)                 │ (\u001b[38;5;45mNone\u001b[0m, \u001b[38;5;34m80\u001b[0m)             │        \u001b[38;5;34m62,800\u001b[0m │\n",
       "├─────────────────────────────────┼────────────────────────┼───────────────┤\n",
       "│ layer_2 (\u001b[38;5;33mDense\u001b[0m)                 │ (\u001b[38;5;45mNone\u001b[0m, \u001b[38;5;34m90\u001b[0m)             │         \u001b[38;5;34m7,290\u001b[0m │\n",
       "├─────────────────────────────────┼────────────────────────┼───────────────┤\n",
       "│ layer_3 (\u001b[38;5;33mDense\u001b[0m)                 │ (\u001b[38;5;45mNone\u001b[0m, \u001b[38;5;34m80\u001b[0m)             │         \u001b[38;5;34m7,280\u001b[0m │\n",
       "├─────────────────────────────────┼────────────────────────┼───────────────┤\n",
       "│ layer_4 (\u001b[38;5;33mDense\u001b[0m)                 │ (\u001b[38;5;45mNone\u001b[0m, \u001b[38;5;34m80\u001b[0m)             │         \u001b[38;5;34m6,480\u001b[0m │\n",
       "├─────────────────────────────────┼────────────────────────┼───────────────┤\n",
       "│ output (\u001b[38;5;33mDense\u001b[0m)                  │ (\u001b[38;5;45mNone\u001b[0m, \u001b[38;5;34m10\u001b[0m)             │           \u001b[38;5;34m810\u001b[0m │\n",
       "└─────────────────────────────────┴────────────────────────┴───────────────┘\n"
      ]
     },
     "metadata": {},
     "output_type": "display_data"
    },
    {
     "data": {
      "text/html": [
       "<pre style=\"white-space:pre;overflow-x:auto;line-height:normal;font-family:Menlo,'DejaVu Sans Mono',consolas,'Courier New',monospace\"><span style=\"font-weight: bold\"> Total params: </span><span style=\"color: #00af00; text-decoration-color: #00af00\">84,660</span> (330.70 KB)\n",
       "</pre>\n"
      ],
      "text/plain": [
       "\u001b[1m Total params: \u001b[0m\u001b[38;5;34m84,660\u001b[0m (330.70 KB)\n"
      ]
     },
     "metadata": {},
     "output_type": "display_data"
    },
    {
     "data": {
      "text/html": [
       "<pre style=\"white-space:pre;overflow-x:auto;line-height:normal;font-family:Menlo,'DejaVu Sans Mono',consolas,'Courier New',monospace\"><span style=\"font-weight: bold\"> Trainable params: </span><span style=\"color: #00af00; text-decoration-color: #00af00\">84,660</span> (330.70 KB)\n",
       "</pre>\n"
      ],
      "text/plain": [
       "\u001b[1m Trainable params: \u001b[0m\u001b[38;5;34m84,660\u001b[0m (330.70 KB)\n"
      ]
     },
     "metadata": {},
     "output_type": "display_data"
    },
    {
     "data": {
      "text/html": [
       "<pre style=\"white-space:pre;overflow-x:auto;line-height:normal;font-family:Menlo,'DejaVu Sans Mono',consolas,'Courier New',monospace\"><span style=\"font-weight: bold\"> Non-trainable params: </span><span style=\"color: #00af00; text-decoration-color: #00af00\">0</span> (0.00 B)\n",
       "</pre>\n"
      ],
      "text/plain": [
       "\u001b[1m Non-trainable params: \u001b[0m\u001b[38;5;34m0\u001b[0m (0.00 B)\n"
      ]
     },
     "metadata": {},
     "output_type": "display_data"
    }
   ],
   "source": [
    "# modelo\n",
    "model_fm_elu = create_model(name=\"fashionmn_af_elu\", \n",
    "                            shape=train_images[0].shape, \n",
    "                            af=\"elu\",\n",
    "                            output_af=\"softmax\")\n",
    "\n",
    "# compilación\n",
    "opt  = keras.optimizers.Adam(learning_rate=0.001)\n",
    "loss = keras.losses.SparseCategoricalCrossentropy()\n",
    "\n",
    "model_fm_elu.compile(optimizer=opt,\n",
    "                     loss=loss,\n",
    "                     metrics=[\"accuracy\"])\n",
    "\n",
    "model_fm_elu.summary()"
   ]
  },
  {
   "cell_type": "code",
   "execution_count": 52,
   "id": "1dac57a6",
   "metadata": {},
   "outputs": [
    {
     "name": "stdout",
     "output_type": "stream",
     "text": [
      "Epoch 1/10\n",
      "\u001b[1m1500/1500\u001b[0m \u001b[32m━━━━━━━━━━━━━━━━━━━━\u001b[0m\u001b[37m\u001b[0m \u001b[1m7s\u001b[0m 3ms/step - accuracy: 0.7713 - loss: 0.6349 - val_accuracy: 0.8359 - val_loss: 0.4414\n",
      "Epoch 2/10\n",
      "\u001b[1m1500/1500\u001b[0m \u001b[32m━━━━━━━━━━━━━━━━━━━━\u001b[0m\u001b[37m\u001b[0m \u001b[1m5s\u001b[0m 3ms/step - accuracy: 0.8545 - loss: 0.3941 - val_accuracy: 0.8623 - val_loss: 0.3708\n",
      "Epoch 3/10\n",
      "\u001b[1m1500/1500\u001b[0m \u001b[32m━━━━━━━━━━━━━━━━━━━━\u001b[0m\u001b[37m\u001b[0m \u001b[1m5s\u001b[0m 3ms/step - accuracy: 0.8656 - loss: 0.3550 - val_accuracy: 0.8692 - val_loss: 0.3628\n",
      "Epoch 4/10\n",
      "\u001b[1m1500/1500\u001b[0m \u001b[32m━━━━━━━━━━━━━━━━━━━━\u001b[0m\u001b[37m\u001b[0m \u001b[1m5s\u001b[0m 4ms/step - accuracy: 0.8783 - loss: 0.3259 - val_accuracy: 0.8698 - val_loss: 0.3547\n",
      "Epoch 5/10\n",
      "\u001b[1m1500/1500\u001b[0m \u001b[32m━━━━━━━━━━━━━━━━━━━━\u001b[0m\u001b[37m\u001b[0m \u001b[1m5s\u001b[0m 3ms/step - accuracy: 0.8863 - loss: 0.3028 - val_accuracy: 0.8821 - val_loss: 0.3253\n",
      "Epoch 6/10\n",
      "\u001b[1m1500/1500\u001b[0m \u001b[32m━━━━━━━━━━━━━━━━━━━━\u001b[0m\u001b[37m\u001b[0m \u001b[1m5s\u001b[0m 4ms/step - accuracy: 0.8905 - loss: 0.2902 - val_accuracy: 0.8821 - val_loss: 0.3309\n",
      "Epoch 7/10\n",
      "\u001b[1m1500/1500\u001b[0m \u001b[32m━━━━━━━━━━━━━━━━━━━━\u001b[0m\u001b[37m\u001b[0m \u001b[1m10s\u001b[0m 3ms/step - accuracy: 0.8970 - loss: 0.2734 - val_accuracy: 0.8807 - val_loss: 0.3408\n",
      "Epoch 8/10\n",
      "\u001b[1m1500/1500\u001b[0m \u001b[32m━━━━━━━━━━━━━━━━━━━━\u001b[0m\u001b[37m\u001b[0m \u001b[1m5s\u001b[0m 4ms/step - accuracy: 0.9003 - loss: 0.2643 - val_accuracy: 0.8858 - val_loss: 0.3208\n",
      "Epoch 9/10\n",
      "\u001b[1m1500/1500\u001b[0m \u001b[32m━━━━━━━━━━━━━━━━━━━━\u001b[0m\u001b[37m\u001b[0m \u001b[1m6s\u001b[0m 4ms/step - accuracy: 0.9055 - loss: 0.2484 - val_accuracy: 0.8844 - val_loss: 0.3420\n",
      "Epoch 10/10\n",
      "\u001b[1m1500/1500\u001b[0m \u001b[32m━━━━━━━━━━━━━━━━━━━━\u001b[0m\u001b[37m\u001b[0m \u001b[1m5s\u001b[0m 4ms/step - accuracy: 0.9096 - loss: 0.2374 - val_accuracy: 0.8876 - val_loss: 0.3243\n",
      "\n",
      "Time to run using leaky elu: 0:00:59.525834\n"
     ]
    }
   ],
   "source": [
    "# Entrenamiento \n",
    "start = datetime.datetime.now()\n",
    "history_fm_elu = model_fm_elu.fit(train_images,\n",
    "                                  train_labels,\n",
    "                                  validation_split=0.2,\n",
    "                                  epochs=10)\n",
    "\n",
    "history_fm_elu = history_fm_elu.history\n",
    "\n",
    "# medimos el tiempo de ejecución\n",
    "time_fm_elu = datetime.datetime.now() - start\n",
    "print(f\"\\nTime to run using leaky elu: {time_fm_elu}\")"
   ]
  },
  {
   "cell_type": "code",
   "execution_count": 53,
   "id": "4d3d8f93",
   "metadata": {},
   "outputs": [
    {
     "data": {
      "image/png": "[encoded data removed]",
      "text/plain": [
       "<Figure size 720x576 with 1 Axes>"
      ]
     },
     "metadata": {
      "needs_background": "light"
     },
     "output_type": "display_data"
    }
   ],
   "source": [
    "plot_accuracy_loss(history_fm_elu, name=\"ELU AF\")"
   ]
  },
  {
   "cell_type": "code",
   "execution_count": 54,
   "id": "0f60993d",
   "metadata": {},
   "outputs": [
    {
     "name": "stdout",
     "output_type": "stream",
     "text": [
      "\u001b[1m313/313\u001b[0m \u001b[32m━━━━━━━━━━━━━━━━━━━━\u001b[0m\u001b[37m\u001b[0m \u001b[1m1s\u001b[0m 2ms/step - accuracy: 0.8763 - loss: 0.3578\n"
     ]
    }
   ],
   "source": [
    "# Métricas de testeo\n",
    "loss_acc_elu_test = model_fm_elu.evaluate(x=test_images, y=test_labels)"
   ]
  },
  {
   "cell_type": "code",
   "execution_count": 55,
   "id": "b425ac84",
   "metadata": {},
   "outputs": [
    {
     "name": "stdout",
     "output_type": "stream",
     "text": [
      "\u001b[1m1875/1875\u001b[0m \u001b[32m━━━━━━━━━━━━━━━━━━━━\u001b[0m\u001b[37m\u001b[0m \u001b[1m3s\u001b[0m 2ms/step - accuracy: 0.9119 - loss: 0.2250\n"
     ]
    }
   ],
   "source": [
    "# Métricas de entrenamiento\n",
    "loss_acc_elu_train = model_fm_elu.evaluate(x=train_images, y=train_labels)"
   ]
  },
  {
   "cell_type": "markdown",
   "id": "63eff2ba",
   "metadata": {},
   "source": [
    "### GELU\n",
    "Finalmente vemos la función de activación [GELU](https://arxiv.org/pdf/1606.08415), esá definida como:\n",
    "\n",
    "\\begin{eqnarray}\n",
    "    \\text{ELU}(x) = \\frac{x}{2}\\left[ 1 + \\text{erf}(x/\\sqrt{2}) \\right]\n",
    "\\end{eqnarray}\n",
    "\n",
    "Por lo cual su derivada es:\n",
    "\n",
    "\\begin{equation}\n",
    " \\frac{d\\text{ELU}}{dx} = \\frac{1}{2}\\left[ 1 + \\text{erf}(x/\\sqrt{2}) \\right] + \\frac{x}{\\sqrt{2\\pi}}e^{-x^2/2}\n",
    "\\end{equation}\n",
    "\n",
    "graficamente tenemos"
   ]
  },
  {
   "cell_type": "code",
   "execution_count": 56,
   "id": "091cb957",
   "metadata": {},
   "outputs": [
    {
     "data": {
      "image/png": "[encoded data removed]",
      "text/plain": [
       "<Figure size 720x360 with 2 Axes>"
      ]
     },
     "metadata": {
      "needs_background": "light"
     },
     "output_type": "display_data"
    }
   ],
   "source": [
    "# derivada\n",
    "from scipy.special import erf\n",
    "\n",
    "x = np.linspace(-5, 5, 100)\n",
    "\n",
    "def d_gelu(x):\n",
    "    return 0.5*(1+erf(x/np.sqrt(2))) + x*np.exp(-x**2/2)/np.sqrt(2*np.pi)\n",
    "\n",
    "d_gelu = np.vectorize(d_gelu)\n",
    "\n",
    "plot_af(x,\n",
    "        af=keras.activations.gelu,\n",
    "        daf=d_gelu,\n",
    "        af_ylabel=f\"GELU$(x)$\",\n",
    "        daf_ylabel=f\"$d$GELU$/dx$\")"
   ]
  },
  {
   "cell_type": "markdown",
   "id": "31541476",
   "metadata": {},
   "source": [
    "Una característica que claramente distingue a GELU de las otras funciones de activación es que no es monótona. Al no serlo, GELU puede capturar relaciones no lineales más complejas entre las características de entrada y la salida de la red neuronal. Esto significa que puede adaptarse mejor a la complejidad de los datos, lo que potencialmente puede llevar a un mejor rendimiento del modelo.\n",
    "Además, su falta de monotonía permite que la función de activación capture relaciones no lineales más complejas en los datos, lo que lleva a un mejor rendimiento del modelo y una mejor capacidad para modelar la variabilidad de los datos del mundo real.\n",
    "\n",
    "UNa gran desventaja de esta función de activación es que es muy costosa computacionalmente devido a la presencia de la función de error que es bastante compleja de calcular. "
   ]
  },
  {
   "cell_type": "code",
   "execution_count": 57,
   "id": "ef5e22f0",
   "metadata": {},
   "outputs": [
    {
     "data": {
      "text/plain": [
       "array([ 0.97627008,  4.30378733,  2.05526752,  0.89766366, -1.52690401,\n",
       "        2.91788226, -1.24825577,  7.83546002,  9.27325521, -2.33116962])"
      ]
     },
     "execution_count": 57,
     "metadata": {},
     "output_type": "execute_result"
    }
   ],
   "source": [
    "xp"
   ]
  },
  {
   "cell_type": "code",
   "execution_count": 58,
   "id": "90814540",
   "metadata": {},
   "outputs": [
    {
     "data": {
      "text/plain": [
       "<tf.Tensor: shape=(10,), dtype=float64, numpy=\n",
       "array([ 0.81570751,  4.3037512 ,  2.01431306,  0.73188094, -0.09679417,\n",
       "        2.9127407 , -0.13227604,  7.83546002,  9.27325521, -0.02301379])>"
      ]
     },
     "execution_count": 58,
     "metadata": {},
     "output_type": "execute_result"
    }
   ],
   "source": [
    "keras.activations.gelu(xp)"
   ]
  },
  {
   "cell_type": "code",
   "execution_count": 59,
   "id": "69daed3f",
   "metadata": {},
   "outputs": [
    {
     "data": {
      "text/html": [
       "<pre style=\"white-space:pre;overflow-x:auto;line-height:normal;font-family:Menlo,'DejaVu Sans Mono',consolas,'Courier New',monospace\"><span style=\"font-weight: bold\">Model: \"fashionmn_af_gelu\"</span>\n",
       "</pre>\n"
      ],
      "text/plain": [
       "\u001b[1mModel: \"fashionmn_af_gelu\"\u001b[0m\n"
      ]
     },
     "metadata": {},
     "output_type": "display_data"
    },
    {
     "data": {
      "text/html": [
       "<pre style=\"white-space:pre;overflow-x:auto;line-height:normal;font-family:Menlo,'DejaVu Sans Mono',consolas,'Courier New',monospace\">┏━━━━━━━━━━━━━━━━━━━━━━━━━━━━━━━━━┳━━━━━━━━━━━━━━━━━━━━━━━━┳━━━━━━━━━━━━━━━┓\n",
       "┃<span style=\"font-weight: bold\"> Layer (type)                    </span>┃<span style=\"font-weight: bold\"> Output Shape           </span>┃<span style=\"font-weight: bold\">       Param # </span>┃\n",
       "┡━━━━━━━━━━━━━━━━━━━━━━━━━━━━━━━━━╇━━━━━━━━━━━━━━━━━━━━━━━━╇━━━━━━━━━━━━━━━┩\n",
       "│ Flatten (<span style=\"color: #0087ff; text-decoration-color: #0087ff\">Flatten</span>)               │ (<span style=\"color: #00d7ff; text-decoration-color: #00d7ff\">None</span>, <span style=\"color: #00af00; text-decoration-color: #00af00\">784</span>)            │             <span style=\"color: #00af00; text-decoration-color: #00af00\">0</span> │\n",
       "├─────────────────────────────────┼────────────────────────┼───────────────┤\n",
       "│ layer_1 (<span style=\"color: #0087ff; text-decoration-color: #0087ff\">Dense</span>)                 │ (<span style=\"color: #00d7ff; text-decoration-color: #00d7ff\">None</span>, <span style=\"color: #00af00; text-decoration-color: #00af00\">80</span>)             │        <span style=\"color: #00af00; text-decoration-color: #00af00\">62,800</span> │\n",
       "├─────────────────────────────────┼────────────────────────┼───────────────┤\n",
       "│ layer_2 (<span style=\"color: #0087ff; text-decoration-color: #0087ff\">Dense</span>)                 │ (<span style=\"color: #00d7ff; text-decoration-color: #00d7ff\">None</span>, <span style=\"color: #00af00; text-decoration-color: #00af00\">90</span>)             │         <span style=\"color: #00af00; text-decoration-color: #00af00\">7,290</span> │\n",
       "├─────────────────────────────────┼────────────────────────┼───────────────┤\n",
       "│ layer_3 (<span style=\"color: #0087ff; text-decoration-color: #0087ff\">Dense</span>)                 │ (<span style=\"color: #00d7ff; text-decoration-color: #00d7ff\">None</span>, <span style=\"color: #00af00; text-decoration-color: #00af00\">80</span>)             │         <span style=\"color: #00af00; text-decoration-color: #00af00\">7,280</span> │\n",
       "├─────────────────────────────────┼────────────────────────┼───────────────┤\n",
       "│ layer_4 (<span style=\"color: #0087ff; text-decoration-color: #0087ff\">Dense</span>)                 │ (<span style=\"color: #00d7ff; text-decoration-color: #00d7ff\">None</span>, <span style=\"color: #00af00; text-decoration-color: #00af00\">80</span>)             │         <span style=\"color: #00af00; text-decoration-color: #00af00\">6,480</span> │\n",
       "├─────────────────────────────────┼────────────────────────┼───────────────┤\n",
       "│ output (<span style=\"color: #0087ff; text-decoration-color: #0087ff\">Dense</span>)                  │ (<span style=\"color: #00d7ff; text-decoration-color: #00d7ff\">None</span>, <span style=\"color: #00af00; text-decoration-color: #00af00\">10</span>)             │           <span style=\"color: #00af00; text-decoration-color: #00af00\">810</span> │\n",
       "└─────────────────────────────────┴────────────────────────┴───────────────┘\n",
       "</pre>\n"
      ],
      "text/plain": [
       "┏━━━━━━━━━━━━━━━━━━━━━━━━━━━━━━━━━┳━━━━━━━━━━━━━━━━━━━━━━━━┳━━━━━━━━━━━━━━━┓\n",
       "┃\u001b[1m \u001b[0m\u001b[1mLayer (type)                   \u001b[0m\u001b[1m \u001b[0m┃\u001b[1m \u001b[0m\u001b[1mOutput Shape          \u001b[0m\u001b[1m \u001b[0m┃\u001b[1m \u001b[0m\u001b[1m      Param #\u001b[0m\u001b[1m \u001b[0m┃\n",
       "┡━━━━━━━━━━━━━━━━━━━━━━━━━━━━━━━━━╇━━━━━━━━━━━━━━━━━━━━━━━━╇━━━━━━━━━━━━━━━┩\n",
       "│ Flatten (\u001b[38;5;33mFlatten\u001b[0m)               │ (\u001b[38;5;45mNone\u001b[0m, \u001b[38;5;34m784\u001b[0m)            │             \u001b[38;5;34m0\u001b[0m │\n",
       "├─────────────────────────────────┼────────────────────────┼───────────────┤\n",
       "│ layer_1 (\u001b[38;5;33mDense\u001b[0m)                 │ (\u001b[38;5;45mNone\u001b[0m, \u001b[38;5;34m80\u001b[0m)             │        \u001b[38;5;34m62,800\u001b[0m │\n",
       "├─────────────────────────────────┼────────────────────────┼───────────────┤\n",
       "│ layer_2 (\u001b[38;5;33mDense\u001b[0m)                 │ (\u001b[38;5;45mNone\u001b[0m, \u001b[38;5;34m90\u001b[0m)             │         \u001b[38;5;34m7,290\u001b[0m │\n",
       "├─────────────────────────────────┼────────────────────────┼───────────────┤\n",
       "│ layer_3 (\u001b[38;5;33mDense\u001b[0m)                 │ (\u001b[38;5;45mNone\u001b[0m, \u001b[38;5;34m80\u001b[0m)             │         \u001b[38;5;34m7,280\u001b[0m │\n",
       "├─────────────────────────────────┼────────────────────────┼───────────────┤\n",
       "│ layer_4 (\u001b[38;5;33mDense\u001b[0m)                 │ (\u001b[38;5;45mNone\u001b[0m, \u001b[38;5;34m80\u001b[0m)             │         \u001b[38;5;34m6,480\u001b[0m │\n",
       "├─────────────────────────────────┼────────────────────────┼───────────────┤\n",
       "│ output (\u001b[38;5;33mDense\u001b[0m)                  │ (\u001b[38;5;45mNone\u001b[0m, \u001b[38;5;34m10\u001b[0m)             │           \u001b[38;5;34m810\u001b[0m │\n",
       "└─────────────────────────────────┴────────────────────────┴───────────────┘\n"
      ]
     },
     "metadata": {},
     "output_type": "display_data"
    },
    {
     "data": {
      "text/html": [
       "<pre style=\"white-space:pre;overflow-x:auto;line-height:normal;font-family:Menlo,'DejaVu Sans Mono',consolas,'Courier New',monospace\"><span style=\"font-weight: bold\"> Total params: </span><span style=\"color: #00af00; text-decoration-color: #00af00\">84,660</span> (330.70 KB)\n",
       "</pre>\n"
      ],
      "text/plain": [
       "\u001b[1m Total params: \u001b[0m\u001b[38;5;34m84,660\u001b[0m (330.70 KB)\n"
      ]
     },
     "metadata": {},
     "output_type": "display_data"
    },
    {
     "data": {
      "text/html": [
       "<pre style=\"white-space:pre;overflow-x:auto;line-height:normal;font-family:Menlo,'DejaVu Sans Mono',consolas,'Courier New',monospace\"><span style=\"font-weight: bold\"> Trainable params: </span><span style=\"color: #00af00; text-decoration-color: #00af00\">84,660</span> (330.70 KB)\n",
       "</pre>\n"
      ],
      "text/plain": [
       "\u001b[1m Trainable params: \u001b[0m\u001b[38;5;34m84,660\u001b[0m (330.70 KB)\n"
      ]
     },
     "metadata": {},
     "output_type": "display_data"
    },
    {
     "data": {
      "text/html": [
       "<pre style=\"white-space:pre;overflow-x:auto;line-height:normal;font-family:Menlo,'DejaVu Sans Mono',consolas,'Courier New',monospace\"><span style=\"font-weight: bold\"> Non-trainable params: </span><span style=\"color: #00af00; text-decoration-color: #00af00\">0</span> (0.00 B)\n",
       "</pre>\n"
      ],
      "text/plain": [
       "\u001b[1m Non-trainable params: \u001b[0m\u001b[38;5;34m0\u001b[0m (0.00 B)\n"
      ]
     },
     "metadata": {},
     "output_type": "display_data"
    }
   ],
   "source": [
    "# modelo\n",
    "model_fm_gelu = create_model(name=\"fashionmn_af_gelu\", \n",
    "                             shape=train_images[0].shape, \n",
    "                             af=\"gelu\",\n",
    "                             output_af=\"softmax\")\n",
    "\n",
    "# compilación\n",
    "opt  = keras.optimizers.Adam(learning_rate=0.001)\n",
    "loss = keras.losses.SparseCategoricalCrossentropy()\n",
    "\n",
    "model_fm_gelu.compile(optimizer=opt,\n",
    "                      loss=loss,\n",
    "                      metrics=[\"accuracy\"])\n",
    "\n",
    "model_fm_gelu.summary()"
   ]
  },
  {
   "cell_type": "code",
   "execution_count": 60,
   "id": "131d004f",
   "metadata": {},
   "outputs": [
    {
     "name": "stdout",
     "output_type": "stream",
     "text": [
      "Epoch 1/10\n",
      "\u001b[1m1500/1500\u001b[0m \u001b[32m━━━━━━━━━━━━━━━━━━━━\u001b[0m\u001b[37m\u001b[0m \u001b[1m7s\u001b[0m 4ms/step - accuracy: 0.7562 - loss: 0.6787 - val_accuracy: 0.8555 - val_loss: 0.3906\n",
      "Epoch 2/10\n",
      "\u001b[1m1500/1500\u001b[0m \u001b[32m━━━━━━━━━━━━━━━━━━━━\u001b[0m\u001b[37m\u001b[0m \u001b[1m6s\u001b[0m 4ms/step - accuracy: 0.8648 - loss: 0.3677 - val_accuracy: 0.8722 - val_loss: 0.3459\n",
      "Epoch 3/10\n",
      "\u001b[1m1500/1500\u001b[0m \u001b[32m━━━━━━━━━━━━━━━━━━━━\u001b[0m\u001b[37m\u001b[0m \u001b[1m6s\u001b[0m 4ms/step - accuracy: 0.8789 - loss: 0.3242 - val_accuracy: 0.8788 - val_loss: 0.3402\n",
      "Epoch 4/10\n",
      "\u001b[1m1500/1500\u001b[0m \u001b[32m━━━━━━━━━━━━━━━━━━━━\u001b[0m\u001b[37m\u001b[0m \u001b[1m6s\u001b[0m 4ms/step - accuracy: 0.8881 - loss: 0.3058 - val_accuracy: 0.8720 - val_loss: 0.3447\n",
      "Epoch 5/10\n",
      "\u001b[1m1500/1500\u001b[0m \u001b[32m━━━━━━━━━━━━━━━━━━━━\u001b[0m\u001b[37m\u001b[0m \u001b[1m6s\u001b[0m 4ms/step - accuracy: 0.8912 - loss: 0.2867 - val_accuracy: 0.8782 - val_loss: 0.3388\n",
      "Epoch 6/10\n",
      "\u001b[1m1500/1500\u001b[0m \u001b[32m━━━━━━━━━━━━━━━━━━━━\u001b[0m\u001b[37m\u001b[0m \u001b[1m6s\u001b[0m 4ms/step - accuracy: 0.8971 - loss: 0.2742 - val_accuracy: 0.8825 - val_loss: 0.3192\n",
      "Epoch 7/10\n",
      "\u001b[1m1500/1500\u001b[0m \u001b[32m━━━━━━━━━━━━━━━━━━━━\u001b[0m\u001b[37m\u001b[0m \u001b[1m6s\u001b[0m 4ms/step - accuracy: 0.9049 - loss: 0.2520 - val_accuracy: 0.8788 - val_loss: 0.3432\n",
      "Epoch 8/10\n",
      "\u001b[1m1500/1500\u001b[0m \u001b[32m━━━━━━━━━━━━━━━━━━━━\u001b[0m\u001b[37m\u001b[0m \u001b[1m7s\u001b[0m 4ms/step - accuracy: 0.9080 - loss: 0.2452 - val_accuracy: 0.8767 - val_loss: 0.3443\n",
      "Epoch 9/10\n",
      "\u001b[1m1500/1500\u001b[0m \u001b[32m━━━━━━━━━━━━━━━━━━━━\u001b[0m\u001b[37m\u001b[0m \u001b[1m6s\u001b[0m 4ms/step - accuracy: 0.9105 - loss: 0.2376 - val_accuracy: 0.8802 - val_loss: 0.3461\n",
      "Epoch 10/10\n",
      "\u001b[1m1500/1500\u001b[0m \u001b[32m━━━━━━━━━━━━━━━━━━━━\u001b[0m\u001b[37m\u001b[0m \u001b[1m6s\u001b[0m 4ms/step - accuracy: 0.9148 - loss: 0.2247 - val_accuracy: 0.8844 - val_loss: 0.3309\n",
      "\n",
      "Time to run using gelu: 0:01:00.402997\n"
     ]
    }
   ],
   "source": [
    "# Entrenamiento \n",
    "start = datetime.datetime.now()\n",
    "history_fm_gelu = model_fm_gelu.fit(train_images,\n",
    "                                    train_labels,\n",
    "                                    validation_split=0.2,\n",
    "                                    epochs=10)\n",
    "\n",
    "history_fm_gelu = history_fm_gelu.history\n",
    "\n",
    "# medimos el tiempo de ejecución\n",
    "time_fm_gelu = datetime.datetime.now() - start\n",
    "print(f\"\\nTime to run using gelu: {time_fm_gelu}\")"
   ]
  },
  {
   "cell_type": "code",
   "execution_count": 61,
   "id": "fb142543",
   "metadata": {},
   "outputs": [
    {
     "data": {
      "image/png": "[encoded data removed]",
      "text/plain": [
       "<Figure size 720x576 with 1 Axes>"
      ]
     },
     "metadata": {
      "needs_background": "light"
     },
     "output_type": "display_data"
    }
   ],
   "source": [
    "plot_accuracy_loss(history_fm_gelu, name=\"GELU AF\")"
   ]
  },
  {
   "cell_type": "code",
   "execution_count": 62,
   "id": "52d9e15e",
   "metadata": {},
   "outputs": [
    {
     "name": "stdout",
     "output_type": "stream",
     "text": [
      "\u001b[1m313/313\u001b[0m \u001b[32m━━━━━━━━━━━━━━━━━━━━\u001b[0m\u001b[37m\u001b[0m \u001b[1m1s\u001b[0m 2ms/step - accuracy: 0.8773 - loss: 0.3614\n"
     ]
    }
   ],
   "source": [
    "# Métricas de testeo\n",
    "loss_acc_gelu_test = model_fm_gelu.evaluate(x=test_images, y=test_labels)"
   ]
  },
  {
   "cell_type": "code",
   "execution_count": 63,
   "id": "98d6ffde",
   "metadata": {},
   "outputs": [
    {
     "name": "stdout",
     "output_type": "stream",
     "text": [
      "\u001b[1m1875/1875\u001b[0m \u001b[32m━━━━━━━━━━━━━━━━━━━━\u001b[0m\u001b[37m\u001b[0m \u001b[1m3s\u001b[0m 2ms/step - accuracy: 0.9200 - loss: 0.2083\n"
     ]
    }
   ],
   "source": [
    "# Métricas de entrenamiento\n",
    "loss_acc_gelu_train = model_fm_gelu.evaluate(x=train_images, y=train_labels)"
   ]
  },
  {
   "cell_type": "markdown",
   "id": "3279cf5e",
   "metadata": {},
   "source": [
    "### Comparación entre las funciones de activación\n",
    "Ahora analicemos un poco los resultados obtenidos con cada función de activación."
   ]
  },
  {
   "cell_type": "code",
   "execution_count": 64,
   "id": "53517ee7",
   "metadata": {},
   "outputs": [
    {
     "data": {
      "text/html": [
       "<div>\n",
       "<style scoped>\n",
       "    .dataframe tbody tr th:only-of-type {\n",
       "        vertical-align: middle;\n",
       "    }\n",
       "\n",
       "    .dataframe tbody tr th {\n",
       "        vertical-align: top;\n",
       "    }\n",
       "\n",
       "    .dataframe thead th {\n",
       "        text-align: right;\n",
       "    }\n",
       "</style>\n",
       "<table border=\"1\" class=\"dataframe\">\n",
       "  <thead>\n",
       "    <tr style=\"text-align: right;\">\n",
       "      <th></th>\n",
       "      <th>time</th>\n",
       "      <th>loss_train</th>\n",
       "      <th>accuracy_train</th>\n",
       "      <th>loss_test</th>\n",
       "      <th>accuracy_test</th>\n",
       "    </tr>\n",
       "  </thead>\n",
       "  <tbody>\n",
       "    <tr>\n",
       "      <th>linear</th>\n",
       "      <td>51.170495</td>\n",
       "      <td>0.399775</td>\n",
       "      <td>0.859167</td>\n",
       "      <td>0.457124</td>\n",
       "      <td>0.8396</td>\n",
       "    </tr>\n",
       "    <tr>\n",
       "      <th>sigmoid</th>\n",
       "      <td>56.549113</td>\n",
       "      <td>0.300716</td>\n",
       "      <td>0.886983</td>\n",
       "      <td>0.385081</td>\n",
       "      <td>0.8595</td>\n",
       "    </tr>\n",
       "    <tr>\n",
       "      <th>ReLU</th>\n",
       "      <td>58.849786</td>\n",
       "      <td>0.260326</td>\n",
       "      <td>0.904700</td>\n",
       "      <td>0.367126</td>\n",
       "      <td>0.8722</td>\n",
       "    </tr>\n",
       "    <tr>\n",
       "      <th>ELU</th>\n",
       "      <td>59.525834</td>\n",
       "      <td>0.244338</td>\n",
       "      <td>0.907817</td>\n",
       "      <td>0.356682</td>\n",
       "      <td>0.8775</td>\n",
       "    </tr>\n",
       "    <tr>\n",
       "      <th>GELU</th>\n",
       "      <td>60.402997</td>\n",
       "      <td>0.231751</td>\n",
       "      <td>0.913667</td>\n",
       "      <td>0.358733</td>\n",
       "      <td>0.8789</td>\n",
       "    </tr>\n",
       "    <tr>\n",
       "      <th>tanh</th>\n",
       "      <td>61.629482</td>\n",
       "      <td>0.307756</td>\n",
       "      <td>0.888467</td>\n",
       "      <td>0.412885</td>\n",
       "      <td>0.8629</td>\n",
       "    </tr>\n",
       "    <tr>\n",
       "      <th>Leaky ReLU</th>\n",
       "      <td>62.760386</td>\n",
       "      <td>0.252839</td>\n",
       "      <td>0.905650</td>\n",
       "      <td>0.346081</td>\n",
       "      <td>0.8796</td>\n",
       "    </tr>\n",
       "  </tbody>\n",
       "</table>\n",
       "</div>"
      ],
      "text/plain": [
       "                 time  loss_train  accuracy_train  loss_test  accuracy_test\n",
       "linear      51.170495    0.399775        0.859167   0.457124         0.8396\n",
       "sigmoid     56.549113    0.300716        0.886983   0.385081         0.8595\n",
       "ReLU        58.849786    0.260326        0.904700   0.367126         0.8722\n",
       "ELU         59.525834    0.244338        0.907817   0.356682         0.8775\n",
       "GELU        60.402997    0.231751        0.913667   0.358733         0.8789\n",
       "tanh        61.629482    0.307756        0.888467   0.412885         0.8629\n",
       "Leaky ReLU  62.760386    0.252839        0.905650   0.346081         0.8796"
      ]
     },
     "execution_count": 64,
     "metadata": {},
     "output_type": "execute_result"
    }
   ],
   "source": [
    "af_info = {\"linear\":     [time_fm_linear.total_seconds(), *loss_acc_linear_train, *loss_acc_linear_test],\n",
    "           \"sigmoid\":    [time_fm_sig.total_seconds(),    *loss_acc_sig_train,    *loss_acc_sig_test],\n",
    "           \"tanh\":       [time_fm_tanh.total_seconds(),   *loss_acc_tanh_train,   *loss_acc_tanh_test],\n",
    "           \"ReLU\":       [time_fm_relu.total_seconds(),   *loss_acc_relu_train,   *loss_acc_relu_test],\n",
    "           \"Leaky ReLU\": [time_fm_lrelu.total_seconds(),  *loss_acc_lrelu_train,  *loss_acc_lrelu_test],\n",
    "           \"ELU\":        [time_fm_elu.total_seconds(),    *loss_acc_elu_train,    *loss_acc_elu_test],\n",
    "           \"GELU\":       [time_fm_gelu.total_seconds(),   *loss_acc_gelu_train,   *loss_acc_gelu_test]\n",
    "           }\n",
    "\n",
    "af_info = pd.DataFrame(af_info, index=[\"time\", \"loss_train\", \"accuracy_train\", \"loss_test\", \"accuracy_test\" ]).T\n",
    "af_info = af_info.sort_values(by=\"time\", ascending=True)\n",
    "af_info"
   ]
  },
  {
   "cell_type": "code",
   "execution_count": 65,
   "id": "75abc7d5",
   "metadata": {},
   "outputs": [
    {
     "data": {
      "image/png": "[encoded data removed]",
      "text/plain": [
       "<Figure size 504x360 with 1 Axes>"
      ]
     },
     "metadata": {
      "needs_background": "light"
     },
     "output_type": "display_data"
    }
   ],
   "source": [
    "fig, ax = plt.subplots(figsize=(7,5))\n",
    "af_info.time.plot(kind=\"barh\", ax=ax)\n",
    "\n",
    "ax.set_yticklabels(af_info.index, rotation=0, **font)\n",
    "ax.set_xticks(ticks=np.arange(0,66,5))\n",
    "ax.grid()\n",
    "plt.show()"
   ]
  },
  {
   "cell_type": "code",
   "execution_count": 66,
   "id": "2d7acd28",
   "metadata": {},
   "outputs": [
    {
     "data": {
      "image/png": "[encoded data removed]",
      "text/plain": [
       "<Figure size 504x576 with 1 Axes>"
      ]
     },
     "metadata": {
      "needs_background": "light"
     },
     "output_type": "display_data"
    }
   ],
   "source": [
    "fig, ax = plt.subplots(figsize=(7,8))\n",
    "af_info.loc[:, [\"accuracy_train\",\n",
    "                \"accuracy_test\",\n",
    "                \"loss_train\",\n",
    "                \"loss_test\" ]].plot(kind=\"barh\", ax=ax)\n",
    "\n",
    "ax.set_yticklabels(af_info.index, rotation=0, **font)\n",
    "ax.set_xticks(ticks=np.linspace(0,1,11))\n",
    "ax.legend(loc=(0.25, 1.02), ncol=2, prop=font_leg, frameon=False)\n",
    "ax.grid()\n",
    "plt.show()"
   ]
  },
  {
   "cell_type": "markdown",
   "id": "c646e972",
   "metadata": {},
   "source": [
    "Como se puede ver, ReLU es la función de activación que tiene mejores comportamientos. "
   ]
  },
  {
   "cell_type": "markdown",
   "id": "f11d0c94",
   "metadata": {},
   "source": [
    "## Funciones de perdida"
   ]
  },
  {
   "cell_type": "code",
   "execution_count": null,
   "id": "8c8efb54",
   "metadata": {},
   "outputs": [],
   "source": []
  },
  {
   "cell_type": "code",
   "execution_count": null,
   "id": "2ad67939",
   "metadata": {},
   "outputs": [],
   "source": []
  },
  {
   "cell_type": "code",
   "execution_count": null,
   "id": "35d9587b",
   "metadata": {},
   "outputs": [],
   "source": []
  },
  {
   "cell_type": "code",
   "execution_count": null,
   "id": "438eee2a",
   "metadata": {},
   "outputs": [],
   "source": []
  },
  {
   "cell_type": "code",
   "execution_count": null,
   "id": "36d1044d",
   "metadata": {},
   "outputs": [],
   "source": []
  },
  {
   "cell_type": "code",
   "execution_count": null,
   "id": "e5bf7cae",
   "metadata": {},
   "outputs": [],
   "source": []
  },
  {
   "cell_type": "code",
   "execution_count": null,
   "id": "5c3a0a8c",
   "metadata": {},
   "outputs": [],
   "source": []
  },
  {
   "cell_type": "code",
   "execution_count": null,
   "id": "32279c5f",
   "metadata": {},
   "outputs": [],
   "source": []
  },
  {
   "cell_type": "code",
   "execution_count": null,
   "id": "25b180c1",
   "metadata": {},
   "outputs": [],
   "source": []
  },
  {
   "cell_type": "code",
   "execution_count": null,
   "id": "7507f5b1",
   "metadata": {},
   "outputs": [],
   "source": []
  },
  {
   "cell_type": "code",
   "execution_count": null,
   "id": "bde0b089",
   "metadata": {},
   "outputs": [],
   "source": []
  },
  {
   "cell_type": "code",
   "execution_count": null,
   "id": "5a4ef742",
   "metadata": {},
   "outputs": [],
   "source": []
  },
  {
   "cell_type": "markdown",
   "id": "a02fa1f0",
   "metadata": {},
   "source": [
    "## Optimizadores"
   ]
  },
  {
   "cell_type": "code",
   "execution_count": null,
   "id": "d42a79c7",
   "metadata": {},
   "outputs": [],
   "source": []
  },
  {
   "cell_type": "code",
   "execution_count": null,
   "id": "739141f3",
   "metadata": {},
   "outputs": [],
   "source": []
  },
  {
   "cell_type": "code",
   "execution_count": null,
   "id": "e8b048e7",
   "metadata": {},
   "outputs": [],
   "source": []
  },
  {
   "cell_type": "code",
   "execution_count": null,
   "id": "412b21d0",
   "metadata": {},
   "outputs": [],
   "source": []
  },
  {
   "cell_type": "code",
   "execution_count": null,
   "id": "80d7a0fb",
   "metadata": {},
   "outputs": [],
   "source": []
  },
  {
   "cell_type": "code",
   "execution_count": null,
   "id": "93ac397a",
   "metadata": {},
   "outputs": [],
   "source": []
  },
  {
   "cell_type": "code",
   "execution_count": null,
   "id": "c7ffd4b8",
   "metadata": {},
   "outputs": [],
   "source": []
  },
  {
   "cell_type": "code",
   "execution_count": null,
   "id": "2aaf4806",
   "metadata": {},
   "outputs": [],
   "source": []
  },
  {
   "cell_type": "markdown",
   "id": "99ccbd16",
   "metadata": {},
   "source": [
    "## Algoritmo de Backpropagation"
   ]
  },
  {
   "cell_type": "code",
   "execution_count": null,
   "id": "ab432c9e",
   "metadata": {},
   "outputs": [],
   "source": []
  },
  {
   "cell_type": "code",
   "execution_count": null,
   "id": "e1dbc9e2",
   "metadata": {},
   "outputs": [],
   "source": []
  },
  {
   "cell_type": "code",
   "execution_count": null,
   "id": "5e1ac4f0",
   "metadata": {},
   "outputs": [],
   "source": []
  }
 ],
 "metadata": {
  "kernelspec": {
   "display_name": "Python 3 (ipykernel)",
   "language": "python",
   "name": "python3"
  },
  "language_info": {
   "codemirror_mode": {
    "name": "ipython",
    "version": 3
   },
   "file_extension": ".py",
   "mimetype": "text/x-python",
   "name": "python",
   "nbconvert_exporter": "python",
   "pygments_lexer": "ipython3",
   "version": "3.9.12"
  }
 },
 "nbformat": 4,
 "nbformat_minor": 5
}
