{
 "cells": [
  {
   "cell_type": "code",
   "execution_count": 1,
   "id": "ec19b5d7",
   "metadata": {},
   "outputs": [
    {
     "name": "stderr",
     "output_type": "stream",
     "text": [
      "2024-06-13 15:58:25.671876: W tensorflow/compiler/tf2tensorrt/utils/py_utils.cc:38] TF-TRT Warning: Could not find TensorRT\n"
     ]
    }
   ],
   "source": [
    "import numpy as np\n",
    "import pandas as pd\n",
    "import datetime\n",
    "\n",
    "import tensorflow as tf\n",
    "from tensorflow import keras\n",
    "\n",
    "import matplotlib.pyplot as plt"
   ]
  },
  {
   "cell_type": "markdown",
   "id": "a860765b",
   "metadata": {},
   "source": [
    "### Estilos y reproducibilidad"
   ]
  },
  {
   "cell_type": "code",
   "execution_count": 2,
   "id": "fceaaef3",
   "metadata": {},
   "outputs": [],
   "source": [
    "font = {'family' : 'DejaVu Sans',\n",
    "        'weight' : 'bold',\n",
    "        'size'   : 18}\n",
    "\n",
    "font_leg = {'family' : 'DejaVu Sans',\n",
    "            'weight' : 'bold',\n",
    "            'size'   : 10}\n",
    "\n",
    "# para reproducibilidad\n",
    "def seeds(seed):\n",
    "    # python\n",
    "    import random\n",
    "    random.seed(seed)\n",
    "\n",
    "    # numpy\n",
    "    np.random.seed(seed)\n",
    "\n",
    "    # tensorflow\n",
    "    tf.random.set_seed(seed)\n",
    "    \n",
    "#seeds(0)\n",
    "# ó:\n",
    "#tf.keras.utils.set_random_seed(0)"
   ]
  },
  {
   "cell_type": "markdown",
   "id": "0e8337ec",
   "metadata": {},
   "source": [
    "<center><h1>Elementos de una red neuronal</h1></center>\n",
    "\n",
    "Ya se ha visto la estructura básica de una red neuronal. Vimos que una neurona realiza una suma ponderada y sobre esta aplica una función de activación que será el valor de salida de la neurona, luego, una vez se han obtenido las predicciones de la red para los datos de entrenamiento, se puede calcular la función de costo que será el objetivo a minimizar por medio del ajuste de los pesos en cada época del entrenamiento. Este ajuste se realiza por medio de algún algoritmo de minimización y, en esencia, todos hacen uso del gradiente de la función de costo. Para calcular este gradiente se debe utilizar un algoritmo muy especial conocido como *El Algoritmo de Backpropagation*. En este notebook se analizarán en mayor detalle cada una de estas componentes del proceso de entrenamiento de la red neuronal. "
   ]
  },
  {
   "cell_type": "markdown",
   "id": "3cd52a66",
   "metadata": {},
   "source": [
    "<center><h1>Funciones de activación</h1></center>\n",
    "\n",
    "Una neurona tendrá un determinado número de entradas $x_i$, cada una de ellas un escalar, e internamente realizará una suma ponderada $z=\\sum w_ix_i+b$ de estas, luego la suma es entregada a una función de activación $a(z)$ y este será el valor de salida de la neurona. \n",
    "\n",
    "Por ejemplo, en el caso del perceptrón propuesto por [Frank Rosenblatt](https://es.wikipedia.org/wiki/Perceptr%C3%B3n), la función de activación es la función escalón unitario, pero tenemos gran variedad de funciones de activación, por ejemplo, keras nos ofrece las siguientes:\n",
    "\n",
    "<p><center>relu, sigmoid, softmax, softplus, softsign, tanh, selu, elu, exponential, leaky_relu, relu6, silu, hard_silu, gelu, hard_sigmoid, linear, mish, log_softmax.</center></p>\n",
    "\n",
    "aunque también nos permite definir las nuestras propias. El objetivo de una función de activación es lograr activar las neuronas de modo que la red completa logre aprender. No tener una función de activación en una red, por más grande que sea, hará que toda la red se comporte como si tuviésemos una sola capa. Consideremos la primera capa con función de activación $a^{[1]}(z)$, denotemos por $z^{[1]}$ las sumas ponderadas para cada neurona de la primera capa: \n",
    "\n",
    "\\begin{equation}\n",
    "z^{[1]} = w^{[1]}x^{[1]}+b^{[1]} \\nonumber\n",
    "\\end{equation}\n",
    "\n",
    "con $x^{[1]}$ la entrada a la capa $1$. Para la segunda capa sus entradas serían las salidas de la primera capa, es decir $a^{[1]}(z^{[1]})$. No tener función de activación es lo mismo que usar $a(z)=z$, así, para la segunda capa tendríamos que su salida sería:\n",
    "\n",
    "\\begin{eqnarray}\n",
    "a^{[2]}(z^{[2]}) &=& z^{[2]}\\\\\n",
    "                 &=& w^{[2]}x^{[2]}+b^{[2]}\\nonumber \\\\\n",
    "                 &=& w^{[2]}a^{[1]}+b^{[2]}\\nonumber  \\\\\n",
    "                 &=& w^{[2]}z^{[1]}+b^{[2]}\\nonumber  \\\\\n",
    "                 &=& w^{[2]}[w^{[1]}x^{[1]}+b^{[1]}]+b^{[2]}\\nonumber \\\\\n",
    "                 &=& w^{[2]}w^{[1]}x^{[1]} + w^{[2]}b^{[1]} +b^{[2]}\\nonumber  \\\\ \n",
    "\\end{eqnarray}\n",
    "\n",
    "definiendo $w^{[2]}w^{[1]}=w'$ y $w^{[2]}b^{[1]} +b^{[2]}=b'$ obtenemos\n",
    "\n",
    "\\begin{equation}\n",
    "a^{[2]}(z^{[2]}) = w'x^{[1]}+b' \\nonumber \n",
    "\\end{equation}\n",
    "\n",
    "De esta expresión concluimos que la ausencia de una función de activación acabará por hacer que toda la red colapse a una sola capa lineal por lo que no se produce aprendizaje durante el entrenamiento sin importar cuantas capas se utilicen. \n",
    "\n",
    "A continuación vamos a comenzar por analizar algunas de las funciones de activación más relevantes y su derivada pues esta es también de alta importancia para poder entender su uso. "
   ]
  },
  {
   "cell_type": "markdown",
   "id": "4778e6f8",
   "metadata": {},
   "source": [
    "### Lineal\n",
    "La función de activación más simple sería la función de activación lineal que es una función identidad que, como acabamos de ver, no permite que se produzca aprendizaje en las capas internas de la red.\n",
    "\n",
    "Veamos su representación gráfica y la de su derivada. Pero antes, como estaremos graficando varias funciones de activación minimicemos código generando una función que haga esto."
   ]
  },
  {
   "cell_type": "code",
   "execution_count": 3,
   "id": "8b6f8d22",
   "metadata": {},
   "outputs": [],
   "source": [
    "def plot_af(x,\n",
    "            af,\n",
    "            daf,\n",
    "            af_ylabel,\n",
    "            daf_ylabel, **kwards):\n",
    "    \n",
    "    # gráfico\n",
    "    fig, ax = plt.subplots(figsize=(10,5), ncols=2, nrows=1)\n",
    "\n",
    "    ax[0].plot(x, af(x, **kwards), color=\"k\", lw=2)\n",
    "    ax[0].set_title(\"AF\", **font)\n",
    "    ax[0].set_ylabel(af_ylabel, **font)\n",
    "    ax[0].set_xlim(min(x), max(x))\n",
    "\n",
    "    ax[1].plot(x, daf(x), color=\"red\", lw=2)\n",
    "    ax[1].set_title(\"Derivative of the AF\", **font)\n",
    "    ax[1].set_ylabel(daf_ylabel, **font)\n",
    "    ax[1].set_xlim(min(x), max(x))\n",
    "\n",
    "    plt.tight_layout()\n",
    "    \n",
    "    \n",
    "\n",
    "def plot_accuracy_loss(history, name, accuracy=True, loss=True):\n",
    "    \n",
    "    fig, ax = plt.subplots(figsize=(10,8))\n",
    "    \n",
    "    if accuracy:\n",
    "        ax.plot(history[\"accuracy\"],     color=\"red\",   ls=\"-\",  lw=2, label=list(history.keys())[0])\n",
    "        ax.plot(history[\"val_accuracy\"], color=\"red\",   ls=\"--\", lw=2, label=list(history.keys())[2])\n",
    "    \n",
    "    if loss:\n",
    "        ax.plot(history[\"loss\"],         color=\"black\", ls=\"-\",  lw=2, label=list(history.keys())[1])\n",
    "        ax.plot(history[\"val_loss\"],     color=\"black\", ls=\"--\", lw=2, label=list(history.keys())[3])\n",
    "\n",
    "    ax.set_xlim(0, len(history[\"accuracy\"])-1)\n",
    "    ax.set_xlabel(\"Ephocs\", **font)\n",
    "    ax.set_ylabel(\"Score\", **font)\n",
    "    ax.set_title(name, **font)\n",
    "\n",
    "    ax.legend(prop=font, ncol=2, frameon=False)\n",
    "    plt.show()"
   ]
  },
  {
   "cell_type": "code",
   "execution_count": 4,
   "id": "c5ec9647",
   "metadata": {},
   "outputs": [
    {
     "data": {
      "image/png": "[encoded data removed]",
      "text/plain": [
       "<Figure size 720x360 with 2 Axes>"
      ]
     },
     "metadata": {
      "needs_background": "light"
     },
     "output_type": "display_data"
    }
   ],
   "source": [
    "# derivada\n",
    "x = np.linspace(-2, 2, 100)\n",
    "\n",
    "def d_lineal(x):\n",
    "    return 1\n",
    "d_lineal = np.vectorize(d_lineal)\n",
    "\n",
    "plot_af(x,\n",
    "        af=keras.activations.linear,\n",
    "        daf=d_lineal,\n",
    "        af_ylabel=f\"$f(x)=x$\",\n",
    "        daf_ylabel=f\"$df/dx=1$\")\n"
   ]
  },
  {
   "cell_type": "markdown",
   "id": "a00d1867",
   "metadata": {},
   "source": [
    "Aparte de lo que ya se ha dicho hasta este momento, hay una característica importante que se puede resaltar sobre la función identidad, y es que su derivada es constante, es decir siempre tiene el mismo valor, $1$. Este hecho permite que se pueda producir una actualización constante de los pesos pues, como se verá cuando analicemos el algoritmo de backpropagation, una de las condiciones que tienen que cumplir las funciones de activación es que su derivada no puede ser nula en todos los puntos de su dominio. La derivada de la función de activación es determinante a la hora de entrenar un modelo pues determinará la rapidez con la cual este aprende. \n",
    "\n",
    "Esta función de activación es usada principalmente en la última capa de redes para problemas de regresión. "
   ]
  },
  {
   "cell_type": "code",
   "execution_count": 5,
   "id": "fc269954",
   "metadata": {},
   "outputs": [
    {
     "data": {
      "text/plain": [
       "array([ 0.97627008,  4.30378733,  2.05526752,  0.89766366, -1.52690401,\n",
       "        2.91788226, -1.24825577,  7.83546002,  9.27325521, -2.33116962])"
      ]
     },
     "execution_count": 5,
     "metadata": {},
     "output_type": "execute_result"
    }
   ],
   "source": [
    "# Algunos datos de prueba\n",
    "np.random.seed(0)\n",
    "xp = np.random.uniform(-10, 10, 10)\n",
    "xp"
   ]
  },
  {
   "cell_type": "code",
   "execution_count": 6,
   "id": "3f373b96",
   "metadata": {},
   "outputs": [
    {
     "data": {
      "text/plain": [
       "array([ 0.97627008,  4.30378733,  2.05526752,  0.89766366, -1.52690401,\n",
       "        2.91788226, -1.24825577,  7.83546002,  9.27325521, -2.33116962])"
      ]
     },
     "execution_count": 6,
     "metadata": {},
     "output_type": "execute_result"
    }
   ],
   "source": [
    "keras.activations.linear(xp)"
   ]
  },
  {
   "cell_type": "markdown",
   "id": "a3b7355d",
   "metadata": {},
   "source": [
    "Generemos ahora un modelo con múltiples capas para probar el aprendizaje de una red neuronal. "
   ]
  },
  {
   "cell_type": "code",
   "execution_count": 7,
   "id": "7fdc6600",
   "metadata": {},
   "outputs": [],
   "source": [
    "def create_model(name,\n",
    "                 shape,\n",
    "                 layers=4,\n",
    "                 units=[80, 90, 80, 80],\n",
    "                 af=\"relu\",\n",
    "                 output_nodes=10,\n",
    "                 output_af=\"softmax\"):\n",
    "    \n",
    "    # units per layer\n",
    "    if type(units)==int:\n",
    "        units=[units]*layers\n",
    "        \n",
    "    if len(units)!=layers:\n",
    "        raise Exception(f\"Length of units={len(units)} differs from number of layers={layers}\")\n",
    "        \n",
    "    @tf.function\n",
    "    def f(x): return x\n",
    "    if type(af)==str or type(af)==type(lambda x:x) or type(af)==type(f):\n",
    "        af=[af]*layers\n",
    "     \n",
    "    # layers of the model\n",
    "    model = keras.Sequential(name=name)\n",
    "    model.add(keras.Input(shape=shape))\n",
    "    model.add(keras.layers.Flatten(name=\"Flatten\"))\n",
    "    \n",
    "    for i in range(len(units)):\n",
    "        model.add(keras.layers.Dense(units=units[i], activation=af[i], name=f\"layer_{i+1}\"))\n",
    "        \n",
    "    model.add(keras.layers.Dense(units=output_nodes, activation=output_af, name=\"output\"))\n",
    "    \n",
    "    return model"
   ]
  },
  {
   "cell_type": "markdown",
   "id": "7bb45128",
   "metadata": {},
   "source": [
    "#### Datos"
   ]
  },
  {
   "cell_type": "code",
   "execution_count": 8,
   "id": "7d65ebea",
   "metadata": {},
   "outputs": [
    {
     "name": "stdout",
     "output_type": "stream",
     "text": [
      "0 --> T-shirt/top\n",
      "1 --> Trouser\n",
      "2 --> Pullover\n",
      "3 --> Dress\n",
      "4 --> Coat\n",
      "5 --> Sandal\n",
      "6 --> Shirt\n",
      "7 --> Sneaker\n",
      "8 --> Bag\n",
      "9 --> Ankle boot\n"
     ]
    },
    {
     "data": {
      "text/plain": [
       "((60000, 28, 28), (10000, 28, 28))"
      ]
     },
     "execution_count": 8,
     "metadata": {},
     "output_type": "execute_result"
    }
   ],
   "source": [
    "# carga\n",
    "fm = keras.datasets.fashion_mnist\n",
    "(train_images, train_labels), (test_images, test_labels) = fm.load_data()\n",
    "\n",
    "# normalización\n",
    "train_images, test_images = train_images/255., test_images/255.\n",
    "\n",
    "# clases\n",
    "class_names = np.array(['T-shirt/top', 'Trouser', 'Pullover', 'Dress', 'Coat',\n",
    "               'Sandal', 'Shirt', 'Sneaker', 'Bag', 'Ankle boot']\n",
    ")\n",
    "\n",
    "for i, label in enumerate(class_names):\n",
    "    print(f\"{i} --> {label}\")\n",
    "    \n",
    "train_images.shape, test_images.shape"
   ]
  },
  {
   "cell_type": "code",
   "execution_count": 9,
   "id": "73011227",
   "metadata": {},
   "outputs": [
    {
     "name": "stderr",
     "output_type": "stream",
     "text": [
      "2024-06-13 15:58:49.274275: E external/local_xla/xla/stream_executor/cuda/cuda_driver.cc:282] failed call to cuInit: CUDA_ERROR_NO_DEVICE: no CUDA-capable device is detected\n"
     ]
    },
    {
     "data": {
      "text/html": [
       "<pre style=\"white-space:pre;overflow-x:auto;line-height:normal;font-family:Menlo,'DejaVu Sans Mono',consolas,'Courier New',monospace\"><span style=\"font-weight: bold\">Model: \"fashionmn_af_linear\"</span>\n",
       "</pre>\n"
      ],
      "text/plain": [
       "\u001b[1mModel: \"fashionmn_af_linear\"\u001b[0m\n"
      ]
     },
     "metadata": {},
     "output_type": "display_data"
    },
    {
     "data": {
      "text/html": [
       "<pre style=\"white-space:pre;overflow-x:auto;line-height:normal;font-family:Menlo,'DejaVu Sans Mono',consolas,'Courier New',monospace\">┏━━━━━━━━━━━━━━━━━━━━━━━━━━━━━━━━━┳━━━━━━━━━━━━━━━━━━━━━━━━┳━━━━━━━━━━━━━━━┓\n",
       "┃<span style=\"font-weight: bold\"> Layer (type)                    </span>┃<span style=\"font-weight: bold\"> Output Shape           </span>┃<span style=\"font-weight: bold\">       Param # </span>┃\n",
       "┡━━━━━━━━━━━━━━━━━━━━━━━━━━━━━━━━━╇━━━━━━━━━━━━━━━━━━━━━━━━╇━━━━━━━━━━━━━━━┩\n",
       "│ Flatten (<span style=\"color: #0087ff; text-decoration-color: #0087ff\">Flatten</span>)               │ (<span style=\"color: #00d7ff; text-decoration-color: #00d7ff\">None</span>, <span style=\"color: #00af00; text-decoration-color: #00af00\">784</span>)            │             <span style=\"color: #00af00; text-decoration-color: #00af00\">0</span> │\n",
       "├─────────────────────────────────┼────────────────────────┼───────────────┤\n",
       "│ layer_1 (<span style=\"color: #0087ff; text-decoration-color: #0087ff\">Dense</span>)                 │ (<span style=\"color: #00d7ff; text-decoration-color: #00d7ff\">None</span>, <span style=\"color: #00af00; text-decoration-color: #00af00\">80</span>)             │        <span style=\"color: #00af00; text-decoration-color: #00af00\">62,800</span> │\n",
       "├─────────────────────────────────┼────────────────────────┼───────────────┤\n",
       "│ layer_2 (<span style=\"color: #0087ff; text-decoration-color: #0087ff\">Dense</span>)                 │ (<span style=\"color: #00d7ff; text-decoration-color: #00d7ff\">None</span>, <span style=\"color: #00af00; text-decoration-color: #00af00\">90</span>)             │         <span style=\"color: #00af00; text-decoration-color: #00af00\">7,290</span> │\n",
       "├─────────────────────────────────┼────────────────────────┼───────────────┤\n",
       "│ layer_3 (<span style=\"color: #0087ff; text-decoration-color: #0087ff\">Dense</span>)                 │ (<span style=\"color: #00d7ff; text-decoration-color: #00d7ff\">None</span>, <span style=\"color: #00af00; text-decoration-color: #00af00\">80</span>)             │         <span style=\"color: #00af00; text-decoration-color: #00af00\">7,280</span> │\n",
       "├─────────────────────────────────┼────────────────────────┼───────────────┤\n",
       "│ layer_4 (<span style=\"color: #0087ff; text-decoration-color: #0087ff\">Dense</span>)                 │ (<span style=\"color: #00d7ff; text-decoration-color: #00d7ff\">None</span>, <span style=\"color: #00af00; text-decoration-color: #00af00\">80</span>)             │         <span style=\"color: #00af00; text-decoration-color: #00af00\">6,480</span> │\n",
       "├─────────────────────────────────┼────────────────────────┼───────────────┤\n",
       "│ output (<span style=\"color: #0087ff; text-decoration-color: #0087ff\">Dense</span>)                  │ (<span style=\"color: #00d7ff; text-decoration-color: #00d7ff\">None</span>, <span style=\"color: #00af00; text-decoration-color: #00af00\">10</span>)             │           <span style=\"color: #00af00; text-decoration-color: #00af00\">810</span> │\n",
       "└─────────────────────────────────┴────────────────────────┴───────────────┘\n",
       "</pre>\n"
      ],
      "text/plain": [
       "┏━━━━━━━━━━━━━━━━━━━━━━━━━━━━━━━━━┳━━━━━━━━━━━━━━━━━━━━━━━━┳━━━━━━━━━━━━━━━┓\n",
       "┃\u001b[1m \u001b[0m\u001b[1mLayer (type)                   \u001b[0m\u001b[1m \u001b[0m┃\u001b[1m \u001b[0m\u001b[1mOutput Shape          \u001b[0m\u001b[1m \u001b[0m┃\u001b[1m \u001b[0m\u001b[1m      Param #\u001b[0m\u001b[1m \u001b[0m┃\n",
       "┡━━━━━━━━━━━━━━━━━━━━━━━━━━━━━━━━━╇━━━━━━━━━━━━━━━━━━━━━━━━╇━━━━━━━━━━━━━━━┩\n",
       "│ Flatten (\u001b[38;5;33mFlatten\u001b[0m)               │ (\u001b[38;5;45mNone\u001b[0m, \u001b[38;5;34m784\u001b[0m)            │             \u001b[38;5;34m0\u001b[0m │\n",
       "├─────────────────────────────────┼────────────────────────┼───────────────┤\n",
       "│ layer_1 (\u001b[38;5;33mDense\u001b[0m)                 │ (\u001b[38;5;45mNone\u001b[0m, \u001b[38;5;34m80\u001b[0m)             │        \u001b[38;5;34m62,800\u001b[0m │\n",
       "├─────────────────────────────────┼────────────────────────┼───────────────┤\n",
       "│ layer_2 (\u001b[38;5;33mDense\u001b[0m)                 │ (\u001b[38;5;45mNone\u001b[0m, \u001b[38;5;34m90\u001b[0m)             │         \u001b[38;5;34m7,290\u001b[0m │\n",
       "├─────────────────────────────────┼────────────────────────┼───────────────┤\n",
       "│ layer_3 (\u001b[38;5;33mDense\u001b[0m)                 │ (\u001b[38;5;45mNone\u001b[0m, \u001b[38;5;34m80\u001b[0m)             │         \u001b[38;5;34m7,280\u001b[0m │\n",
       "├─────────────────────────────────┼────────────────────────┼───────────────┤\n",
       "│ layer_4 (\u001b[38;5;33mDense\u001b[0m)                 │ (\u001b[38;5;45mNone\u001b[0m, \u001b[38;5;34m80\u001b[0m)             │         \u001b[38;5;34m6,480\u001b[0m │\n",
       "├─────────────────────────────────┼────────────────────────┼───────────────┤\n",
       "│ output (\u001b[38;5;33mDense\u001b[0m)                  │ (\u001b[38;5;45mNone\u001b[0m, \u001b[38;5;34m10\u001b[0m)             │           \u001b[38;5;34m810\u001b[0m │\n",
       "└─────────────────────────────────┴────────────────────────┴───────────────┘\n"
      ]
     },
     "metadata": {},
     "output_type": "display_data"
    },
    {
     "data": {
      "text/html": [
       "<pre style=\"white-space:pre;overflow-x:auto;line-height:normal;font-family:Menlo,'DejaVu Sans Mono',consolas,'Courier New',monospace\"><span style=\"font-weight: bold\"> Total params: </span><span style=\"color: #00af00; text-decoration-color: #00af00\">84,660</span> (330.70 KB)\n",
       "</pre>\n"
      ],
      "text/plain": [
       "\u001b[1m Total params: \u001b[0m\u001b[38;5;34m84,660\u001b[0m (330.70 KB)\n"
      ]
     },
     "metadata": {},
     "output_type": "display_data"
    },
    {
     "data": {
      "text/html": [
       "<pre style=\"white-space:pre;overflow-x:auto;line-height:normal;font-family:Menlo,'DejaVu Sans Mono',consolas,'Courier New',monospace\"><span style=\"font-weight: bold\"> Trainable params: </span><span style=\"color: #00af00; text-decoration-color: #00af00\">84,660</span> (330.70 KB)\n",
       "</pre>\n"
      ],
      "text/plain": [
       "\u001b[1m Trainable params: \u001b[0m\u001b[38;5;34m84,660\u001b[0m (330.70 KB)\n"
      ]
     },
     "metadata": {},
     "output_type": "display_data"
    },
    {
     "data": {
      "text/html": [
       "<pre style=\"white-space:pre;overflow-x:auto;line-height:normal;font-family:Menlo,'DejaVu Sans Mono',consolas,'Courier New',monospace\"><span style=\"font-weight: bold\"> Non-trainable params: </span><span style=\"color: #00af00; text-decoration-color: #00af00\">0</span> (0.00 B)\n",
       "</pre>\n"
      ],
      "text/plain": [
       "\u001b[1m Non-trainable params: \u001b[0m\u001b[38;5;34m0\u001b[0m (0.00 B)\n"
      ]
     },
     "metadata": {},
     "output_type": "display_data"
    }
   ],
   "source": [
    "# modelo\n",
    "model_fm_linear = create_model(name=\"fashionmn_af_linear\", \n",
    "                               shape=train_images[0].shape,\n",
    "                               af=\"linear\",\n",
    "                               output_af=\"softmax\")\n",
    "\n",
    "# compilación\n",
    "opt  = keras.optimizers.Adam(learning_rate=0.001)\n",
    "loss = keras.losses.SparseCategoricalCrossentropy()\n",
    "\n",
    "model_fm_linear.compile(optimizer=opt,\n",
    "                        loss=loss, metrics=[\"accuracy\"])\n",
    "\n",
    "model_fm_linear.summary()"
   ]
  },
  {
   "cell_type": "code",
   "execution_count": 10,
   "id": "f59f5b49",
   "metadata": {},
   "outputs": [
    {
     "name": "stderr",
     "output_type": "stream",
     "text": [
      "2024-06-01 13:07:53.894887: W external/local_tsl/tsl/framework/cpu_allocator_impl.cc:83] Allocation of 150528000 exceeds 10% of free system memory.\n"
     ]
    },
    {
     "name": "stdout",
     "output_type": "stream",
     "text": [
      "Epoch 1/10\n",
      "\u001b[1m1500/1500\u001b[0m \u001b[32m━━━━━━━━━━━━━━━━━━━━\u001b[0m\u001b[37m\u001b[0m \u001b[1m8s\u001b[0m 3ms/step - accuracy: 0.7540 - loss: 0.6869 - val_accuracy: 0.8303 - val_loss: 0.4983\n",
      "Epoch 2/10\n",
      "\u001b[1m1500/1500\u001b[0m \u001b[32m━━━━━━━━━━━━━━━━━━━━\u001b[0m\u001b[37m\u001b[0m \u001b[1m5s\u001b[0m 3ms/step - accuracy: 0.8311 - loss: 0.4882 - val_accuracy: 0.8295 - val_loss: 0.5017\n",
      "Epoch 3/10\n",
      "\u001b[1m1500/1500\u001b[0m \u001b[32m━━━━━━━━━━━━━━━━━━━━\u001b[0m\u001b[37m\u001b[0m \u001b[1m5s\u001b[0m 3ms/step - accuracy: 0.8333 - loss: 0.4768 - val_accuracy: 0.8400 - val_loss: 0.4570\n",
      "Epoch 4/10\n",
      "\u001b[1m1500/1500\u001b[0m \u001b[32m━━━━━━━━━━━━━━━━━━━━\u001b[0m\u001b[37m\u001b[0m \u001b[1m5s\u001b[0m 3ms/step - accuracy: 0.8407 - loss: 0.4581 - val_accuracy: 0.8225 - val_loss: 0.5005\n",
      "Epoch 5/10\n",
      "\u001b[1m1500/1500\u001b[0m \u001b[32m━━━━━━━━━━━━━━━━━━━━\u001b[0m\u001b[37m\u001b[0m \u001b[1m5s\u001b[0m 3ms/step - accuracy: 0.8458 - loss: 0.4431 - val_accuracy: 0.8454 - val_loss: 0.4522\n",
      "Epoch 6/10\n",
      "\u001b[1m1500/1500\u001b[0m \u001b[32m━━━━━━━━━━━━━━━━━━━━\u001b[0m\u001b[37m\u001b[0m \u001b[1m5s\u001b[0m 3ms/step - accuracy: 0.8471 - loss: 0.4320 - val_accuracy: 0.8476 - val_loss: 0.4416\n",
      "Epoch 7/10\n",
      "\u001b[1m1500/1500\u001b[0m \u001b[32m━━━━━━━━━━━━━━━━━━━━\u001b[0m\u001b[37m\u001b[0m \u001b[1m5s\u001b[0m 3ms/step - accuracy: 0.8541 - loss: 0.4316 - val_accuracy: 0.8457 - val_loss: 0.4483\n",
      "Epoch 8/10\n",
      "\u001b[1m1500/1500\u001b[0m \u001b[32m━━━━━━━━━━━━━━━━━━━━\u001b[0m\u001b[37m\u001b[0m \u001b[1m5s\u001b[0m 3ms/step - accuracy: 0.8484 - loss: 0.4280 - val_accuracy: 0.8400 - val_loss: 0.4589\n",
      "Epoch 9/10\n",
      "\u001b[1m1500/1500\u001b[0m \u001b[32m━━━━━━━━━━━━━━━━━━━━\u001b[0m\u001b[37m\u001b[0m \u001b[1m6s\u001b[0m 4ms/step - accuracy: 0.8540 - loss: 0.4191 - val_accuracy: 0.8372 - val_loss: 0.4765\n",
      "Epoch 10/10\n",
      "\u001b[1m1500/1500\u001b[0m \u001b[32m━━━━━━━━━━━━━━━━━━━━\u001b[0m\u001b[37m\u001b[0m \u001b[1m6s\u001b[0m 4ms/step - accuracy: 0.8527 - loss: 0.4213 - val_accuracy: 0.8396 - val_loss: 0.4718\n",
      "\n",
      "Time to run using linear: 0:00:55.326859\n"
     ]
    }
   ],
   "source": [
    "# Entrenamiento \n",
    "start = datetime.datetime.now()\n",
    "history_fm_linear = model_fm_linear.fit(train_images,\n",
    "                                        train_labels,\n",
    "                                        validation_split=0.2,\n",
    "                                        epochs=10)\n",
    "\n",
    "history_fm_linear = history_fm_linear.history\n",
    "\n",
    "# medimos el tiempo de ejecución\n",
    "time_fm_linear = datetime.datetime.now() - start\n",
    "print(f\"\\nTime to run using linear: {time_fm_linear}\")"
   ]
  },
  {
   "cell_type": "markdown",
   "id": "033ce60f",
   "metadata": {},
   "source": [
    "Lo primero que podemos observar del uso de la función de activación lineal es que las métricas del modelo y su función de costo no mejoran en cada época, contrario a esto parecen oscilar al rededor de un valor promedio. Esto nos muestra de entrada que la elección de esta función de activación para todas las capas no es una buena elección, algo que irémos confirmando a medida que veamos la aplicación de otras funciones de activación. Se debe esperar que el valor de las métricas y la función de costo mejoren en cada época, este no es el caso."
   ]
  },
  {
   "cell_type": "code",
   "execution_count": 11,
   "id": "7700d03c",
   "metadata": {
    "scrolled": false
   },
   "outputs": [
    {
     "data": {
      "image/png": "[encoded data removed]",
      "text/plain": [
       "<Figure size 720x576 with 1 Axes>"
      ]
     },
     "metadata": {
      "needs_background": "light"
     },
     "output_type": "display_data"
    }
   ],
   "source": [
    "plot_accuracy_loss(history_fm_linear, name=\"Linear AF\")"
   ]
  },
  {
   "cell_type": "markdown",
   "id": "55c9c792",
   "metadata": {},
   "source": [
    "Como decíamos, las métricas y función de costo varían muy poco en cada iteración, este comportamiento se hará más evidente cuando veamos las otras funciones de activación.\n",
    "\n",
    "Veamos ahora la capacidad de predicción de este modelo."
   ]
  },
  {
   "cell_type": "code",
   "execution_count": 12,
   "id": "db954d36",
   "metadata": {},
   "outputs": [
    {
     "name": "stdout",
     "output_type": "stream",
     "text": [
      "\u001b[1m313/313\u001b[0m \u001b[32m━━━━━━━━━━━━━━━━━━━━\u001b[0m\u001b[37m\u001b[0m \u001b[1m1s\u001b[0m 2ms/step - accuracy: 0.8322 - loss: 0.4865\n"
     ]
    }
   ],
   "source": [
    "# Métricas de testeo\n",
    "loss_acc_linear_test = model_fm_linear.evaluate(x=test_images, y=test_labels)"
   ]
  },
  {
   "cell_type": "code",
   "execution_count": 13,
   "id": "c5f07bad",
   "metadata": {},
   "outputs": [
    {
     "name": "stdout",
     "output_type": "stream",
     "text": [
      "\u001b[1m  51/1875\u001b[0m \u001b[37m━━━━━━━━━━━━━━━━━━━━\u001b[0m \u001b[1m3s\u001b[0m 2ms/step - accuracy: 0.8813 - loss: 0.4086"
     ]
    },
    {
     "name": "stderr",
     "output_type": "stream",
     "text": [
      "2024-06-01 13:08:50.551258: W external/local_tsl/tsl/framework/cpu_allocator_impl.cc:83] Allocation of 188160000 exceeds 10% of free system memory.\n"
     ]
    },
    {
     "name": "stdout",
     "output_type": "stream",
     "text": [
      "\u001b[1m1875/1875\u001b[0m \u001b[32m━━━━━━━━━━━━━━━━━━━━\u001b[0m\u001b[37m\u001b[0m \u001b[1m3s\u001b[0m 2ms/step - accuracy: 0.8515 - loss: 0.4278\n"
     ]
    }
   ],
   "source": [
    "# Métricas de entrenamiento\n",
    "loss_acc_linear_train = model_fm_linear.evaluate(x=train_images, y=train_labels)"
   ]
  },
  {
   "cell_type": "markdown",
   "id": "4e6b63cd",
   "metadata": {},
   "source": [
    "### ReLU\n",
    "\n",
    "[ReLU](https://es.wikipedia.org/wiki/Rectificador_(redes_neuronales)) es una de las funciones de activación más utilizadas para capas ocultas en la actualidad por sus excelentes características a la hora de entrenar. Está definida por\n",
    "\n",
    "\\begin{eqnarray}\n",
    "    \\text{ReLU}(x) = \\text{max}(0,x)\n",
    "\\end{eqnarray}\n",
    "\n",
    "Por lo cual su derivada es:\n",
    "\n",
    "\\begin{equation}\n",
    " \\frac{d\\text{ReLU}}{dx} = \\left\\{ \\begin{array}{lcc} \n",
    "                                                      0 & si & x < 0 \\\\\n",
    "                                                      1 & si & x \\geq 0     \\\\\n",
    "                                   \\end{array}\n",
    "                           \\right.\n",
    "\\end{equation}\n",
    "\n",
    "graficamente tenemos"
   ]
  },
  {
   "cell_type": "code",
   "execution_count": 14,
   "id": "e26aa681",
   "metadata": {},
   "outputs": [
    {
     "data": {
      "image/png": "[encoded data removed]",
      "text/plain": [
       "<Figure size 720x360 with 2 Axes>"
      ]
     },
     "metadata": {
      "needs_background": "light"
     },
     "output_type": "display_data"
    }
   ],
   "source": [
    "# derivada\n",
    "x = np.linspace(-2, 2, 100)\n",
    "\n",
    "def d_relu(x):\n",
    "    if x<0:\n",
    "        return 0\n",
    "    return 1\n",
    "\n",
    "d_relu = np.vectorize(d_relu)\n",
    "\n",
    "plot_af(x,\n",
    "        af=keras.activations.relu,\n",
    "        daf=d_relu,\n",
    "        af_ylabel=f\"ReLU$(x)$=max$(0,x)$\",\n",
    "        daf_ylabel=f\"$d$ReLU$/dx$\")\n"
   ]
  },
  {
   "cell_type": "markdown",
   "id": "3c5fac74",
   "metadata": {},
   "source": [
    "Otras funciones de activación como *tanh* y *sofmax* tienen derivadas que en los extremos tienden a ser nulas y esto genera el conocido como *desvanecimiento del gradiente* que estudiaremos más adelante. La función ReLU, por otro lado, tiene una derivada constante para valores positivos, además de ser una función muy sencilla de calcular comparada con funciones como *tanh* y *sofmax*. Estas características hacen de ella una función de activación altamente utilizada ya que puede acelerar el proceso de aprendizaje de la red. Otro atributo relevante es que genera esparsidad en la red al apagar algunas neuronas (su derivada es cero para valores menores a cero) conduciendo así a una reducción indirecta del overfitting. \n",
    "\n",
    "Veamos su comportamiento con algunos datos:"
   ]
  },
  {
   "cell_type": "code",
   "execution_count": 15,
   "id": "fa14a215",
   "metadata": {},
   "outputs": [
    {
     "data": {
      "text/plain": [
       "array([ 0.97627008,  4.30378733,  2.05526752,  0.89766366, -1.52690401,\n",
       "        2.91788226, -1.24825577,  7.83546002,  9.27325521, -2.33116962])"
      ]
     },
     "execution_count": 15,
     "metadata": {},
     "output_type": "execute_result"
    }
   ],
   "source": [
    "xp"
   ]
  },
  {
   "cell_type": "code",
   "execution_count": 16,
   "id": "96a42b55",
   "metadata": {},
   "outputs": [
    {
     "data": {
      "text/plain": [
       "<tf.Tensor: shape=(10,), dtype=float64, numpy=\n",
       "array([0.97627008, 4.30378733, 2.05526752, 0.89766366, 0.        ,\n",
       "       2.91788226, 0.        , 7.83546002, 9.27325521, 0.        ])>"
      ]
     },
     "execution_count": 16,
     "metadata": {},
     "output_type": "execute_result"
    }
   ],
   "source": [
    "keras.activations.relu(xp)"
   ]
  },
  {
   "cell_type": "markdown",
   "id": "9110e294",
   "metadata": {},
   "source": [
    "Ahora entrenemos un modelo con la misma aquitectura que el modelo anterior pero utilizaremos una función de activación RelU en las capas ocultas. "
   ]
  },
  {
   "cell_type": "code",
   "execution_count": 17,
   "id": "673af550",
   "metadata": {},
   "outputs": [
    {
     "data": {
      "text/html": [
       "<pre style=\"white-space:pre;overflow-x:auto;line-height:normal;font-family:Menlo,'DejaVu Sans Mono',consolas,'Courier New',monospace\"><span style=\"font-weight: bold\">Model: \"fashionmn_af_relu\"</span>\n",
       "</pre>\n"
      ],
      "text/plain": [
       "\u001b[1mModel: \"fashionmn_af_relu\"\u001b[0m\n"
      ]
     },
     "metadata": {},
     "output_type": "display_data"
    },
    {
     "data": {
      "text/html": [
       "<pre style=\"white-space:pre;overflow-x:auto;line-height:normal;font-family:Menlo,'DejaVu Sans Mono',consolas,'Courier New',monospace\">┏━━━━━━━━━━━━━━━━━━━━━━━━━━━━━━━━━┳━━━━━━━━━━━━━━━━━━━━━━━━┳━━━━━━━━━━━━━━━┓\n",
       "┃<span style=\"font-weight: bold\"> Layer (type)                    </span>┃<span style=\"font-weight: bold\"> Output Shape           </span>┃<span style=\"font-weight: bold\">       Param # </span>┃\n",
       "┡━━━━━━━━━━━━━━━━━━━━━━━━━━━━━━━━━╇━━━━━━━━━━━━━━━━━━━━━━━━╇━━━━━━━━━━━━━━━┩\n",
       "│ Flatten (<span style=\"color: #0087ff; text-decoration-color: #0087ff\">Flatten</span>)               │ (<span style=\"color: #00d7ff; text-decoration-color: #00d7ff\">None</span>, <span style=\"color: #00af00; text-decoration-color: #00af00\">784</span>)            │             <span style=\"color: #00af00; text-decoration-color: #00af00\">0</span> │\n",
       "├─────────────────────────────────┼────────────────────────┼───────────────┤\n",
       "│ layer_1 (<span style=\"color: #0087ff; text-decoration-color: #0087ff\">Dense</span>)                 │ (<span style=\"color: #00d7ff; text-decoration-color: #00d7ff\">None</span>, <span style=\"color: #00af00; text-decoration-color: #00af00\">80</span>)             │        <span style=\"color: #00af00; text-decoration-color: #00af00\">62,800</span> │\n",
       "├─────────────────────────────────┼────────────────────────┼───────────────┤\n",
       "│ layer_2 (<span style=\"color: #0087ff; text-decoration-color: #0087ff\">Dense</span>)                 │ (<span style=\"color: #00d7ff; text-decoration-color: #00d7ff\">None</span>, <span style=\"color: #00af00; text-decoration-color: #00af00\">90</span>)             │         <span style=\"color: #00af00; text-decoration-color: #00af00\">7,290</span> │\n",
       "├─────────────────────────────────┼────────────────────────┼───────────────┤\n",
       "│ layer_3 (<span style=\"color: #0087ff; text-decoration-color: #0087ff\">Dense</span>)                 │ (<span style=\"color: #00d7ff; text-decoration-color: #00d7ff\">None</span>, <span style=\"color: #00af00; text-decoration-color: #00af00\">80</span>)             │         <span style=\"color: #00af00; text-decoration-color: #00af00\">7,280</span> │\n",
       "├─────────────────────────────────┼────────────────────────┼───────────────┤\n",
       "│ layer_4 (<span style=\"color: #0087ff; text-decoration-color: #0087ff\">Dense</span>)                 │ (<span style=\"color: #00d7ff; text-decoration-color: #00d7ff\">None</span>, <span style=\"color: #00af00; text-decoration-color: #00af00\">80</span>)             │         <span style=\"color: #00af00; text-decoration-color: #00af00\">6,480</span> │\n",
       "├─────────────────────────────────┼────────────────────────┼───────────────┤\n",
       "│ output (<span style=\"color: #0087ff; text-decoration-color: #0087ff\">Dense</span>)                  │ (<span style=\"color: #00d7ff; text-decoration-color: #00d7ff\">None</span>, <span style=\"color: #00af00; text-decoration-color: #00af00\">10</span>)             │           <span style=\"color: #00af00; text-decoration-color: #00af00\">810</span> │\n",
       "└─────────────────────────────────┴────────────────────────┴───────────────┘\n",
       "</pre>\n"
      ],
      "text/plain": [
       "┏━━━━━━━━━━━━━━━━━━━━━━━━━━━━━━━━━┳━━━━━━━━━━━━━━━━━━━━━━━━┳━━━━━━━━━━━━━━━┓\n",
       "┃\u001b[1m \u001b[0m\u001b[1mLayer (type)                   \u001b[0m\u001b[1m \u001b[0m┃\u001b[1m \u001b[0m\u001b[1mOutput Shape          \u001b[0m\u001b[1m \u001b[0m┃\u001b[1m \u001b[0m\u001b[1m      Param #\u001b[0m\u001b[1m \u001b[0m┃\n",
       "┡━━━━━━━━━━━━━━━━━━━━━━━━━━━━━━━━━╇━━━━━━━━━━━━━━━━━━━━━━━━╇━━━━━━━━━━━━━━━┩\n",
       "│ Flatten (\u001b[38;5;33mFlatten\u001b[0m)               │ (\u001b[38;5;45mNone\u001b[0m, \u001b[38;5;34m784\u001b[0m)            │             \u001b[38;5;34m0\u001b[0m │\n",
       "├─────────────────────────────────┼────────────────────────┼───────────────┤\n",
       "│ layer_1 (\u001b[38;5;33mDense\u001b[0m)                 │ (\u001b[38;5;45mNone\u001b[0m, \u001b[38;5;34m80\u001b[0m)             │        \u001b[38;5;34m62,800\u001b[0m │\n",
       "├─────────────────────────────────┼────────────────────────┼───────────────┤\n",
       "│ layer_2 (\u001b[38;5;33mDense\u001b[0m)                 │ (\u001b[38;5;45mNone\u001b[0m, \u001b[38;5;34m90\u001b[0m)             │         \u001b[38;5;34m7,290\u001b[0m │\n",
       "├─────────────────────────────────┼────────────────────────┼───────────────┤\n",
       "│ layer_3 (\u001b[38;5;33mDense\u001b[0m)                 │ (\u001b[38;5;45mNone\u001b[0m, \u001b[38;5;34m80\u001b[0m)             │         \u001b[38;5;34m7,280\u001b[0m │\n",
       "├─────────────────────────────────┼────────────────────────┼───────────────┤\n",
       "│ layer_4 (\u001b[38;5;33mDense\u001b[0m)                 │ (\u001b[38;5;45mNone\u001b[0m, \u001b[38;5;34m80\u001b[0m)             │         \u001b[38;5;34m6,480\u001b[0m │\n",
       "├─────────────────────────────────┼────────────────────────┼───────────────┤\n",
       "│ output (\u001b[38;5;33mDense\u001b[0m)                  │ (\u001b[38;5;45mNone\u001b[0m, \u001b[38;5;34m10\u001b[0m)             │           \u001b[38;5;34m810\u001b[0m │\n",
       "└─────────────────────────────────┴────────────────────────┴───────────────┘\n"
      ]
     },
     "metadata": {},
     "output_type": "display_data"
    },
    {
     "data": {
      "text/html": [
       "<pre style=\"white-space:pre;overflow-x:auto;line-height:normal;font-family:Menlo,'DejaVu Sans Mono',consolas,'Courier New',monospace\"><span style=\"font-weight: bold\"> Total params: </span><span style=\"color: #00af00; text-decoration-color: #00af00\">84,660</span> (330.70 KB)\n",
       "</pre>\n"
      ],
      "text/plain": [
       "\u001b[1m Total params: \u001b[0m\u001b[38;5;34m84,660\u001b[0m (330.70 KB)\n"
      ]
     },
     "metadata": {},
     "output_type": "display_data"
    },
    {
     "data": {
      "text/html": [
       "<pre style=\"white-space:pre;overflow-x:auto;line-height:normal;font-family:Menlo,'DejaVu Sans Mono',consolas,'Courier New',monospace\"><span style=\"font-weight: bold\"> Trainable params: </span><span style=\"color: #00af00; text-decoration-color: #00af00\">84,660</span> (330.70 KB)\n",
       "</pre>\n"
      ],
      "text/plain": [
       "\u001b[1m Trainable params: \u001b[0m\u001b[38;5;34m84,660\u001b[0m (330.70 KB)\n"
      ]
     },
     "metadata": {},
     "output_type": "display_data"
    },
    {
     "data": {
      "text/html": [
       "<pre style=\"white-space:pre;overflow-x:auto;line-height:normal;font-family:Menlo,'DejaVu Sans Mono',consolas,'Courier New',monospace\"><span style=\"font-weight: bold\"> Non-trainable params: </span><span style=\"color: #00af00; text-decoration-color: #00af00\">0</span> (0.00 B)\n",
       "</pre>\n"
      ],
      "text/plain": [
       "\u001b[1m Non-trainable params: \u001b[0m\u001b[38;5;34m0\u001b[0m (0.00 B)\n"
      ]
     },
     "metadata": {},
     "output_type": "display_data"
    }
   ],
   "source": [
    "# modelo\n",
    "model_fm_relu = create_model(name=\"fashionmn_af_relu\", \n",
    "                               shape=train_images[0].shape, \n",
    "                               af=\"relu\",\n",
    "                               output_af=\"softmax\")\n",
    "\n",
    "# compilación\n",
    "opt  = keras.optimizers.Adam(learning_rate=0.001)\n",
    "loss = keras.losses.SparseCategoricalCrossentropy()\n",
    "\n",
    "model_fm_relu.compile(optimizer=opt,\n",
    "                      loss=loss,\n",
    "                      metrics=[\"accuracy\"])\n",
    "\n",
    "model_fm_relu.summary()"
   ]
  },
  {
   "cell_type": "code",
   "execution_count": 18,
   "id": "f1fe1a70",
   "metadata": {},
   "outputs": [
    {
     "name": "stdout",
     "output_type": "stream",
     "text": [
      "Epoch 1/10\n"
     ]
    },
    {
     "name": "stderr",
     "output_type": "stream",
     "text": [
      "2024-06-01 13:08:55.125771: W external/local_tsl/tsl/framework/cpu_allocator_impl.cc:83] Allocation of 150528000 exceeds 10% of free system memory.\n"
     ]
    },
    {
     "name": "stdout",
     "output_type": "stream",
     "text": [
      "\u001b[1m1500/1500\u001b[0m \u001b[32m━━━━━━━━━━━━━━━━━━━━\u001b[0m\u001b[37m\u001b[0m \u001b[1m7s\u001b[0m 4ms/step - accuracy: 0.7444 - loss: 0.7038 - val_accuracy: 0.8535 - val_loss: 0.3979\n",
      "Epoch 2/10\n",
      "\u001b[1m1500/1500\u001b[0m \u001b[32m━━━━━━━━━━━━━━━━━━━━\u001b[0m\u001b[37m\u001b[0m \u001b[1m5s\u001b[0m 3ms/step - accuracy: 0.8577 - loss: 0.3829 - val_accuracy: 0.8531 - val_loss: 0.4102\n",
      "Epoch 3/10\n",
      "\u001b[1m1500/1500\u001b[0m \u001b[32m━━━━━━━━━━━━━━━━━━━━\u001b[0m\u001b[37m\u001b[0m \u001b[1m5s\u001b[0m 4ms/step - accuracy: 0.8670 - loss: 0.3576 - val_accuracy: 0.8621 - val_loss: 0.3977\n",
      "Epoch 4/10\n",
      "\u001b[1m1500/1500\u001b[0m \u001b[32m━━━━━━━━━━━━━━━━━━━━\u001b[0m\u001b[37m\u001b[0m \u001b[1m5s\u001b[0m 3ms/step - accuracy: 0.8787 - loss: 0.3250 - val_accuracy: 0.8751 - val_loss: 0.3590\n",
      "Epoch 5/10\n",
      "\u001b[1m1500/1500\u001b[0m \u001b[32m━━━━━━━━━━━━━━━━━━━━\u001b[0m\u001b[37m\u001b[0m \u001b[1m5s\u001b[0m 3ms/step - accuracy: 0.8879 - loss: 0.3069 - val_accuracy: 0.8770 - val_loss: 0.3437\n",
      "Epoch 6/10\n",
      "\u001b[1m1500/1500\u001b[0m \u001b[32m━━━━━━━━━━━━━━━━━━━━\u001b[0m\u001b[37m\u001b[0m \u001b[1m5s\u001b[0m 3ms/step - accuracy: 0.8942 - loss: 0.2896 - val_accuracy: 0.8776 - val_loss: 0.3383\n",
      "Epoch 7/10\n",
      "\u001b[1m1500/1500\u001b[0m \u001b[32m━━━━━━━━━━━━━━━━━━━━\u001b[0m\u001b[37m\u001b[0m \u001b[1m5s\u001b[0m 4ms/step - accuracy: 0.8992 - loss: 0.2764 - val_accuracy: 0.8844 - val_loss: 0.3272\n",
      "Epoch 8/10\n",
      "\u001b[1m1500/1500\u001b[0m \u001b[32m━━━━━━━━━━━━━━━━━━━━\u001b[0m\u001b[37m\u001b[0m \u001b[1m5s\u001b[0m 3ms/step - accuracy: 0.9017 - loss: 0.2696 - val_accuracy: 0.8803 - val_loss: 0.3423\n",
      "Epoch 9/10\n",
      "\u001b[1m1500/1500\u001b[0m \u001b[32m━━━━━━━━━━━━━━━━━━━━\u001b[0m\u001b[37m\u001b[0m \u001b[1m5s\u001b[0m 4ms/step - accuracy: 0.9019 - loss: 0.2641 - val_accuracy: 0.8798 - val_loss: 0.3368\n",
      "Epoch 10/10\n",
      "\u001b[1m1500/1500\u001b[0m \u001b[32m━━━━━━━━━━━━━━━━━━━━\u001b[0m\u001b[37m\u001b[0m \u001b[1m6s\u001b[0m 4ms/step - accuracy: 0.9064 - loss: 0.2485 - val_accuracy: 0.8778 - val_loss: 0.3444\n",
      "\n",
      "Time to run using relu: 0:00:54.727049\n"
     ]
    }
   ],
   "source": [
    "# Entrenamiento \n",
    "start = datetime.datetime.now()\n",
    "history_fm_relu = model_fm_relu.fit(train_images,\n",
    "                                    train_labels,\n",
    "                                    validation_split=0.2,\n",
    "                                    epochs=10)\n",
    "\n",
    "history_fm_relu = history_fm_relu.history\n",
    "# medimos el tiempo de ejecución\n",
    "time_fm_relu = datetime.datetime.now() - start\n",
    "print(f\"\\nTime to run using relu: {time_fm_relu}\")"
   ]
  },
  {
   "cell_type": "code",
   "execution_count": 19,
   "id": "e455d64d",
   "metadata": {},
   "outputs": [
    {
     "data": {
      "image/png": "[encoded data removed]",
      "text/plain": [
       "<Figure size 720x576 with 1 Axes>"
      ]
     },
     "metadata": {
      "needs_background": "light"
     },
     "output_type": "display_data"
    }
   ],
   "source": [
    "plot_accuracy_loss(history_fm_relu, name=\"ReLU AF\")"
   ]
  },
  {
   "cell_type": "markdown",
   "id": "9d00e6db",
   "metadata": {},
   "source": [
    "En esta ocasión vemos que tanto las métricas como la función de perdida mejoran en cada iteración, contrario a cuando utilizamos la función de activación lineal. "
   ]
  },
  {
   "cell_type": "code",
   "execution_count": 20,
   "id": "3938b9fa",
   "metadata": {},
   "outputs": [
    {
     "name": "stdout",
     "output_type": "stream",
     "text": [
      "\u001b[1m313/313\u001b[0m \u001b[32m━━━━━━━━━━━━━━━━━━━━\u001b[0m\u001b[37m\u001b[0m \u001b[1m1s\u001b[0m 2ms/step - accuracy: 0.8758 - loss: 0.3590\n"
     ]
    }
   ],
   "source": [
    "# Métricas de testeo\n",
    "loss_acc_relu_test = model_fm_relu.evaluate(x=test_images, y=test_labels)"
   ]
  },
  {
   "cell_type": "code",
   "execution_count": 21,
   "id": "cc0830ce",
   "metadata": {},
   "outputs": [
    {
     "name": "stdout",
     "output_type": "stream",
     "text": [
      "\u001b[1m  53/1875\u001b[0m \u001b[37m━━━━━━━━━━━━━━━━━━━━\u001b[0m \u001b[1m3s\u001b[0m 2ms/step - accuracy: 0.9056 - loss: 0.2457"
     ]
    },
    {
     "name": "stderr",
     "output_type": "stream",
     "text": [
      "2024-06-01 13:09:51.291380: W external/local_tsl/tsl/framework/cpu_allocator_impl.cc:83] Allocation of 188160000 exceeds 10% of free system memory.\n"
     ]
    },
    {
     "name": "stdout",
     "output_type": "stream",
     "text": [
      "\u001b[1m1875/1875\u001b[0m \u001b[32m━━━━━━━━━━━━━━━━━━━━\u001b[0m\u001b[37m\u001b[0m \u001b[1m3s\u001b[0m 2ms/step - accuracy: 0.9026 - loss: 0.2605\n"
     ]
    }
   ],
   "source": [
    "# Métricas de entrenamiento\n",
    "loss_acc_relu_train = model_fm_relu.evaluate(x=train_images, y=train_labels)"
   ]
  },
  {
   "cell_type": "markdown",
   "id": "0643f06e",
   "metadata": {},
   "source": [
    "### sigmoide\n",
    "La función de activación sigmoide o logística está definida por:\n",
    "\n",
    "\\begin{eqnarray}\n",
    "    \\text{sig}(x) = \\frac{1}{1+e^{-x}}\n",
    "\\end{eqnarray}\n",
    "\n",
    "Por lo cual su derivada es:\n",
    "\n",
    "\\begin{equation}\n",
    " \\frac{d\\text{sig}}{dx} = \\text{sig}(x)[1-\\text{sig}(x)]\n",
    "\\end{equation}\n",
    "\n",
    "graficamente tenemos\n"
   ]
  },
  {
   "cell_type": "code",
   "execution_count": 22,
   "id": "bb9cd8b6",
   "metadata": {},
   "outputs": [
    {
     "data": {
      "image/png": "[encoded data removed]",
      "text/plain": [
       "<Figure size 720x360 with 2 Axes>"
      ]
     },
     "metadata": {
      "needs_background": "light"
     },
     "output_type": "display_data"
    }
   ],
   "source": [
    "# derivada\n",
    "x = np.linspace(-5, 5, 100)\n",
    "\n",
    "def d_sig(x):\n",
    "    return np.exp(-x)/(1+np.exp(-x))**2\n",
    "\n",
    "d_sig = np.vectorize(d_sig)\n",
    "\n",
    "plot_af(x,\n",
    "        af=keras.activations.sigmoid,\n",
    "        daf=d_sig,\n",
    "        af_ylabel=f\"sig$(x)$\",\n",
    "        daf_ylabel=f\"$d$sig$/dx$\")"
   ]
  },
  {
   "cell_type": "markdown",
   "id": "8b8d4c50",
   "metadata": {},
   "source": [
    "La función sigmoide sólo puede retornar valores positivos pues está acotada entre $0$ y $1$, esto representa de entrada un problema pues puede restringir los pesos durante el entrenamiento retardando así la velocidad de entrenamiento de la red. Su derivada, diferente a la función de activación ReLU, nunca es nula, pero tiende a serlo para valores alejados de cero de la suma ponderada, por lo cual también sufre del problema del desvanecimiento del gradiente, además su derivada no es tan grande como por ejemplo si lo es la de la función tanh que veremos a continuación. \n",
    "\n",
    "La función sigmoide es clasicamente utilizada en la última capa de las redes neuronales cuando se tienen problemas de clasificación binaria. "
   ]
  },
  {
   "cell_type": "code",
   "execution_count": 23,
   "id": "9956b730",
   "metadata": {},
   "outputs": [
    {
     "data": {
      "text/plain": [
       "array([ 0.97627008,  4.30378733,  2.05526752,  0.89766366, -1.52690401,\n",
       "        2.91788226, -1.24825577,  7.83546002,  9.27325521, -2.33116962])"
      ]
     },
     "execution_count": 23,
     "metadata": {},
     "output_type": "execute_result"
    }
   ],
   "source": [
    "xp"
   ]
  },
  {
   "cell_type": "code",
   "execution_count": 24,
   "id": "b736ab44",
   "metadata": {},
   "outputs": [
    {
     "data": {
      "text/plain": [
       "<tf.Tensor: shape=(10,), dtype=float64, numpy=\n",
       "array([0.72636749, 0.98666301, 0.88647879, 0.71046915, 0.17844712,\n",
       "       0.94872337, 0.22300222, 0.9996047 , 0.99990611, 0.0885742 ])>"
      ]
     },
     "execution_count": 24,
     "metadata": {},
     "output_type": "execute_result"
    }
   ],
   "source": [
    "# con sigmoide de keras\n",
    "keras.activations.sigmoid(xp)"
   ]
  },
  {
   "cell_type": "code",
   "execution_count": 25,
   "id": "4042fd86",
   "metadata": {},
   "outputs": [
    {
     "data": {
      "text/plain": [
       "array([0.72636749, 0.98666301, 0.88647879, 0.71046915, 0.17844712,\n",
       "       0.94872337, 0.22300222, 0.9996047 , 0.99990611, 0.0885742 ])"
      ]
     },
     "execution_count": 25,
     "metadata": {},
     "output_type": "execute_result"
    }
   ],
   "source": [
    "# con numpy\n",
    "1/(1+np.exp(-xp))"
   ]
  },
  {
   "cell_type": "markdown",
   "id": "b087b384",
   "metadata": {},
   "source": [
    "Ahora entrenemos un modelo con una función de activación tanh en las capas ocultas. "
   ]
  },
  {
   "cell_type": "code",
   "execution_count": 26,
   "id": "d6c43f36",
   "metadata": {},
   "outputs": [
    {
     "data": {
      "text/html": [
       "<pre style=\"white-space:pre;overflow-x:auto;line-height:normal;font-family:Menlo,'DejaVu Sans Mono',consolas,'Courier New',monospace\"><span style=\"font-weight: bold\">Model: \"fashionmn_af_sigm\"</span>\n",
       "</pre>\n"
      ],
      "text/plain": [
       "\u001b[1mModel: \"fashionmn_af_sigm\"\u001b[0m\n"
      ]
     },
     "metadata": {},
     "output_type": "display_data"
    },
    {
     "data": {
      "text/html": [
       "<pre style=\"white-space:pre;overflow-x:auto;line-height:normal;font-family:Menlo,'DejaVu Sans Mono',consolas,'Courier New',monospace\">┏━━━━━━━━━━━━━━━━━━━━━━━━━━━━━━━━━┳━━━━━━━━━━━━━━━━━━━━━━━━┳━━━━━━━━━━━━━━━┓\n",
       "┃<span style=\"font-weight: bold\"> Layer (type)                    </span>┃<span style=\"font-weight: bold\"> Output Shape           </span>┃<span style=\"font-weight: bold\">       Param # </span>┃\n",
       "┡━━━━━━━━━━━━━━━━━━━━━━━━━━━━━━━━━╇━━━━━━━━━━━━━━━━━━━━━━━━╇━━━━━━━━━━━━━━━┩\n",
       "│ Flatten (<span style=\"color: #0087ff; text-decoration-color: #0087ff\">Flatten</span>)               │ (<span style=\"color: #00d7ff; text-decoration-color: #00d7ff\">None</span>, <span style=\"color: #00af00; text-decoration-color: #00af00\">784</span>)            │             <span style=\"color: #00af00; text-decoration-color: #00af00\">0</span> │\n",
       "├─────────────────────────────────┼────────────────────────┼───────────────┤\n",
       "│ layer_1 (<span style=\"color: #0087ff; text-decoration-color: #0087ff\">Dense</span>)                 │ (<span style=\"color: #00d7ff; text-decoration-color: #00d7ff\">None</span>, <span style=\"color: #00af00; text-decoration-color: #00af00\">80</span>)             │        <span style=\"color: #00af00; text-decoration-color: #00af00\">62,800</span> │\n",
       "├─────────────────────────────────┼────────────────────────┼───────────────┤\n",
       "│ layer_2 (<span style=\"color: #0087ff; text-decoration-color: #0087ff\">Dense</span>)                 │ (<span style=\"color: #00d7ff; text-decoration-color: #00d7ff\">None</span>, <span style=\"color: #00af00; text-decoration-color: #00af00\">90</span>)             │         <span style=\"color: #00af00; text-decoration-color: #00af00\">7,290</span> │\n",
       "├─────────────────────────────────┼────────────────────────┼───────────────┤\n",
       "│ layer_3 (<span style=\"color: #0087ff; text-decoration-color: #0087ff\">Dense</span>)                 │ (<span style=\"color: #00d7ff; text-decoration-color: #00d7ff\">None</span>, <span style=\"color: #00af00; text-decoration-color: #00af00\">80</span>)             │         <span style=\"color: #00af00; text-decoration-color: #00af00\">7,280</span> │\n",
       "├─────────────────────────────────┼────────────────────────┼───────────────┤\n",
       "│ layer_4 (<span style=\"color: #0087ff; text-decoration-color: #0087ff\">Dense</span>)                 │ (<span style=\"color: #00d7ff; text-decoration-color: #00d7ff\">None</span>, <span style=\"color: #00af00; text-decoration-color: #00af00\">80</span>)             │         <span style=\"color: #00af00; text-decoration-color: #00af00\">6,480</span> │\n",
       "├─────────────────────────────────┼────────────────────────┼───────────────┤\n",
       "│ output (<span style=\"color: #0087ff; text-decoration-color: #0087ff\">Dense</span>)                  │ (<span style=\"color: #00d7ff; text-decoration-color: #00d7ff\">None</span>, <span style=\"color: #00af00; text-decoration-color: #00af00\">10</span>)             │           <span style=\"color: #00af00; text-decoration-color: #00af00\">810</span> │\n",
       "└─────────────────────────────────┴────────────────────────┴───────────────┘\n",
       "</pre>\n"
      ],
      "text/plain": [
       "┏━━━━━━━━━━━━━━━━━━━━━━━━━━━━━━━━━┳━━━━━━━━━━━━━━━━━━━━━━━━┳━━━━━━━━━━━━━━━┓\n",
       "┃\u001b[1m \u001b[0m\u001b[1mLayer (type)                   \u001b[0m\u001b[1m \u001b[0m┃\u001b[1m \u001b[0m\u001b[1mOutput Shape          \u001b[0m\u001b[1m \u001b[0m┃\u001b[1m \u001b[0m\u001b[1m      Param #\u001b[0m\u001b[1m \u001b[0m┃\n",
       "┡━━━━━━━━━━━━━━━━━━━━━━━━━━━━━━━━━╇━━━━━━━━━━━━━━━━━━━━━━━━╇━━━━━━━━━━━━━━━┩\n",
       "│ Flatten (\u001b[38;5;33mFlatten\u001b[0m)               │ (\u001b[38;5;45mNone\u001b[0m, \u001b[38;5;34m784\u001b[0m)            │             \u001b[38;5;34m0\u001b[0m │\n",
       "├─────────────────────────────────┼────────────────────────┼───────────────┤\n",
       "│ layer_1 (\u001b[38;5;33mDense\u001b[0m)                 │ (\u001b[38;5;45mNone\u001b[0m, \u001b[38;5;34m80\u001b[0m)             │        \u001b[38;5;34m62,800\u001b[0m │\n",
       "├─────────────────────────────────┼────────────────────────┼───────────────┤\n",
       "│ layer_2 (\u001b[38;5;33mDense\u001b[0m)                 │ (\u001b[38;5;45mNone\u001b[0m, \u001b[38;5;34m90\u001b[0m)             │         \u001b[38;5;34m7,290\u001b[0m │\n",
       "├─────────────────────────────────┼────────────────────────┼───────────────┤\n",
       "│ layer_3 (\u001b[38;5;33mDense\u001b[0m)                 │ (\u001b[38;5;45mNone\u001b[0m, \u001b[38;5;34m80\u001b[0m)             │         \u001b[38;5;34m7,280\u001b[0m │\n",
       "├─────────────────────────────────┼────────────────────────┼───────────────┤\n",
       "│ layer_4 (\u001b[38;5;33mDense\u001b[0m)                 │ (\u001b[38;5;45mNone\u001b[0m, \u001b[38;5;34m80\u001b[0m)             │         \u001b[38;5;34m6,480\u001b[0m │\n",
       "├─────────────────────────────────┼────────────────────────┼───────────────┤\n",
       "│ output (\u001b[38;5;33mDense\u001b[0m)                  │ (\u001b[38;5;45mNone\u001b[0m, \u001b[38;5;34m10\u001b[0m)             │           \u001b[38;5;34m810\u001b[0m │\n",
       "└─────────────────────────────────┴────────────────────────┴───────────────┘\n"
      ]
     },
     "metadata": {},
     "output_type": "display_data"
    },
    {
     "data": {
      "text/html": [
       "<pre style=\"white-space:pre;overflow-x:auto;line-height:normal;font-family:Menlo,'DejaVu Sans Mono',consolas,'Courier New',monospace\"><span style=\"font-weight: bold\"> Total params: </span><span style=\"color: #00af00; text-decoration-color: #00af00\">84,660</span> (330.70 KB)\n",
       "</pre>\n"
      ],
      "text/plain": [
       "\u001b[1m Total params: \u001b[0m\u001b[38;5;34m84,660\u001b[0m (330.70 KB)\n"
      ]
     },
     "metadata": {},
     "output_type": "display_data"
    },
    {
     "data": {
      "text/html": [
       "<pre style=\"white-space:pre;overflow-x:auto;line-height:normal;font-family:Menlo,'DejaVu Sans Mono',consolas,'Courier New',monospace\"><span style=\"font-weight: bold\"> Trainable params: </span><span style=\"color: #00af00; text-decoration-color: #00af00\">84,660</span> (330.70 KB)\n",
       "</pre>\n"
      ],
      "text/plain": [
       "\u001b[1m Trainable params: \u001b[0m\u001b[38;5;34m84,660\u001b[0m (330.70 KB)\n"
      ]
     },
     "metadata": {},
     "output_type": "display_data"
    },
    {
     "data": {
      "text/html": [
       "<pre style=\"white-space:pre;overflow-x:auto;line-height:normal;font-family:Menlo,'DejaVu Sans Mono',consolas,'Courier New',monospace\"><span style=\"font-weight: bold\"> Non-trainable params: </span><span style=\"color: #00af00; text-decoration-color: #00af00\">0</span> (0.00 B)\n",
       "</pre>\n"
      ],
      "text/plain": [
       "\u001b[1m Non-trainable params: \u001b[0m\u001b[38;5;34m0\u001b[0m (0.00 B)\n"
      ]
     },
     "metadata": {},
     "output_type": "display_data"
    }
   ],
   "source": [
    "# modelo\n",
    "model_fm_sig = create_model(name=\"fashionmn_af_sigm\", \n",
    "                             shape=train_images[0].shape, \n",
    "                             af=\"sigmoid\",\n",
    "                             output_af=\"softmax\")\n",
    "\n",
    "# compilación\n",
    "opt  = keras.optimizers.Adam(learning_rate=0.001)\n",
    "loss = keras.losses.SparseCategoricalCrossentropy()\n",
    "\n",
    "model_fm_sig.compile(optimizer=opt,\n",
    "                      loss=loss,\n",
    "                      metrics=[\"accuracy\"])\n",
    "\n",
    "model_fm_sig.summary()"
   ]
  },
  {
   "cell_type": "code",
   "execution_count": 27,
   "id": "5209516e",
   "metadata": {},
   "outputs": [
    {
     "name": "stdout",
     "output_type": "stream",
     "text": [
      "Epoch 1/10\n"
     ]
    },
    {
     "name": "stderr",
     "output_type": "stream",
     "text": [
      "2024-06-01 13:09:57.691645: W external/local_tsl/tsl/framework/cpu_allocator_impl.cc:83] Allocation of 150528000 exceeds 10% of free system memory.\n"
     ]
    },
    {
     "name": "stdout",
     "output_type": "stream",
     "text": [
      "\u001b[1m1500/1500\u001b[0m \u001b[32m━━━━━━━━━━━━━━━━━━━━\u001b[0m\u001b[37m\u001b[0m \u001b[1m7s\u001b[0m 3ms/step - accuracy: 0.4068 - loss: 1.4904 - val_accuracy: 0.7797 - val_loss: 0.5923\n",
      "Epoch 2/10\n",
      "\u001b[1m1500/1500\u001b[0m \u001b[32m━━━━━━━━━━━━━━━━━━━━\u001b[0m\u001b[37m\u001b[0m \u001b[1m5s\u001b[0m 3ms/step - accuracy: 0.8051 - loss: 0.5325 - val_accuracy: 0.8332 - val_loss: 0.4647\n",
      "Epoch 3/10\n",
      "\u001b[1m1500/1500\u001b[0m \u001b[32m━━━━━━━━━━━━━━━━━━━━\u001b[0m\u001b[37m\u001b[0m \u001b[1m5s\u001b[0m 3ms/step - accuracy: 0.8533 - loss: 0.4242 - val_accuracy: 0.8490 - val_loss: 0.4307\n",
      "Epoch 4/10\n",
      "\u001b[1m1500/1500\u001b[0m \u001b[32m━━━━━━━━━━━━━━━━━━━━\u001b[0m\u001b[37m\u001b[0m \u001b[1m5s\u001b[0m 3ms/step - accuracy: 0.8694 - loss: 0.3755 - val_accuracy: 0.8525 - val_loss: 0.4201\n",
      "Epoch 5/10\n",
      "\u001b[1m1500/1500\u001b[0m \u001b[32m━━━━━━━━━━━━━━━━━━━━\u001b[0m\u001b[37m\u001b[0m \u001b[1m5s\u001b[0m 4ms/step - accuracy: 0.8751 - loss: 0.3600 - val_accuracy: 0.8693 - val_loss: 0.3750\n",
      "Epoch 6/10\n",
      "\u001b[1m1500/1500\u001b[0m \u001b[32m━━━━━━━━━━━━━━━━━━━━\u001b[0m\u001b[37m\u001b[0m \u001b[1m5s\u001b[0m 3ms/step - accuracy: 0.8836 - loss: 0.3281 - val_accuracy: 0.8717 - val_loss: 0.3636\n",
      "Epoch 7/10\n",
      "\u001b[1m1500/1500\u001b[0m \u001b[32m━━━━━━━━━━━━━━━━━━━━\u001b[0m\u001b[37m\u001b[0m \u001b[1m5s\u001b[0m 3ms/step - accuracy: 0.8850 - loss: 0.3203 - val_accuracy: 0.8705 - val_loss: 0.3621\n",
      "Epoch 8/10\n",
      "\u001b[1m1500/1500\u001b[0m \u001b[32m━━━━━━━━━━━━━━━━━━━━\u001b[0m\u001b[37m\u001b[0m \u001b[1m5s\u001b[0m 3ms/step - accuracy: 0.8914 - loss: 0.3073 - val_accuracy: 0.8813 - val_loss: 0.3400\n",
      "Epoch 9/10\n",
      "\u001b[1m1500/1500\u001b[0m \u001b[32m━━━━━━━━━━━━━━━━━━━━\u001b[0m\u001b[37m\u001b[0m \u001b[1m5s\u001b[0m 3ms/step - accuracy: 0.8939 - loss: 0.2979 - val_accuracy: 0.8718 - val_loss: 0.3601\n",
      "Epoch 10/10\n",
      "\u001b[1m1500/1500\u001b[0m \u001b[32m━━━━━━━━━━━━━━━━━━━━\u001b[0m\u001b[37m\u001b[0m \u001b[1m5s\u001b[0m 4ms/step - accuracy: 0.8981 - loss: 0.2849 - val_accuracy: 0.8781 - val_loss: 0.3403\n",
      "\n",
      "Time to run using sigmoid: 0:00:53.345955\n"
     ]
    }
   ],
   "source": [
    "# Entrenamiento \n",
    "start = datetime.datetime.now()\n",
    "history_fm_sig = model_fm_sig.fit(train_images,\n",
    "                                  train_labels,\n",
    "                                  validation_split=0.2,\n",
    "                                  epochs=10)\n",
    "\n",
    "history_fm_sig = history_fm_sig.history\n",
    "\n",
    "# medimos el tiempo de ejecución\n",
    "time_fm_sig = datetime.datetime.now() - start\n",
    "print(f\"\\nTime to run using sigmoid: {time_fm_sig}\")"
   ]
  },
  {
   "cell_type": "code",
   "execution_count": 28,
   "id": "7bb92a16",
   "metadata": {},
   "outputs": [
    {
     "data": {
      "image/png": "[encoded data removed]",
      "text/plain": [
       "<Figure size 720x576 with 1 Axes>"
      ]
     },
     "metadata": {
      "needs_background": "light"
     },
     "output_type": "display_data"
    }
   ],
   "source": [
    "plot_accuracy_loss(history_fm_sig, name=\"sigmoid AF\")"
   ]
  },
  {
   "cell_type": "code",
   "execution_count": 29,
   "id": "f9b3da01",
   "metadata": {},
   "outputs": [
    {
     "name": "stdout",
     "output_type": "stream",
     "text": [
      "\u001b[1m313/313\u001b[0m \u001b[32m━━━━━━━━━━━━━━━━━━━━\u001b[0m\u001b[37m\u001b[0m \u001b[1m1s\u001b[0m 2ms/step - accuracy: 0.8724 - loss: 0.3580\n"
     ]
    }
   ],
   "source": [
    "# Métricas de testeo\n",
    "loss_acc_sig_test = model_fm_sig.evaluate(x=test_images, y=test_labels)"
   ]
  },
  {
   "cell_type": "code",
   "execution_count": 30,
   "id": "5e4d4bef",
   "metadata": {},
   "outputs": [
    {
     "name": "stdout",
     "output_type": "stream",
     "text": [
      "\u001b[1m1875/1875\u001b[0m \u001b[32m━━━━━━━━━━━━━━━━━━━━\u001b[0m\u001b[37m\u001b[0m \u001b[1m3s\u001b[0m 2ms/step - accuracy: 0.9011 - loss: 0.2685\n"
     ]
    }
   ],
   "source": [
    "# Métricas de entrenamiento\n",
    "loss_acc_sig_train = model_fm_sig.evaluate(x=train_images, y=train_labels)"
   ]
  },
  {
   "cell_type": "markdown",
   "id": "99a05f02",
   "metadata": {},
   "source": [
    "### tanh\n",
    "\n",
    "La función tangente hiperbólica está definida a partir del uso de funciones exponenciales:\n",
    "\n",
    "\\begin{eqnarray}\n",
    "    \\text{tanh}(x) = \\frac{e^x-e^{-x}}{e^x+e^{-x}}\n",
    "\\end{eqnarray}\n",
    "\n",
    "Por lo cual su derivada es:\n",
    "\n",
    "\\begin{equation}\n",
    " \\frac{d\\text{tanh}}{dx} = 1- \\text{tanh}^2(x)\n",
    "\\end{equation}\n",
    "\n",
    "graficamente tenemos"
   ]
  },
  {
   "cell_type": "code",
   "execution_count": 31,
   "id": "09ced268",
   "metadata": {},
   "outputs": [
    {
     "data": {
      "image/png": "[encoded data removed]",
      "text/plain": [
       "<Figure size 720x360 with 2 Axes>"
      ]
     },
     "metadata": {
      "needs_background": "light"
     },
     "output_type": "display_data"
    }
   ],
   "source": [
    "# derivada\n",
    "x = np.linspace(-5, 5, 100)\n",
    "\n",
    "def d_tanh(x):\n",
    "    return 1 - np.tanh(x)**2\n",
    "\n",
    "d_tanh = np.vectorize(d_tanh)\n",
    "\n",
    "plot_af(x,\n",
    "        af=keras.activations.tanh,\n",
    "        daf=d_tanh,\n",
    "        af_ylabel=f\"tanh$(x)$\",\n",
    "        daf_ylabel=f\"$d$tanh$/dx$\")"
   ]
  },
  {
   "cell_type": "markdown",
   "id": "8e14686d",
   "metadata": {},
   "source": [
    "Una primera apreciación importante es que  la $tanh$ tiene un rango que está entre $-1$ y $1$, es decir, puede tomar valores negativos, contrario a las funciones ReLU y sigmoide que solo retornan valores positivos. Esto podría favorecer un entrenamioento más rápido de la red neuronal. Además, al tener una derivada más pronunciada cerca a cero podría acelerar el proceso de entrenamiento siempre  cuando las sumas ponderadas al interior de la neurona permanezcan \"pequeños\". \n",
    "\n",
    "La función tangente hiperbólica presenta una derivada con valores \"grandes\" cuando está cerca del cero pero tiende a ser nula en los extremos produciendo que el gradiente se desvanezca en esas regiones (más adelante trataremos esto con mayor detalle). Este es un problema para muchas arquitecturas de redes neuronales pues tiende a hacer que la actualización de los pesos se vea frenada cuando la suma ponderada de la neurona es muy grande.\n",
    "\n",
    "Su uso es recomendado para las capas ocultas de redes neuronales recurrentes (RNN) pues precisamente la característica de que tienda a desvanecer el gradiente ayuda a que este no explote, lo cual puede suceder con relativa facilidad en una RNN al usar otras funciones de activación como ReLU. Por otro lado, no se recomienda su uso en las capas ocultas de redes neuronales profundas pues, aunque tanh puede ser útil en capas ocultas, especialmente en redes neuronales recurrentes, también puede sufrir de saturación en estas redes, lo que puede ralentizar el entrenamiento. \n",
    "\n",
    "Tanto la función tanh como la sigmoide se utilizan para problemas de clasificación binarios ubicandolas en la capa de salida de la red. "
   ]
  },
  {
   "cell_type": "code",
   "execution_count": 32,
   "id": "a4fa19e1",
   "metadata": {},
   "outputs": [
    {
     "data": {
      "text/plain": [
       "array([ 0.97627008,  4.30378733,  2.05526752,  0.89766366, -1.52690401,\n",
       "        2.91788226, -1.24825577,  7.83546002,  9.27325521, -2.33116962])"
      ]
     },
     "execution_count": 32,
     "metadata": {},
     "output_type": "execute_result"
    }
   ],
   "source": [
    "xp"
   ]
  },
  {
   "cell_type": "code",
   "execution_count": 33,
   "id": "7d35df15",
   "metadata": {},
   "outputs": [
    {
     "data": {
      "text/plain": [
       "<tf.Tensor: shape=(10,), dtype=float64, numpy=\n",
       "array([ 0.75144671,  0.99963463,  0.96773118,  0.71515836, -0.90989329,\n",
       "        0.99417464, -0.84779381,  0.99999969,  0.99999998, -0.98128803])>"
      ]
     },
     "execution_count": 33,
     "metadata": {},
     "output_type": "execute_result"
    }
   ],
   "source": [
    "# con tanh de keras\n",
    "keras.activations.tanh(xp)"
   ]
  },
  {
   "cell_type": "code",
   "execution_count": 34,
   "id": "6bdcf0ed",
   "metadata": {},
   "outputs": [
    {
     "data": {
      "text/plain": [
       "array([ 0.75144671,  0.99963463,  0.96773118,  0.71515836, -0.90989329,\n",
       "        0.99417464, -0.84779381,  0.99999969,  0.99999998, -0.98128803])"
      ]
     },
     "execution_count": 34,
     "metadata": {},
     "output_type": "execute_result"
    }
   ],
   "source": [
    "# con numpy\n",
    "np.tanh(xp)"
   ]
  },
  {
   "cell_type": "markdown",
   "id": "f054f64b",
   "metadata": {},
   "source": [
    "Ahora entrenemos un modelo con una función de activación tanh en las capas ocultas. "
   ]
  },
  {
   "cell_type": "code",
   "execution_count": 35,
   "id": "deec9fc7",
   "metadata": {},
   "outputs": [
    {
     "data": {
      "text/html": [
       "<pre style=\"white-space:pre;overflow-x:auto;line-height:normal;font-family:Menlo,'DejaVu Sans Mono',consolas,'Courier New',monospace\"><span style=\"font-weight: bold\">Model: \"fashionmn_af_tanh\"</span>\n",
       "</pre>\n"
      ],
      "text/plain": [
       "\u001b[1mModel: \"fashionmn_af_tanh\"\u001b[0m\n"
      ]
     },
     "metadata": {},
     "output_type": "display_data"
    },
    {
     "data": {
      "text/html": [
       "<pre style=\"white-space:pre;overflow-x:auto;line-height:normal;font-family:Menlo,'DejaVu Sans Mono',consolas,'Courier New',monospace\">┏━━━━━━━━━━━━━━━━━━━━━━━━━━━━━━━━━┳━━━━━━━━━━━━━━━━━━━━━━━━┳━━━━━━━━━━━━━━━┓\n",
       "┃<span style=\"font-weight: bold\"> Layer (type)                    </span>┃<span style=\"font-weight: bold\"> Output Shape           </span>┃<span style=\"font-weight: bold\">       Param # </span>┃\n",
       "┡━━━━━━━━━━━━━━━━━━━━━━━━━━━━━━━━━╇━━━━━━━━━━━━━━━━━━━━━━━━╇━━━━━━━━━━━━━━━┩\n",
       "│ Flatten (<span style=\"color: #0087ff; text-decoration-color: #0087ff\">Flatten</span>)               │ (<span style=\"color: #00d7ff; text-decoration-color: #00d7ff\">None</span>, <span style=\"color: #00af00; text-decoration-color: #00af00\">784</span>)            │             <span style=\"color: #00af00; text-decoration-color: #00af00\">0</span> │\n",
       "├─────────────────────────────────┼────────────────────────┼───────────────┤\n",
       "│ layer_1 (<span style=\"color: #0087ff; text-decoration-color: #0087ff\">Dense</span>)                 │ (<span style=\"color: #00d7ff; text-decoration-color: #00d7ff\">None</span>, <span style=\"color: #00af00; text-decoration-color: #00af00\">80</span>)             │        <span style=\"color: #00af00; text-decoration-color: #00af00\">62,800</span> │\n",
       "├─────────────────────────────────┼────────────────────────┼───────────────┤\n",
       "│ layer_2 (<span style=\"color: #0087ff; text-decoration-color: #0087ff\">Dense</span>)                 │ (<span style=\"color: #00d7ff; text-decoration-color: #00d7ff\">None</span>, <span style=\"color: #00af00; text-decoration-color: #00af00\">90</span>)             │         <span style=\"color: #00af00; text-decoration-color: #00af00\">7,290</span> │\n",
       "├─────────────────────────────────┼────────────────────────┼───────────────┤\n",
       "│ layer_3 (<span style=\"color: #0087ff; text-decoration-color: #0087ff\">Dense</span>)                 │ (<span style=\"color: #00d7ff; text-decoration-color: #00d7ff\">None</span>, <span style=\"color: #00af00; text-decoration-color: #00af00\">80</span>)             │         <span style=\"color: #00af00; text-decoration-color: #00af00\">7,280</span> │\n",
       "├─────────────────────────────────┼────────────────────────┼───────────────┤\n",
       "│ layer_4 (<span style=\"color: #0087ff; text-decoration-color: #0087ff\">Dense</span>)                 │ (<span style=\"color: #00d7ff; text-decoration-color: #00d7ff\">None</span>, <span style=\"color: #00af00; text-decoration-color: #00af00\">80</span>)             │         <span style=\"color: #00af00; text-decoration-color: #00af00\">6,480</span> │\n",
       "├─────────────────────────────────┼────────────────────────┼───────────────┤\n",
       "│ output (<span style=\"color: #0087ff; text-decoration-color: #0087ff\">Dense</span>)                  │ (<span style=\"color: #00d7ff; text-decoration-color: #00d7ff\">None</span>, <span style=\"color: #00af00; text-decoration-color: #00af00\">10</span>)             │           <span style=\"color: #00af00; text-decoration-color: #00af00\">810</span> │\n",
       "└─────────────────────────────────┴────────────────────────┴───────────────┘\n",
       "</pre>\n"
      ],
      "text/plain": [
       "┏━━━━━━━━━━━━━━━━━━━━━━━━━━━━━━━━━┳━━━━━━━━━━━━━━━━━━━━━━━━┳━━━━━━━━━━━━━━━┓\n",
       "┃\u001b[1m \u001b[0m\u001b[1mLayer (type)                   \u001b[0m\u001b[1m \u001b[0m┃\u001b[1m \u001b[0m\u001b[1mOutput Shape          \u001b[0m\u001b[1m \u001b[0m┃\u001b[1m \u001b[0m\u001b[1m      Param #\u001b[0m\u001b[1m \u001b[0m┃\n",
       "┡━━━━━━━━━━━━━━━━━━━━━━━━━━━━━━━━━╇━━━━━━━━━━━━━━━━━━━━━━━━╇━━━━━━━━━━━━━━━┩\n",
       "│ Flatten (\u001b[38;5;33mFlatten\u001b[0m)               │ (\u001b[38;5;45mNone\u001b[0m, \u001b[38;5;34m784\u001b[0m)            │             \u001b[38;5;34m0\u001b[0m │\n",
       "├─────────────────────────────────┼────────────────────────┼───────────────┤\n",
       "│ layer_1 (\u001b[38;5;33mDense\u001b[0m)                 │ (\u001b[38;5;45mNone\u001b[0m, \u001b[38;5;34m80\u001b[0m)             │        \u001b[38;5;34m62,800\u001b[0m │\n",
       "├─────────────────────────────────┼────────────────────────┼───────────────┤\n",
       "│ layer_2 (\u001b[38;5;33mDense\u001b[0m)                 │ (\u001b[38;5;45mNone\u001b[0m, \u001b[38;5;34m90\u001b[0m)             │         \u001b[38;5;34m7,290\u001b[0m │\n",
       "├─────────────────────────────────┼────────────────────────┼───────────────┤\n",
       "│ layer_3 (\u001b[38;5;33mDense\u001b[0m)                 │ (\u001b[38;5;45mNone\u001b[0m, \u001b[38;5;34m80\u001b[0m)             │         \u001b[38;5;34m7,280\u001b[0m │\n",
       "├─────────────────────────────────┼────────────────────────┼───────────────┤\n",
       "│ layer_4 (\u001b[38;5;33mDense\u001b[0m)                 │ (\u001b[38;5;45mNone\u001b[0m, \u001b[38;5;34m80\u001b[0m)             │         \u001b[38;5;34m6,480\u001b[0m │\n",
       "├─────────────────────────────────┼────────────────────────┼───────────────┤\n",
       "│ output (\u001b[38;5;33mDense\u001b[0m)                  │ (\u001b[38;5;45mNone\u001b[0m, \u001b[38;5;34m10\u001b[0m)             │           \u001b[38;5;34m810\u001b[0m │\n",
       "└─────────────────────────────────┴────────────────────────┴───────────────┘\n"
      ]
     },
     "metadata": {},
     "output_type": "display_data"
    },
    {
     "data": {
      "text/html": [
       "<pre style=\"white-space:pre;overflow-x:auto;line-height:normal;font-family:Menlo,'DejaVu Sans Mono',consolas,'Courier New',monospace\"><span style=\"font-weight: bold\"> Total params: </span><span style=\"color: #00af00; text-decoration-color: #00af00\">84,660</span> (330.70 KB)\n",
       "</pre>\n"
      ],
      "text/plain": [
       "\u001b[1m Total params: \u001b[0m\u001b[38;5;34m84,660\u001b[0m (330.70 KB)\n"
      ]
     },
     "metadata": {},
     "output_type": "display_data"
    },
    {
     "data": {
      "text/html": [
       "<pre style=\"white-space:pre;overflow-x:auto;line-height:normal;font-family:Menlo,'DejaVu Sans Mono',consolas,'Courier New',monospace\"><span style=\"font-weight: bold\"> Trainable params: </span><span style=\"color: #00af00; text-decoration-color: #00af00\">84,660</span> (330.70 KB)\n",
       "</pre>\n"
      ],
      "text/plain": [
       "\u001b[1m Trainable params: \u001b[0m\u001b[38;5;34m84,660\u001b[0m (330.70 KB)\n"
      ]
     },
     "metadata": {},
     "output_type": "display_data"
    },
    {
     "data": {
      "text/html": [
       "<pre style=\"white-space:pre;overflow-x:auto;line-height:normal;font-family:Menlo,'DejaVu Sans Mono',consolas,'Courier New',monospace\"><span style=\"font-weight: bold\"> Non-trainable params: </span><span style=\"color: #00af00; text-decoration-color: #00af00\">0</span> (0.00 B)\n",
       "</pre>\n"
      ],
      "text/plain": [
       "\u001b[1m Non-trainable params: \u001b[0m\u001b[38;5;34m0\u001b[0m (0.00 B)\n"
      ]
     },
     "metadata": {},
     "output_type": "display_data"
    }
   ],
   "source": [
    "# modelo\n",
    "model_fm_tanh = create_model(name=\"fashionmn_af_tanh\", \n",
    "                             shape=train_images[0].shape, \n",
    "                             af=\"tanh\",\n",
    "                             output_af=\"softmax\")\n",
    "\n",
    "# compilación\n",
    "opt  = keras.optimizers.Adam(learning_rate=0.001)\n",
    "loss = keras.losses.SparseCategoricalCrossentropy()\n",
    "\n",
    "model_fm_tanh.compile(optimizer=opt,\n",
    "                      loss=loss,\n",
    "                      metrics=[\"accuracy\"])\n",
    "\n",
    "model_fm_tanh.summary()"
   ]
  },
  {
   "cell_type": "code",
   "execution_count": 36,
   "id": "6afcc996",
   "metadata": {},
   "outputs": [
    {
     "name": "stdout",
     "output_type": "stream",
     "text": [
      "Epoch 1/10\n",
      "\u001b[1m1500/1500\u001b[0m \u001b[32m━━━━━━━━━━━━━━━━━━━━\u001b[0m\u001b[37m\u001b[0m \u001b[1m7s\u001b[0m 3ms/step - accuracy: 0.7786 - loss: 0.6331 - val_accuracy: 0.8537 - val_loss: 0.3984\n",
      "Epoch 2/10\n",
      "\u001b[1m1500/1500\u001b[0m \u001b[32m━━━━━━━━━━━━━━━━━━━━\u001b[0m\u001b[37m\u001b[0m \u001b[1m5s\u001b[0m 3ms/step - accuracy: 0.8564 - loss: 0.3908 - val_accuracy: 0.8672 - val_loss: 0.3639\n",
      "Epoch 3/10\n",
      "\u001b[1m1500/1500\u001b[0m \u001b[32m━━━━━━━━━━━━━━━━━━━━\u001b[0m\u001b[37m\u001b[0m \u001b[1m5s\u001b[0m 3ms/step - accuracy: 0.8700 - loss: 0.3518 - val_accuracy: 0.8447 - val_loss: 0.4183\n",
      "Epoch 4/10\n",
      "\u001b[1m1500/1500\u001b[0m \u001b[32m━━━━━━━━━━━━━━━━━━━━\u001b[0m\u001b[37m\u001b[0m \u001b[1m5s\u001b[0m 3ms/step - accuracy: 0.8800 - loss: 0.3279 - val_accuracy: 0.8742 - val_loss: 0.3445\n",
      "Epoch 5/10\n",
      "\u001b[1m1500/1500\u001b[0m \u001b[32m━━━━━━━━━━━━━━━━━━━━\u001b[0m\u001b[37m\u001b[0m \u001b[1m5s\u001b[0m 4ms/step - accuracy: 0.8836 - loss: 0.3101 - val_accuracy: 0.8761 - val_loss: 0.3493\n",
      "Epoch 6/10\n",
      "\u001b[1m1500/1500\u001b[0m \u001b[32m━━━━━━━━━━━━━━━━━━━━\u001b[0m\u001b[37m\u001b[0m \u001b[1m5s\u001b[0m 3ms/step - accuracy: 0.8911 - loss: 0.2949 - val_accuracy: 0.8573 - val_loss: 0.3810\n",
      "Epoch 7/10\n",
      "\u001b[1m1500/1500\u001b[0m \u001b[32m━━━━━━━━━━━━━━━━━━━━\u001b[0m\u001b[37m\u001b[0m \u001b[1m5s\u001b[0m 4ms/step - accuracy: 0.8942 - loss: 0.2854 - val_accuracy: 0.8724 - val_loss: 0.3478\n",
      "Epoch 8/10\n",
      "\u001b[1m1500/1500\u001b[0m \u001b[32m━━━━━━━━━━━━━━━━━━━━\u001b[0m\u001b[37m\u001b[0m \u001b[1m5s\u001b[0m 3ms/step - accuracy: 0.8984 - loss: 0.2752 - val_accuracy: 0.8790 - val_loss: 0.3462\n",
      "Epoch 9/10\n",
      "\u001b[1m1500/1500\u001b[0m \u001b[32m━━━━━━━━━━━━━━━━━━━━\u001b[0m\u001b[37m\u001b[0m \u001b[1m5s\u001b[0m 3ms/step - accuracy: 0.9022 - loss: 0.2580 - val_accuracy: 0.8810 - val_loss: 0.3476\n",
      "Epoch 10/10\n",
      "\u001b[1m1500/1500\u001b[0m \u001b[32m━━━━━━━━━━━━━━━━━━━━\u001b[0m\u001b[37m\u001b[0m \u001b[1m6s\u001b[0m 4ms/step - accuracy: 0.9059 - loss: 0.2517 - val_accuracy: 0.8839 - val_loss: 0.3347\n",
      "\n",
      "Time to run using tanh: 0:00:55.174352\n"
     ]
    }
   ],
   "source": [
    "# Entrenamiento \n",
    "start = datetime.datetime.now()\n",
    "history_fm_tanh = model_fm_tanh.fit(train_images,\n",
    "                                    train_labels,\n",
    "                                    validation_split=0.2,\n",
    "                                    epochs=10)\n",
    "\n",
    "history_fm_tanh = history_fm_tanh.history\n",
    "\n",
    "# medimos el tiempo de ejecución\n",
    "time_fm_tanh = datetime.datetime.now() - start\n",
    "print(f\"\\nTime to run using tanh: {time_fm_tanh}\")"
   ]
  },
  {
   "cell_type": "code",
   "execution_count": 37,
   "id": "c1bffbef",
   "metadata": {},
   "outputs": [
    {
     "data": {
      "image/png": "[encoded data removed]",
      "text/plain": [
       "<Figure size 720x576 with 1 Axes>"
      ]
     },
     "metadata": {
      "needs_background": "light"
     },
     "output_type": "display_data"
    }
   ],
   "source": [
    "plot_accuracy_loss(history_fm_tanh, name=\"tanh AF\")"
   ]
  },
  {
   "cell_type": "code",
   "execution_count": 38,
   "id": "7e99da90",
   "metadata": {},
   "outputs": [
    {
     "name": "stdout",
     "output_type": "stream",
     "text": [
      "\u001b[1m313/313\u001b[0m \u001b[32m━━━━━━━━━━━━━━━━━━━━\u001b[0m\u001b[37m\u001b[0m \u001b[1m1s\u001b[0m 2ms/step - accuracy: 0.8749 - loss: 0.3640\n"
     ]
    }
   ],
   "source": [
    "# Métricas de testeo\n",
    "loss_acc_tanh_test = model_fm_tanh.evaluate(x=test_images, y=test_labels)"
   ]
  },
  {
   "cell_type": "code",
   "execution_count": 39,
   "id": "ece53a7b",
   "metadata": {},
   "outputs": [
    {
     "name": "stdout",
     "output_type": "stream",
     "text": [
      "\u001b[1m1875/1875\u001b[0m \u001b[32m━━━━━━━━━━━━━━━━━━━━\u001b[0m\u001b[37m\u001b[0m \u001b[1m3s\u001b[0m 2ms/step - accuracy: 0.9096 - loss: 0.2402\n"
     ]
    }
   ],
   "source": [
    "# Métricas de entrenamiento\n",
    "loss_acc_tanh_train = model_fm_tanh.evaluate(x=train_images, y=train_labels)"
   ]
  },
  {
   "cell_type": "markdown",
   "id": "ab3f4256",
   "metadata": {},
   "source": [
    "### Leaky ReLU\n",
    "\n",
    "Leaky ReLU es una función de activación que aparece como alternativa para resolver los problemas de ReLU (derivada nula para $x<0$), está definida por:\n",
    "\n",
    "\\begin{eqnarray}\n",
    "    \\text{Leaky ReLU}(x) = \\text{max}(\\alpha x,x)\n",
    "\\end{eqnarray}\n",
    "\n",
    "Por lo cual su derivada es:\n",
    "\n",
    "\\begin{equation}\n",
    " \\frac{d\\text{ReLU}}{dx} = \\left\\{ \\begin{array}{lcc} \n",
    "                                                      \\alpha & si & x < 0 \\\\\n",
    "                                                      1 & si & x \\geq 0     \\\\\n",
    "                                   \\end{array}\n",
    "                           \\right.\n",
    "\\end{equation}\n",
    "\n",
    "donde $\\alpha$ es un valor pequeño usualmente \n",
    "\n",
    "graficamente tenemos"
   ]
  },
  {
   "cell_type": "code",
   "execution_count": 40,
   "id": "69f22027",
   "metadata": {},
   "outputs": [
    {
     "data": {
      "image/png": "[encoded data removed]",
      "text/plain": [
       "<Figure size 720x360 with 2 Axes>"
      ]
     },
     "metadata": {
      "needs_background": "light"
     },
     "output_type": "display_data"
    }
   ],
   "source": [
    "# derivada\n",
    "x = np.linspace(-5, 5, 100)\n",
    "\n",
    "alpha = 0.2\n",
    "def d_lrelu(x, alpha=alpha):\n",
    "    if x<0:\n",
    "        return alpha\n",
    "    return 1\n",
    "\n",
    "d_lrelu = np.vectorize(d_lrelu)\n",
    "\n",
    "plot_af(x,\n",
    "        af=keras.activations.leaky_relu,\n",
    "        daf=d_lrelu,\n",
    "        af_ylabel=f\"Leaky ReLU$(x)$\",\n",
    "        daf_ylabel=f\"$d$LReLU$/dx$\", **{\"negative_slope\":alpha})"
   ]
  },
  {
   "cell_type": "markdown",
   "id": "b07dc707",
   "metadata": {},
   "source": [
    "En comparación con ReLU, Al permitir un pequeño gradiente para las entradas negativas, Leaky ReLU evita el problema de que algunas neuronas se vuelvan \"inactivas\", además Leaky ReLU puede ayudar a reducir la probabilidad de que ocurra el desvanecimiento del gradiente en comparación con ReLU, especialmente en redes neuronales más profundas.\n",
    "\n",
    "Leaky ReLU sigue siendo tema de investigación al igual que muchas otras funciones de activación, por esto no siempre se usa para las capas ocultas y sigue siendo más frecuente el uso de ReLU pero quizá esto cambie conforme avancen los estudios sobre las funciones de activación. \n",
    "\n",
    "Una ventaja que tienen tanto ReLU como Leaky ReLU sobre funciones de activación como la logística o tanh que están definidas usando exponenciales y divisiones, es que no son tan costosas computacionalmente hablando, por lo que su uso sigue siendo preferido en las capas ocultas de muhas redes."
   ]
  },
  {
   "cell_type": "code",
   "execution_count": 41,
   "id": "fc399d2c",
   "metadata": {},
   "outputs": [
    {
     "data": {
      "text/plain": [
       "array([ 0.97627008,  4.30378733,  2.05526752,  0.89766366, -1.52690401,\n",
       "        2.91788226, -1.24825577,  7.83546002,  9.27325521, -2.33116962])"
      ]
     },
     "execution_count": 41,
     "metadata": {},
     "output_type": "execute_result"
    }
   ],
   "source": [
    "xp"
   ]
  },
  {
   "cell_type": "code",
   "execution_count": 42,
   "id": "288c58f9",
   "metadata": {},
   "outputs": [
    {
     "data": {
      "text/plain": [
       "<tf.Tensor: shape=(10,), dtype=float64, numpy=\n",
       "array([ 0.97627008,  4.30378733,  2.05526752,  0.89766366, -0.30538081,\n",
       "        2.91788226, -0.24965116,  7.83546002,  9.27325521, -0.46623393])>"
      ]
     },
     "execution_count": 42,
     "metadata": {},
     "output_type": "execute_result"
    }
   ],
   "source": [
    "keras.activations.leaky_relu(xp, negative_slope=alpha)"
   ]
  },
  {
   "cell_type": "code",
   "execution_count": 43,
   "id": "3445fc4a",
   "metadata": {},
   "outputs": [
    {
     "data": {
      "text/html": [
       "<pre style=\"white-space:pre;overflow-x:auto;line-height:normal;font-family:Menlo,'DejaVu Sans Mono',consolas,'Courier New',monospace\"><span style=\"font-weight: bold\">Model: \"fashionmn_af_lrelu\"</span>\n",
       "</pre>\n"
      ],
      "text/plain": [
       "\u001b[1mModel: \"fashionmn_af_lrelu\"\u001b[0m\n"
      ]
     },
     "metadata": {},
     "output_type": "display_data"
    },
    {
     "data": {
      "text/html": [
       "<pre style=\"white-space:pre;overflow-x:auto;line-height:normal;font-family:Menlo,'DejaVu Sans Mono',consolas,'Courier New',monospace\">┏━━━━━━━━━━━━━━━━━━━━━━━━━━━━━━━━━┳━━━━━━━━━━━━━━━━━━━━━━━━┳━━━━━━━━━━━━━━━┓\n",
       "┃<span style=\"font-weight: bold\"> Layer (type)                    </span>┃<span style=\"font-weight: bold\"> Output Shape           </span>┃<span style=\"font-weight: bold\">       Param # </span>┃\n",
       "┡━━━━━━━━━━━━━━━━━━━━━━━━━━━━━━━━━╇━━━━━━━━━━━━━━━━━━━━━━━━╇━━━━━━━━━━━━━━━┩\n",
       "│ Flatten (<span style=\"color: #0087ff; text-decoration-color: #0087ff\">Flatten</span>)               │ (<span style=\"color: #00d7ff; text-decoration-color: #00d7ff\">None</span>, <span style=\"color: #00af00; text-decoration-color: #00af00\">784</span>)            │             <span style=\"color: #00af00; text-decoration-color: #00af00\">0</span> │\n",
       "├─────────────────────────────────┼────────────────────────┼───────────────┤\n",
       "│ layer_1 (<span style=\"color: #0087ff; text-decoration-color: #0087ff\">Dense</span>)                 │ (<span style=\"color: #00d7ff; text-decoration-color: #00d7ff\">None</span>, <span style=\"color: #00af00; text-decoration-color: #00af00\">80</span>)             │        <span style=\"color: #00af00; text-decoration-color: #00af00\">62,800</span> │\n",
       "├─────────────────────────────────┼────────────────────────┼───────────────┤\n",
       "│ layer_2 (<span style=\"color: #0087ff; text-decoration-color: #0087ff\">Dense</span>)                 │ (<span style=\"color: #00d7ff; text-decoration-color: #00d7ff\">None</span>, <span style=\"color: #00af00; text-decoration-color: #00af00\">90</span>)             │         <span style=\"color: #00af00; text-decoration-color: #00af00\">7,290</span> │\n",
       "├─────────────────────────────────┼────────────────────────┼───────────────┤\n",
       "│ layer_3 (<span style=\"color: #0087ff; text-decoration-color: #0087ff\">Dense</span>)                 │ (<span style=\"color: #00d7ff; text-decoration-color: #00d7ff\">None</span>, <span style=\"color: #00af00; text-decoration-color: #00af00\">80</span>)             │         <span style=\"color: #00af00; text-decoration-color: #00af00\">7,280</span> │\n",
       "├─────────────────────────────────┼────────────────────────┼───────────────┤\n",
       "│ layer_4 (<span style=\"color: #0087ff; text-decoration-color: #0087ff\">Dense</span>)                 │ (<span style=\"color: #00d7ff; text-decoration-color: #00d7ff\">None</span>, <span style=\"color: #00af00; text-decoration-color: #00af00\">80</span>)             │         <span style=\"color: #00af00; text-decoration-color: #00af00\">6,480</span> │\n",
       "├─────────────────────────────────┼────────────────────────┼───────────────┤\n",
       "│ output (<span style=\"color: #0087ff; text-decoration-color: #0087ff\">Dense</span>)                  │ (<span style=\"color: #00d7ff; text-decoration-color: #00d7ff\">None</span>, <span style=\"color: #00af00; text-decoration-color: #00af00\">10</span>)             │           <span style=\"color: #00af00; text-decoration-color: #00af00\">810</span> │\n",
       "└─────────────────────────────────┴────────────────────────┴───────────────┘\n",
       "</pre>\n"
      ],
      "text/plain": [
       "┏━━━━━━━━━━━━━━━━━━━━━━━━━━━━━━━━━┳━━━━━━━━━━━━━━━━━━━━━━━━┳━━━━━━━━━━━━━━━┓\n",
       "┃\u001b[1m \u001b[0m\u001b[1mLayer (type)                   \u001b[0m\u001b[1m \u001b[0m┃\u001b[1m \u001b[0m\u001b[1mOutput Shape          \u001b[0m\u001b[1m \u001b[0m┃\u001b[1m \u001b[0m\u001b[1m      Param #\u001b[0m\u001b[1m \u001b[0m┃\n",
       "┡━━━━━━━━━━━━━━━━━━━━━━━━━━━━━━━━━╇━━━━━━━━━━━━━━━━━━━━━━━━╇━━━━━━━━━━━━━━━┩\n",
       "│ Flatten (\u001b[38;5;33mFlatten\u001b[0m)               │ (\u001b[38;5;45mNone\u001b[0m, \u001b[38;5;34m784\u001b[0m)            │             \u001b[38;5;34m0\u001b[0m │\n",
       "├─────────────────────────────────┼────────────────────────┼───────────────┤\n",
       "│ layer_1 (\u001b[38;5;33mDense\u001b[0m)                 │ (\u001b[38;5;45mNone\u001b[0m, \u001b[38;5;34m80\u001b[0m)             │        \u001b[38;5;34m62,800\u001b[0m │\n",
       "├─────────────────────────────────┼────────────────────────┼───────────────┤\n",
       "│ layer_2 (\u001b[38;5;33mDense\u001b[0m)                 │ (\u001b[38;5;45mNone\u001b[0m, \u001b[38;5;34m90\u001b[0m)             │         \u001b[38;5;34m7,290\u001b[0m │\n",
       "├─────────────────────────────────┼────────────────────────┼───────────────┤\n",
       "│ layer_3 (\u001b[38;5;33mDense\u001b[0m)                 │ (\u001b[38;5;45mNone\u001b[0m, \u001b[38;5;34m80\u001b[0m)             │         \u001b[38;5;34m7,280\u001b[0m │\n",
       "├─────────────────────────────────┼────────────────────────┼───────────────┤\n",
       "│ layer_4 (\u001b[38;5;33mDense\u001b[0m)                 │ (\u001b[38;5;45mNone\u001b[0m, \u001b[38;5;34m80\u001b[0m)             │         \u001b[38;5;34m6,480\u001b[0m │\n",
       "├─────────────────────────────────┼────────────────────────┼───────────────┤\n",
       "│ output (\u001b[38;5;33mDense\u001b[0m)                  │ (\u001b[38;5;45mNone\u001b[0m, \u001b[38;5;34m10\u001b[0m)             │           \u001b[38;5;34m810\u001b[0m │\n",
       "└─────────────────────────────────┴────────────────────────┴───────────────┘\n"
      ]
     },
     "metadata": {},
     "output_type": "display_data"
    },
    {
     "data": {
      "text/html": [
       "<pre style=\"white-space:pre;overflow-x:auto;line-height:normal;font-family:Menlo,'DejaVu Sans Mono',consolas,'Courier New',monospace\"><span style=\"font-weight: bold\"> Total params: </span><span style=\"color: #00af00; text-decoration-color: #00af00\">84,660</span> (330.70 KB)\n",
       "</pre>\n"
      ],
      "text/plain": [
       "\u001b[1m Total params: \u001b[0m\u001b[38;5;34m84,660\u001b[0m (330.70 KB)\n"
      ]
     },
     "metadata": {},
     "output_type": "display_data"
    },
    {
     "data": {
      "text/html": [
       "<pre style=\"white-space:pre;overflow-x:auto;line-height:normal;font-family:Menlo,'DejaVu Sans Mono',consolas,'Courier New',monospace\"><span style=\"font-weight: bold\"> Trainable params: </span><span style=\"color: #00af00; text-decoration-color: #00af00\">84,660</span> (330.70 KB)\n",
       "</pre>\n"
      ],
      "text/plain": [
       "\u001b[1m Trainable params: \u001b[0m\u001b[38;5;34m84,660\u001b[0m (330.70 KB)\n"
      ]
     },
     "metadata": {},
     "output_type": "display_data"
    },
    {
     "data": {
      "text/html": [
       "<pre style=\"white-space:pre;overflow-x:auto;line-height:normal;font-family:Menlo,'DejaVu Sans Mono',consolas,'Courier New',monospace\"><span style=\"font-weight: bold\"> Non-trainable params: </span><span style=\"color: #00af00; text-decoration-color: #00af00\">0</span> (0.00 B)\n",
       "</pre>\n"
      ],
      "text/plain": [
       "\u001b[1m Non-trainable params: \u001b[0m\u001b[38;5;34m0\u001b[0m (0.00 B)\n"
      ]
     },
     "metadata": {},
     "output_type": "display_data"
    }
   ],
   "source": [
    "# modelo\n",
    "model_fm_lrelu = create_model(name=\"fashionmn_af_lrelu\", \n",
    "                             shape=train_images[0].shape, \n",
    "                             af=\"leaky_relu\",\n",
    "                             output_af=\"softmax\")\n",
    "\n",
    "# compilación\n",
    "opt  = keras.optimizers.Adam(learning_rate=0.001)\n",
    "loss = keras.losses.SparseCategoricalCrossentropy()\n",
    "\n",
    "model_fm_lrelu.compile(optimizer=opt,\n",
    "                      loss=loss,\n",
    "                      metrics=[\"accuracy\"])\n",
    "\n",
    "model_fm_lrelu.summary()"
   ]
  },
  {
   "cell_type": "code",
   "execution_count": 44,
   "id": "4608c1b4",
   "metadata": {},
   "outputs": [
    {
     "name": "stdout",
     "output_type": "stream",
     "text": [
      "Epoch 1/10\n",
      "\u001b[1m1500/1500\u001b[0m \u001b[32m━━━━━━━━━━━━━━━━━━━━\u001b[0m\u001b[37m\u001b[0m \u001b[1m9s\u001b[0m 5ms/step - accuracy: 0.7581 - loss: 0.6712 - val_accuracy: 0.8340 - val_loss: 0.4534\n",
      "Epoch 2/10\n",
      "\u001b[1m1500/1500\u001b[0m \u001b[32m━━━━━━━━━━━━━━━━━━━━\u001b[0m\u001b[37m\u001b[0m \u001b[1m6s\u001b[0m 4ms/step - accuracy: 0.8523 - loss: 0.4010 - val_accuracy: 0.8653 - val_loss: 0.3671\n",
      "Epoch 3/10\n",
      "\u001b[1m1500/1500\u001b[0m \u001b[32m━━━━━━━━━━━━━━━━━━━━\u001b[0m\u001b[37m\u001b[0m \u001b[1m6s\u001b[0m 4ms/step - accuracy: 0.8712 - loss: 0.3545 - val_accuracy: 0.8708 - val_loss: 0.3569\n",
      "Epoch 4/10\n",
      "\u001b[1m1500/1500\u001b[0m \u001b[32m━━━━━━━━━━━━━━━━━━━━\u001b[0m\u001b[37m\u001b[0m \u001b[1m10s\u001b[0m 3ms/step - accuracy: 0.8775 - loss: 0.3320 - val_accuracy: 0.8703 - val_loss: 0.3546\n",
      "Epoch 5/10\n",
      "\u001b[1m1500/1500\u001b[0m \u001b[32m━━━━━━━━━━━━━━━━━━━━\u001b[0m\u001b[37m\u001b[0m \u001b[1m5s\u001b[0m 4ms/step - accuracy: 0.8808 - loss: 0.3175 - val_accuracy: 0.8766 - val_loss: 0.3494\n",
      "Epoch 6/10\n",
      "\u001b[1m1500/1500\u001b[0m \u001b[32m━━━━━━━━━━━━━━━━━━━━\u001b[0m\u001b[37m\u001b[0m \u001b[1m5s\u001b[0m 4ms/step - accuracy: 0.8871 - loss: 0.3039 - val_accuracy: 0.8746 - val_loss: 0.3354\n",
      "Epoch 7/10\n",
      "\u001b[1m1500/1500\u001b[0m \u001b[32m━━━━━━━━━━━━━━━━━━━━\u001b[0m\u001b[37m\u001b[0m \u001b[1m5s\u001b[0m 3ms/step - accuracy: 0.8919 - loss: 0.2838 - val_accuracy: 0.8787 - val_loss: 0.3292\n",
      "Epoch 8/10\n",
      "\u001b[1m1500/1500\u001b[0m \u001b[32m━━━━━━━━━━━━━━━━━━━━\u001b[0m\u001b[37m\u001b[0m \u001b[1m5s\u001b[0m 3ms/step - accuracy: 0.8954 - loss: 0.2788 - val_accuracy: 0.8823 - val_loss: 0.3340\n",
      "Epoch 9/10\n",
      "\u001b[1m1500/1500\u001b[0m \u001b[32m━━━━━━━━━━━━━━━━━━━━\u001b[0m\u001b[37m\u001b[0m \u001b[1m5s\u001b[0m 4ms/step - accuracy: 0.8994 - loss: 0.2675 - val_accuracy: 0.8814 - val_loss: 0.3316\n",
      "Epoch 10/10\n",
      "\u001b[1m1500/1500\u001b[0m \u001b[32m━━━━━━━━━━━━━━━━━━━━\u001b[0m\u001b[37m\u001b[0m \u001b[1m5s\u001b[0m 4ms/step - accuracy: 0.9031 - loss: 0.2584 - val_accuracy: 0.8749 - val_loss: 0.3566\n",
      "\n",
      "Time to run using leaky relu: 0:01:02.798327\n"
     ]
    }
   ],
   "source": [
    "# Entrenamiento \n",
    "start = datetime.datetime.now()\n",
    "history_fm_lrelu = model_fm_lrelu.fit(train_images,\n",
    "                                      train_labels,\n",
    "                                      validation_split=0.2,\n",
    "                                      epochs=10)\n",
    "\n",
    "history_fm_lrelu = history_fm_lrelu.history\n",
    "# medimos el tiempo de ejecución\n",
    "time_fm_lrelu = datetime.datetime.now() - start\n",
    "print(f\"\\nTime to run using leaky relu: {time_fm_lrelu}\")"
   ]
  },
  {
   "cell_type": "code",
   "execution_count": 45,
   "id": "fb839f13",
   "metadata": {},
   "outputs": [
    {
     "data": {
      "image/png": "[encoded data removed]",
      "text/plain": [
       "<Figure size 720x576 with 1 Axes>"
      ]
     },
     "metadata": {
      "needs_background": "light"
     },
     "output_type": "display_data"
    }
   ],
   "source": [
    "plot_accuracy_loss(history_fm_lrelu, name=\"Leaky ReLU AF\")"
   ]
  },
  {
   "cell_type": "code",
   "execution_count": 46,
   "id": "1bc62508",
   "metadata": {},
   "outputs": [
    {
     "name": "stdout",
     "output_type": "stream",
     "text": [
      "\u001b[1m313/313\u001b[0m \u001b[32m━━━━━━━━━━━━━━━━━━━━\u001b[0m\u001b[37m\u001b[0m \u001b[1m1s\u001b[0m 2ms/step - accuracy: 0.8638 - loss: 0.3765\n"
     ]
    }
   ],
   "source": [
    "# Métricas de testeo\n",
    "loss_acc_lrelu_test = model_fm_lrelu.evaluate(x=test_images, y=test_labels)"
   ]
  },
  {
   "cell_type": "code",
   "execution_count": 47,
   "id": "c214f700",
   "metadata": {},
   "outputs": [
    {
     "name": "stdout",
     "output_type": "stream",
     "text": [
      "\u001b[1m1875/1875\u001b[0m \u001b[32m━━━━━━━━━━━━━━━━━━━━\u001b[0m\u001b[37m\u001b[0m \u001b[1m3s\u001b[0m 2ms/step - accuracy: 0.8967 - loss: 0.2688\n"
     ]
    }
   ],
   "source": [
    "# Métricas de entrenamiento\n",
    "loss_acc_lrelu_train = model_fm_lrelu.evaluate(x=train_images, y=train_labels)"
   ]
  },
  {
   "cell_type": "markdown",
   "id": "81b272c3",
   "metadata": {},
   "source": [
    "### ELU\n",
    "El estudio de las funciones de activación es un campo bastante activo, entre las últimas propuestas tenemos ELU, Exponential Linear Units, definida como:\n",
    "\n",
    "\\begin{eqnarray}\n",
    "    \\text{ELU}(x) = \\left\\{ \\begin{array}{lcc} \n",
    "                                                      \\alpha(e^x-1) & si & x < 0 \\\\\n",
    "                                                      x  & si & x \\geq 0     \\\\\n",
    "                                   \\end{array}\n",
    "                           \\right.\n",
    "\\end{eqnarray}\n",
    "\n",
    "Por lo cual su derivada es:\n",
    "\n",
    "\\begin{equation}\n",
    " \\frac{d\\text{ReLU}}{dx} = \\left\\{ \\begin{array}{lcc} \n",
    "                                                      \\alpha e^x & si & x < 0 \\\\\n",
    "                                                      1 & si & x \\geq 0     \\\\\n",
    "                                   \\end{array}\n",
    "                           \\right.\n",
    "\\end{equation}\n",
    "\n",
    "donde $\\alpha$ es un parámetro que se suele establecer igual $1$.\n",
    "\n",
    "graficamente tenemos"
   ]
  },
  {
   "cell_type": "code",
   "execution_count": 48,
   "id": "c501fd49",
   "metadata": {},
   "outputs": [
    {
     "data": {
      "image/png": "[encoded data removed]",
      "text/plain": [
       "<Figure size 720x360 with 2 Axes>"
      ]
     },
     "metadata": {
      "needs_background": "light"
     },
     "output_type": "display_data"
    }
   ],
   "source": [
    "# derivada\n",
    "x = np.linspace(-5, 5, 100)\n",
    "\n",
    "alpha = 1\n",
    "def d_elu(x, alpha=alpha):\n",
    "    if x<0:\n",
    "        return alpha*np.exp(x)\n",
    "    return 1\n",
    "\n",
    "d_elu = np.vectorize(d_elu)\n",
    "\n",
    "plot_af(x,\n",
    "        af=keras.activations.elu,\n",
    "        daf=d_elu,\n",
    "        af_ylabel=f\"ELU$(x)$\",\n",
    "        daf_ylabel=f\"$d$ELU$/dx$\", **{\"alpha\":alpha})"
   ]
  },
  {
   "cell_type": "markdown",
   "id": "0dc05891",
   "metadata": {},
   "source": [
    "Al igual que Leaky ReLU, ELU viene a solventar algunos de los problemas de ReLU como lo son las neuronas muertas. A diferencia de Leaky ReLu, ELU es más suave por lo que su derivadda  también tiende a serlo permitiendo un mejor entrenamiento en capas ocultas. Aún así, ELU es computacionalmente más costosa por la presencia del exponencial. "
   ]
  },
  {
   "cell_type": "code",
   "execution_count": 49,
   "id": "22d8bf13",
   "metadata": {},
   "outputs": [
    {
     "data": {
      "text/plain": [
       "array([ 0.97627008,  4.30378733,  2.05526752,  0.89766366, -1.52690401,\n",
       "        2.91788226, -1.24825577,  7.83546002,  9.27325521, -2.33116962])"
      ]
     },
     "execution_count": 49,
     "metadata": {},
     "output_type": "execute_result"
    }
   ],
   "source": [
    "xp"
   ]
  },
  {
   "cell_type": "code",
   "execution_count": 50,
   "id": "7c730baa",
   "metadata": {},
   "outputs": [
    {
     "data": {
      "text/plain": [
       "<tf.Tensor: shape=(10,), dtype=float64, numpy=\n",
       "array([ 0.97627008,  4.30378733,  2.05526752,  0.89766366, -0.7827929 ,\n",
       "        2.91788226, -0.71299504,  7.83546002,  9.27325521, -0.90281799])>"
      ]
     },
     "execution_count": 50,
     "metadata": {},
     "output_type": "execute_result"
    }
   ],
   "source": [
    "keras.activations.elu(xp)"
   ]
  },
  {
   "cell_type": "code",
   "execution_count": 51,
   "id": "e0746612",
   "metadata": {},
   "outputs": [
    {
     "data": {
      "text/html": [
       "<pre style=\"white-space:pre;overflow-x:auto;line-height:normal;font-family:Menlo,'DejaVu Sans Mono',consolas,'Courier New',monospace\"><span style=\"font-weight: bold\">Model: \"fashionmn_af_elu\"</span>\n",
       "</pre>\n"
      ],
      "text/plain": [
       "\u001b[1mModel: \"fashionmn_af_elu\"\u001b[0m\n"
      ]
     },
     "metadata": {},
     "output_type": "display_data"
    },
    {
     "data": {
      "text/html": [
       "<pre style=\"white-space:pre;overflow-x:auto;line-height:normal;font-family:Menlo,'DejaVu Sans Mono',consolas,'Courier New',monospace\">┏━━━━━━━━━━━━━━━━━━━━━━━━━━━━━━━━━┳━━━━━━━━━━━━━━━━━━━━━━━━┳━━━━━━━━━━━━━━━┓\n",
       "┃<span style=\"font-weight: bold\"> Layer (type)                    </span>┃<span style=\"font-weight: bold\"> Output Shape           </span>┃<span style=\"font-weight: bold\">       Param # </span>┃\n",
       "┡━━━━━━━━━━━━━━━━━━━━━━━━━━━━━━━━━╇━━━━━━━━━━━━━━━━━━━━━━━━╇━━━━━━━━━━━━━━━┩\n",
       "│ Flatten (<span style=\"color: #0087ff; text-decoration-color: #0087ff\">Flatten</span>)               │ (<span style=\"color: #00d7ff; text-decoration-color: #00d7ff\">None</span>, <span style=\"color: #00af00; text-decoration-color: #00af00\">784</span>)            │             <span style=\"color: #00af00; text-decoration-color: #00af00\">0</span> │\n",
       "├─────────────────────────────────┼────────────────────────┼───────────────┤\n",
       "│ layer_1 (<span style=\"color: #0087ff; text-decoration-color: #0087ff\">Dense</span>)                 │ (<span style=\"color: #00d7ff; text-decoration-color: #00d7ff\">None</span>, <span style=\"color: #00af00; text-decoration-color: #00af00\">80</span>)             │        <span style=\"color: #00af00; text-decoration-color: #00af00\">62,800</span> │\n",
       "├─────────────────────────────────┼────────────────────────┼───────────────┤\n",
       "│ layer_2 (<span style=\"color: #0087ff; text-decoration-color: #0087ff\">Dense</span>)                 │ (<span style=\"color: #00d7ff; text-decoration-color: #00d7ff\">None</span>, <span style=\"color: #00af00; text-decoration-color: #00af00\">90</span>)             │         <span style=\"color: #00af00; text-decoration-color: #00af00\">7,290</span> │\n",
       "├─────────────────────────────────┼────────────────────────┼───────────────┤\n",
       "│ layer_3 (<span style=\"color: #0087ff; text-decoration-color: #0087ff\">Dense</span>)                 │ (<span style=\"color: #00d7ff; text-decoration-color: #00d7ff\">None</span>, <span style=\"color: #00af00; text-decoration-color: #00af00\">80</span>)             │         <span style=\"color: #00af00; text-decoration-color: #00af00\">7,280</span> │\n",
       "├─────────────────────────────────┼────────────────────────┼───────────────┤\n",
       "│ layer_4 (<span style=\"color: #0087ff; text-decoration-color: #0087ff\">Dense</span>)                 │ (<span style=\"color: #00d7ff; text-decoration-color: #00d7ff\">None</span>, <span style=\"color: #00af00; text-decoration-color: #00af00\">80</span>)             │         <span style=\"color: #00af00; text-decoration-color: #00af00\">6,480</span> │\n",
       "├─────────────────────────────────┼────────────────────────┼───────────────┤\n",
       "│ output (<span style=\"color: #0087ff; text-decoration-color: #0087ff\">Dense</span>)                  │ (<span style=\"color: #00d7ff; text-decoration-color: #00d7ff\">None</span>, <span style=\"color: #00af00; text-decoration-color: #00af00\">10</span>)             │           <span style=\"color: #00af00; text-decoration-color: #00af00\">810</span> │\n",
       "└─────────────────────────────────┴────────────────────────┴───────────────┘\n",
       "</pre>\n"
      ],
      "text/plain": [
       "┏━━━━━━━━━━━━━━━━━━━━━━━━━━━━━━━━━┳━━━━━━━━━━━━━━━━━━━━━━━━┳━━━━━━━━━━━━━━━┓\n",
       "┃\u001b[1m \u001b[0m\u001b[1mLayer (type)                   \u001b[0m\u001b[1m \u001b[0m┃\u001b[1m \u001b[0m\u001b[1mOutput Shape          \u001b[0m\u001b[1m \u001b[0m┃\u001b[1m \u001b[0m\u001b[1m      Param #\u001b[0m\u001b[1m \u001b[0m┃\n",
       "┡━━━━━━━━━━━━━━━━━━━━━━━━━━━━━━━━━╇━━━━━━━━━━━━━━━━━━━━━━━━╇━━━━━━━━━━━━━━━┩\n",
       "│ Flatten (\u001b[38;5;33mFlatten\u001b[0m)               │ (\u001b[38;5;45mNone\u001b[0m, \u001b[38;5;34m784\u001b[0m)            │             \u001b[38;5;34m0\u001b[0m │\n",
       "├─────────────────────────────────┼────────────────────────┼───────────────┤\n",
       "│ layer_1 (\u001b[38;5;33mDense\u001b[0m)                 │ (\u001b[38;5;45mNone\u001b[0m, \u001b[38;5;34m80\u001b[0m)             │        \u001b[38;5;34m62,800\u001b[0m │\n",
       "├─────────────────────────────────┼────────────────────────┼───────────────┤\n",
       "│ layer_2 (\u001b[38;5;33mDense\u001b[0m)                 │ (\u001b[38;5;45mNone\u001b[0m, \u001b[38;5;34m90\u001b[0m)             │         \u001b[38;5;34m7,290\u001b[0m │\n",
       "├─────────────────────────────────┼────────────────────────┼───────────────┤\n",
       "│ layer_3 (\u001b[38;5;33mDense\u001b[0m)                 │ (\u001b[38;5;45mNone\u001b[0m, \u001b[38;5;34m80\u001b[0m)             │         \u001b[38;5;34m7,280\u001b[0m │\n",
       "├─────────────────────────────────┼────────────────────────┼───────────────┤\n",
       "│ layer_4 (\u001b[38;5;33mDense\u001b[0m)                 │ (\u001b[38;5;45mNone\u001b[0m, \u001b[38;5;34m80\u001b[0m)             │         \u001b[38;5;34m6,480\u001b[0m │\n",
       "├─────────────────────────────────┼────────────────────────┼───────────────┤\n",
       "│ output (\u001b[38;5;33mDense\u001b[0m)                  │ (\u001b[38;5;45mNone\u001b[0m, \u001b[38;5;34m10\u001b[0m)             │           \u001b[38;5;34m810\u001b[0m │\n",
       "└─────────────────────────────────┴────────────────────────┴───────────────┘\n"
      ]
     },
     "metadata": {},
     "output_type": "display_data"
    },
    {
     "data": {
      "text/html": [
       "<pre style=\"white-space:pre;overflow-x:auto;line-height:normal;font-family:Menlo,'DejaVu Sans Mono',consolas,'Courier New',monospace\"><span style=\"font-weight: bold\"> Total params: </span><span style=\"color: #00af00; text-decoration-color: #00af00\">84,660</span> (330.70 KB)\n",
       "</pre>\n"
      ],
      "text/plain": [
       "\u001b[1m Total params: \u001b[0m\u001b[38;5;34m84,660\u001b[0m (330.70 KB)\n"
      ]
     },
     "metadata": {},
     "output_type": "display_data"
    },
    {
     "data": {
      "text/html": [
       "<pre style=\"white-space:pre;overflow-x:auto;line-height:normal;font-family:Menlo,'DejaVu Sans Mono',consolas,'Courier New',monospace\"><span style=\"font-weight: bold\"> Trainable params: </span><span style=\"color: #00af00; text-decoration-color: #00af00\">84,660</span> (330.70 KB)\n",
       "</pre>\n"
      ],
      "text/plain": [
       "\u001b[1m Trainable params: \u001b[0m\u001b[38;5;34m84,660\u001b[0m (330.70 KB)\n"
      ]
     },
     "metadata": {},
     "output_type": "display_data"
    },
    {
     "data": {
      "text/html": [
       "<pre style=\"white-space:pre;overflow-x:auto;line-height:normal;font-family:Menlo,'DejaVu Sans Mono',consolas,'Courier New',monospace\"><span style=\"font-weight: bold\"> Non-trainable params: </span><span style=\"color: #00af00; text-decoration-color: #00af00\">0</span> (0.00 B)\n",
       "</pre>\n"
      ],
      "text/plain": [
       "\u001b[1m Non-trainable params: \u001b[0m\u001b[38;5;34m0\u001b[0m (0.00 B)\n"
      ]
     },
     "metadata": {},
     "output_type": "display_data"
    }
   ],
   "source": [
    "# modelo\n",
    "model_fm_elu = create_model(name=\"fashionmn_af_elu\", \n",
    "                            shape=train_images[0].shape, \n",
    "                            af=\"elu\",\n",
    "                            output_af=\"softmax\")\n",
    "\n",
    "# compilación\n",
    "opt  = keras.optimizers.Adam(learning_rate=0.001)\n",
    "loss = keras.losses.SparseCategoricalCrossentropy()\n",
    "\n",
    "model_fm_elu.compile(optimizer=opt,\n",
    "                     loss=loss,\n",
    "                     metrics=[\"accuracy\"])\n",
    "\n",
    "model_fm_elu.summary()"
   ]
  },
  {
   "cell_type": "code",
   "execution_count": 52,
   "id": "1dac57a6",
   "metadata": {},
   "outputs": [
    {
     "name": "stdout",
     "output_type": "stream",
     "text": [
      "Epoch 1/10\n",
      "\u001b[1m1500/1500\u001b[0m \u001b[32m━━━━━━━━━━━━━━━━━━━━\u001b[0m\u001b[37m\u001b[0m \u001b[1m7s\u001b[0m 4ms/step - accuracy: 0.7696 - loss: 0.6343 - val_accuracy: 0.8366 - val_loss: 0.4521\n",
      "Epoch 2/10\n",
      "\u001b[1m1500/1500\u001b[0m \u001b[32m━━━━━━━━━━━━━━━━━━━━\u001b[0m\u001b[37m\u001b[0m \u001b[1m6s\u001b[0m 4ms/step - accuracy: 0.8556 - loss: 0.3902 - val_accuracy: 0.8627 - val_loss: 0.3814\n",
      "Epoch 3/10\n",
      "\u001b[1m1500/1500\u001b[0m \u001b[32m━━━━━━━━━━━━━━━━━━━━\u001b[0m\u001b[37m\u001b[0m \u001b[1m6s\u001b[0m 4ms/step - accuracy: 0.8687 - loss: 0.3476 - val_accuracy: 0.8587 - val_loss: 0.3775\n",
      "Epoch 4/10\n",
      "\u001b[1m1500/1500\u001b[0m \u001b[32m━━━━━━━━━━━━━━━━━━━━\u001b[0m\u001b[37m\u001b[0m \u001b[1m5s\u001b[0m 4ms/step - accuracy: 0.8803 - loss: 0.3235 - val_accuracy: 0.8635 - val_loss: 0.3686\n",
      "Epoch 5/10\n",
      "\u001b[1m1500/1500\u001b[0m \u001b[32m━━━━━━━━━━━━━━━━━━━━\u001b[0m\u001b[37m\u001b[0m \u001b[1m6s\u001b[0m 4ms/step - accuracy: 0.8846 - loss: 0.3064 - val_accuracy: 0.8655 - val_loss: 0.3692\n",
      "Epoch 6/10\n",
      "\u001b[1m1500/1500\u001b[0m \u001b[32m━━━━━━━━━━━━━━━━━━━━\u001b[0m\u001b[37m\u001b[0m \u001b[1m6s\u001b[0m 4ms/step - accuracy: 0.8936 - loss: 0.2845 - val_accuracy: 0.8865 - val_loss: 0.3196\n",
      "Epoch 7/10\n",
      "\u001b[1m1500/1500\u001b[0m \u001b[32m━━━━━━━━━━━━━━━━━━━━\u001b[0m\u001b[37m\u001b[0m \u001b[1m6s\u001b[0m 4ms/step - accuracy: 0.8979 - loss: 0.2711 - val_accuracy: 0.8799 - val_loss: 0.3397\n",
      "Epoch 8/10\n",
      "\u001b[1m1500/1500\u001b[0m \u001b[32m━━━━━━━━━━━━━━━━━━━━\u001b[0m\u001b[37m\u001b[0m \u001b[1m6s\u001b[0m 4ms/step - accuracy: 0.9024 - loss: 0.2590 - val_accuracy: 0.8817 - val_loss: 0.3210\n",
      "Epoch 9/10\n",
      "\u001b[1m1500/1500\u001b[0m \u001b[32m━━━━━━━━━━━━━━━━━━━━\u001b[0m\u001b[37m\u001b[0m \u001b[1m6s\u001b[0m 4ms/step - accuracy: 0.9041 - loss: 0.2524 - val_accuracy: 0.8825 - val_loss: 0.3356\n",
      "Epoch 10/10\n",
      "\u001b[1m1500/1500\u001b[0m \u001b[32m━━━━━━━━━━━━━━━━━━━━\u001b[0m\u001b[37m\u001b[0m \u001b[1m7s\u001b[0m 4ms/step - accuracy: 0.9097 - loss: 0.2363 - val_accuracy: 0.8847 - val_loss: 0.3300\n",
      "\n",
      "Time to run using elu: 0:01:01.172683\n"
     ]
    }
   ],
   "source": [
    "# Entrenamiento \n",
    "start = datetime.datetime.now()\n",
    "history_fm_elu = model_fm_elu.fit(train_images,\n",
    "                                  train_labels,\n",
    "                                  validation_split=0.2,\n",
    "                                  epochs=10)\n",
    "\n",
    "history_fm_elu = history_fm_elu.history\n",
    "\n",
    "# medimos el tiempo de ejecución\n",
    "time_fm_elu = datetime.datetime.now() - start\n",
    "print(f\"\\nTime to run using elu: {time_fm_elu}\")"
   ]
  },
  {
   "cell_type": "code",
   "execution_count": 53,
   "id": "4d3d8f93",
   "metadata": {},
   "outputs": [
    {
     "data": {
      "image/png": "[encoded data removed]",
      "text/plain": [
       "<Figure size 720x576 with 1 Axes>"
      ]
     },
     "metadata": {
      "needs_background": "light"
     },
     "output_type": "display_data"
    }
   ],
   "source": [
    "plot_accuracy_loss(history_fm_elu, name=\"ELU AF\")"
   ]
  },
  {
   "cell_type": "code",
   "execution_count": 54,
   "id": "0f60993d",
   "metadata": {},
   "outputs": [
    {
     "name": "stdout",
     "output_type": "stream",
     "text": [
      "\u001b[1m313/313\u001b[0m \u001b[32m━━━━━━━━━━━━━━━━━━━━\u001b[0m\u001b[37m\u001b[0m \u001b[1m1s\u001b[0m 2ms/step - accuracy: 0.8692 - loss: 0.3519\n"
     ]
    }
   ],
   "source": [
    "# Métricas de testeo\n",
    "loss_acc_elu_test = model_fm_elu.evaluate(x=test_images, y=test_labels)"
   ]
  },
  {
   "cell_type": "code",
   "execution_count": 55,
   "id": "b425ac84",
   "metadata": {},
   "outputs": [
    {
     "name": "stdout",
     "output_type": "stream",
     "text": [
      "\u001b[1m1875/1875\u001b[0m \u001b[32m━━━━━━━━━━━━━━━━━━━━\u001b[0m\u001b[37m\u001b[0m \u001b[1m3s\u001b[0m 2ms/step - accuracy: 0.9101 - loss: 0.2289\n"
     ]
    }
   ],
   "source": [
    "# Métricas de entrenamiento\n",
    "loss_acc_elu_train = model_fm_elu.evaluate(x=train_images, y=train_labels)"
   ]
  },
  {
   "cell_type": "markdown",
   "id": "bcabc652",
   "metadata": {},
   "source": [
    "### GELU\n",
    "Finalmente vemos la función de activación [GELU](https://arxiv.org/pdf/1606.08415), esá definida como:\n",
    "\n",
    "\\begin{eqnarray}\n",
    "    \\text{ELU}(x) = \\frac{x}{2}\\left[ 1 + \\text{erf}(x/\\sqrt{2}) \\right]\n",
    "\\end{eqnarray}\n",
    "\n",
    "Por lo cual su derivada es:\n",
    "\n",
    "\\begin{equation}\n",
    " \\frac{d\\text{ELU}}{dx} = \\frac{1}{2}\\left[ 1 + \\text{erf}(x/\\sqrt{2}) \\right] + \\frac{x}{\\sqrt{2\\pi}}e^{-x^2/2}\n",
    "\\end{equation}\n",
    "\n",
    "graficamente tenemos"
   ]
  },
  {
   "cell_type": "code",
   "execution_count": 56,
   "id": "28e5b774",
   "metadata": {},
   "outputs": [
    {
     "data": {
      "image/png": "[encoded data removed]",
      "text/plain": [
       "<Figure size 720x360 with 2 Axes>"
      ]
     },
     "metadata": {
      "needs_background": "light"
     },
     "output_type": "display_data"
    }
   ],
   "source": [
    "# derivada\n",
    "from scipy.special import erf\n",
    "\n",
    "x = np.linspace(-5, 5, 100)\n",
    "\n",
    "def d_gelu(x):\n",
    "    return 0.5*(1+erf(x/np.sqrt(2))) + x*np.exp(-x**2/2)/np.sqrt(2*np.pi)\n",
    "\n",
    "d_gelu = np.vectorize(d_gelu)\n",
    "\n",
    "plot_af(x,\n",
    "        af=keras.activations.gelu,\n",
    "        daf=d_gelu,\n",
    "        af_ylabel=f\"GELU$(x)$\",\n",
    "        daf_ylabel=f\"$d$GELU$/dx$\")"
   ]
  },
  {
   "cell_type": "markdown",
   "id": "dc80ab73",
   "metadata": {},
   "source": [
    "Una característica que claramente distingue a GELU de las otras funciones de activación es que no es monótona. Al no serlo, GELU puede capturar relaciones no lineales más complejas entre las características de entrada y la salida de la red neuronal. Esto significa que puede adaptarse mejor a la complejidad de los datos, lo que potencialmente puede llevar a un mejor rendimiento del modelo.\n",
    "Además, su falta de monotonía permite que la función de activación capture relaciones no lineales más complejas en los datos, lo que lleva a un mejor rendimiento del modelo y una mejor capacidad para modelar la variabilidad de los datos del mundo real.\n",
    "\n",
    "UNa gran desventaja de esta función de activación es que es muy costosa computacionalmente devido a la presencia de la función de error que es bastante compleja de calcular. "
   ]
  },
  {
   "cell_type": "code",
   "execution_count": 57,
   "id": "3e6b7757",
   "metadata": {},
   "outputs": [
    {
     "data": {
      "text/plain": [
       "array([ 0.97627008,  4.30378733,  2.05526752,  0.89766366, -1.52690401,\n",
       "        2.91788226, -1.24825577,  7.83546002,  9.27325521, -2.33116962])"
      ]
     },
     "execution_count": 57,
     "metadata": {},
     "output_type": "execute_result"
    }
   ],
   "source": [
    "xp"
   ]
  },
  {
   "cell_type": "code",
   "execution_count": 58,
   "id": "f9d04f5f",
   "metadata": {},
   "outputs": [
    {
     "data": {
      "text/plain": [
       "<tf.Tensor: shape=(10,), dtype=float64, numpy=\n",
       "array([ 0.81570751,  4.3037512 ,  2.01431306,  0.73188094, -0.09679417,\n",
       "        2.9127407 , -0.13227604,  7.83546002,  9.27325521, -0.02301379])>"
      ]
     },
     "execution_count": 58,
     "metadata": {},
     "output_type": "execute_result"
    }
   ],
   "source": [
    "keras.activations.gelu(xp)"
   ]
  },
  {
   "cell_type": "code",
   "execution_count": 59,
   "id": "8a0dd398",
   "metadata": {},
   "outputs": [
    {
     "data": {
      "text/html": [
       "<pre style=\"white-space:pre;overflow-x:auto;line-height:normal;font-family:Menlo,'DejaVu Sans Mono',consolas,'Courier New',monospace\"><span style=\"font-weight: bold\">Model: \"fashionmn_af_gelu\"</span>\n",
       "</pre>\n"
      ],
      "text/plain": [
       "\u001b[1mModel: \"fashionmn_af_gelu\"\u001b[0m\n"
      ]
     },
     "metadata": {},
     "output_type": "display_data"
    },
    {
     "data": {
      "text/html": [
       "<pre style=\"white-space:pre;overflow-x:auto;line-height:normal;font-family:Menlo,'DejaVu Sans Mono',consolas,'Courier New',monospace\">┏━━━━━━━━━━━━━━━━━━━━━━━━━━━━━━━━━┳━━━━━━━━━━━━━━━━━━━━━━━━┳━━━━━━━━━━━━━━━┓\n",
       "┃<span style=\"font-weight: bold\"> Layer (type)                    </span>┃<span style=\"font-weight: bold\"> Output Shape           </span>┃<span style=\"font-weight: bold\">       Param # </span>┃\n",
       "┡━━━━━━━━━━━━━━━━━━━━━━━━━━━━━━━━━╇━━━━━━━━━━━━━━━━━━━━━━━━╇━━━━━━━━━━━━━━━┩\n",
       "│ Flatten (<span style=\"color: #0087ff; text-decoration-color: #0087ff\">Flatten</span>)               │ (<span style=\"color: #00d7ff; text-decoration-color: #00d7ff\">None</span>, <span style=\"color: #00af00; text-decoration-color: #00af00\">784</span>)            │             <span style=\"color: #00af00; text-decoration-color: #00af00\">0</span> │\n",
       "├─────────────────────────────────┼────────────────────────┼───────────────┤\n",
       "│ layer_1 (<span style=\"color: #0087ff; text-decoration-color: #0087ff\">Dense</span>)                 │ (<span style=\"color: #00d7ff; text-decoration-color: #00d7ff\">None</span>, <span style=\"color: #00af00; text-decoration-color: #00af00\">80</span>)             │        <span style=\"color: #00af00; text-decoration-color: #00af00\">62,800</span> │\n",
       "├─────────────────────────────────┼────────────────────────┼───────────────┤\n",
       "│ layer_2 (<span style=\"color: #0087ff; text-decoration-color: #0087ff\">Dense</span>)                 │ (<span style=\"color: #00d7ff; text-decoration-color: #00d7ff\">None</span>, <span style=\"color: #00af00; text-decoration-color: #00af00\">90</span>)             │         <span style=\"color: #00af00; text-decoration-color: #00af00\">7,290</span> │\n",
       "├─────────────────────────────────┼────────────────────────┼───────────────┤\n",
       "│ layer_3 (<span style=\"color: #0087ff; text-decoration-color: #0087ff\">Dense</span>)                 │ (<span style=\"color: #00d7ff; text-decoration-color: #00d7ff\">None</span>, <span style=\"color: #00af00; text-decoration-color: #00af00\">80</span>)             │         <span style=\"color: #00af00; text-decoration-color: #00af00\">7,280</span> │\n",
       "├─────────────────────────────────┼────────────────────────┼───────────────┤\n",
       "│ layer_4 (<span style=\"color: #0087ff; text-decoration-color: #0087ff\">Dense</span>)                 │ (<span style=\"color: #00d7ff; text-decoration-color: #00d7ff\">None</span>, <span style=\"color: #00af00; text-decoration-color: #00af00\">80</span>)             │         <span style=\"color: #00af00; text-decoration-color: #00af00\">6,480</span> │\n",
       "├─────────────────────────────────┼────────────────────────┼───────────────┤\n",
       "│ output (<span style=\"color: #0087ff; text-decoration-color: #0087ff\">Dense</span>)                  │ (<span style=\"color: #00d7ff; text-decoration-color: #00d7ff\">None</span>, <span style=\"color: #00af00; text-decoration-color: #00af00\">10</span>)             │           <span style=\"color: #00af00; text-decoration-color: #00af00\">810</span> │\n",
       "└─────────────────────────────────┴────────────────────────┴───────────────┘\n",
       "</pre>\n"
      ],
      "text/plain": [
       "┏━━━━━━━━━━━━━━━━━━━━━━━━━━━━━━━━━┳━━━━━━━━━━━━━━━━━━━━━━━━┳━━━━━━━━━━━━━━━┓\n",
       "┃\u001b[1m \u001b[0m\u001b[1mLayer (type)                   \u001b[0m\u001b[1m \u001b[0m┃\u001b[1m \u001b[0m\u001b[1mOutput Shape          \u001b[0m\u001b[1m \u001b[0m┃\u001b[1m \u001b[0m\u001b[1m      Param #\u001b[0m\u001b[1m \u001b[0m┃\n",
       "┡━━━━━━━━━━━━━━━━━━━━━━━━━━━━━━━━━╇━━━━━━━━━━━━━━━━━━━━━━━━╇━━━━━━━━━━━━━━━┩\n",
       "│ Flatten (\u001b[38;5;33mFlatten\u001b[0m)               │ (\u001b[38;5;45mNone\u001b[0m, \u001b[38;5;34m784\u001b[0m)            │             \u001b[38;5;34m0\u001b[0m │\n",
       "├─────────────────────────────────┼────────────────────────┼───────────────┤\n",
       "│ layer_1 (\u001b[38;5;33mDense\u001b[0m)                 │ (\u001b[38;5;45mNone\u001b[0m, \u001b[38;5;34m80\u001b[0m)             │        \u001b[38;5;34m62,800\u001b[0m │\n",
       "├─────────────────────────────────┼────────────────────────┼───────────────┤\n",
       "│ layer_2 (\u001b[38;5;33mDense\u001b[0m)                 │ (\u001b[38;5;45mNone\u001b[0m, \u001b[38;5;34m90\u001b[0m)             │         \u001b[38;5;34m7,290\u001b[0m │\n",
       "├─────────────────────────────────┼────────────────────────┼───────────────┤\n",
       "│ layer_3 (\u001b[38;5;33mDense\u001b[0m)                 │ (\u001b[38;5;45mNone\u001b[0m, \u001b[38;5;34m80\u001b[0m)             │         \u001b[38;5;34m7,280\u001b[0m │\n",
       "├─────────────────────────────────┼────────────────────────┼───────────────┤\n",
       "│ layer_4 (\u001b[38;5;33mDense\u001b[0m)                 │ (\u001b[38;5;45mNone\u001b[0m, \u001b[38;5;34m80\u001b[0m)             │         \u001b[38;5;34m6,480\u001b[0m │\n",
       "├─────────────────────────────────┼────────────────────────┼───────────────┤\n",
       "│ output (\u001b[38;5;33mDense\u001b[0m)                  │ (\u001b[38;5;45mNone\u001b[0m, \u001b[38;5;34m10\u001b[0m)             │           \u001b[38;5;34m810\u001b[0m │\n",
       "└─────────────────────────────────┴────────────────────────┴───────────────┘\n"
      ]
     },
     "metadata": {},
     "output_type": "display_data"
    },
    {
     "data": {
      "text/html": [
       "<pre style=\"white-space:pre;overflow-x:auto;line-height:normal;font-family:Menlo,'DejaVu Sans Mono',consolas,'Courier New',monospace\"><span style=\"font-weight: bold\"> Total params: </span><span style=\"color: #00af00; text-decoration-color: #00af00\">84,660</span> (330.70 KB)\n",
       "</pre>\n"
      ],
      "text/plain": [
       "\u001b[1m Total params: \u001b[0m\u001b[38;5;34m84,660\u001b[0m (330.70 KB)\n"
      ]
     },
     "metadata": {},
     "output_type": "display_data"
    },
    {
     "data": {
      "text/html": [
       "<pre style=\"white-space:pre;overflow-x:auto;line-height:normal;font-family:Menlo,'DejaVu Sans Mono',consolas,'Courier New',monospace\"><span style=\"font-weight: bold\"> Trainable params: </span><span style=\"color: #00af00; text-decoration-color: #00af00\">84,660</span> (330.70 KB)\n",
       "</pre>\n"
      ],
      "text/plain": [
       "\u001b[1m Trainable params: \u001b[0m\u001b[38;5;34m84,660\u001b[0m (330.70 KB)\n"
      ]
     },
     "metadata": {},
     "output_type": "display_data"
    },
    {
     "data": {
      "text/html": [
       "<pre style=\"white-space:pre;overflow-x:auto;line-height:normal;font-family:Menlo,'DejaVu Sans Mono',consolas,'Courier New',monospace\"><span style=\"font-weight: bold\"> Non-trainable params: </span><span style=\"color: #00af00; text-decoration-color: #00af00\">0</span> (0.00 B)\n",
       "</pre>\n"
      ],
      "text/plain": [
       "\u001b[1m Non-trainable params: \u001b[0m\u001b[38;5;34m0\u001b[0m (0.00 B)\n"
      ]
     },
     "metadata": {},
     "output_type": "display_data"
    }
   ],
   "source": [
    "# modelo\n",
    "model_fm_gelu = create_model(name=\"fashionmn_af_gelu\", \n",
    "                             shape=train_images[0].shape, \n",
    "                             af=\"gelu\",\n",
    "                             output_af=\"softmax\")\n",
    "\n",
    "# compilación\n",
    "opt  = keras.optimizers.Adam(learning_rate=0.001)\n",
    "loss = keras.losses.SparseCategoricalCrossentropy()\n",
    "\n",
    "model_fm_gelu.compile(optimizer=opt,\n",
    "                      loss=loss,\n",
    "                      metrics=[\"accuracy\"])\n",
    "\n",
    "model_fm_gelu.summary()"
   ]
  },
  {
   "cell_type": "code",
   "execution_count": 60,
   "id": "4ad9b20d",
   "metadata": {},
   "outputs": [
    {
     "name": "stdout",
     "output_type": "stream",
     "text": [
      "Epoch 1/10\n",
      "\u001b[1m1500/1500\u001b[0m \u001b[32m━━━━━━━━━━━━━━━━━━━━\u001b[0m\u001b[37m\u001b[0m \u001b[1m8s\u001b[0m 4ms/step - accuracy: 0.7567 - loss: 0.6742 - val_accuracy: 0.8553 - val_loss: 0.3951\n",
      "Epoch 2/10\n",
      "\u001b[1m1500/1500\u001b[0m \u001b[32m━━━━━━━━━━━━━━━━━━━━\u001b[0m\u001b[37m\u001b[0m \u001b[1m6s\u001b[0m 4ms/step - accuracy: 0.8611 - loss: 0.3772 - val_accuracy: 0.8612 - val_loss: 0.3762\n",
      "Epoch 3/10\n",
      "\u001b[1m1500/1500\u001b[0m \u001b[32m━━━━━━━━━━━━━━━━━━━━\u001b[0m\u001b[37m\u001b[0m \u001b[1m6s\u001b[0m 4ms/step - accuracy: 0.8713 - loss: 0.3456 - val_accuracy: 0.8737 - val_loss: 0.3611\n",
      "Epoch 4/10\n",
      "\u001b[1m1500/1500\u001b[0m \u001b[32m━━━━━━━━━━━━━━━━━━━━\u001b[0m\u001b[37m\u001b[0m \u001b[1m6s\u001b[0m 4ms/step - accuracy: 0.8837 - loss: 0.3130 - val_accuracy: 0.8668 - val_loss: 0.3554\n",
      "Epoch 5/10\n",
      "\u001b[1m1500/1500\u001b[0m \u001b[32m━━━━━━━━━━━━━━━━━━━━\u001b[0m\u001b[37m\u001b[0m \u001b[1m6s\u001b[0m 4ms/step - accuracy: 0.8928 - loss: 0.2873 - val_accuracy: 0.8822 - val_loss: 0.3320\n",
      "Epoch 6/10\n",
      "\u001b[1m1500/1500\u001b[0m \u001b[32m━━━━━━━━━━━━━━━━━━━━\u001b[0m\u001b[37m\u001b[0m \u001b[1m6s\u001b[0m 4ms/step - accuracy: 0.8987 - loss: 0.2714 - val_accuracy: 0.8876 - val_loss: 0.3139\n",
      "Epoch 7/10\n",
      "\u001b[1m1500/1500\u001b[0m \u001b[32m━━━━━━━━━━━━━━━━━━━━\u001b[0m\u001b[37m\u001b[0m \u001b[1m6s\u001b[0m 4ms/step - accuracy: 0.9045 - loss: 0.2537 - val_accuracy: 0.8832 - val_loss: 0.3289\n",
      "Epoch 8/10\n",
      "\u001b[1m1500/1500\u001b[0m \u001b[32m━━━━━━━━━━━━━━━━━━━━\u001b[0m\u001b[37m\u001b[0m \u001b[1m6s\u001b[0m 4ms/step - accuracy: 0.9072 - loss: 0.2438 - val_accuracy: 0.8813 - val_loss: 0.3403\n",
      "Epoch 9/10\n",
      "\u001b[1m1500/1500\u001b[0m \u001b[32m━━━━━━━━━━━━━━━━━━━━\u001b[0m\u001b[37m\u001b[0m \u001b[1m9s\u001b[0m 4ms/step - accuracy: 0.9138 - loss: 0.2330 - val_accuracy: 0.8917 - val_loss: 0.3044\n",
      "Epoch 10/10\n",
      "\u001b[1m1500/1500\u001b[0m \u001b[32m━━━━━━━━━━━━━━━━━━━━\u001b[0m\u001b[37m\u001b[0m \u001b[1m6s\u001b[0m 4ms/step - accuracy: 0.9193 - loss: 0.2198 - val_accuracy: 0.8903 - val_loss: 0.3189\n",
      "\n",
      "Time to run using gelu: 0:01:06.346831\n"
     ]
    }
   ],
   "source": [
    "# Entrenamiento \n",
    "start = datetime.datetime.now()\n",
    "history_fm_gelu = model_fm_gelu.fit(train_images,\n",
    "                                    train_labels,\n",
    "                                    validation_split=0.2,\n",
    "                                    epochs=10)\n",
    "\n",
    "history_fm_gelu = history_fm_gelu.history\n",
    "\n",
    "# medimos el tiempo de ejecución\n",
    "time_fm_gelu = datetime.datetime.now() - start\n",
    "print(f\"\\nTime to run using gelu: {time_fm_gelu}\")"
   ]
  },
  {
   "cell_type": "code",
   "execution_count": 61,
   "id": "c4049b2a",
   "metadata": {},
   "outputs": [
    {
     "data": {
      "image/png": "[encoded data removed]",
      "text/plain": [
       "<Figure size 720x576 with 1 Axes>"
      ]
     },
     "metadata": {
      "needs_background": "light"
     },
     "output_type": "display_data"
    }
   ],
   "source": [
    "plot_accuracy_loss(history_fm_gelu, name=\"GELU AF\")"
   ]
  },
  {
   "cell_type": "code",
   "execution_count": 62,
   "id": "f8138b76",
   "metadata": {},
   "outputs": [
    {
     "name": "stdout",
     "output_type": "stream",
     "text": [
      "\u001b[1m313/313\u001b[0m \u001b[32m━━━━━━━━━━━━━━━━━━━━\u001b[0m\u001b[37m\u001b[0m \u001b[1m1s\u001b[0m 2ms/step - accuracy: 0.8841 - loss: 0.3415\n"
     ]
    }
   ],
   "source": [
    "# Métricas de testeo\n",
    "loss_acc_gelu_test = model_fm_gelu.evaluate(x=test_images, y=test_labels)"
   ]
  },
  {
   "cell_type": "code",
   "execution_count": 63,
   "id": "9480314a",
   "metadata": {},
   "outputs": [
    {
     "name": "stdout",
     "output_type": "stream",
     "text": [
      "\u001b[1m1875/1875\u001b[0m \u001b[32m━━━━━━━━━━━━━━━━━━━━\u001b[0m\u001b[37m\u001b[0m \u001b[1m4s\u001b[0m 2ms/step - accuracy: 0.9237 - loss: 0.1983\n"
     ]
    }
   ],
   "source": [
    "# Métricas de entrenamiento\n",
    "loss_acc_gelu_train = model_fm_gelu.evaluate(x=train_images, y=train_labels)"
   ]
  },
  {
   "cell_type": "markdown",
   "id": "f3575681",
   "metadata": {},
   "source": [
    "### Comparación entre las funciones de activación\n",
    "Ahora analicemos un poco los resultados obtenidos con cada función de activación."
   ]
  },
  {
   "cell_type": "code",
   "execution_count": 64,
   "id": "932368ac",
   "metadata": {},
   "outputs": [
    {
     "data": {
      "text/html": [
       "<div>\n",
       "<style scoped>\n",
       "    .dataframe tbody tr th:only-of-type {\n",
       "        vertical-align: middle;\n",
       "    }\n",
       "\n",
       "    .dataframe tbody tr th {\n",
       "        vertical-align: top;\n",
       "    }\n",
       "\n",
       "    .dataframe thead th {\n",
       "        text-align: right;\n",
       "    }\n",
       "</style>\n",
       "<table border=\"1\" class=\"dataframe\">\n",
       "  <thead>\n",
       "    <tr style=\"text-align: right;\">\n",
       "      <th></th>\n",
       "      <th>time</th>\n",
       "      <th>loss_train</th>\n",
       "      <th>accuracy_train</th>\n",
       "      <th>loss_test</th>\n",
       "      <th>accuracy_test</th>\n",
       "    </tr>\n",
       "  </thead>\n",
       "  <tbody>\n",
       "    <tr>\n",
       "      <th>sigmoid</th>\n",
       "      <td>53.345955</td>\n",
       "      <td>0.282255</td>\n",
       "      <td>0.897200</td>\n",
       "      <td>0.365571</td>\n",
       "      <td>0.8702</td>\n",
       "    </tr>\n",
       "    <tr>\n",
       "      <th>ReLU</th>\n",
       "      <td>54.727049</td>\n",
       "      <td>0.276224</td>\n",
       "      <td>0.898750</td>\n",
       "      <td>0.366958</td>\n",
       "      <td>0.8705</td>\n",
       "    </tr>\n",
       "    <tr>\n",
       "      <th>tanh</th>\n",
       "      <td>55.174352</td>\n",
       "      <td>0.259152</td>\n",
       "      <td>0.904850</td>\n",
       "      <td>0.365886</td>\n",
       "      <td>0.8735</td>\n",
       "    </tr>\n",
       "    <tr>\n",
       "      <th>linear</th>\n",
       "      <td>55.326859</td>\n",
       "      <td>0.438381</td>\n",
       "      <td>0.847933</td>\n",
       "      <td>0.500709</td>\n",
       "      <td>0.8282</td>\n",
       "    </tr>\n",
       "    <tr>\n",
       "      <th>ELU</th>\n",
       "      <td>61.172683</td>\n",
       "      <td>0.249036</td>\n",
       "      <td>0.905167</td>\n",
       "      <td>0.356923</td>\n",
       "      <td>0.8694</td>\n",
       "    </tr>\n",
       "    <tr>\n",
       "      <th>Leaky ReLU</th>\n",
       "      <td>62.798327</td>\n",
       "      <td>0.284587</td>\n",
       "      <td>0.893317</td>\n",
       "      <td>0.380324</td>\n",
       "      <td>0.8662</td>\n",
       "    </tr>\n",
       "    <tr>\n",
       "      <th>GELU</th>\n",
       "      <td>66.346831</td>\n",
       "      <td>0.221259</td>\n",
       "      <td>0.918000</td>\n",
       "      <td>0.339062</td>\n",
       "      <td>0.8862</td>\n",
       "    </tr>\n",
       "  </tbody>\n",
       "</table>\n",
       "</div>"
      ],
      "text/plain": [
       "                 time  loss_train  accuracy_train  loss_test  accuracy_test\n",
       "sigmoid     53.345955    0.282255        0.897200   0.365571         0.8702\n",
       "ReLU        54.727049    0.276224        0.898750   0.366958         0.8705\n",
       "tanh        55.174352    0.259152        0.904850   0.365886         0.8735\n",
       "linear      55.326859    0.438381        0.847933   0.500709         0.8282\n",
       "ELU         61.172683    0.249036        0.905167   0.356923         0.8694\n",
       "Leaky ReLU  62.798327    0.284587        0.893317   0.380324         0.8662\n",
       "GELU        66.346831    0.221259        0.918000   0.339062         0.8862"
      ]
     },
     "execution_count": 64,
     "metadata": {},
     "output_type": "execute_result"
    }
   ],
   "source": [
    "af_info = {\"linear\":     [time_fm_linear.total_seconds(), *loss_acc_linear_train, *loss_acc_linear_test],\n",
    "           \"sigmoid\":    [time_fm_sig.total_seconds(),    *loss_acc_sig_train,    *loss_acc_sig_test],\n",
    "           \"tanh\":       [time_fm_tanh.total_seconds(),   *loss_acc_tanh_train,   *loss_acc_tanh_test],\n",
    "           \"ReLU\":       [time_fm_relu.total_seconds(),   *loss_acc_relu_train,   *loss_acc_relu_test],\n",
    "           \"Leaky ReLU\": [time_fm_lrelu.total_seconds(),  *loss_acc_lrelu_train,  *loss_acc_lrelu_test],\n",
    "           \"ELU\":        [time_fm_elu.total_seconds(),    *loss_acc_elu_train,    *loss_acc_elu_test],\n",
    "           \"GELU\":       [time_fm_gelu.total_seconds(),   *loss_acc_gelu_train,   *loss_acc_gelu_test]\n",
    "           }\n",
    "\n",
    "af_info = pd.DataFrame(af_info, index=[\"time\", \"loss_train\", \"accuracy_train\", \"loss_test\", \"accuracy_test\" ]).T\n",
    "af_info = af_info.sort_values(by=\"time\", ascending=True)\n",
    "af_info"
   ]
  },
  {
   "cell_type": "code",
   "execution_count": 65,
   "id": "13347dc0",
   "metadata": {},
   "outputs": [
    {
     "data": {
      "image/png": "[encoded data removed]",
      "text/plain": [
       "<Figure size 504x360 with 1 Axes>"
      ]
     },
     "metadata": {
      "needs_background": "light"
     },
     "output_type": "display_data"
    }
   ],
   "source": [
    "fig, ax = plt.subplots(figsize=(7,5))\n",
    "af_info.time.plot(kind=\"barh\", ax=ax)\n",
    "\n",
    "ax.set_yticklabels(af_info.index, rotation=0, **font)\n",
    "ax.set_xticks(ticks=np.arange(0,66,5))\n",
    "ax.set_xlabel(\"time (s)\", **font)\n",
    "ax.grid()\n",
    "plt.show()"
   ]
  },
  {
   "cell_type": "code",
   "execution_count": 66,
   "id": "cf0a0b55",
   "metadata": {},
   "outputs": [
    {
     "data": {
      "image/png": "[encoded data removed]",
      "text/plain": [
       "<Figure size 504x576 with 1 Axes>"
      ]
     },
     "metadata": {
      "needs_background": "light"
     },
     "output_type": "display_data"
    }
   ],
   "source": [
    "fig, ax = plt.subplots(figsize=(7,8))\n",
    "af_info.loc[:, [\"accuracy_train\",\n",
    "                \"accuracy_test\",\n",
    "                \"loss_train\",\n",
    "                \"loss_test\" ]].plot(kind=\"barh\", ax=ax)\n",
    "\n",
    "ax.set_yticklabels(af_info.index, rotation=0, **font)\n",
    "ax.set_xticks(ticks=np.linspace(0,1,11))\n",
    "ax.legend(loc=(0.25, 1.02), ncol=2, prop=font_leg, frameon=False)\n",
    "ax.grid()\n",
    "plt.show()"
   ]
  },
  {
   "cell_type": "markdown",
   "id": "aff7d445",
   "metadata": {},
   "source": [
    "¿Cómo se comparan las funciones de activación entre ellas?"
   ]
  },
  {
   "cell_type": "markdown",
   "id": "c3927060",
   "metadata": {},
   "source": [
    "### Definiendo nuestra propia función de activación\n",
    "\n",
    "En caso que precisemos crear nuestras propias funciones de activación lo podemos hacer de diferentes maneras:\n",
    "* Definiendo la función de activación\n",
    "* Igual que el método anterior pero utilizando el decorador <code>@tf.function</code>.\n",
    "* Usando una función/capa lambda.\n",
    "\n",
    "También es posible escribir la función de activación como una clase que hereda de <code>Layer</code> en casos más complejos, por ejemplo, si queremos que nuestra función de activación sea una capa con algunos parámetros que también queremos optimizar en el proceso de entrenamiento. En este curso no veremos este método. \n",
    "\n",
    "La función de activación que se defina, con cualquiera de los métodos, debe recibir un tensor y retornar otro con iguales dimensiones. Una manera sencilla de hacer esto es por medio del módulo <code>tf.math</code>, también se puede hacer uso del backend de Keras (en este caso sería TensorFlow) con <code>keras.backend</code> o simplemente usar las funciones matemáticas directamente definidas en TensorFlow. Por ejemplo, si queremos aplicar la función seno tendríamos tres opciones:\n",
    "\n",
    "* <code>tf.sin(x)</code>\n",
    "* <code>tf.math.sin(x)</code>\n",
    "* <code>keras.backend.sin(x)</code>\n",
    "\n",
    "Cuál de los métodos usar depende parcialmente del programador. Se sugiere el uso del módulo <code>tf.math</code> por ser sintácticamente más explícito."
   ]
  },
  {
   "cell_type": "markdown",
   "id": "988731da",
   "metadata": {},
   "source": [
    "#### Definiendo la función de activación."
   ]
  },
  {
   "cell_type": "code",
   "execution_count": 67,
   "id": "123057a0",
   "metadata": {},
   "outputs": [
    {
     "data": {
      "text/html": [
       "<pre style=\"white-space:pre;overflow-x:auto;line-height:normal;font-family:Menlo,'DejaVu Sans Mono',consolas,'Courier New',monospace\"><span style=\"font-weight: bold\">Model: \"custom_af_1\"</span>\n",
       "</pre>\n"
      ],
      "text/plain": [
       "\u001b[1mModel: \"custom_af_1\"\u001b[0m\n"
      ]
     },
     "metadata": {},
     "output_type": "display_data"
    },
    {
     "data": {
      "text/html": [
       "<pre style=\"white-space:pre;overflow-x:auto;line-height:normal;font-family:Menlo,'DejaVu Sans Mono',consolas,'Courier New',monospace\">┏━━━━━━━━━━━━━━━━━━━━━━━━━━━━━━━━━┳━━━━━━━━━━━━━━━━━━━━━━━━┳━━━━━━━━━━━━━━━┓\n",
       "┃<span style=\"font-weight: bold\"> Layer (type)                    </span>┃<span style=\"font-weight: bold\"> Output Shape           </span>┃<span style=\"font-weight: bold\">       Param # </span>┃\n",
       "┡━━━━━━━━━━━━━━━━━━━━━━━━━━━━━━━━━╇━━━━━━━━━━━━━━━━━━━━━━━━╇━━━━━━━━━━━━━━━┩\n",
       "│ Flatten (<span style=\"color: #0087ff; text-decoration-color: #0087ff\">Flatten</span>)               │ (<span style=\"color: #00d7ff; text-decoration-color: #00d7ff\">None</span>, <span style=\"color: #00af00; text-decoration-color: #00af00\">784</span>)            │             <span style=\"color: #00af00; text-decoration-color: #00af00\">0</span> │\n",
       "├─────────────────────────────────┼────────────────────────┼───────────────┤\n",
       "│ layer_1 (<span style=\"color: #0087ff; text-decoration-color: #0087ff\">Dense</span>)                 │ (<span style=\"color: #00d7ff; text-decoration-color: #00d7ff\">None</span>, <span style=\"color: #00af00; text-decoration-color: #00af00\">80</span>)             │        <span style=\"color: #00af00; text-decoration-color: #00af00\">62,800</span> │\n",
       "├─────────────────────────────────┼────────────────────────┼───────────────┤\n",
       "│ layer_2 (<span style=\"color: #0087ff; text-decoration-color: #0087ff\">Dense</span>)                 │ (<span style=\"color: #00d7ff; text-decoration-color: #00d7ff\">None</span>, <span style=\"color: #00af00; text-decoration-color: #00af00\">90</span>)             │         <span style=\"color: #00af00; text-decoration-color: #00af00\">7,290</span> │\n",
       "├─────────────────────────────────┼────────────────────────┼───────────────┤\n",
       "│ layer_3 (<span style=\"color: #0087ff; text-decoration-color: #0087ff\">Dense</span>)                 │ (<span style=\"color: #00d7ff; text-decoration-color: #00d7ff\">None</span>, <span style=\"color: #00af00; text-decoration-color: #00af00\">80</span>)             │         <span style=\"color: #00af00; text-decoration-color: #00af00\">7,280</span> │\n",
       "├─────────────────────────────────┼────────────────────────┼───────────────┤\n",
       "│ layer_4 (<span style=\"color: #0087ff; text-decoration-color: #0087ff\">Dense</span>)                 │ (<span style=\"color: #00d7ff; text-decoration-color: #00d7ff\">None</span>, <span style=\"color: #00af00; text-decoration-color: #00af00\">80</span>)             │         <span style=\"color: #00af00; text-decoration-color: #00af00\">6,480</span> │\n",
       "├─────────────────────────────────┼────────────────────────┼───────────────┤\n",
       "│ output (<span style=\"color: #0087ff; text-decoration-color: #0087ff\">Dense</span>)                  │ (<span style=\"color: #00d7ff; text-decoration-color: #00d7ff\">None</span>, <span style=\"color: #00af00; text-decoration-color: #00af00\">10</span>)             │           <span style=\"color: #00af00; text-decoration-color: #00af00\">810</span> │\n",
       "└─────────────────────────────────┴────────────────────────┴───────────────┘\n",
       "</pre>\n"
      ],
      "text/plain": [
       "┏━━━━━━━━━━━━━━━━━━━━━━━━━━━━━━━━━┳━━━━━━━━━━━━━━━━━━━━━━━━┳━━━━━━━━━━━━━━━┓\n",
       "┃\u001b[1m \u001b[0m\u001b[1mLayer (type)                   \u001b[0m\u001b[1m \u001b[0m┃\u001b[1m \u001b[0m\u001b[1mOutput Shape          \u001b[0m\u001b[1m \u001b[0m┃\u001b[1m \u001b[0m\u001b[1m      Param #\u001b[0m\u001b[1m \u001b[0m┃\n",
       "┡━━━━━━━━━━━━━━━━━━━━━━━━━━━━━━━━━╇━━━━━━━━━━━━━━━━━━━━━━━━╇━━━━━━━━━━━━━━━┩\n",
       "│ Flatten (\u001b[38;5;33mFlatten\u001b[0m)               │ (\u001b[38;5;45mNone\u001b[0m, \u001b[38;5;34m784\u001b[0m)            │             \u001b[38;5;34m0\u001b[0m │\n",
       "├─────────────────────────────────┼────────────────────────┼───────────────┤\n",
       "│ layer_1 (\u001b[38;5;33mDense\u001b[0m)                 │ (\u001b[38;5;45mNone\u001b[0m, \u001b[38;5;34m80\u001b[0m)             │        \u001b[38;5;34m62,800\u001b[0m │\n",
       "├─────────────────────────────────┼────────────────────────┼───────────────┤\n",
       "│ layer_2 (\u001b[38;5;33mDense\u001b[0m)                 │ (\u001b[38;5;45mNone\u001b[0m, \u001b[38;5;34m90\u001b[0m)             │         \u001b[38;5;34m7,290\u001b[0m │\n",
       "├─────────────────────────────────┼────────────────────────┼───────────────┤\n",
       "│ layer_3 (\u001b[38;5;33mDense\u001b[0m)                 │ (\u001b[38;5;45mNone\u001b[0m, \u001b[38;5;34m80\u001b[0m)             │         \u001b[38;5;34m7,280\u001b[0m │\n",
       "├─────────────────────────────────┼────────────────────────┼───────────────┤\n",
       "│ layer_4 (\u001b[38;5;33mDense\u001b[0m)                 │ (\u001b[38;5;45mNone\u001b[0m, \u001b[38;5;34m80\u001b[0m)             │         \u001b[38;5;34m6,480\u001b[0m │\n",
       "├─────────────────────────────────┼────────────────────────┼───────────────┤\n",
       "│ output (\u001b[38;5;33mDense\u001b[0m)                  │ (\u001b[38;5;45mNone\u001b[0m, \u001b[38;5;34m10\u001b[0m)             │           \u001b[38;5;34m810\u001b[0m │\n",
       "└─────────────────────────────────┴────────────────────────┴───────────────┘\n"
      ]
     },
     "metadata": {},
     "output_type": "display_data"
    },
    {
     "data": {
      "text/html": [
       "<pre style=\"white-space:pre;overflow-x:auto;line-height:normal;font-family:Menlo,'DejaVu Sans Mono',consolas,'Courier New',monospace\"><span style=\"font-weight: bold\"> Total params: </span><span style=\"color: #00af00; text-decoration-color: #00af00\">84,660</span> (330.70 KB)\n",
       "</pre>\n"
      ],
      "text/plain": [
       "\u001b[1m Total params: \u001b[0m\u001b[38;5;34m84,660\u001b[0m (330.70 KB)\n"
      ]
     },
     "metadata": {},
     "output_type": "display_data"
    },
    {
     "data": {
      "text/html": [
       "<pre style=\"white-space:pre;overflow-x:auto;line-height:normal;font-family:Menlo,'DejaVu Sans Mono',consolas,'Courier New',monospace\"><span style=\"font-weight: bold\"> Trainable params: </span><span style=\"color: #00af00; text-decoration-color: #00af00\">84,660</span> (330.70 KB)\n",
       "</pre>\n"
      ],
      "text/plain": [
       "\u001b[1m Trainable params: \u001b[0m\u001b[38;5;34m84,660\u001b[0m (330.70 KB)\n"
      ]
     },
     "metadata": {},
     "output_type": "display_data"
    },
    {
     "data": {
      "text/html": [
       "<pre style=\"white-space:pre;overflow-x:auto;line-height:normal;font-family:Menlo,'DejaVu Sans Mono',consolas,'Courier New',monospace\"><span style=\"font-weight: bold\"> Non-trainable params: </span><span style=\"color: #00af00; text-decoration-color: #00af00\">0</span> (0.00 B)\n",
       "</pre>\n"
      ],
      "text/plain": [
       "\u001b[1m Non-trainable params: \u001b[0m\u001b[38;5;34m0\u001b[0m (0.00 B)\n"
      ]
     },
     "metadata": {},
     "output_type": "display_data"
    }
   ],
   "source": [
    "def custom_af_1(x):\n",
    "    # Habría diferencia en el uso de * vs tf.multiply si alguno\n",
    "    # de los tensores fuese  tf.sparse.SparseTensor.\n",
    "    \n",
    "    #return tf.math.sin(x)*tf.math.cos(x)\n",
    "    return tf.multiply(tf.math.sin(x), tf.math.cos(x))\n",
    "    \n",
    "\n",
    "model_custom_af_1 = create_model(name=\"custom_af_1\",\n",
    "                                 shape=train_images[0].shape, \n",
    "                                 af=custom_af_1)\n",
    "\n",
    "opt  = keras.optimizers.Adam(learning_rate=0.001)\n",
    "loss = keras.losses.SparseCategoricalCrossentropy()\n",
    "\n",
    "model_custom_af_1.compile(optimizer=opt,\n",
    "                          loss=loss,\n",
    "                          metrics=[\"accuracy\"])\n",
    "\n",
    "model_custom_af_1.summary()"
   ]
  },
  {
   "cell_type": "code",
   "execution_count": 68,
   "id": "96e3c91f",
   "metadata": {},
   "outputs": [
    {
     "name": "stdout",
     "output_type": "stream",
     "text": [
      "\n"
     ]
    }
   ],
   "source": [
    "\"\"\"\n",
    "# Entrenamiento \n",
    "history_custom_af_1 = model_custom_af_1.fit(train_images,\n",
    "                                            train_labels,\n",
    "                                            validation_split=0.2,\n",
    "                                            epochs=2)\n",
    "\n",
    "history_custom_af_1 = history_custom_af_1.history\n",
    "\"\"\"\n",
    "print()"
   ]
  },
  {
   "cell_type": "markdown",
   "id": "34c17c08",
   "metadata": {},
   "source": [
    "#### Utilizando el decorador <code>@tf.function</code>"
   ]
  },
  {
   "cell_type": "code",
   "execution_count": 69,
   "id": "d8691db4",
   "metadata": {},
   "outputs": [
    {
     "data": {
      "text/html": [
       "<pre style=\"white-space:pre;overflow-x:auto;line-height:normal;font-family:Menlo,'DejaVu Sans Mono',consolas,'Courier New',monospace\"><span style=\"font-weight: bold\">Model: \"custom_af_2\"</span>\n",
       "</pre>\n"
      ],
      "text/plain": [
       "\u001b[1mModel: \"custom_af_2\"\u001b[0m\n"
      ]
     },
     "metadata": {},
     "output_type": "display_data"
    },
    {
     "data": {
      "text/html": [
       "<pre style=\"white-space:pre;overflow-x:auto;line-height:normal;font-family:Menlo,'DejaVu Sans Mono',consolas,'Courier New',monospace\">┏━━━━━━━━━━━━━━━━━━━━━━━━━━━━━━━━━┳━━━━━━━━━━━━━━━━━━━━━━━━┳━━━━━━━━━━━━━━━┓\n",
       "┃<span style=\"font-weight: bold\"> Layer (type)                    </span>┃<span style=\"font-weight: bold\"> Output Shape           </span>┃<span style=\"font-weight: bold\">       Param # </span>┃\n",
       "┡━━━━━━━━━━━━━━━━━━━━━━━━━━━━━━━━━╇━━━━━━━━━━━━━━━━━━━━━━━━╇━━━━━━━━━━━━━━━┩\n",
       "│ Flatten (<span style=\"color: #0087ff; text-decoration-color: #0087ff\">Flatten</span>)               │ (<span style=\"color: #00d7ff; text-decoration-color: #00d7ff\">None</span>, <span style=\"color: #00af00; text-decoration-color: #00af00\">784</span>)            │             <span style=\"color: #00af00; text-decoration-color: #00af00\">0</span> │\n",
       "├─────────────────────────────────┼────────────────────────┼───────────────┤\n",
       "│ layer_1 (<span style=\"color: #0087ff; text-decoration-color: #0087ff\">Dense</span>)                 │ (<span style=\"color: #00d7ff; text-decoration-color: #00d7ff\">None</span>, <span style=\"color: #00af00; text-decoration-color: #00af00\">80</span>)             │        <span style=\"color: #00af00; text-decoration-color: #00af00\">62,800</span> │\n",
       "├─────────────────────────────────┼────────────────────────┼───────────────┤\n",
       "│ layer_2 (<span style=\"color: #0087ff; text-decoration-color: #0087ff\">Dense</span>)                 │ (<span style=\"color: #00d7ff; text-decoration-color: #00d7ff\">None</span>, <span style=\"color: #00af00; text-decoration-color: #00af00\">90</span>)             │         <span style=\"color: #00af00; text-decoration-color: #00af00\">7,290</span> │\n",
       "├─────────────────────────────────┼────────────────────────┼───────────────┤\n",
       "│ layer_3 (<span style=\"color: #0087ff; text-decoration-color: #0087ff\">Dense</span>)                 │ (<span style=\"color: #00d7ff; text-decoration-color: #00d7ff\">None</span>, <span style=\"color: #00af00; text-decoration-color: #00af00\">80</span>)             │         <span style=\"color: #00af00; text-decoration-color: #00af00\">7,280</span> │\n",
       "├─────────────────────────────────┼────────────────────────┼───────────────┤\n",
       "│ layer_4 (<span style=\"color: #0087ff; text-decoration-color: #0087ff\">Dense</span>)                 │ (<span style=\"color: #00d7ff; text-decoration-color: #00d7ff\">None</span>, <span style=\"color: #00af00; text-decoration-color: #00af00\">80</span>)             │         <span style=\"color: #00af00; text-decoration-color: #00af00\">6,480</span> │\n",
       "├─────────────────────────────────┼────────────────────────┼───────────────┤\n",
       "│ output (<span style=\"color: #0087ff; text-decoration-color: #0087ff\">Dense</span>)                  │ (<span style=\"color: #00d7ff; text-decoration-color: #00d7ff\">None</span>, <span style=\"color: #00af00; text-decoration-color: #00af00\">10</span>)             │           <span style=\"color: #00af00; text-decoration-color: #00af00\">810</span> │\n",
       "└─────────────────────────────────┴────────────────────────┴───────────────┘\n",
       "</pre>\n"
      ],
      "text/plain": [
       "┏━━━━━━━━━━━━━━━━━━━━━━━━━━━━━━━━━┳━━━━━━━━━━━━━━━━━━━━━━━━┳━━━━━━━━━━━━━━━┓\n",
       "┃\u001b[1m \u001b[0m\u001b[1mLayer (type)                   \u001b[0m\u001b[1m \u001b[0m┃\u001b[1m \u001b[0m\u001b[1mOutput Shape          \u001b[0m\u001b[1m \u001b[0m┃\u001b[1m \u001b[0m\u001b[1m      Param #\u001b[0m\u001b[1m \u001b[0m┃\n",
       "┡━━━━━━━━━━━━━━━━━━━━━━━━━━━━━━━━━╇━━━━━━━━━━━━━━━━━━━━━━━━╇━━━━━━━━━━━━━━━┩\n",
       "│ Flatten (\u001b[38;5;33mFlatten\u001b[0m)               │ (\u001b[38;5;45mNone\u001b[0m, \u001b[38;5;34m784\u001b[0m)            │             \u001b[38;5;34m0\u001b[0m │\n",
       "├─────────────────────────────────┼────────────────────────┼───────────────┤\n",
       "│ layer_1 (\u001b[38;5;33mDense\u001b[0m)                 │ (\u001b[38;5;45mNone\u001b[0m, \u001b[38;5;34m80\u001b[0m)             │        \u001b[38;5;34m62,800\u001b[0m │\n",
       "├─────────────────────────────────┼────────────────────────┼───────────────┤\n",
       "│ layer_2 (\u001b[38;5;33mDense\u001b[0m)                 │ (\u001b[38;5;45mNone\u001b[0m, \u001b[38;5;34m90\u001b[0m)             │         \u001b[38;5;34m7,290\u001b[0m │\n",
       "├─────────────────────────────────┼────────────────────────┼───────────────┤\n",
       "│ layer_3 (\u001b[38;5;33mDense\u001b[0m)                 │ (\u001b[38;5;45mNone\u001b[0m, \u001b[38;5;34m80\u001b[0m)             │         \u001b[38;5;34m7,280\u001b[0m │\n",
       "├─────────────────────────────────┼────────────────────────┼───────────────┤\n",
       "│ layer_4 (\u001b[38;5;33mDense\u001b[0m)                 │ (\u001b[38;5;45mNone\u001b[0m, \u001b[38;5;34m80\u001b[0m)             │         \u001b[38;5;34m6,480\u001b[0m │\n",
       "├─────────────────────────────────┼────────────────────────┼───────────────┤\n",
       "│ output (\u001b[38;5;33mDense\u001b[0m)                  │ (\u001b[38;5;45mNone\u001b[0m, \u001b[38;5;34m10\u001b[0m)             │           \u001b[38;5;34m810\u001b[0m │\n",
       "└─────────────────────────────────┴────────────────────────┴───────────────┘\n"
      ]
     },
     "metadata": {},
     "output_type": "display_data"
    },
    {
     "data": {
      "text/html": [
       "<pre style=\"white-space:pre;overflow-x:auto;line-height:normal;font-family:Menlo,'DejaVu Sans Mono',consolas,'Courier New',monospace\"><span style=\"font-weight: bold\"> Total params: </span><span style=\"color: #00af00; text-decoration-color: #00af00\">84,660</span> (330.70 KB)\n",
       "</pre>\n"
      ],
      "text/plain": [
       "\u001b[1m Total params: \u001b[0m\u001b[38;5;34m84,660\u001b[0m (330.70 KB)\n"
      ]
     },
     "metadata": {},
     "output_type": "display_data"
    },
    {
     "data": {
      "text/html": [
       "<pre style=\"white-space:pre;overflow-x:auto;line-height:normal;font-family:Menlo,'DejaVu Sans Mono',consolas,'Courier New',monospace\"><span style=\"font-weight: bold\"> Trainable params: </span><span style=\"color: #00af00; text-decoration-color: #00af00\">84,660</span> (330.70 KB)\n",
       "</pre>\n"
      ],
      "text/plain": [
       "\u001b[1m Trainable params: \u001b[0m\u001b[38;5;34m84,660\u001b[0m (330.70 KB)\n"
      ]
     },
     "metadata": {},
     "output_type": "display_data"
    },
    {
     "data": {
      "text/html": [
       "<pre style=\"white-space:pre;overflow-x:auto;line-height:normal;font-family:Menlo,'DejaVu Sans Mono',consolas,'Courier New',monospace\"><span style=\"font-weight: bold\"> Non-trainable params: </span><span style=\"color: #00af00; text-decoration-color: #00af00\">0</span> (0.00 B)\n",
       "</pre>\n"
      ],
      "text/plain": [
       "\u001b[1m Non-trainable params: \u001b[0m\u001b[38;5;34m0\u001b[0m (0.00 B)\n"
      ]
     },
     "metadata": {},
     "output_type": "display_data"
    }
   ],
   "source": [
    "@tf.function\n",
    "def custom_af_2(x):\n",
    "    return tf.where(tf.less(x, 0.0), \n",
    "                   -tf.math.sqrt(tf.multiply(-1.0, x)),\n",
    "                    x\n",
    "                   )\n",
    "\n",
    "model_custom_af_2 = create_model(name=\"custom_af_2\",\n",
    "                                 shape=train_images[0].shape, \n",
    "                                 af=custom_af_2)\n",
    "\n",
    "opt  = keras.optimizers.Adam(learning_rate=0.001)\n",
    "loss = keras.losses.SparseCategoricalCrossentropy()\n",
    "\n",
    "model_custom_af_2.compile(optimizer=opt,\n",
    "                          loss=loss,\n",
    "                          metrics=[\"accuracy\"])\n",
    "\n",
    "model_custom_af_2.summary()"
   ]
  },
  {
   "cell_type": "code",
   "execution_count": 70,
   "id": "8fc49f07",
   "metadata": {},
   "outputs": [
    {
     "name": "stdout",
     "output_type": "stream",
     "text": [
      "\n"
     ]
    }
   ],
   "source": [
    "\"\"\"\n",
    "# Entrenamiento \n",
    "history_custom_af_2 = model_custom_af_2.fit(train_images,\n",
    "                                            train_labels,\n",
    "                                            validation_split=0.2,\n",
    "                                            epochs=2)\n",
    "\n",
    "history_custom_af_2 = history_custom_af_2.history\n",
    "\"\"\"\n",
    "print()"
   ]
  },
  {
   "cell_type": "code",
   "execution_count": 71,
   "id": "7c63d72f",
   "metadata": {},
   "outputs": [
    {
     "name": "stdout",
     "output_type": "stream",
     "text": [
      "\n"
     ]
    }
   ],
   "source": [
    "\"\"\"\n",
    "# derivada\n",
    "x = np.linspace(-5, 5, 100, dtype=np.float32)\n",
    "\n",
    "def d_custom2(x):\n",
    "    if x<0:\n",
    "        return 0.5*(-x)**(-0.5)\n",
    "    return 1\n",
    "\n",
    "d_custom2 = np.vectorize(d_custom2)\n",
    "\n",
    "plot_af(x,\n",
    "        af=custom_af_2,\n",
    "        daf=d_custom2,\n",
    "        af_ylabel=f\"Custom$(x)$\",\n",
    "        daf_ylabel=f\"$d$Custom$/dx$\")\n",
    "\"\"\"\n",
    "print()"
   ]
  },
  {
   "cell_type": "markdown",
   "id": "fceaf549",
   "metadata": {},
   "source": [
    "Como se puede ver, la diferencia entre estos dos métodos es sólo el uso del decorador <code>@tf.function</code>.  Usarlo puede mejorar el rendimiento y la eficiencia de la función de activación personalizada, ya que se compila en TensorFlow antes de la ejecución, esto puede ser especialmente beneficioso en modelos con grandes cantidades de datos y/o capas. Esta es la forma sugerida para definir nuevas funciones de activación."
   ]
  },
  {
   "cell_type": "markdown",
   "id": "dc9fb007",
   "metadata": {},
   "source": [
    "#### Usando una función lambda"
   ]
  },
  {
   "cell_type": "code",
   "execution_count": 72,
   "id": "4e823ceb",
   "metadata": {},
   "outputs": [
    {
     "data": {
      "text/html": [
       "<pre style=\"white-space:pre;overflow-x:auto;line-height:normal;font-family:Menlo,'DejaVu Sans Mono',consolas,'Courier New',monospace\"><span style=\"font-weight: bold\">Model: \"custum_af_3\"</span>\n",
       "</pre>\n"
      ],
      "text/plain": [
       "\u001b[1mModel: \"custum_af_3\"\u001b[0m\n"
      ]
     },
     "metadata": {},
     "output_type": "display_data"
    },
    {
     "data": {
      "text/html": [
       "<pre style=\"white-space:pre;overflow-x:auto;line-height:normal;font-family:Menlo,'DejaVu Sans Mono',consolas,'Courier New',monospace\">┏━━━━━━━━━━━━━━━━━━━━━━━━━━━━━━━━━┳━━━━━━━━━━━━━━━━━━━━━━━━┳━━━━━━━━━━━━━━━┓\n",
       "┃<span style=\"font-weight: bold\"> Layer (type)                    </span>┃<span style=\"font-weight: bold\"> Output Shape           </span>┃<span style=\"font-weight: bold\">       Param # </span>┃\n",
       "┡━━━━━━━━━━━━━━━━━━━━━━━━━━━━━━━━━╇━━━━━━━━━━━━━━━━━━━━━━━━╇━━━━━━━━━━━━━━━┩\n",
       "│ Flatten (<span style=\"color: #0087ff; text-decoration-color: #0087ff\">Flatten</span>)               │ (<span style=\"color: #00d7ff; text-decoration-color: #00d7ff\">None</span>, <span style=\"color: #00af00; text-decoration-color: #00af00\">784</span>)            │             <span style=\"color: #00af00; text-decoration-color: #00af00\">0</span> │\n",
       "├─────────────────────────────────┼────────────────────────┼───────────────┤\n",
       "│ layer_1 (<span style=\"color: #0087ff; text-decoration-color: #0087ff\">Dense</span>)                 │ (<span style=\"color: #00d7ff; text-decoration-color: #00d7ff\">None</span>, <span style=\"color: #00af00; text-decoration-color: #00af00\">80</span>)             │        <span style=\"color: #00af00; text-decoration-color: #00af00\">62,800</span> │\n",
       "├─────────────────────────────────┼────────────────────────┼───────────────┤\n",
       "│ layer_2 (<span style=\"color: #0087ff; text-decoration-color: #0087ff\">Dense</span>)                 │ (<span style=\"color: #00d7ff; text-decoration-color: #00d7ff\">None</span>, <span style=\"color: #00af00; text-decoration-color: #00af00\">90</span>)             │         <span style=\"color: #00af00; text-decoration-color: #00af00\">7,290</span> │\n",
       "├─────────────────────────────────┼────────────────────────┼───────────────┤\n",
       "│ layer_3 (<span style=\"color: #0087ff; text-decoration-color: #0087ff\">Dense</span>)                 │ (<span style=\"color: #00d7ff; text-decoration-color: #00d7ff\">None</span>, <span style=\"color: #00af00; text-decoration-color: #00af00\">80</span>)             │         <span style=\"color: #00af00; text-decoration-color: #00af00\">7,280</span> │\n",
       "├─────────────────────────────────┼────────────────────────┼───────────────┤\n",
       "│ layer_4 (<span style=\"color: #0087ff; text-decoration-color: #0087ff\">Dense</span>)                 │ (<span style=\"color: #00d7ff; text-decoration-color: #00d7ff\">None</span>, <span style=\"color: #00af00; text-decoration-color: #00af00\">80</span>)             │         <span style=\"color: #00af00; text-decoration-color: #00af00\">6,480</span> │\n",
       "├─────────────────────────────────┼────────────────────────┼───────────────┤\n",
       "│ output (<span style=\"color: #0087ff; text-decoration-color: #0087ff\">Dense</span>)                  │ (<span style=\"color: #00d7ff; text-decoration-color: #00d7ff\">None</span>, <span style=\"color: #00af00; text-decoration-color: #00af00\">10</span>)             │           <span style=\"color: #00af00; text-decoration-color: #00af00\">810</span> │\n",
       "└─────────────────────────────────┴────────────────────────┴───────────────┘\n",
       "</pre>\n"
      ],
      "text/plain": [
       "┏━━━━━━━━━━━━━━━━━━━━━━━━━━━━━━━━━┳━━━━━━━━━━━━━━━━━━━━━━━━┳━━━━━━━━━━━━━━━┓\n",
       "┃\u001b[1m \u001b[0m\u001b[1mLayer (type)                   \u001b[0m\u001b[1m \u001b[0m┃\u001b[1m \u001b[0m\u001b[1mOutput Shape          \u001b[0m\u001b[1m \u001b[0m┃\u001b[1m \u001b[0m\u001b[1m      Param #\u001b[0m\u001b[1m \u001b[0m┃\n",
       "┡━━━━━━━━━━━━━━━━━━━━━━━━━━━━━━━━━╇━━━━━━━━━━━━━━━━━━━━━━━━╇━━━━━━━━━━━━━━━┩\n",
       "│ Flatten (\u001b[38;5;33mFlatten\u001b[0m)               │ (\u001b[38;5;45mNone\u001b[0m, \u001b[38;5;34m784\u001b[0m)            │             \u001b[38;5;34m0\u001b[0m │\n",
       "├─────────────────────────────────┼────────────────────────┼───────────────┤\n",
       "│ layer_1 (\u001b[38;5;33mDense\u001b[0m)                 │ (\u001b[38;5;45mNone\u001b[0m, \u001b[38;5;34m80\u001b[0m)             │        \u001b[38;5;34m62,800\u001b[0m │\n",
       "├─────────────────────────────────┼────────────────────────┼───────────────┤\n",
       "│ layer_2 (\u001b[38;5;33mDense\u001b[0m)                 │ (\u001b[38;5;45mNone\u001b[0m, \u001b[38;5;34m90\u001b[0m)             │         \u001b[38;5;34m7,290\u001b[0m │\n",
       "├─────────────────────────────────┼────────────────────────┼───────────────┤\n",
       "│ layer_3 (\u001b[38;5;33mDense\u001b[0m)                 │ (\u001b[38;5;45mNone\u001b[0m, \u001b[38;5;34m80\u001b[0m)             │         \u001b[38;5;34m7,280\u001b[0m │\n",
       "├─────────────────────────────────┼────────────────────────┼───────────────┤\n",
       "│ layer_4 (\u001b[38;5;33mDense\u001b[0m)                 │ (\u001b[38;5;45mNone\u001b[0m, \u001b[38;5;34m80\u001b[0m)             │         \u001b[38;5;34m6,480\u001b[0m │\n",
       "├─────────────────────────────────┼────────────────────────┼───────────────┤\n",
       "│ output (\u001b[38;5;33mDense\u001b[0m)                  │ (\u001b[38;5;45mNone\u001b[0m, \u001b[38;5;34m10\u001b[0m)             │           \u001b[38;5;34m810\u001b[0m │\n",
       "└─────────────────────────────────┴────────────────────────┴───────────────┘\n"
      ]
     },
     "metadata": {},
     "output_type": "display_data"
    },
    {
     "data": {
      "text/html": [
       "<pre style=\"white-space:pre;overflow-x:auto;line-height:normal;font-family:Menlo,'DejaVu Sans Mono',consolas,'Courier New',monospace\"><span style=\"font-weight: bold\"> Total params: </span><span style=\"color: #00af00; text-decoration-color: #00af00\">84,660</span> (330.70 KB)\n",
       "</pre>\n"
      ],
      "text/plain": [
       "\u001b[1m Total params: \u001b[0m\u001b[38;5;34m84,660\u001b[0m (330.70 KB)\n"
      ]
     },
     "metadata": {},
     "output_type": "display_data"
    },
    {
     "data": {
      "text/html": [
       "<pre style=\"white-space:pre;overflow-x:auto;line-height:normal;font-family:Menlo,'DejaVu Sans Mono',consolas,'Courier New',monospace\"><span style=\"font-weight: bold\"> Trainable params: </span><span style=\"color: #00af00; text-decoration-color: #00af00\">84,660</span> (330.70 KB)\n",
       "</pre>\n"
      ],
      "text/plain": [
       "\u001b[1m Trainable params: \u001b[0m\u001b[38;5;34m84,660\u001b[0m (330.70 KB)\n"
      ]
     },
     "metadata": {},
     "output_type": "display_data"
    },
    {
     "data": {
      "text/html": [
       "<pre style=\"white-space:pre;overflow-x:auto;line-height:normal;font-family:Menlo,'DejaVu Sans Mono',consolas,'Courier New',monospace\"><span style=\"font-weight: bold\"> Non-trainable params: </span><span style=\"color: #00af00; text-decoration-color: #00af00\">0</span> (0.00 B)\n",
       "</pre>\n"
      ],
      "text/plain": [
       "\u001b[1m Non-trainable params: \u001b[0m\u001b[38;5;34m0\u001b[0m (0.00 B)\n"
      ]
     },
     "metadata": {},
     "output_type": "display_data"
    }
   ],
   "source": [
    "custum_af_3 = lambda x: keras.backend.sin(x)\n",
    "\n",
    "model_custum_af_3 = create_model(name=\"custum_af_3\",\n",
    "                                 shape=train_images[0].shape, \n",
    "                                 af=custum_af_3)\n",
    "\n",
    "opt  = keras.optimizers.Adam(learning_rate=0.001)\n",
    "loss = keras.losses.SparseCategoricalCrossentropy()\n",
    "\n",
    "model_custum_af_3.compile(optimizer=opt,\n",
    "                          loss=loss,\n",
    "                          metrics=[\"accuracy\"])\n",
    "\n",
    "model_custum_af_3.summary()"
   ]
  },
  {
   "cell_type": "code",
   "execution_count": 73,
   "id": "436508fc",
   "metadata": {},
   "outputs": [
    {
     "name": "stdout",
     "output_type": "stream",
     "text": [
      "\n"
     ]
    }
   ],
   "source": [
    "\"\"\"\n",
    "# Entrenamiento \n",
    "history_custum_af_3 = model_custum_af_3.fit(train_images,\n",
    "                                            train_labels,\n",
    "                                            validation_split=0.2,\n",
    "                                            epochs=10)\n",
    "\n",
    "history_custum_af_3 = history_custum_af_3.history\n",
    "\"\"\"\n",
    "print()"
   ]
  },
  {
   "cell_type": "markdown",
   "id": "f11d0c94",
   "metadata": {},
   "source": [
    "<center><h1>Funciones de perdida</h1></center>\n",
    "\n",
    "Después de cada época se analiza el resultado arrojado por la red utilizando alguna función que de cuenta de su desempeño general, de modo que un menor valor de dicha función representa un mejor comportamiento de la red, es decir, mejores métricas de desempeño del modelo. Esta función recibe el nombre de función de costo (o perdida) y es el objetivo a minimizar para cualquier red neuronal: todas las redes neuronales representan un problema de minimización de una función de costo. En el proceso de minimización se utilizan principalmente dos herramientas que veremos en las dos siguientes secciones: el **gradiente descendente** y el algoritmo de **back propagation**. \n",
    "     \n",
    "\n",
    "Al igual que las funciones de activación, las funciones de costo deben cumplir con ciertos requisitos, entre ellos el que más resalta es la diferenciabilidad que se debe dar en todo su dominio salvo algunos puntos de menor interes como $w_i=0$ para todos los pesos. Como veremos más adelante, esto proviene del algoritmo de *back propagation* y del *gradiente descendente* que requieren ambas, funciones de activación y funciones de costo diferenciables para poder actualizar los pesos y así producir aprendizaje en la red.\n",
    "\n",
    "La función de costo se entrega al modelo durante la etapa de compilación, tenemos dos opciones:\n",
    "\n",
    "* **Creando una instancia.** Este método es el sugerido pues nos permite ajustar los parámetros de la función\n",
    "    de costo según lo requiramos. \n",
    "    \n",
    "* **Usando el alias.**. Durante la etapa de compilación podemos pasar simplemente el alias de la función\n",
    "    de perdida que queramos usar. Por ejemplo, si queremos implementar como función de perdida \n",
    "    <code>tf.keras.losses.CategoricalCrossentropy()</code> podemos simplemente pasar <code>loss=\"categorical_crossentropy\"</code>\n",
    "    \n",
    "    \n",
    "Dependiendo del tipo de problema que se esté afrontando se utilizará una u otra función de perdida, entre las más comunes tenemos:\n",
    "\n",
    "* **Regresión:**\n",
    "    * <code>tf.keras.losses.MeanSquaredError()</code>\n",
    "    * <code>tf.keras.losses.MeanAbsolutePercentageError()</code>\n",
    "    * <code>tf.keras.losses.MeanAbsolutePercentageError()</code>\n",
    "    * <code>tf.keras.losses.MeanSquaredLogarithmicError()</code>\n",
    "    \n",
    "    \n",
    "* **Clasificación binaria:**\n",
    "    * <code>tf.keras.losses.BinaryCrossentropy()</code>\n",
    "    \n",
    "    \n",
    "* **Clasificación multiclase:**\n",
    "    * <code>tf.keras.losses.CategoricalCrossentropy()</code>\n",
    "    * <code>tf.keras.losses.SparseCategoricalCrossentropy()</code>\n",
    "    * <code>tf.keras.losses.Poisson()</code>\n",
    "    * <code>tf.keras.losses.Hinge()</code>\n",
    "    \n",
    "Un concepto con el que nos vamos a topar con frecuencia es el de **batch**, veamos a qué se refiere."
   ]
  },
  {
   "attachments": {
    "imagen-2.png": {
     "image/png": "[encoded data removed]"
    }
   },
   "cell_type": "markdown",
   "id": "40f28df2",
   "metadata": {},
   "source": [
    "#### ¿Qué es un batch?\n",
    "\n",
    "Supongamos que tenemos un conjunto de entrenamiento con un cierto número de muestras. Una primera aproximación, intuitiva, para realizar el entrenamiento de la red, sería pasar cada muestra por la red y obtener la predicción, luego comparar con el valor verdadero utilizando la función de costo y finalmente realizar la actualización de los pesos de la red, esto para cada muestra. Este proceso es muy costoso computacionalmente pues implica la actualización de los pesos de la red por cada época tantas veces como muestras se tenga, además puede llevar a más problemas como el overfiting. Para manejar esta situación se utiliza la idea de lotes (o batches). Un batch consiste en tomar un un conjunto de muestras, realizar las predicciones para cada una de ellas, aplicar la función de costo y finalmente la actualización de los pesos. Este procedimiento requiere menos poder de computo y es mucho más beneficioso temporalmente pues puede ser paralelizable. \n",
    "\n",
    "El batch puede ser de múltiples tamaños, por ejemplo, podríamos elegirlo de tamaño $1$, en este caso se realiza la actualización de los pesos por cada muestra. También podríamos elegirlo de igual tamaño al conjunto de entrenamiento, es decir sólo se actualizarán los pesos una vez hayan pasado todas las muestras por la red. Valores habituales son $32$, $64$, $128$, ... Por ejemplo, en los modelos que corrimos anteriormente podíamos ver algo como esto: \n",
    "\n",
    "![imagen-2.png](attachment:imagen-2.png)\n",
    "\n",
    "Veamos cuál era el tamaño del conjunto de entrenamiento:"
   ]
  },
  {
   "cell_type": "code",
   "execution_count": 74,
   "id": "2c73a257",
   "metadata": {},
   "outputs": [
    {
     "data": {
      "text/plain": [
       "(60000, 28, 28)"
      ]
     },
     "execution_count": 74,
     "metadata": {},
     "output_type": "execute_result"
    }
   ],
   "source": [
    "train_images.shape"
   ]
  },
  {
   "cell_type": "markdown",
   "id": "a49549a1",
   "metadata": {},
   "source": [
    "Recordemos que usamos el $20\\%$ de datos para validación:"
   ]
  },
  {
   "cell_type": "code",
   "execution_count": 75,
   "id": "9297e82f",
   "metadata": {},
   "outputs": [
    {
     "data": {
      "text/plain": [
       "48000.0"
      ]
     },
     "execution_count": 75,
     "metadata": {},
     "output_type": "execute_result"
    }
   ],
   "source": [
    "real_training_size = train_images.shape[0]*0.8\n",
    "real_training_size"
   ]
  },
  {
   "cell_type": "markdown",
   "id": "1387b80a",
   "metadata": {},
   "source": [
    "Este es el número de imágenes utilizado para entrenar el modelo. Por defecto se utilizan $32$ batches. Por lo tanto en cada época se tendrá el siguiente número de batches:"
   ]
  },
  {
   "cell_type": "code",
   "execution_count": 76,
   "id": "89810ad9",
   "metadata": {},
   "outputs": [
    {
     "data": {
      "text/plain": [
       "1500"
      ]
     },
     "execution_count": 76,
     "metadata": {},
     "output_type": "execute_result"
    }
   ],
   "source": [
    "int(real_training_size/32)"
   ]
  },
  {
   "cell_type": "markdown",
   "id": "077c26b4",
   "metadata": {},
   "source": [
    "Que coincide justo con el valor que aparece debajo del índice de la época. Ahora que sabemos cómo se ejecuta una función de costo podemos comenzar a analizar las más importantes."
   ]
  },
  {
   "cell_type": "markdown",
   "id": "3602cab1",
   "metadata": {},
   "source": [
    "## Funciones de perdida para problemas de regresión\n",
    "\n",
    "Para crear una instancia de una función de perdida podemos hacerlo ya sea accediendo directamente al módulo <code>tf.keras.losses</code> o utilizando <code>tf.losses</code>. Ambos son equivalentes pero en caso de no querer trabajar con Keras entonces el uso del módulo directamente desde TensorFlow es sugerido.\n",
    "\n",
    "### MSE\n",
    "El error cuadrático medio está definido por:\n",
    "\n",
    "\\begin{equation}\n",
    "\\text{MSE} = \\frac{1}{n}\\sum_{i=1}^n \\left( y_i - \\hat y_i \\right)^2\n",
    "\\end{equation}\n",
    "\n",
    "Donde $n$ es el número de pruebas, $y_i$ es el verdadero valor y $\\hat y_i$ es el valor predicho por el modelo. El MSE es una de las métricas más ampliamente utilizadas para problemas de regresión debido a que es muy fácil de interpretar. El MSE es sugerido para controlar aquellas predicciones que se alejan mucho de la media ya que estas son fuertemente penalizados por tener una mayor distancia al modelo, es decir, porque su valor real se aleja mucho del valor predicho. Se sugiere su uso para datos que estén normalmente distribuídos. \n",
    "\n",
    "Al instanciar la función de perdida podemos definir el valor del parámetro <code>reduction</code>, este especifica la manera en que los valores de la función de perdida van a ser agregados."
   ]
  },
  {
   "cell_type": "code",
   "execution_count": 77,
   "id": "2ad67939",
   "metadata": {},
   "outputs": [
    {
     "data": {
      "text/plain": [
       "array([[21.19760638,  9.29804071,  7.57869215, 16.9881283 ],\n",
       "       [21.86460012, 13.27008734, 29.44216175, 20.86006242],\n",
       "       [14.94702514, 12.37140803, 10.95216247, 22.14244151],\n",
       "       [13.7185951 ,  2.730659  , 12.5432834 , 22.40186677],\n",
       "       [ 6.29226018,  6.08810093, 16.41498984, 16.42300003],\n",
       "       [19.3976278 , 25.63352203, 22.00920442, 18.71968181],\n",
       "       [21.95085809, 10.3658085 , 11.49187101,  7.6196337 ],\n",
       "       [ 9.51770735, 19.29830759,  3.67104326, 13.57733401],\n",
       "       [13.49502014, 15.31686783, 13.34907842, 10.05557547],\n",
       "       [13.3641879 , 26.90828573, 28.38064053, 15.5532636 ]])"
      ]
     },
     "execution_count": 77,
     "metadata": {},
     "output_type": "execute_result"
    }
   ],
   "source": [
    "# https://python.plainenglish.io/the-complete-guide-to-keras-loss-functions-776d319e729d\n",
    "# https://medium.com/@abayomiajiboye46111/understanding-the-class-of-losses-in-tensorflow-for-deep-learning-4bd71c8e52a7\n",
    "\n",
    "# Algunos datos de prueba. \n",
    "# Se generan 10 batches, cada uno con 4 muestras, para un total de 40 muestras.\n",
    "np.random.seed(123)\n",
    "y_true = np.random.uniform(1, 30, (10,4))\n",
    "y_pred = np.random.uniform(1, 30, (10,4))\n",
    "\n",
    "y_true"
   ]
  },
  {
   "cell_type": "markdown",
   "id": "ac0e122d",
   "metadata": {},
   "source": [
    "* <code>reduction=\"sum_over_batch_size\"</code> es el valor por defecto. Aplica la función de costo sobre cada batch y luego promedia el valor de todos los batches."
   ]
  },
  {
   "cell_type": "code",
   "execution_count": 78,
   "id": "35d9587b",
   "metadata": {},
   "outputs": [
    {
     "data": {
      "text/plain": [
       "<tf.Tensor: shape=(), dtype=float32, numpy=74.37765>"
      ]
     },
     "execution_count": 78,
     "metadata": {},
     "output_type": "execute_result"
    }
   ],
   "source": [
    "loss_mse = keras.losses.MeanSquaredError(reduction=\"sum_over_batch_size\")\n",
    "loss_mse(y_true=y_true, y_pred=y_pred)"
   ]
  },
  {
   "cell_type": "code",
   "execution_count": 79,
   "id": "1fa57e84",
   "metadata": {},
   "outputs": [
    {
     "data": {
      "text/plain": [
       "74.37764942365501"
      ]
     },
     "execution_count": 79,
     "metadata": {},
     "output_type": "execute_result"
    }
   ],
   "source": [
    "np.mean(np.mean((y_true-y_pred)**2, axis=1))"
   ]
  },
  {
   "cell_type": "markdown",
   "id": "60e0c119",
   "metadata": {},
   "source": [
    "* <code>reduction=\"sum\"</code>. Suma los valores de la función de perdida en cada batch. Diferente al caso anterior no los promedia."
   ]
  },
  {
   "cell_type": "code",
   "execution_count": 80,
   "id": "bacbe45f",
   "metadata": {},
   "outputs": [
    {
     "data": {
      "text/plain": [
       "<tf.Tensor: shape=(), dtype=float32, numpy=743.7765>"
      ]
     },
     "execution_count": 80,
     "metadata": {},
     "output_type": "execute_result"
    }
   ],
   "source": [
    "loss_mse = keras.losses.MeanSquaredError(reduction=\"sum\")\n",
    "loss_mse(y_true=y_true, y_pred=y_pred)"
   ]
  },
  {
   "cell_type": "code",
   "execution_count": 81,
   "id": "8fe8f70c",
   "metadata": {},
   "outputs": [
    {
     "data": {
      "text/plain": [
       "743.7764942365502"
      ]
     },
     "execution_count": 81,
     "metadata": {},
     "output_type": "execute_result"
    }
   ],
   "source": [
    "np.sum(np.mean((y_true-y_pred)**2, axis=1))"
   ]
  },
  {
   "cell_type": "markdown",
   "id": "2567a2de",
   "metadata": {},
   "source": [
    "* <code>reduction=None\"</code>. Aplica la función de costo sobre cada batch y retorna el resultado de cada uno."
   ]
  },
  {
   "cell_type": "code",
   "execution_count": 82,
   "id": "b660eb87",
   "metadata": {},
   "outputs": [
    {
     "data": {
      "text/plain": [
       "<tf.Tensor: shape=(10,), dtype=float32, numpy=\n",
       "array([ 12.85541 ,  81.90165 ,  22.964052,  95.44571 ,  90.32697 ,\n",
       "        17.789778,  49.11834 ,  45.687687,  71.23675 , 256.45013 ],\n",
       "      dtype=float32)>"
      ]
     },
     "execution_count": 82,
     "metadata": {},
     "output_type": "execute_result"
    }
   ],
   "source": [
    "loss_mse = keras.losses.MeanSquaredError(reduction=None)\n",
    "loss_mse(y_true=y_true, y_pred=y_pred)"
   ]
  },
  {
   "cell_type": "code",
   "execution_count": 83,
   "id": "36d1044d",
   "metadata": {},
   "outputs": [
    {
     "data": {
      "text/plain": [
       "array([ 12.85540717,  81.90164489,  22.96405328,  95.44570617,\n",
       "        90.32695795,  17.78978108,  49.11833521,  45.68768549,\n",
       "        71.2367478 , 256.4501752 ])"
      ]
     },
     "execution_count": 83,
     "metadata": {},
     "output_type": "execute_result"
    }
   ],
   "source": [
    "np.mean((y_true-y_pred)**2, axis=1)"
   ]
  },
  {
   "cell_type": "markdown",
   "id": "67fe2168",
   "metadata": {},
   "source": [
    "### MAE\n",
    "El error absoluto medio está definido por:\n",
    "\n",
    "\\begin{equation}\n",
    "\\text{MAE} = \\frac{1}{n}\\sum_{i=1}^n \\left| y_i - \\hat y_i \\right|\n",
    "\\end{equation}\n",
    "\n",
    "Similar al MSE pero computa la media de las distancias entre el valor real y el obtenido, no sus distancias cuadráticas. Esta métrica no es tan sensible a outliers como sí lo es MSE. En el caso en que tengamos un problema en el cual los residuales no tiendan a estar distribuidos normalmente MAE puede ser una mejor opción que MSE. "
   ]
  },
  {
   "cell_type": "markdown",
   "id": "bf6b0d23",
   "metadata": {},
   "source": [
    "Otra forma de determinar el método de reducción es usando la clase <code>keras.losses.Reduction</code> "
   ]
  },
  {
   "cell_type": "code",
   "execution_count": 84,
   "id": "5c3a0a8c",
   "metadata": {},
   "outputs": [
    {
     "data": {
      "text/plain": [
       "<tf.Tensor: shape=(10,), dtype=float32, numpy=\n",
       "array([ 3.4072087,  8.105146 ,  4.1989875,  8.257989 ,  8.016254 ,\n",
       "        3.346784 ,  5.6329627,  4.4460154,  8.105422 , 13.40993  ],\n",
       "      dtype=float32)>"
      ]
     },
     "execution_count": 84,
     "metadata": {},
     "output_type": "execute_result"
    }
   ],
   "source": [
    "loss_mae = keras.losses.MeanAbsoluteError(reduction=keras.losses.Reduction.NONE)\n",
    "loss_mae(y_true=y_true, y_pred=y_pred)"
   ]
  },
  {
   "cell_type": "code",
   "execution_count": 85,
   "id": "32279c5f",
   "metadata": {},
   "outputs": [
    {
     "data": {
      "text/plain": [
       "array([ 3.40720825,  8.10514666,  4.19898735,  8.25798948,  8.01625401,\n",
       "        3.34678436,  5.63296225,  4.44601525,  8.10542177, 13.40993176])"
      ]
     },
     "execution_count": 85,
     "metadata": {},
     "output_type": "execute_result"
    }
   ],
   "source": [
    "# Con numpy\n",
    "np.mean(np.absolute(y_true-y_pred), axis=1)"
   ]
  },
  {
   "cell_type": "markdown",
   "id": "a01d22c4",
   "metadata": {},
   "source": [
    "### MAPE\n",
    "El error de porcentaje medio absoluto está definido por:\n",
    "\n",
    "\\begin{equation}\n",
    "\\text{MAPE} = 100\\%\\times\\frac{1}{n}\\sum_{i=1}^n \\left| \\frac{y_i - \\hat y_i}{y_i} \\right|\n",
    "\\end{equation}\n",
    "\n",
    "Esta métrica representa el promedio de las distancias porcentuales entre el valor real y el predicho. Uno de los mayores inconvenientes con el uso de esta métrica es que para valores reales de $0$, o muy cercanos a $0$ generará valores muy grandes o infinitos si es el caso, por esto no es habitual ver su uso directo sino, más bien, el de alguna de sus [modificaciones](https://en.wikipedia.org/wiki/Mean_absolute_percentage_error#Issues). \n",
    "\n",
    "Al igual que MAE, MAPE no es sensible a outliers, aunque sí lo es a la escala de los datos por lo que siempre se recomienda su uso con datos normalizados. "
   ]
  },
  {
   "cell_type": "code",
   "execution_count": 86,
   "id": "0bd89cca",
   "metadata": {},
   "outputs": [
    {
     "data": {
      "text/plain": [
       "<tf.Tensor: shape=(), dtype=float32, numpy=57.496605>"
      ]
     },
     "execution_count": 86,
     "metadata": {},
     "output_type": "execute_result"
    }
   ],
   "source": [
    "loss_mape = keras.losses.MeanAbsolutePercentageError(reduction=keras.losses.Reduction.SUM_OVER_BATCH_SIZE)\n",
    "loss_mape(y_true=y_true, y_pred=y_pred)"
   ]
  },
  {
   "cell_type": "code",
   "execution_count": 87,
   "id": "2046458f",
   "metadata": {},
   "outputs": [
    {
     "data": {
      "text/plain": [
       "57.496602830890836"
      ]
     },
     "execution_count": 87,
     "metadata": {},
     "output_type": "execute_result"
    }
   ],
   "source": [
    "# Con numpy\n",
    "np.mean(np.mean(np.absolute(100*(y_true-y_pred)/y_true), axis=1))"
   ]
  },
  {
   "cell_type": "markdown",
   "id": "c1f67e38",
   "metadata": {},
   "source": [
    "### Huber\n",
    "La función de perdida de Huber está dada por:\n",
    "\n",
    "\\begin{equation}\n",
    " \\text{HUBER} = \\left\\{ \\begin{array}{lcc} \n",
    "                                \\frac{1}{2}(y-\\hat y)^2                 & \\text{si} & |y-\\hat y| \\leq \\delta \\\\\n",
    "                                \\delta |y-\\hat y| - \\frac{1}{2}\\delta   & \\text{si} & |y-\\hat y| > \\delta   \\\\\n",
    "                        \\end{array}\n",
    "                \\right.\n",
    "\\end{equation}\n",
    "\n",
    "Como se puede ver, la función de costo de Huber está definida a dos tramos determinados por un parámetro $\\delta$. Para valores de los residuales tales que $y-\\hat y\\leq \\delta$ Huber se comportará como MSE, pero para los otros casos se comportará como MAE. Esto trae varias ventajas pues toma lo mejor de cada una de las dos funciones de costo. Es decir, para valores pequeños de los residuales Huber se comportará como MSE, que trabaja muy bien en este rango, cuando los residuales son grandes entonces Huber se comportará como MAE, que no tiene el problema con los outliers que sí presenta MSE. "
   ]
  },
  {
   "cell_type": "code",
   "execution_count": 88,
   "id": "76707aa5",
   "metadata": {},
   "outputs": [
    {
     "data": {
      "text/plain": [
       "<tf.Tensor: shape=(10,), dtype=float32, numpy=\n",
       "array([ 2.9072087,  7.605147 ,  3.6989875,  7.757989 ,  7.534233 ,\n",
       "        2.846784 ,  5.1712313,  4.0462284,  7.605422 , 12.90993  ],\n",
       "      dtype=float32)>"
      ]
     },
     "execution_count": 88,
     "metadata": {},
     "output_type": "execute_result"
    }
   ],
   "source": [
    "delta = 1.0\n",
    "loss_huber = keras.losses.Huber(reduction=keras.losses.Reduction.NONE, delta=delta)\n",
    "loss_huber(y_true=y_true, y_pred=y_pred)"
   ]
  },
  {
   "cell_type": "code",
   "execution_count": 89,
   "id": "1e31fd9b",
   "metadata": {},
   "outputs": [
    {
     "data": {
      "text/plain": [
       "2.9072082532010333"
      ]
     },
     "execution_count": 89,
     "metadata": {},
     "output_type": "execute_result"
    }
   ],
   "source": [
    "# Veamos sólo el primer valor\n",
    "loss = []\n",
    "for e in abs(y_true[0]-y_pred[0]):\n",
    "    if e<=delta:\n",
    "        loss.append(0.5*e**2)\n",
    "    else:\n",
    "        loss.append(delta*e-0.5*delta**2)\n",
    "        \n",
    "np.mean(loss)"
   ]
  },
  {
   "cell_type": "markdown",
   "id": "5cbe5268",
   "metadata": {},
   "source": [
    "El uso de esta función de costo es altamente sugerido para controlar el funcionamiento de los outliers."
   ]
  },
  {
   "cell_type": "markdown",
   "id": "6da30d1e",
   "metadata": {},
   "source": [
    "## Funciones de perdida para problemas de clasificación\n",
    "\n",
    "La naturaleza de los problemas de clasificación hace necesario el uso de funciones de perdida diferentes a aquellas propias de los problemas de regresión. Supongamos que queremos clasificar imágenes de animales y tenemos, por decir, $4$ diferentes tipos: armadillos, murciélagos, cuervos y ajolotes. Si seguimos la lógica detrás de las funciones de perdida para regresión necesitaríamos un valor predicho $\\hat y$ que sería numérico por lo que, si por ejemplo usamos un MSE tendríamos que calcular la diferencia $y-\\hat y$ para luego elevarla al cuadrado, pero ¿qué sentido tendría esta? Por ejemplo, digamos que el ajolote está representado con el label numérico $4$ y el armadillo con el $1$ y nuestro modelo para esta muestra predice un ajolote cuando en realidad es un armadillo. Tendríamos entonces la diferencia $1-4=-3$, ¿qué significado tiene este $\"-3\"$?\n",
    "\n",
    "Un análisis mental sencillo nos dice que no tiene mayor sentido restar labels numéricos, menos aún cuando estos solo representan categorías no ordinales, sería como decir que ajolote menos armadillo es igual cuervo, claramente un sin sentido. Es por esto que para los problemas de clasificación no usamos las mismas funciones de perdida que para los problemas de regresión, en lugar de esto se utilizan las probabilidades de obtener una u otra clase como veremos a continuación al explicar las funciones de costo más comunes."
   ]
  },
  {
   "cell_type": "markdown",
   "id": "c5791139",
   "metadata": {},
   "source": [
    "### Binary Cross-entropy (BCE)\n",
    "Binary cross-entropy es una de las funciones de perdida más comunes en el ámbito de problemas de clasificación binaria para redes neuronales, está dada por:\n",
    "\n",
    "\\begin{equation}\n",
    "\\text{BCE} = -\\left[y_i \\log(\\hat y_i) + (1-y_i)\\log(1-\\hat y_i) \\right]\n",
    "\\end{equation}\n",
    "\n",
    "Donde los $\\hat y_i$ son las probabilidades de pertenecer a la clase positiva, habitualmente con label \"1\". El logaritmo es natural.\n",
    "\n",
    "Para entender esta expresión consideremos por ejemplo una muestra con label $1$ pero para la cual nuestro modelo predice una probabilidad de pertenencia a esta clase de $0.1$, es decir muy baja y por lo tanto errada. Tendríamos entonces que nuestro BCE sería:\n",
    "\n",
    "\\begin{equation}\n",
    "\\text{BCE} = -\\left[(1)\\times\\log(0.1) + (1-1)\\log(1-0.1)\\right] \\approx 2.3\n",
    "\\end{equation}\n",
    "\n",
    "Si, por ejemplo, el modelo hubiese predicho una probabilidad de $0.9$ el resultado sería $BCE\\approx0.1$, es decir, un valor mucho menor. Vemos entonces que esta expresión castigará las malas predicciones proporcionando un alto valor a la función de costo pero si la predicción es buena entonces la función de costo tendrá un valor bajo. \n",
    "\n",
    "Creemos algunos datos de prueba aleatoriamente."
   ]
  },
  {
   "cell_type": "code",
   "execution_count": 90,
   "id": "296e3ee3",
   "metadata": {},
   "outputs": [
    {
     "data": {
      "text/plain": [
       "array([[0.97861834, 0.79915856, 0.46147936, 0.78052918],\n",
       "       [0.11827443, 0.63992102, 0.14335329, 0.94466892],\n",
       "       [0.52184832, 0.41466194, 0.26455561, 0.77423369],\n",
       "       [0.45615033, 0.56843395, 0.0187898 , 0.6176355 ],\n",
       "       [0.61209572, 0.616934  , 0.94374808, 0.6818203 ],\n",
       "       [0.3595079 , 0.43703195, 0.6976312 , 0.06022547],\n",
       "       [0.66676672, 0.67063787, 0.21038256, 0.1289263 ],\n",
       "       [0.31542835, 0.36371077, 0.57019677, 0.43860151],\n",
       "       [0.98837384, 0.10204481, 0.20887676, 0.16130952],\n",
       "       [0.65310833, 0.2532916 , 0.46631077, 0.24442559]])"
      ]
     },
     "execution_count": 90,
     "metadata": {},
     "output_type": "execute_result"
    }
   ],
   "source": [
    "np.random.seed(0)\n",
    "y_ctrue = np.random.randint(0, 2, (10,4))\n",
    "\n",
    "# Los valores predichos son probabilidades\n",
    "y_cpred = np.random.uniform(size=y_ctrue.shape)\n",
    "y_cpred"
   ]
  },
  {
   "cell_type": "markdown",
   "id": "dfc080ed",
   "metadata": {},
   "source": [
    "Estas son las probabilidades de obtener la clase positiva, en este caso de label $1$."
   ]
  },
  {
   "cell_type": "code",
   "execution_count": 91,
   "id": "d105001c",
   "metadata": {},
   "outputs": [
    {
     "data": {
      "text/plain": [
       "array([[0, 1, 1, 0],\n",
       "       [1, 1, 1, 1],\n",
       "       [1, 1, 1, 0],\n",
       "       [0, 1, 0, 0],\n",
       "       [0, 0, 0, 1],\n",
       "       [0, 1, 1, 0],\n",
       "       [0, 1, 1, 1],\n",
       "       [1, 0, 1, 0],\n",
       "       [1, 0, 1, 1],\n",
       "       [0, 1, 1, 0]])"
      ]
     },
     "execution_count": 91,
     "metadata": {},
     "output_type": "execute_result"
    }
   ],
   "source": [
    "y_ctrue"
   ]
  },
  {
   "cell_type": "code",
   "execution_count": 92,
   "id": "ba9155ef",
   "metadata": {},
   "outputs": [
    {
     "data": {
      "text/plain": [
       "<tf.Tensor: shape=(10,), dtype=float32, numpy=\n",
       "array([1.5898178 , 1.1451306 , 1.0871571 , 0.53857553, 1.291862  ,\n",
       "       0.4238619 , 1.2764452 , 0.68625593, 0.87744266, 0.8687841 ],\n",
       "      dtype=float32)>"
      ]
     },
     "execution_count": 92,
     "metadata": {},
     "output_type": "execute_result"
    }
   ],
   "source": [
    "# Valor de la función de perdida para cada batch\n",
    "loss_bce = keras.losses.BinaryCrossentropy(reduction=keras.losses.Reduction.NONE)\n",
    "loss_bce(y_true=y_ctrue, y_pred=y_cpred)"
   ]
  },
  {
   "cell_type": "code",
   "execution_count": 93,
   "id": "d9c6a637",
   "metadata": {},
   "outputs": [
    {
     "data": {
      "text/plain": [
       "array([[3.84522184, 0.2241959 , 0.77331794, 1.51653598],\n",
       "       [2.13474771, 0.44641051, 1.94244315, 0.05692077],\n",
       "       [0.6503783 , 0.88029169, 1.3297038 , 1.48825484],\n",
       "       [0.60908242, 0.56487016, 0.01896857, 0.96138093],\n",
       "       [0.94699668, 0.95954797, 2.87791508, 0.38298915],\n",
       "       [0.44551849, 0.82774897, 0.36006469, 0.0621153 ],\n",
       "       [1.09891248, 0.39952598, 1.55882769, 2.04851437],\n",
       "       [1.15382372, 0.45210206, 0.56177377, 0.57732431],\n",
       "       [0.01169427, 0.10763511, 1.56601088, 1.82443029],\n",
       "       [1.05874272, 1.37321387, 0.76290297, 0.28027701]])"
      ]
     },
     "execution_count": 93,
     "metadata": {},
     "output_type": "execute_result"
    }
   ],
   "source": [
    "# Con numpy\n",
    "logs = -(y_ctrue*np.log(y_cpred) + (1-y_ctrue)*np.log(1-y_cpred))\n",
    "logs"
   ]
  },
  {
   "cell_type": "code",
   "execution_count": 94,
   "id": "ef1a83cc",
   "metadata": {},
   "outputs": [
    {
     "data": {
      "text/plain": [
       "array([1.58981791, 1.14513054, 1.08715716, 0.53857552, 1.29186222,\n",
       "       0.42386186, 1.27644513, 0.68625596, 0.87744264, 0.86878415])"
      ]
     },
     "execution_count": 94,
     "metadata": {},
     "output_type": "execute_result"
    }
   ],
   "source": [
    "np.mean(logs, axis=1)"
   ]
  },
  {
   "cell_type": "markdown",
   "id": "09b19458",
   "metadata": {},
   "source": [
    "**Logits**: En algunos casos el valor de la función de costo se puede calcular a partir de los conocidos como [*logits*](https://en.wikipedia.org/wiki/Logit). Estos son, a modo simplificado, un mapeo de las probabilidades, que están en un intervalo de $[0,1]$ a un intervalo que abarca a todos los números reales utilizando el inverso de la función logística $\\sigma(x)=1/(1-e^{-x})$:\n",
    "\n",
    "\\begin{equation}\n",
    "\\text{logit p} = \\sigma^{-1}(p) =  \\ln \\left( \\frac{p}{1-p} \\right)\n",
    "\\end{equation}\n",
    "\n",
    "Una probabilidad de $p=0.5$ provee un logit de $0$, probabilidades tales que $p>0.5$ serán logits positivos y para $p<0.5$ logits negativos como se puede ver en el gráfico:"
   ]
  },
  {
   "cell_type": "code",
   "execution_count": 95,
   "id": "25d4eac1",
   "metadata": {},
   "outputs": [
    {
     "data": {
      "image/png": "[encoded data removed]",
      "text/plain": [
       "<Figure size 720x504 with 1 Axes>"
      ]
     },
     "metadata": {
      "needs_background": "light"
     },
     "output_type": "display_data"
    }
   ],
   "source": [
    "def logit(p):\n",
    "    return np.log(p/(1-p))\n",
    "\n",
    "xs = np.linspace(1e-2,0.99, 100)\n",
    "fig, ax = plt.subplots(figsize=(10,7))\n",
    "\n",
    "ax.plot(xs, logit(xs), lw=2, c=\"k\")\n",
    "ax.set_xticks(ticks=np.linspace(0,1,11))\n",
    "ax.vlines(0.5, *ax.get_ylim(), ls=\"--\", color=\"red\")\n",
    "ax.hlines(0,   *ax.get_xlim(), ls=\"--\", color=\"red\")\n",
    "\n",
    "\n",
    "ax.set_xlim(min(xs), max(xs))\n",
    "ax.set_ylim(-4,4)\n",
    "ax.set_xlabel(\"Probabilities\", **font)\n",
    "ax.set_ylabel(\"Logits\", **font)\n",
    "\n",
    "plt.show()"
   ]
  },
  {
   "cell_type": "markdown",
   "id": "f4e27cd8",
   "metadata": {},
   "source": [
    "Si aplicamos esta función a nuestros datos de prueba obtendríamos:"
   ]
  },
  {
   "cell_type": "code",
   "execution_count": 96,
   "id": "a5884ec6",
   "metadata": {},
   "outputs": [
    {
     "data": {
      "text/plain": [
       "array([[ 3.82360828,  1.38104366, -0.15438849,  1.26875282],\n",
       "       [-2.0088733 ,  0.57502137, -1.78771347,  2.83749968],\n",
       "       [ 0.08744897, -0.34472597, -1.02242344,  1.23237331],\n",
       "       [-0.17585043,  0.27546455, -3.95547251,  0.47952412],\n",
       "       [ 0.45613008,  0.47655474,  2.82001906,  0.76214981],\n",
       "       [-0.57750063, -0.25321656,  0.83604311, -2.7475446 ],\n",
       "       [ 0.69359743,  0.71107146, -1.32262098, -1.91048569],\n",
       "       [-0.77486175, -0.55929426,  0.28265401, -0.24683968],\n",
       "       [ 4.44280311, -2.17470813, -1.33170937, -1.64851673],\n",
       "       [ 0.63273045, -1.08113334, -0.13496139, -1.12856733]])"
      ]
     },
     "execution_count": 96,
     "metadata": {},
     "output_type": "execute_result"
    }
   ],
   "source": [
    "y_cpred_logit = logit(y_cpred)\n",
    "y_cpred_logit "
   ]
  },
  {
   "cell_type": "code",
   "execution_count": 97,
   "id": "fa65ced9",
   "metadata": {},
   "outputs": [
    {
     "data": {
      "text/plain": [
       "<tf.Tensor: shape=(10,), dtype=float32, numpy=\n",
       "array([1.589818  , 1.1451306 , 1.0871572 , 0.53857553, 1.2918621 ,\n",
       "       0.42386186, 1.2764452 , 0.68625593, 0.87744266, 0.8687841 ],\n",
       "      dtype=float32)>"
      ]
     },
     "execution_count": 97,
     "metadata": {},
     "output_type": "execute_result"
    }
   ],
   "source": [
    "# Valor de la función de perdida para cada batch usando logits\n",
    "loss_bce_logit = keras.losses.BinaryCrossentropy(reduction=keras.losses.Reduction.NONE, from_logits=True)\n",
    "loss_bce_logit(y_true=y_ctrue, y_pred=y_cpred_logit)"
   ]
  },
  {
   "cell_type": "markdown",
   "id": "85acdccd",
   "metadata": {},
   "source": [
    "Como podemos ver, los resultados coinciden, tanto de cuando usamos solamente las probabilidades a cuando usamos los logits.\n",
    "\n",
    "**¿Cuándo usar los logits?** \n",
    "Cuando se usa un algoritmo de Deep Learning para problemas de clasificación, este habitualmente generará un vector con valores NO normalizados, el objetivo es convertir este vector a uno de probabilidades (normalizado), cuando le decimos a la función de costo que está recibiendo logits, esta los convierte en probabilidades para poder ser interpretados como ya hemos explicado previamente. A modo más general, los logits son la entrada para la función de activación [*softmax*](https://es.wikipedia.org/wiki/Funci%C3%B3n_SoftMax) que estuvimos utilizando como función de activación en la última capa de los ejemplos anteriores, ahora entendemos mejor el porqué de esa elección, softmax convierte los logits a probabilidades. "
   ]
  },
  {
   "cell_type": "markdown",
   "id": "90c8bc52",
   "metadata": {},
   "source": [
    "### Categorical cross-entropy (CCE)\n",
    "Para problemas de clasificación con más de dos clases una de las primeras opciones que tenemos es Categorical Cross Entropy (CCE): \n",
    "\n",
    "\\begin{equation}\n",
    "\\text{CCE} = -\\sum_{c=1}^{N}\\log(\\hat y_c)\n",
    "\\end{equation}\n",
    "\n",
    "Donde los $\\hat y_c$ son las probabilidades de pertenecer a la clase $c$ con $c=1,2,...N$ y vienen dados a partir de la función softmax:\n",
    "\n",
    "\\begin{equation}\n",
    "\\hat y_c = \\frac{\\text{exp}(x_c)}{\\sum_{c=1}^{N}\\text{exp}(x_c)}\n",
    "\\end{equation}\n",
    "\n",
    "$x_c$ representa la $c-$ésima entrada del vector de salida. Usando las dos últimas expresiones:\n",
    "\n",
    "\\begin{equation}\n",
    "\\text{CCE} = -\\sum_{c=1}^{N}\\log\\frac{\\text{exp}(x_c)}{\\sum_{i=1}^{N}\\text{exp}(x_i)}\n",
    "\\end{equation}\n",
    "\n",
    "Creemos algunos datos de prueba aleatoriamente. Supongamos vamos a realizar una clasificación multiclase entre $3$ posibles clases, para ello se crearán $10$ batches, cada uno con cuatro muestras, es decir, $40$ muestras en total, cada una conteniendo un vector con un único $1$ indicando la clase a la que pertenese la muestra:"
   ]
  },
  {
   "cell_type": "code",
   "execution_count": 98,
   "id": "c9f3870d",
   "metadata": {},
   "outputs": [],
   "source": [
    "np.random.seed(2)\n",
    "\n",
    "# y_true\n",
    "cs = 3\n",
    "ops = np.diag(np.ones(cs, dtype=int))\n",
    "y_ctrue = np.array([ops[np.random.choice(np.arange(cs))] for _ in range(40)]).reshape((10,4,-1))\n",
    "\n",
    "# Los valores predichos deben ser probabilidades (usamos softmax para lograr esto)\n",
    "y_cpred = np.random.uniform(low=-5, high=5, size=y_ctrue.shape)\n",
    "y_cpred = np.exp(y_cpred)/np.sum(np.exp(y_cpred), axis=2).reshape((*y_ctrue.shape[0:2],-1))"
   ]
  },
  {
   "cell_type": "code",
   "execution_count": 99,
   "id": "730eaae1",
   "metadata": {},
   "outputs": [
    {
     "data": {
      "text/plain": [
       "array([[[1, 0, 0],\n",
       "        [0, 1, 0],\n",
       "        [1, 0, 0],\n",
       "        [0, 0, 1]],\n",
       "\n",
       "       [[0, 0, 1],\n",
       "        [1, 0, 0],\n",
       "        [0, 0, 1],\n",
       "        [0, 1, 0]],\n",
       "\n",
       "       [[0, 1, 0],\n",
       "        [0, 0, 1],\n",
       "        [1, 0, 0],\n",
       "        [1, 0, 0]],\n",
       "\n",
       "       [[1, 0, 0],\n",
       "        [0, 1, 0],\n",
       "        [0, 0, 1],\n",
       "        [1, 0, 0]],\n",
       "\n",
       "       [[0, 0, 1],\n",
       "        [0, 0, 1],\n",
       "        [0, 0, 1],\n",
       "        [0, 1, 0]],\n",
       "\n",
       "       [[0, 0, 1],\n",
       "        [1, 0, 0],\n",
       "        [0, 1, 0],\n",
       "        [1, 0, 0]],\n",
       "\n",
       "       [[1, 0, 0],\n",
       "        [0, 0, 1],\n",
       "        [0, 0, 1],\n",
       "        [0, 1, 0]],\n",
       "\n",
       "       [[0, 0, 1],\n",
       "        [1, 0, 0],\n",
       "        [1, 0, 0],\n",
       "        [0, 0, 1]],\n",
       "\n",
       "       [[1, 0, 0],\n",
       "        [0, 0, 1],\n",
       "        [1, 0, 0],\n",
       "        [0, 0, 1]],\n",
       "\n",
       "       [[0, 1, 0],\n",
       "        [0, 0, 1],\n",
       "        [1, 0, 0],\n",
       "        [0, 0, 1]]])"
      ]
     },
     "execution_count": 99,
     "metadata": {},
     "output_type": "execute_result"
    }
   ],
   "source": [
    "y_ctrue"
   ]
  },
  {
   "cell_type": "code",
   "execution_count": 100,
   "id": "f49aff68",
   "metadata": {},
   "outputs": [
    {
     "data": {
      "text/plain": [
       "array([[[3.02683375e-02, 1.93645309e-01, 7.76086354e-01],\n",
       "        [3.55537709e-02, 2.15575314e-02, 9.42888698e-01],\n",
       "        [6.55903618e-04, 8.77269029e-04, 9.98466827e-01],\n",
       "        [7.86192686e-03, 4.22938806e-04, 9.91715134e-01]],\n",
       "\n",
       "       [[7.08378063e-03, 4.02355023e-03, 9.88892669e-01],\n",
       "        [2.18170567e-01, 6.83309786e-01, 9.85196463e-02],\n",
       "        [1.50386178e-01, 1.76370476e-01, 6.73243346e-01],\n",
       "        [9.53735446e-01, 4.39446605e-02, 2.31989390e-03]],\n",
       "\n",
       "       [[1.93558415e-01, 8.28662669e-03, 7.98154959e-01],\n",
       "        [9.05802117e-01, 1.13249738e-02, 8.28729095e-02],\n",
       "        [7.26976019e-02, 7.62251140e-03, 9.19679887e-01],\n",
       "        [3.32015866e-02, 1.18356307e-02, 9.54962783e-01]],\n",
       "\n",
       "       [[8.88901833e-01, 9.71128388e-02, 1.39853283e-02],\n",
       "        [9.24853174e-01, 3.38269366e-02, 4.13198895e-02],\n",
       "        [4.83881635e-03, 9.95061646e-01, 9.95377192e-05],\n",
       "        [9.71042688e-01, 2.33575847e-02, 5.59972695e-03]],\n",
       "\n",
       "       [[5.66080159e-03, 9.88604413e-01, 5.73478527e-03],\n",
       "        [1.31296735e-02, 1.84507153e-01, 8.02363174e-01],\n",
       "        [8.64040773e-01, 1.36727429e-02, 1.22286484e-01],\n",
       "        [2.00825333e-03, 2.98941814e-03, 9.95002329e-01]],\n",
       "\n",
       "       [[3.55075940e-02, 7.94776553e-01, 1.69715853e-01],\n",
       "        [1.42313541e-03, 9.44847134e-01, 5.37297311e-02],\n",
       "        [1.37778804e-01, 1.08630978e-02, 8.51358098e-01],\n",
       "        [6.29059113e-01, 2.35833009e-01, 1.35107877e-01]],\n",
       "\n",
       "       [[9.03215423e-01, 6.56588076e-03, 9.02186963e-02],\n",
       "        [1.40930003e-03, 5.21724962e-01, 4.76865738e-01],\n",
       "        [1.36058433e-02, 4.10166039e-01, 5.76228118e-01],\n",
       "        [6.45425769e-01, 3.54519554e-01, 5.46770458e-05]],\n",
       "\n",
       "       [[1.11235003e-01, 5.70868551e-01, 3.17896446e-01],\n",
       "        [7.32651577e-01, 8.52270721e-02, 1.82121351e-01],\n",
       "        [1.36270576e-03, 9.89857033e-01, 8.78026125e-03],\n",
       "        [9.98134850e-01, 1.66641153e-03, 1.98738518e-04]],\n",
       "\n",
       "       [[1.40284423e-02, 3.19217652e-02, 9.54049792e-01],\n",
       "        [7.06154491e-01, 2.72557536e-01, 2.12879736e-02],\n",
       "        [2.57603359e-03, 2.16907054e-04, 9.97207059e-01],\n",
       "        [8.89404465e-02, 2.41840149e-02, 8.86875539e-01]],\n",
       "\n",
       "       [[6.70836102e-01, 1.18454923e-01, 2.10708976e-01],\n",
       "        [7.61414827e-01, 2.38288498e-01, 2.96675513e-04],\n",
       "        [1.30080008e-01, 4.47326618e-03, 8.65446726e-01],\n",
       "        [9.89985142e-01, 5.06150142e-03, 4.95335681e-03]]])"
      ]
     },
     "execution_count": 100,
     "metadata": {},
     "output_type": "execute_result"
    }
   ],
   "source": [
    "y_cpred"
   ]
  },
  {
   "cell_type": "markdown",
   "id": "26460170",
   "metadata": {},
   "source": [
    "Cada una de las predicciones debe corresponder a un vector de probabilidad donde la suma de todas sea $1$:"
   ]
  },
  {
   "cell_type": "code",
   "execution_count": 101,
   "id": "ec6e3317",
   "metadata": {},
   "outputs": [
    {
     "data": {
      "text/plain": [
       "array([[1., 1., 1., 1.],\n",
       "       [1., 1., 1., 1.],\n",
       "       [1., 1., 1., 1.],\n",
       "       [1., 1., 1., 1.],\n",
       "       [1., 1., 1., 1.],\n",
       "       [1., 1., 1., 1.],\n",
       "       [1., 1., 1., 1.],\n",
       "       [1., 1., 1., 1.],\n",
       "       [1., 1., 1., 1.],\n",
       "       [1., 1., 1., 1.]])"
      ]
     },
     "execution_count": 101,
     "metadata": {},
     "output_type": "execute_result"
    }
   ],
   "source": [
    "np.sum(y_cpred, axis=2)"
   ]
  },
  {
   "cell_type": "markdown",
   "id": "6e92d15f",
   "metadata": {},
   "source": [
    "Apliquemos ahora la función de perdida CCE:"
   ]
  },
  {
   "cell_type": "code",
   "execution_count": 102,
   "id": "a235ad8c",
   "metadata": {},
   "outputs": [
    {
     "data": {
      "text/plain": [
       "<tf.Tensor: shape=(10, 4), dtype=float32, numpy=\n",
       "array([[3.49765301e+00, 3.83702993e+00, 7.32949686e+00, 8.31937697e-03],\n",
       "       [1.11694727e-02, 1.52247810e+00, 3.95648450e-01, 3.12482405e+00],\n",
       "       [4.79311228e+00, 2.49044704e+00, 2.62144685e+00, 3.40515757e+00],\n",
       "       [1.17768474e-01, 3.38649797e+00, 9.21497440e+00, 2.93848440e-02],\n",
       "       [5.16120481e+00, 2.20193967e-01, 2.10138869e+00, 5.81267643e+00],\n",
       "       [1.77362967e+00, 6.55489254e+00, 4.52238369e+00, 4.63530004e-01],\n",
       "       [1.01794213e-01, 7.40520298e-01, 5.51251650e-01, 1.03699183e+00],\n",
       "       [1.14602959e+00, 3.11085016e-01, 6.59828281e+00, 8.52352047e+00],\n",
       "       [4.26666832e+00, 3.84961295e+00, 5.96150446e+00, 1.20050646e-01],\n",
       "       [2.13322282e+00, 8.12287140e+00, 2.03960562e+00, 5.30768967e+00]],\n",
       "      dtype=float32)>"
      ]
     },
     "execution_count": 102,
     "metadata": {},
     "output_type": "execute_result"
    }
   ],
   "source": [
    "loss_cce = keras.losses.CategoricalCrossentropy(reduction=\"none\")\n",
    "loss_cce(y_true=y_ctrue, y_pred=y_cpred)"
   ]
  },
  {
   "cell_type": "code",
   "execution_count": 103,
   "id": "041e69a6",
   "metadata": {},
   "outputs": [
    {
     "data": {
      "text/plain": [
       "array([[3.49765308e+00, 3.83703004e+00, 7.32949670e+00, 8.31937590e-03],\n",
       "       [1.11694779e-02, 1.52247810e+00, 3.95648431e-01, 3.12482415e+00],\n",
       "       [4.79311231e+00, 2.49044706e+00, 2.62144688e+00, 3.40515762e+00],\n",
       "       [1.17768474e-01, 3.38649785e+00, 9.21497390e+00, 2.93848484e-02],\n",
       "       [5.16120497e+00, 2.20193939e-01, 2.10138876e+00, 5.81267651e+00],\n",
       "       [1.77362969e+00, 6.55489281e+00, 4.52238376e+00, 4.63530047e-01],\n",
       "       [1.01794190e-01, 7.40520300e-01, 5.51251659e-01, 1.03699178e+00],\n",
       "       [1.14602959e+00, 3.11085028e-01, 6.59828303e+00, 8.52352058e+00],\n",
       "       [4.26666842e+00, 3.84961298e+00, 5.96150443e+00, 1.20050624e-01],\n",
       "       [2.13322279e+00, 8.12287156e+00, 2.03960557e+00, 5.30768979e+00]])"
      ]
     },
     "execution_count": 103,
     "metadata": {},
     "output_type": "execute_result"
    }
   ],
   "source": [
    "# Con numpy\n",
    "-np.sum(y_ctrue*np.log(y_cpred), axis=2)"
   ]
  },
  {
   "cell_type": "markdown",
   "id": "6efc1dc0",
   "metadata": {},
   "source": [
    "**Nota:** Es importante notar que el caso binario BCE es un caso especial de CCE. Cuando usamos CCE se suma el logaritmo de las probabilidades de cada una de las clases y luego multiplicamos por menos. Pues bueno, la expresión $\\text{BCE} = -\\left[y_i \\log(\\hat y_i) + (1-y_i)\\log(1-\\hat y_i) \\right]$ suma el logaritmo de dos probabilidades, $\\log(\\hat y_i)$ para la clase positiva $1$ y $\\log(1-\\hat y_i)$ para la clase negativa $0$. Esto lo podemos ver más fácilmente al recordar que $\\hat y_i$ es la probabilidad de la clase positiva por lo que $1-\\hat y_i$ representa la probabilidad de la clase negativa (la suma de las probabilidades debe ser $1$)."
   ]
  },
  {
   "cell_type": "markdown",
   "id": "daa20502",
   "metadata": {},
   "source": [
    "### Sparse categorical cross-entropy (SCCE)\n",
    "\n",
    "SCCE utiliza la misma función de perdida que CCE, la diferencia está en cómo se entregan los $y_i$. En el caso de CCE se usa un vector One-Hot Encoding. Por ejemplo, continuando con la lógica del ejemplo anterior, podríamos utilizar el vector $[0,1,0]$ para decir que la muestra pertenece a la clase $1$. Si usamos SCCE entregaríamos un vector conteniendo la clase de cada muestra, no un vector en formato One-Hot Encoding. \n",
    "\n",
    "Realicemos el ejemplo con los mismos datos que generamos para CCE. Primero convirtámolos a un vector conteniendo solamente el índice de la clase:"
   ]
  },
  {
   "cell_type": "code",
   "execution_count": 104,
   "id": "32d60a1d",
   "metadata": {},
   "outputs": [
    {
     "data": {
      "text/plain": [
       "array([[[1, 0, 0],\n",
       "        [0, 1, 0],\n",
       "        [1, 0, 0],\n",
       "        [0, 0, 1]],\n",
       "\n",
       "       [[0, 0, 1],\n",
       "        [1, 0, 0],\n",
       "        [0, 0, 1],\n",
       "        [0, 1, 0]],\n",
       "\n",
       "       [[0, 1, 0],\n",
       "        [0, 0, 1],\n",
       "        [1, 0, 0],\n",
       "        [1, 0, 0]],\n",
       "\n",
       "       [[1, 0, 0],\n",
       "        [0, 1, 0],\n",
       "        [0, 0, 1],\n",
       "        [1, 0, 0]],\n",
       "\n",
       "       [[0, 0, 1],\n",
       "        [0, 0, 1],\n",
       "        [0, 0, 1],\n",
       "        [0, 1, 0]],\n",
       "\n",
       "       [[0, 0, 1],\n",
       "        [1, 0, 0],\n",
       "        [0, 1, 0],\n",
       "        [1, 0, 0]],\n",
       "\n",
       "       [[1, 0, 0],\n",
       "        [0, 0, 1],\n",
       "        [0, 0, 1],\n",
       "        [0, 1, 0]],\n",
       "\n",
       "       [[0, 0, 1],\n",
       "        [1, 0, 0],\n",
       "        [1, 0, 0],\n",
       "        [0, 0, 1]],\n",
       "\n",
       "       [[1, 0, 0],\n",
       "        [0, 0, 1],\n",
       "        [1, 0, 0],\n",
       "        [0, 0, 1]],\n",
       "\n",
       "       [[0, 1, 0],\n",
       "        [0, 0, 1],\n",
       "        [1, 0, 0],\n",
       "        [0, 0, 1]]])"
      ]
     },
     "execution_count": 104,
     "metadata": {},
     "output_type": "execute_result"
    }
   ],
   "source": [
    "# Original\n",
    "y_ctrue"
   ]
  },
  {
   "cell_type": "code",
   "execution_count": 105,
   "id": "f966e06f",
   "metadata": {},
   "outputs": [
    {
     "data": {
      "text/plain": [
       "array([[0, 1, 0, 2],\n",
       "       [2, 0, 2, 1],\n",
       "       [1, 2, 0, 0],\n",
       "       [0, 1, 2, 0],\n",
       "       [2, 2, 2, 1],\n",
       "       [2, 0, 1, 0],\n",
       "       [0, 2, 2, 1],\n",
       "       [2, 0, 0, 2],\n",
       "       [0, 2, 0, 2],\n",
       "       [1, 2, 0, 2]])"
      ]
     },
     "execution_count": 105,
     "metadata": {},
     "output_type": "execute_result"
    }
   ],
   "source": [
    "# Indices\n",
    "y_ctrue_id = np.argmax(y_ctrue, axis=2) \n",
    "y_ctrue_id"
   ]
  },
  {
   "cell_type": "code",
   "execution_count": 106,
   "id": "12c6bb64",
   "metadata": {},
   "outputs": [
    {
     "data": {
      "text/plain": [
       "<tf.Tensor: shape=(10, 4), dtype=float32, numpy=\n",
       "array([[3.49765301e+00, 3.83702993e+00, 7.32949686e+00, 8.31936579e-03],\n",
       "       [1.11695258e-02, 1.52247810e+00, 3.95648450e-01, 3.12482405e+00],\n",
       "       [4.79311228e+00, 2.49044704e+00, 2.62144709e+00, 3.40515757e+00],\n",
       "       [1.17768414e-01, 3.38649797e+00, 9.21497440e+00, 2.93849222e-02],\n",
       "       [5.16120481e+00, 2.20193967e-01, 2.10138869e+00, 5.81267643e+00],\n",
       "       [1.77362967e+00, 6.55489302e+00, 4.52238369e+00, 4.63530004e-01],\n",
       "       [1.01794280e-01, 7.40520298e-01, 5.51251650e-01, 1.03699183e+00],\n",
       "       [1.14602959e+00, 3.11084926e-01, 6.59828329e+00, 8.52352047e+00],\n",
       "       [4.26666832e+00, 3.84961295e+00, 5.96150446e+00, 1.20050631e-01],\n",
       "       [2.13322282e+00, 8.12287140e+00, 2.03960562e+00, 5.30768919e+00]],\n",
       "      dtype=float32)>"
      ]
     },
     "execution_count": 106,
     "metadata": {},
     "output_type": "execute_result"
    }
   ],
   "source": [
    "loss_scce = keras.losses.SparseCategoricalCrossentropy(reduction=None)\n",
    "loss_scce(y_true=y_ctrue_id, y_pred=y_cpred)"
   ]
  },
  {
   "cell_type": "markdown",
   "id": "60e74cb4",
   "metadata": {},
   "source": [
    "Este resultado coincide con el obtenido al utilizar CCE. \n",
    "\n",
    "El uso de SCCE es preferido sobre CCE si tenemos el label de la clase y no el vector en formato One-Hot Encoding. Ya que sólo se necesita un índice y no un vector completo SCCE es más eficiente que CCE en el manejo de memoria."
   ]
  },
  {
   "cell_type": "markdown",
   "id": "7d6b3ed1",
   "metadata": {},
   "source": [
    "### Hinge Loss\n",
    "Otra función de perdida para problemas de clasificación binaria es la función de perdida de [Hinge](https://en.wikipedia.org/wiki/Hinge_loss) que se define como:\n",
    "\n",
    "\\begin{equation}\n",
    "\\text{Hinge} = \\text{max}(0, 1-y\\hat y)\n",
    "\\end{equation}\n",
    "\n",
    "Para utilizar esta función las clases deben estar en el conjunto $\\{-1, 1\\}$. $y$ representa la clase verdadera $1$ o $-1$, $\\hat y$ representa el valor de salida de la red sin ser convertido a probabilidades, es decir, puede ser tanto positivo como negativo. Para entender mejor esta función de costo consideremos las siguientes situaciones. Supongamos que tenemos una mala predicción para la clase $1$, es decir obtenemos un valor de $\\hat y$ negativo entonces $1-y\\hat y$ será positivo implicando que la función de Hinge retornará un valor mayor a cero ($1-y\\hat y$). Si obtenemos una buena predicción, es decir $y$ y $\\hat y$ coinciden en signo y $|\\hat y|\\geq 1$, entonces la cantidad $1-y\\hat y$ será negativa y por lo tanto Hinge retornará $0$. En caso que la predicción sea correcta pero $|\\hat y|<1$ entonces Hinge igualmente penalizará la predicción pero aportando muy poco a la función de perdida, esto implica que Hinge obligará a la red a maximizar la distancia entre las clases y el hiperplano quelas separa.\n",
    "\n",
    "Esta función es altamente utilizada para problemas con SVM pues ayuda a maximizar la margen de separación entre las dos clases. Para entender un poco mejor esto, vemos que la cantidad $1-y\\hat y$ será negativa solamente si $y\\hat y \\geq 1$, que es cuando el modelo predice correctamente. Pues bien, si recordamos $y\\hat y \\geq 1$ es precisamente la condición bajo la cual se minimizan las SVM. \n",
    "\n",
    "Veamos un ejemplo:"
   ]
  },
  {
   "cell_type": "code",
   "execution_count": 107,
   "id": "8fab6373",
   "metadata": {},
   "outputs": [
    {
     "data": {
      "text/plain": [
       "array([[-1,  1,  1, -1],\n",
       "       [ 1,  1,  1,  1],\n",
       "       [ 1,  1,  1, -1],\n",
       "       [-1,  1, -1, -1],\n",
       "       [-1, -1, -1,  1],\n",
       "       [-1,  1,  1, -1],\n",
       "       [-1,  1,  1,  1],\n",
       "       [ 1, -1,  1, -1],\n",
       "       [ 1, -1,  1,  1],\n",
       "       [-1,  1,  1, -1]])"
      ]
     },
     "execution_count": 107,
     "metadata": {},
     "output_type": "execute_result"
    }
   ],
   "source": [
    "# Estos son los mismos datos utilizados para BCE pero cambiando los labels\n",
    "np.random.seed(0)\n",
    "y_ctrue = np.random.randint(0, 2, (10,4))\n",
    "y_ctrue[y_ctrue==0] = -1\n",
    "\n",
    "# Los valores predichos son probabilidades\n",
    "y_cpred = np.random.uniform(low=-10, high=10, size=y_ctrue.shape)\n",
    "y_ctrue"
   ]
  },
  {
   "cell_type": "code",
   "execution_count": 108,
   "id": "9fde287a",
   "metadata": {},
   "outputs": [
    {
     "data": {
      "text/plain": [
       "<tf.Tensor: shape=(10,), dtype=float32, numpy=\n",
       "array([4.7383404 , 4.1918616 , 3.865839  , 0.86892915, 4.113889  ,\n",
       "       0.5648402 , 4.8872895 , 1.1728582 , 3.6490686 , 2.9175296 ],\n",
       "      dtype=float32)>"
      ]
     },
     "execution_count": 108,
     "metadata": {},
     "output_type": "execute_result"
    }
   ],
   "source": [
    "loss_hinge = keras.losses.Hinge(reduction=None)\n",
    "loss_hinge(y_true=y_ctrue, y_pred=y_cpred)"
   ]
  },
  {
   "cell_type": "code",
   "execution_count": 109,
   "id": "1753e53a",
   "metadata": {},
   "outputs": [
    {
     "data": {
      "text/plain": [
       "array([[10.57236684,  0.        ,  1.77041275,  6.61058353],\n",
       "       [ 8.63451148,  0.        ,  8.13293425,  0.        ],\n",
       "       [ 0.56303356,  2.7067612 ,  5.70888776,  6.48467379],\n",
       "       [ 0.12300664,  0.        ,  0.        ,  3.35270994],\n",
       "       [ 3.24191445,  3.33867994,  9.87496157,  0.        ],\n",
       "       [ 0.        ,  2.25936092,  0.        ,  0.        ],\n",
       "       [ 4.33533431,  0.        ,  6.79234878,  8.42147405],\n",
       "       [ 4.69143298,  0.        ,  0.        ,  0.        ],\n",
       "       [ 0.        ,  0.        ,  6.82246488,  7.77380964],\n",
       "       [ 4.06216651,  5.93416795,  1.67378454,  0.        ]])"
      ]
     },
     "execution_count": 109,
     "metadata": {},
     "output_type": "execute_result"
    }
   ],
   "source": [
    "# numpy\n",
    "hinge = 1-y_ctrue*y_cpred\n",
    "hinge[hinge<=0] = 0\n",
    "hinge"
   ]
  },
  {
   "cell_type": "code",
   "execution_count": 110,
   "id": "2bac50ee",
   "metadata": {},
   "outputs": [
    {
     "data": {
      "text/plain": [
       "array([4.73834078, 4.19186143, 3.86583908, 0.86892915, 4.11388899,\n",
       "       0.56484023, 4.88728928, 1.17285825, 3.64906863, 2.91752975])"
      ]
     },
     "execution_count": 110,
     "metadata": {},
     "output_type": "execute_result"
    }
   ],
   "source": [
    "np.mean(hinge, axis=1)"
   ]
  },
  {
   "cell_type": "markdown",
   "id": "a9008d84",
   "metadata": {},
   "source": [
    "**Importante:** Cuando usamos Hinge debemos utilizar un único nodo en la capa de salida de la red con una función de activación $\\text{tanh}$ pues su salida estará en el rango $(-1,1)$."
   ]
  },
  {
   "cell_type": "markdown",
   "id": "b8b00b0a",
   "metadata": {},
   "source": [
    "**Nota:** Hinge es preferida a BCE para aquellos casos en los cuales queramos un modelo menos sensible a outliers. Una desventaja respecto a BCE es que no proporciona probabilidades las cuales pueden ser muy deseadas a la hora de evaluar los resultados del modelo. Hinge, además, tenderá a maximizar la separación de las clases, esto lo podemos entender ya que su algoritmo está fuertemente ligado con la lógica detrás de las SVM. Una ventaja interesante de BCE sobre Hinge es la suavidad, Hinge no tiene un gradiente suave por lo que puede llevar a problemas de optimización. \n",
    "Cuál de las dos tiene un mejor desempeño no es absoluto, en ocasiones una podría funcionar mejor que la otra, por esto la elección dependerá siempre de los datos y las necesidades propias del modelo."
   ]
  },
  {
   "cell_type": "markdown",
   "id": "4920eaa2",
   "metadata": {},
   "source": [
    "### Funciones de perdida personalizadas (Custom Loss Functions)\n",
    "En caso que las funciones de perdida predefinidas en tensorflow no sean suficientes, podemos crear las nuestras propias. Para esto usamos las operaciones que TensorFlow nos ofrece. Veamos algunos ejemplos.\n",
    "\n",
    "La función de perdida debe recibir dos argumentos, <code>y_true</code> y <code>y_pred</code>:"
   ]
  },
  {
   "cell_type": "code",
   "execution_count": 111,
   "id": "f383b5e4",
   "metadata": {},
   "outputs": [
    {
     "data": {
      "text/plain": [
       "<tf.Tensor: shape=(), dtype=float64, numpy=6.692670113807388>"
      ]
     },
     "execution_count": 111,
     "metadata": {},
     "output_type": "execute_result"
    }
   ],
   "source": [
    "# Empecemos definiendo una sencilla: MAE\n",
    "def custom_loss_1(y_true, y_pred, reduction=\"sum_over_batch_size\"):\n",
    "    if reduction==\"sum_over_batch_size\": return tf.reduce_mean(tf.abs(y_true - y_pred))\n",
    "    if reduction==\"none\": return tf.reduce_mean(tf.abs(y_true - y_pred), axis=-1)\n",
    "\n",
    "custom_loss_1(y_true=y_true, y_pred=y_pred, reduction=\"sum_over_batch_size\")"
   ]
  },
  {
   "cell_type": "code",
   "execution_count": 112,
   "id": "ecfdd609",
   "metadata": {},
   "outputs": [
    {
     "data": {
      "text/plain": [
       "<tf.Tensor: shape=(10,), dtype=float32, numpy=\n",
       "array([ 3.4072087,  8.105146 ,  4.1989875,  8.257989 ,  8.016254 ,\n",
       "        3.346784 ,  5.6329627,  4.4460154,  8.105422 , 13.40993  ],\n",
       "      dtype=float32)>"
      ]
     },
     "execution_count": 112,
     "metadata": {},
     "output_type": "execute_result"
    }
   ],
   "source": [
    "loss_mae(y_true, y_pred)"
   ]
  },
  {
   "cell_type": "code",
   "execution_count": 113,
   "id": "e8110108",
   "metadata": {},
   "outputs": [],
   "source": [
    "# Hinge (diferenciable)\n",
    "def custom_loss_2(y_true, y_pred, reduction=\"sum_over_batch_size\"):\n",
    "    if reduction==\"none\":\n",
    "        return tf.reduce_mean(tf.maximum(1-y_true*y_pred,\n",
    "                                         0), axis=-1)\n",
    "    \n",
    "    if reduction==\"sum_over_batch_size\":\n",
    "        return tf.reduce_mean(tf.maximum(1-y_true*y_pred, 0))\n",
    "    \n",
    "# otra aproximación (no diferenciable)\n",
    "def custom_loss_3(y_true, y_pred, reduction=\"sum_over_batch_size\"):\n",
    "    if reduction==\"none\":\n",
    "        return tf.reduce_mean(tf.where(tf.greater(1-y_ctrue*y_cpred, 0),\n",
    "                                       x=1-y_ctrue*y_cpred,\n",
    "                                       y=0), axis=-1)\n",
    "    \n",
    "    if reduction==\"sum_over_batch_size\": \n",
    "        return tf.reduce_mean(tf.where(tf.greater(1-y_ctrue*y_cpred, 0),\n",
    "                                       x=1-y_ctrue*y_cpred,\n",
    "                                       y=0))"
   ]
  },
  {
   "cell_type": "code",
   "execution_count": 114,
   "id": "25eb60a7",
   "metadata": {},
   "outputs": [
    {
     "data": {
      "text/plain": [
       "<tf.Tensor: shape=(10,), dtype=float64, numpy=\n",
       "array([4.73834078, 4.19186143, 3.86583908, 0.86892915, 4.11388899,\n",
       "       0.56484023, 4.88728928, 1.17285825, 3.64906863, 2.91752975])>"
      ]
     },
     "execution_count": 114,
     "metadata": {},
     "output_type": "execute_result"
    }
   ],
   "source": [
    "custom_loss_2(y_true=y_ctrue, y_pred=y_cpred, reduction=\"none\")"
   ]
  },
  {
   "cell_type": "code",
   "execution_count": 115,
   "id": "1e3fd2fc",
   "metadata": {},
   "outputs": [
    {
     "data": {
      "text/plain": [
       "<tf.Tensor: shape=(10,), dtype=float64, numpy=\n",
       "array([4.73834078, 4.19186143, 3.86583908, 0.86892915, 4.11388899,\n",
       "       0.56484023, 4.88728928, 1.17285825, 3.64906863, 2.91752975])>"
      ]
     },
     "execution_count": 115,
     "metadata": {},
     "output_type": "execute_result"
    }
   ],
   "source": [
    "custom_loss_3(y_true=y_ctrue, y_pred=y_cpred, reduction=\"none\")"
   ]
  },
  {
   "attachments": {
    "imagen.png": {
     "image/png": "[encoded data removed]"
    }
   },
   "cell_type": "markdown",
   "id": "9efadfd2",
   "metadata": {},
   "source": [
    "#### Problemas al definir la función de costo\n",
    "Tanto al definir una función de costo como una función de activación debemos garantizar que sean diferenciables. TensorFlow calcula internamente la derivada de la función para poder ejecutar el algoritmo de back propagation, por esta razón debemos asegurarnos que la función que entregemos sea diferenciable, de lo contrario obtendremos un error como el que se ve en la figura:\n",
    "\n",
    "![imagen.png](attachment:imagen.png)\n",
    "\n",
    "indicando esto que no se pudo calcular el gradiente de la función de perdida entregada. Por ejemplo, en las celdas anteriores definimos dos funciones de perdida que en principio hacen la misma tarea, calcular la función de Hinge. La función <code>custom_loss_2</code> es diferenciable, por lo tanto es posible utilizarla como función de perdida, la función <code>custom_loss_3</code> no lo es (¿por qué?) por lo cual no puede ser utilizada como función de perdida. Aunque ambas funciones realizan la misma tarea, no lo hacen de igual forma, es importante tener presente este comportamiento a la hora de definir nuestras funciones de perdida/activación. "
   ]
  },
  {
   "cell_type": "markdown",
   "id": "7c0f4fd2",
   "metadata": {},
   "source": [
    "Una lista de errores producidos por malas definiciones de la función de perdida se puede encontrar en el [enlace](https://github.com/keras-team/tf-keras/issues/52). "
   ]
  },
  {
   "cell_type": "markdown",
   "id": "72f08c71",
   "metadata": {},
   "source": [
    "### La función de perdida y la convergencia\n",
    "Como ya se ha mencionado, el objetivo de las funciones de activación es servir como indicador del desempeño del modelo, un mayoe valor indica, en principio, un mal desempeño, pero no todo es blanco o negro acá, si bien el objetivo es minimizar la función de costo, también se debe tener cuidado para evitar que el modelo se sobreentrene. A modo general, cuando logramos encontrar un mínimo estable para la función de costo decimos que hemos **convergido** a una solución. Se debe tener cuidado con la solución encontrada, la existencia de mínimos locales puede desviar el algoritmo de encontrar el mínimo global, el cual es el verdadero objetivo. Para eludir los problemas mencionados existen varias técnicas que más adelante se abordarán, por ahora concentrémonos en cómo se debería dar el comportamiento de la función de costo luego de cada época. \n",
    "\n",
    "Una buena señal de convergencia de la función de costo es cuando su valor disminuye después de cada época. A medida que avance el proceso de optimización la reducción debe ser cada vez menor indicando que nos encontramos cerca del mínimo global. \n",
    "\n",
    "Veamos a continuación el uso de dos funciones de perdida diferentes y su impacto sobre el desempeño de un modelo para clasificar números entre mayores o menores a $5$.\n",
    "\n",
    "**Con BBC**"
   ]
  },
  {
   "cell_type": "code",
   "execution_count": 116,
   "id": "8c678b17",
   "metadata": {},
   "outputs": [
    {
     "data": {
      "text/html": [
       "<pre style=\"white-space:pre;overflow-x:auto;line-height:normal;font-family:Menlo,'DejaVu Sans Mono',consolas,'Courier New',monospace\"><span style=\"font-weight: bold\">Model: \"model_loss_bce\"</span>\n",
       "</pre>\n"
      ],
      "text/plain": [
       "\u001b[1mModel: \"model_loss_bce\"\u001b[0m\n"
      ]
     },
     "metadata": {},
     "output_type": "display_data"
    },
    {
     "data": {
      "text/html": [
       "<pre style=\"white-space:pre;overflow-x:auto;line-height:normal;font-family:Menlo,'DejaVu Sans Mono',consolas,'Courier New',monospace\">┏━━━━━━━━━━━━━━━━━━━━━━━━━━━━━━━━━┳━━━━━━━━━━━━━━━━━━━━━━━━┳━━━━━━━━━━━━━━━┓\n",
       "┃<span style=\"font-weight: bold\"> Layer (type)                    </span>┃<span style=\"font-weight: bold\"> Output Shape           </span>┃<span style=\"font-weight: bold\">       Param # </span>┃\n",
       "┡━━━━━━━━━━━━━━━━━━━━━━━━━━━━━━━━━╇━━━━━━━━━━━━━━━━━━━━━━━━╇━━━━━━━━━━━━━━━┩\n",
       "│ Flatten (<span style=\"color: #0087ff; text-decoration-color: #0087ff\">Flatten</span>)               │ (<span style=\"color: #00d7ff; text-decoration-color: #00d7ff\">None</span>, <span style=\"color: #00af00; text-decoration-color: #00af00\">784</span>)            │             <span style=\"color: #00af00; text-decoration-color: #00af00\">0</span> │\n",
       "├─────────────────────────────────┼────────────────────────┼───────────────┤\n",
       "│ layer_1 (<span style=\"color: #0087ff; text-decoration-color: #0087ff\">Dense</span>)                 │ (<span style=\"color: #00d7ff; text-decoration-color: #00d7ff\">None</span>, <span style=\"color: #00af00; text-decoration-color: #00af00\">80</span>)             │        <span style=\"color: #00af00; text-decoration-color: #00af00\">62,800</span> │\n",
       "├─────────────────────────────────┼────────────────────────┼───────────────┤\n",
       "│ layer_2 (<span style=\"color: #0087ff; text-decoration-color: #0087ff\">Dense</span>)                 │ (<span style=\"color: #00d7ff; text-decoration-color: #00d7ff\">None</span>, <span style=\"color: #00af00; text-decoration-color: #00af00\">90</span>)             │         <span style=\"color: #00af00; text-decoration-color: #00af00\">7,290</span> │\n",
       "├─────────────────────────────────┼────────────────────────┼───────────────┤\n",
       "│ layer_3 (<span style=\"color: #0087ff; text-decoration-color: #0087ff\">Dense</span>)                 │ (<span style=\"color: #00d7ff; text-decoration-color: #00d7ff\">None</span>, <span style=\"color: #00af00; text-decoration-color: #00af00\">80</span>)             │         <span style=\"color: #00af00; text-decoration-color: #00af00\">7,280</span> │\n",
       "├─────────────────────────────────┼────────────────────────┼───────────────┤\n",
       "│ layer_4 (<span style=\"color: #0087ff; text-decoration-color: #0087ff\">Dense</span>)                 │ (<span style=\"color: #00d7ff; text-decoration-color: #00d7ff\">None</span>, <span style=\"color: #00af00; text-decoration-color: #00af00\">80</span>)             │         <span style=\"color: #00af00; text-decoration-color: #00af00\">6,480</span> │\n",
       "├─────────────────────────────────┼────────────────────────┼───────────────┤\n",
       "│ output (<span style=\"color: #0087ff; text-decoration-color: #0087ff\">Dense</span>)                  │ (<span style=\"color: #00d7ff; text-decoration-color: #00d7ff\">None</span>, <span style=\"color: #00af00; text-decoration-color: #00af00\">1</span>)              │            <span style=\"color: #00af00; text-decoration-color: #00af00\">81</span> │\n",
       "└─────────────────────────────────┴────────────────────────┴───────────────┘\n",
       "</pre>\n"
      ],
      "text/plain": [
       "┏━━━━━━━━━━━━━━━━━━━━━━━━━━━━━━━━━┳━━━━━━━━━━━━━━━━━━━━━━━━┳━━━━━━━━━━━━━━━┓\n",
       "┃\u001b[1m \u001b[0m\u001b[1mLayer (type)                   \u001b[0m\u001b[1m \u001b[0m┃\u001b[1m \u001b[0m\u001b[1mOutput Shape          \u001b[0m\u001b[1m \u001b[0m┃\u001b[1m \u001b[0m\u001b[1m      Param #\u001b[0m\u001b[1m \u001b[0m┃\n",
       "┡━━━━━━━━━━━━━━━━━━━━━━━━━━━━━━━━━╇━━━━━━━━━━━━━━━━━━━━━━━━╇━━━━━━━━━━━━━━━┩\n",
       "│ Flatten (\u001b[38;5;33mFlatten\u001b[0m)               │ (\u001b[38;5;45mNone\u001b[0m, \u001b[38;5;34m784\u001b[0m)            │             \u001b[38;5;34m0\u001b[0m │\n",
       "├─────────────────────────────────┼────────────────────────┼───────────────┤\n",
       "│ layer_1 (\u001b[38;5;33mDense\u001b[0m)                 │ (\u001b[38;5;45mNone\u001b[0m, \u001b[38;5;34m80\u001b[0m)             │        \u001b[38;5;34m62,800\u001b[0m │\n",
       "├─────────────────────────────────┼────────────────────────┼───────────────┤\n",
       "│ layer_2 (\u001b[38;5;33mDense\u001b[0m)                 │ (\u001b[38;5;45mNone\u001b[0m, \u001b[38;5;34m90\u001b[0m)             │         \u001b[38;5;34m7,290\u001b[0m │\n",
       "├─────────────────────────────────┼────────────────────────┼───────────────┤\n",
       "│ layer_3 (\u001b[38;5;33mDense\u001b[0m)                 │ (\u001b[38;5;45mNone\u001b[0m, \u001b[38;5;34m80\u001b[0m)             │         \u001b[38;5;34m7,280\u001b[0m │\n",
       "├─────────────────────────────────┼────────────────────────┼───────────────┤\n",
       "│ layer_4 (\u001b[38;5;33mDense\u001b[0m)                 │ (\u001b[38;5;45mNone\u001b[0m, \u001b[38;5;34m80\u001b[0m)             │         \u001b[38;5;34m6,480\u001b[0m │\n",
       "├─────────────────────────────────┼────────────────────────┼───────────────┤\n",
       "│ output (\u001b[38;5;33mDense\u001b[0m)                  │ (\u001b[38;5;45mNone\u001b[0m, \u001b[38;5;34m1\u001b[0m)              │            \u001b[38;5;34m81\u001b[0m │\n",
       "└─────────────────────────────────┴────────────────────────┴───────────────┘\n"
      ]
     },
     "metadata": {},
     "output_type": "display_data"
    },
    {
     "data": {
      "text/html": [
       "<pre style=\"white-space:pre;overflow-x:auto;line-height:normal;font-family:Menlo,'DejaVu Sans Mono',consolas,'Courier New',monospace\"><span style=\"font-weight: bold\"> Total params: </span><span style=\"color: #00af00; text-decoration-color: #00af00\">83,931</span> (327.86 KB)\n",
       "</pre>\n"
      ],
      "text/plain": [
       "\u001b[1m Total params: \u001b[0m\u001b[38;5;34m83,931\u001b[0m (327.86 KB)\n"
      ]
     },
     "metadata": {},
     "output_type": "display_data"
    },
    {
     "data": {
      "text/html": [
       "<pre style=\"white-space:pre;overflow-x:auto;line-height:normal;font-family:Menlo,'DejaVu Sans Mono',consolas,'Courier New',monospace\"><span style=\"font-weight: bold\"> Trainable params: </span><span style=\"color: #00af00; text-decoration-color: #00af00\">83,931</span> (327.86 KB)\n",
       "</pre>\n"
      ],
      "text/plain": [
       "\u001b[1m Trainable params: \u001b[0m\u001b[38;5;34m83,931\u001b[0m (327.86 KB)\n"
      ]
     },
     "metadata": {},
     "output_type": "display_data"
    },
    {
     "data": {
      "text/html": [
       "<pre style=\"white-space:pre;overflow-x:auto;line-height:normal;font-family:Menlo,'DejaVu Sans Mono',consolas,'Courier New',monospace\"><span style=\"font-weight: bold\"> Non-trainable params: </span><span style=\"color: #00af00; text-decoration-color: #00af00\">0</span> (0.00 B)\n",
       "</pre>\n"
      ],
      "text/plain": [
       "\u001b[1m Non-trainable params: \u001b[0m\u001b[38;5;34m0\u001b[0m (0.00 B)\n"
      ]
     },
     "metadata": {},
     "output_type": "display_data"
    }
   ],
   "source": [
    "# modelo\n",
    "model_bce = create_model(name=\"model_loss_bce\", \n",
    "                         shape=train_images[0].shape,\n",
    "                         af=\"relu\",\n",
    "                         output_af=\"sigmoid\",\n",
    "                         output_nodes=1)\n",
    "\n",
    "# compilación\n",
    "opt  = keras.optimizers.Adam(learning_rate=0.001)\n",
    "model_bce.compile(optimizer=opt,\n",
    "                      loss=keras.losses.BinaryCrossentropy(),\n",
    "                      metrics=[\"accuracy\"])\n",
    "\n",
    "model_bce.summary()"
   ]
  },
  {
   "cell_type": "code",
   "execution_count": 117,
   "id": "c48b2ac1",
   "metadata": {},
   "outputs": [
    {
     "name": "stdout",
     "output_type": "stream",
     "text": [
      "Epoch 1/15\n",
      "\u001b[1m1500/1500\u001b[0m \u001b[32m━━━━━━━━━━━━━━━━━━━━\u001b[0m\u001b[37m\u001b[0m \u001b[1m8s\u001b[0m 4ms/step - accuracy: 0.8737 - loss: 0.2951 - val_accuracy: 0.9121 - val_loss: 0.2051\n",
      "Epoch 2/15\n",
      "\u001b[1m1500/1500\u001b[0m \u001b[32m━━━━━━━━━━━━━━━━━━━━\u001b[0m\u001b[37m\u001b[0m \u001b[1m5s\u001b[0m 4ms/step - accuracy: 0.9201 - loss: 0.1903 - val_accuracy: 0.9155 - val_loss: 0.1904\n",
      "Epoch 3/15\n",
      "\u001b[1m1500/1500\u001b[0m \u001b[32m━━━━━━━━━━━━━━━━━━━━\u001b[0m\u001b[37m\u001b[0m \u001b[1m6s\u001b[0m 4ms/step - accuracy: 0.9275 - loss: 0.1743 - val_accuracy: 0.9201 - val_loss: 0.1909\n",
      "Epoch 4/15\n",
      "\u001b[1m1500/1500\u001b[0m \u001b[32m━━━━━━━━━━━━━━━━━━━━\u001b[0m\u001b[37m\u001b[0m \u001b[1m7s\u001b[0m 4ms/step - accuracy: 0.9331 - loss: 0.1651 - val_accuracy: 0.9277 - val_loss: 0.1726\n",
      "Epoch 5/15\n",
      "\u001b[1m1500/1500\u001b[0m \u001b[32m━━━━━━━━━━━━━━━━━━━━\u001b[0m\u001b[37m\u001b[0m \u001b[1m6s\u001b[0m 4ms/step - accuracy: 0.9340 - loss: 0.1553 - val_accuracy: 0.9316 - val_loss: 0.1598\n",
      "Epoch 6/15\n",
      "\u001b[1m1500/1500\u001b[0m \u001b[32m━━━━━━━━━━━━━━━━━━━━\u001b[0m\u001b[37m\u001b[0m \u001b[1m6s\u001b[0m 4ms/step - accuracy: 0.9385 - loss: 0.1501 - val_accuracy: 0.9332 - val_loss: 0.1562\n",
      "Epoch 7/15\n",
      "\u001b[1m1500/1500\u001b[0m \u001b[32m━━━━━━━━━━━━━━━━━━━━\u001b[0m\u001b[37m\u001b[0m \u001b[1m6s\u001b[0m 4ms/step - accuracy: 0.9406 - loss: 0.1414 - val_accuracy: 0.9340 - val_loss: 0.1742\n",
      "Epoch 8/15\n",
      "\u001b[1m1500/1500\u001b[0m \u001b[32m━━━━━━━━━━━━━━━━━━━━\u001b[0m\u001b[37m\u001b[0m \u001b[1m6s\u001b[0m 4ms/step - accuracy: 0.9400 - loss: 0.1432 - val_accuracy: 0.9328 - val_loss: 0.1630\n",
      "Epoch 9/15\n",
      "\u001b[1m1500/1500\u001b[0m \u001b[32m━━━━━━━━━━━━━━━━━━━━\u001b[0m\u001b[37m\u001b[0m \u001b[1m6s\u001b[0m 4ms/step - accuracy: 0.9445 - loss: 0.1328 - val_accuracy: 0.9282 - val_loss: 0.1805\n",
      "Epoch 10/15\n",
      "\u001b[1m1500/1500\u001b[0m \u001b[32m━━━━━━━━━━━━━━━━━━━━\u001b[0m\u001b[37m\u001b[0m \u001b[1m6s\u001b[0m 4ms/step - accuracy: 0.9447 - loss: 0.1317 - val_accuracy: 0.9332 - val_loss: 0.1748\n",
      "Epoch 11/15\n",
      "\u001b[1m1500/1500\u001b[0m \u001b[32m━━━━━━━━━━━━━━━━━━━━\u001b[0m\u001b[37m\u001b[0m \u001b[1m6s\u001b[0m 4ms/step - accuracy: 0.9459 - loss: 0.1297 - val_accuracy: 0.9261 - val_loss: 0.1972\n",
      "Epoch 12/15\n",
      "\u001b[1m1500/1500\u001b[0m \u001b[32m━━━━━━━━━━━━━━━━━━━━\u001b[0m\u001b[37m\u001b[0m \u001b[1m8s\u001b[0m 5ms/step - accuracy: 0.9470 - loss: 0.1247 - val_accuracy: 0.9331 - val_loss: 0.1767\n",
      "Epoch 13/15\n",
      "\u001b[1m1500/1500\u001b[0m \u001b[32m━━━━━━━━━━━━━━━━━━━━\u001b[0m\u001b[37m\u001b[0m \u001b[1m8s\u001b[0m 4ms/step - accuracy: 0.9520 - loss: 0.1165 - val_accuracy: 0.9329 - val_loss: 0.1699\n",
      "Epoch 14/15\n",
      "\u001b[1m1500/1500\u001b[0m \u001b[32m━━━━━━━━━━━━━━━━━━━━\u001b[0m\u001b[37m\u001b[0m \u001b[1m6s\u001b[0m 4ms/step - accuracy: 0.9547 - loss: 0.1113 - val_accuracy: 0.9336 - val_loss: 0.1663\n",
      "Epoch 15/15\n",
      "\u001b[1m1500/1500\u001b[0m \u001b[32m━━━━━━━━━━━━━━━━━━━━\u001b[0m\u001b[37m\u001b[0m \u001b[1m6s\u001b[0m 4ms/step - accuracy: 0.9529 - loss: 0.1140 - val_accuracy: 0.9350 - val_loss: 0.1859\n"
     ]
    }
   ],
   "source": [
    "train_labels_custum = train_labels.astype(int).copy()\n",
    "test_labels_custum  = test_labels.astype(int).copy()\n",
    "\n",
    "train_labels_custum[train_labels<=5] = 0\n",
    "train_labels_custum[train_labels>5]  = 1\n",
    "\n",
    "test_labels_custum[test_labels<=5] = 0\n",
    "test_labels_custum[test_labels>5]  = 1\n",
    "\n",
    "history_loss_bce = model_bce.fit(train_images,\n",
    "                                 train_labels_custum.astype(\"uint8\"),\n",
    "                                 validation_split=0.2,\n",
    "                                 epochs=15)\n",
    "\n",
    "history_loss_bce = history_loss_bce.history"
   ]
  },
  {
   "cell_type": "code",
   "execution_count": 118,
   "id": "a33801ac",
   "metadata": {},
   "outputs": [
    {
     "data": {
      "image/png": "[encoded data removed]",
      "text/plain": [
       "<Figure size 720x576 with 1 Axes>"
      ]
     },
     "metadata": {
      "needs_background": "light"
     },
     "output_type": "display_data"
    }
   ],
   "source": [
    "plot_accuracy_loss(history_loss_bce, name=\"Loss BCE\", accuracy=False)"
   ]
  },
  {
   "cell_type": "markdown",
   "id": "73b1e15c",
   "metadata": {},
   "source": [
    "¿Cuál es la capacidad predictiva de este modelo?"
   ]
  },
  {
   "cell_type": "code",
   "execution_count": 119,
   "id": "1b3510b9",
   "metadata": {},
   "outputs": [
    {
     "name": "stdout",
     "output_type": "stream",
     "text": [
      "\u001b[1m1875/1875\u001b[0m \u001b[32m━━━━━━━━━━━━━━━━━━━━\u001b[0m\u001b[37m\u001b[0m \u001b[1m4s\u001b[0m 2ms/step - accuracy: 0.9544 - loss: 0.1124\n"
     ]
    },
    {
     "data": {
      "text/plain": [
       "[0.1266382932662964, 0.9504500031471252]"
      ]
     },
     "execution_count": 119,
     "metadata": {},
     "output_type": "execute_result"
    }
   ],
   "source": [
    "# métricas entrenamiento\n",
    "model_bce.evaluate(x=train_images, y=train_labels_custum)"
   ]
  },
  {
   "cell_type": "code",
   "execution_count": 120,
   "id": "68315297",
   "metadata": {},
   "outputs": [
    {
     "name": "stdout",
     "output_type": "stream",
     "text": [
      "\u001b[1m313/313\u001b[0m \u001b[32m━━━━━━━━━━━━━━━━━━━━\u001b[0m\u001b[37m\u001b[0m \u001b[1m1s\u001b[0m 2ms/step - accuracy: 0.9354 - loss: 0.1886\n"
     ]
    },
    {
     "data": {
      "text/plain": [
       "[0.2026805430650711, 0.9316999912261963]"
      ]
     },
     "execution_count": 120,
     "metadata": {},
     "output_type": "execute_result"
    }
   ],
   "source": [
    "# métricas testeo\n",
    "model_bce.evaluate(x=test_images, y=test_labels_custum)"
   ]
  },
  {
   "cell_type": "code",
   "execution_count": 121,
   "id": "5943fee9",
   "metadata": {},
   "outputs": [
    {
     "name": "stdout",
     "output_type": "stream",
     "text": [
      "\u001b[1m1/1\u001b[0m \u001b[32m━━━━━━━━━━━━━━━━━━━━\u001b[0m\u001b[37m\u001b[0m \u001b[1m0s\u001b[0m 80ms/step\n",
      "pred: 0.9999960064888         --> n >5  real: >5\n",
      "pred: 0.00044457611511461437  --> n<=5  real:<=5\n",
      "pred: 1.619403349195636e-07   --> n<=5  real:<=5\n",
      "pred: 1.6087998488956146e-08  --> n<=5  real:<=5\n",
      "pred: 0.9802144169807434      --> n >5  real: >5\n",
      "pred: 2.8691296392935328e-05  --> n<=5  real:<=5\n",
      "pred: 0.0008972615469247103   --> n<=5  real:<=5\n",
      "pred: 0.9975214004516602      --> n >5  real: >5\n",
      "pred: 2.3775415058935323e-07  --> n<=5  real:<=5\n",
      "pred: 1.0                     --> n >5  real: >5\n"
     ]
    }
   ],
   "source": [
    "# prueba\n",
    "for i,p in enumerate(model_bce.predict(x=test_images[:10])):\n",
    "    print(f\"pred: {p[0]:<23} --> {'n<=5' if p<=0.5 else 'n >5'}  real:{'<=5' if test_labels_custum[i]==0 else ' >5'}\")"
   ]
  },
  {
   "cell_type": "markdown",
   "id": "78352ef0",
   "metadata": {},
   "source": [
    "**Con Hinge**"
   ]
  },
  {
   "cell_type": "code",
   "execution_count": 122,
   "id": "109b7538",
   "metadata": {},
   "outputs": [
    {
     "data": {
      "text/html": [
       "<pre style=\"white-space:pre;overflow-x:auto;line-height:normal;font-family:Menlo,'DejaVu Sans Mono',consolas,'Courier New',monospace\"><span style=\"font-weight: bold\">Model: \"custom_1\"</span>\n",
       "</pre>\n"
      ],
      "text/plain": [
       "\u001b[1mModel: \"custom_1\"\u001b[0m\n"
      ]
     },
     "metadata": {},
     "output_type": "display_data"
    },
    {
     "data": {
      "text/html": [
       "<pre style=\"white-space:pre;overflow-x:auto;line-height:normal;font-family:Menlo,'DejaVu Sans Mono',consolas,'Courier New',monospace\">┏━━━━━━━━━━━━━━━━━━━━━━━━━━━━━━━━━┳━━━━━━━━━━━━━━━━━━━━━━━━┳━━━━━━━━━━━━━━━┓\n",
       "┃<span style=\"font-weight: bold\"> Layer (type)                    </span>┃<span style=\"font-weight: bold\"> Output Shape           </span>┃<span style=\"font-weight: bold\">       Param # </span>┃\n",
       "┡━━━━━━━━━━━━━━━━━━━━━━━━━━━━━━━━━╇━━━━━━━━━━━━━━━━━━━━━━━━╇━━━━━━━━━━━━━━━┩\n",
       "│ Flatten (<span style=\"color: #0087ff; text-decoration-color: #0087ff\">Flatten</span>)               │ (<span style=\"color: #00d7ff; text-decoration-color: #00d7ff\">None</span>, <span style=\"color: #00af00; text-decoration-color: #00af00\">784</span>)            │             <span style=\"color: #00af00; text-decoration-color: #00af00\">0</span> │\n",
       "├─────────────────────────────────┼────────────────────────┼───────────────┤\n",
       "│ layer_1 (<span style=\"color: #0087ff; text-decoration-color: #0087ff\">Dense</span>)                 │ (<span style=\"color: #00d7ff; text-decoration-color: #00d7ff\">None</span>, <span style=\"color: #00af00; text-decoration-color: #00af00\">80</span>)             │        <span style=\"color: #00af00; text-decoration-color: #00af00\">62,800</span> │\n",
       "├─────────────────────────────────┼────────────────────────┼───────────────┤\n",
       "│ layer_2 (<span style=\"color: #0087ff; text-decoration-color: #0087ff\">Dense</span>)                 │ (<span style=\"color: #00d7ff; text-decoration-color: #00d7ff\">None</span>, <span style=\"color: #00af00; text-decoration-color: #00af00\">90</span>)             │         <span style=\"color: #00af00; text-decoration-color: #00af00\">7,290</span> │\n",
       "├─────────────────────────────────┼────────────────────────┼───────────────┤\n",
       "│ layer_3 (<span style=\"color: #0087ff; text-decoration-color: #0087ff\">Dense</span>)                 │ (<span style=\"color: #00d7ff; text-decoration-color: #00d7ff\">None</span>, <span style=\"color: #00af00; text-decoration-color: #00af00\">80</span>)             │         <span style=\"color: #00af00; text-decoration-color: #00af00\">7,280</span> │\n",
       "├─────────────────────────────────┼────────────────────────┼───────────────┤\n",
       "│ layer_4 (<span style=\"color: #0087ff; text-decoration-color: #0087ff\">Dense</span>)                 │ (<span style=\"color: #00d7ff; text-decoration-color: #00d7ff\">None</span>, <span style=\"color: #00af00; text-decoration-color: #00af00\">80</span>)             │         <span style=\"color: #00af00; text-decoration-color: #00af00\">6,480</span> │\n",
       "├─────────────────────────────────┼────────────────────────┼───────────────┤\n",
       "│ output (<span style=\"color: #0087ff; text-decoration-color: #0087ff\">Dense</span>)                  │ (<span style=\"color: #00d7ff; text-decoration-color: #00d7ff\">None</span>, <span style=\"color: #00af00; text-decoration-color: #00af00\">1</span>)              │            <span style=\"color: #00af00; text-decoration-color: #00af00\">81</span> │\n",
       "└─────────────────────────────────┴────────────────────────┴───────────────┘\n",
       "</pre>\n"
      ],
      "text/plain": [
       "┏━━━━━━━━━━━━━━━━━━━━━━━━━━━━━━━━━┳━━━━━━━━━━━━━━━━━━━━━━━━┳━━━━━━━━━━━━━━━┓\n",
       "┃\u001b[1m \u001b[0m\u001b[1mLayer (type)                   \u001b[0m\u001b[1m \u001b[0m┃\u001b[1m \u001b[0m\u001b[1mOutput Shape          \u001b[0m\u001b[1m \u001b[0m┃\u001b[1m \u001b[0m\u001b[1m      Param #\u001b[0m\u001b[1m \u001b[0m┃\n",
       "┡━━━━━━━━━━━━━━━━━━━━━━━━━━━━━━━━━╇━━━━━━━━━━━━━━━━━━━━━━━━╇━━━━━━━━━━━━━━━┩\n",
       "│ Flatten (\u001b[38;5;33mFlatten\u001b[0m)               │ (\u001b[38;5;45mNone\u001b[0m, \u001b[38;5;34m784\u001b[0m)            │             \u001b[38;5;34m0\u001b[0m │\n",
       "├─────────────────────────────────┼────────────────────────┼───────────────┤\n",
       "│ layer_1 (\u001b[38;5;33mDense\u001b[0m)                 │ (\u001b[38;5;45mNone\u001b[0m, \u001b[38;5;34m80\u001b[0m)             │        \u001b[38;5;34m62,800\u001b[0m │\n",
       "├─────────────────────────────────┼────────────────────────┼───────────────┤\n",
       "│ layer_2 (\u001b[38;5;33mDense\u001b[0m)                 │ (\u001b[38;5;45mNone\u001b[0m, \u001b[38;5;34m90\u001b[0m)             │         \u001b[38;5;34m7,290\u001b[0m │\n",
       "├─────────────────────────────────┼────────────────────────┼───────────────┤\n",
       "│ layer_3 (\u001b[38;5;33mDense\u001b[0m)                 │ (\u001b[38;5;45mNone\u001b[0m, \u001b[38;5;34m80\u001b[0m)             │         \u001b[38;5;34m7,280\u001b[0m │\n",
       "├─────────────────────────────────┼────────────────────────┼───────────────┤\n",
       "│ layer_4 (\u001b[38;5;33mDense\u001b[0m)                 │ (\u001b[38;5;45mNone\u001b[0m, \u001b[38;5;34m80\u001b[0m)             │         \u001b[38;5;34m6,480\u001b[0m │\n",
       "├─────────────────────────────────┼────────────────────────┼───────────────┤\n",
       "│ output (\u001b[38;5;33mDense\u001b[0m)                  │ (\u001b[38;5;45mNone\u001b[0m, \u001b[38;5;34m1\u001b[0m)              │            \u001b[38;5;34m81\u001b[0m │\n",
       "└─────────────────────────────────┴────────────────────────┴───────────────┘\n"
      ]
     },
     "metadata": {},
     "output_type": "display_data"
    },
    {
     "data": {
      "text/html": [
       "<pre style=\"white-space:pre;overflow-x:auto;line-height:normal;font-family:Menlo,'DejaVu Sans Mono',consolas,'Courier New',monospace\"><span style=\"font-weight: bold\"> Total params: </span><span style=\"color: #00af00; text-decoration-color: #00af00\">83,931</span> (327.86 KB)\n",
       "</pre>\n"
      ],
      "text/plain": [
       "\u001b[1m Total params: \u001b[0m\u001b[38;5;34m83,931\u001b[0m (327.86 KB)\n"
      ]
     },
     "metadata": {},
     "output_type": "display_data"
    },
    {
     "data": {
      "text/html": [
       "<pre style=\"white-space:pre;overflow-x:auto;line-height:normal;font-family:Menlo,'DejaVu Sans Mono',consolas,'Courier New',monospace\"><span style=\"font-weight: bold\"> Trainable params: </span><span style=\"color: #00af00; text-decoration-color: #00af00\">83,931</span> (327.86 KB)\n",
       "</pre>\n"
      ],
      "text/plain": [
       "\u001b[1m Trainable params: \u001b[0m\u001b[38;5;34m83,931\u001b[0m (327.86 KB)\n"
      ]
     },
     "metadata": {},
     "output_type": "display_data"
    },
    {
     "data": {
      "text/html": [
       "<pre style=\"white-space:pre;overflow-x:auto;line-height:normal;font-family:Menlo,'DejaVu Sans Mono',consolas,'Courier New',monospace\"><span style=\"font-weight: bold\"> Non-trainable params: </span><span style=\"color: #00af00; text-decoration-color: #00af00\">0</span> (0.00 B)\n",
       "</pre>\n"
      ],
      "text/plain": [
       "\u001b[1m Non-trainable params: \u001b[0m\u001b[38;5;34m0\u001b[0m (0.00 B)\n"
      ]
     },
     "metadata": {},
     "output_type": "display_data"
    }
   ],
   "source": [
    "# modelo\n",
    "# Como usamos Hinge sólo puede haber un nodo de salida con act=tanh\n",
    "model_custom1 = create_model(name=\"custom_1\", \n",
    "                             shape=train_images[0].shape,\n",
    "                             af=\"relu\",\n",
    "                             output_af=\"tanh\", output_nodes=1)\n",
    "\n",
    "# compilación\n",
    "opt  = keras.optimizers.Adam(learning_rate=0.001)\n",
    "model_custom1.compile(optimizer=opt,\n",
    "                      loss=keras.losses.Hinge(),\n",
    "                      metrics=[\"accuracy\"])\n",
    "\n",
    "model_custom1.summary()"
   ]
  },
  {
   "cell_type": "code",
   "execution_count": 123,
   "id": "71785867",
   "metadata": {},
   "outputs": [
    {
     "name": "stdout",
     "output_type": "stream",
     "text": [
      "Epoch 1/15\n",
      "\u001b[1m1500/1500\u001b[0m \u001b[32m━━━━━━━━━━━━━━━━━━━━\u001b[0m\u001b[37m\u001b[0m \u001b[1m8s\u001b[0m 4ms/step - accuracy: 0.2827 - loss: 0.3173 - val_accuracy: 0.2954 - val_loss: 0.2522\n",
      "Epoch 2/15\n",
      "\u001b[1m1500/1500\u001b[0m \u001b[32m━━━━━━━━━━━━━━━━━━━━\u001b[0m\u001b[37m\u001b[0m \u001b[1m10s\u001b[0m 3ms/step - accuracy: 0.2968 - loss: 0.2778 - val_accuracy: 0.2878 - val_loss: 0.2419\n",
      "Epoch 3/15\n",
      "\u001b[1m1500/1500\u001b[0m \u001b[32m━━━━━━━━━━━━━━━━━━━━\u001b[0m\u001b[37m\u001b[0m \u001b[1m6s\u001b[0m 4ms/step - accuracy: 0.2945 - loss: 0.2687 - val_accuracy: 0.2918 - val_loss: 0.2388\n",
      "Epoch 4/15\n",
      "\u001b[1m1500/1500\u001b[0m \u001b[32m━━━━━━━━━━━━━━━━━━━━\u001b[0m\u001b[37m\u001b[0m \u001b[1m6s\u001b[0m 4ms/step - accuracy: 0.2956 - loss: 0.2517 - val_accuracy: 0.2816 - val_loss: 0.2523\n",
      "Epoch 5/15\n",
      "\u001b[1m1500/1500\u001b[0m \u001b[32m━━━━━━━━━━━━━━━━━━━━\u001b[0m\u001b[37m\u001b[0m \u001b[1m6s\u001b[0m 4ms/step - accuracy: 0.2989 - loss: 0.2639 - val_accuracy: 0.2288 - val_loss: 0.3329\n",
      "Epoch 6/15\n",
      "\u001b[1m1500/1500\u001b[0m \u001b[32m━━━━━━━━━━━━━━━━━━━━\u001b[0m\u001b[37m\u001b[0m \u001b[1m7s\u001b[0m 4ms/step - accuracy: 0.2858 - loss: 0.2719 - val_accuracy: 0.2791 - val_loss: 0.2603\n",
      "Epoch 7/15\n",
      "\u001b[1m1500/1500\u001b[0m \u001b[32m━━━━━━━━━━━━━━━━━━━━\u001b[0m\u001b[37m\u001b[0m \u001b[1m7s\u001b[0m 5ms/step - accuracy: 0.2842 - loss: 0.2703 - val_accuracy: 0.2932 - val_loss: 0.2453\n",
      "Epoch 8/15\n",
      "\u001b[1m1500/1500\u001b[0m \u001b[32m━━━━━━━━━━━━━━━━━━━━\u001b[0m\u001b[37m\u001b[0m \u001b[1m6s\u001b[0m 4ms/step - accuracy: 0.3141 - loss: 0.2765 - val_accuracy: 0.2770 - val_loss: 0.2610\n",
      "Epoch 9/15\n",
      "\u001b[1m1500/1500\u001b[0m \u001b[32m━━━━━━━━━━━━━━━━━━━━\u001b[0m\u001b[37m\u001b[0m \u001b[1m6s\u001b[0m 4ms/step - accuracy: 0.2464 - loss: 0.3356 - val_accuracy: 0.2763 - val_loss: 0.2665\n",
      "Epoch 10/15\n",
      "\u001b[1m1500/1500\u001b[0m \u001b[32m━━━━━━━━━━━━━━━━━━━━\u001b[0m\u001b[37m\u001b[0m \u001b[1m6s\u001b[0m 4ms/step - accuracy: 0.2880 - loss: 0.2785 - val_accuracy: 0.2886 - val_loss: 0.2475\n",
      "Epoch 11/15\n",
      "\u001b[1m1500/1500\u001b[0m \u001b[32m━━━━━━━━━━━━━━━━━━━━\u001b[0m\u001b[37m\u001b[0m \u001b[1m6s\u001b[0m 4ms/step - accuracy: 0.2903 - loss: 0.2583 - val_accuracy: 0.2998 - val_loss: 0.2462\n",
      "Epoch 12/15\n",
      "\u001b[1m1500/1500\u001b[0m \u001b[32m━━━━━━━━━━━━━━━━━━━━\u001b[0m\u001b[37m\u001b[0m \u001b[1m6s\u001b[0m 4ms/step - accuracy: 0.2928 - loss: 0.2788 - val_accuracy: 0.2880 - val_loss: 0.2436\n",
      "Epoch 13/15\n",
      "\u001b[1m1500/1500\u001b[0m \u001b[32m━━━━━━━━━━━━━━━━━━━━\u001b[0m\u001b[37m\u001b[0m \u001b[1m6s\u001b[0m 4ms/step - accuracy: 0.3254 - loss: 0.3383 - val_accuracy: 0.2118 - val_loss: 0.3788\n",
      "Epoch 14/15\n",
      "\u001b[1m1500/1500\u001b[0m \u001b[32m━━━━━━━━━━━━━━━━━━━━\u001b[0m\u001b[37m\u001b[0m \u001b[1m6s\u001b[0m 4ms/step - accuracy: 0.2741 - loss: 0.3222 - val_accuracy: 0.2769 - val_loss: 0.2934\n",
      "Epoch 15/15\n",
      "\u001b[1m1500/1500\u001b[0m \u001b[32m━━━━━━━━━━━━━━━━━━━━\u001b[0m\u001b[37m\u001b[0m \u001b[1m6s\u001b[0m 4ms/step - accuracy: 0.2825 - loss: 0.3014 - val_accuracy: 0.2873 - val_loss: 0.2406\n"
     ]
    }
   ],
   "source": [
    "# Para Hinge necesitamos sólo dos clases, 1 y -1\n",
    "train_labels_custom = train_labels.astype(int).copy()\n",
    "test_labels_custum  = test_labels.astype(int).copy()\n",
    "\n",
    "train_labels_custom[train_labels<=5] = -1\n",
    "train_labels_custom[train_labels>5]  =  1\n",
    "\n",
    "test_labels_custum[test_labels<=5] = -1\n",
    "test_labels_custum[test_labels>5]  =  1\n",
    "\n",
    "history_loss_custom1 = model_custom1.fit(train_images,\n",
    "                  train_labels_custom,\n",
    "                  validation_split=0.2,\n",
    "                  epochs=15)\n",
    "\n",
    "history_loss_custom1 = history_loss_custom1.history"
   ]
  },
  {
   "cell_type": "code",
   "execution_count": 124,
   "id": "d136a882",
   "metadata": {},
   "outputs": [
    {
     "data": {
      "image/png": "[encoded data removed]",
      "text/plain": [
       "<Figure size 720x576 with 1 Axes>"
      ]
     },
     "metadata": {
      "needs_background": "light"
     },
     "output_type": "display_data"
    }
   ],
   "source": [
    "plot_accuracy_loss(history_loss_custom1, name=\"Loss Hinge (custom)\", accuracy=False)"
   ]
  },
  {
   "cell_type": "code",
   "execution_count": 125,
   "id": "7ed37862",
   "metadata": {},
   "outputs": [
    {
     "name": "stdout",
     "output_type": "stream",
     "text": [
      "\u001b[1m1875/1875\u001b[0m \u001b[32m━━━━━━━━━━━━━━━━━━━━\u001b[0m\u001b[37m\u001b[0m \u001b[1m3s\u001b[0m 2ms/step - accuracy: 0.8767 - loss: 0.2467\n"
     ]
    },
    {
     "data": {
      "text/plain": [
       "[0.24641606211662292, 0.876800000667572]"
      ]
     },
     "execution_count": 125,
     "metadata": {},
     "output_type": "execute_result"
    }
   ],
   "source": [
    "# métricas entrenamiento\n",
    "model_custom1.evaluate(x=train_images, y=train_labels_custum)"
   ]
  },
  {
   "cell_type": "code",
   "execution_count": 126,
   "id": "93a69249",
   "metadata": {},
   "outputs": [
    {
     "name": "stdout",
     "output_type": "stream",
     "text": [
      "\u001b[1m313/313\u001b[0m \u001b[32m━━━━━━━━━━━━━━━━━━━━\u001b[0m\u001b[37m\u001b[0m \u001b[1m1s\u001b[0m 2ms/step - accuracy: 0.2839 - loss: 0.2448\n"
     ]
    },
    {
     "data": {
      "text/plain": [
       "[0.24981895089149475, 0.2906000018119812]"
      ]
     },
     "execution_count": 126,
     "metadata": {},
     "output_type": "execute_result"
    }
   ],
   "source": [
    "# métricas testeo\n",
    "model_custom1.evaluate(x=test_images, y=test_labels_custum)"
   ]
  },
  {
   "cell_type": "code",
   "execution_count": 127,
   "id": "7a45ae21",
   "metadata": {},
   "outputs": [
    {
     "name": "stdout",
     "output_type": "stream",
     "text": [
      "\u001b[1m1/1\u001b[0m \u001b[32m━━━━━━━━━━━━━━━━━━━━\u001b[0m\u001b[37m\u001b[0m \u001b[1m0s\u001b[0m 73ms/step\n",
      "pred: 1.0  --> n >5  real: >5\n",
      "pred: -1.0 --> n<=5  real:<=5\n",
      "pred: -1.0 --> n<=5  real:<=5\n",
      "pred: -1.0 --> n<=5  real:<=5\n",
      "pred: -1.0 --> n<=5  real: >5\n",
      "pred: -1.0 --> n<=5  real:<=5\n",
      "pred: -1.0 --> n<=5  real:<=5\n",
      "pred: -1.0 --> n<=5  real: >5\n",
      "pred: -1.0 --> n<=5  real:<=5\n",
      "pred: 1.0  --> n >5  real: >5\n"
     ]
    }
   ],
   "source": [
    "# prueba\n",
    "for i,p in enumerate(model_custom1.predict(x=test_images[:10])):\n",
    "    print(f\"pred: {p[0]:<4} --> {'n<=5' if p==-1 else 'n >5'}  real:{'<=5' if test_labels_custum[i]==-1 else ' >5'}\")"
   ]
  },
  {
   "cell_type": "markdown",
   "id": "a02fa1f0",
   "metadata": {},
   "source": [
    "<center><h1>Optimizadores</h1></center>\n",
    "\n",
    "Un optimizador es la herramienta utilizada para minimizar la función de costo, no importa cuál utilicemos, todos tendrán por objetivo hallar los valores de los pesos $w_i$ de la red neuronal que producen el mejor desempeño del modelo. Como ya se ha explicado previamente, durante cada época los datos se arreglan en lotes, o batches, cada vez que se calcula la función de perdida para un batch su valor se utiliza para actualizar los pesos mediante el uso del respectivo optimizador de modo que, después de cada actualización, se produce una mejora en las métricas del modelo representadas en una disminución del valor de la función de costo, bueno, eso es lo esperado. \n",
    "\n",
    "La idea fundamental detrás de los algoritmos de optimización es la del [gradiente descendente](https://es.wikipedia.org/wiki/Descenso_del_gradiente). Esta consiste básicamente es moverse con pequeños pasos sobre la función de costo siguiendo la dirección contraria a su [gradiente](https://es.wikipedia.org/wiki/Gradiente) en el punto en el que nos encontremos. Para entenderlo mejor, recordemos que una de las propiedades más importantes del gradiente es que es un vector que apunta siempre en la dirección de mayor crecimiento de la función, así que si nos movemos en dirección contraria a este estariamos yendo hacia donde la función menos crece, es dcir, su mínimo, lo cual es nuestro objetivo; hallar el mínimo de la función de costo. \n",
    "\n",
    "Matemáticamente esto se puede expresar como \n",
    "\\begin{equation}\n",
    "\\textbf w_{i+1} = \\textbf w_{i} - \\eta \\nabla \\text{f}(\\textbf w_{i})\n",
    "\\end{equation}\n",
    "\n",
    "donde $\\eta$ es conocido como la [**tasa de aprendizaje**](https://en.wikipedia.org/wiki/Learning_rate) o **learning ratio** y determina el tamaño de los pasos que se irán dando durante cada actualización de los pesos. Su valor suele ser pequeño y es fundamental, si es muy grande los pasos podrían ser tales que se saltasen el punto mínimo de modo que nunca lo encontraría, si es muy pequeño podría nunca llegar a encontrarlo o tardarse demasiado. "
   ]
  },
  {
   "cell_type": "code",
   "execution_count": null,
   "id": "e8b048e7",
   "metadata": {},
   "outputs": [],
   "source": [
    "# Rutina para un gradiente descendente\n",
    "def GD(df, x0=[0], eta=0.1, tol=1e-10, max_iter=1000):\n",
    "    xs = [x0]\n",
    "    x0 = np.array(x0)\n",
    "    \n",
    "    current_iter = 1\n",
    "    while current_iter<max_iter:\n",
    "        # Gradiente descendente\n",
    "        x1 = x0 - eta*df(*x0)\n",
    "        xs.append(x1)\n",
    "        \n",
    "        # Corrobora tolerancia\n",
    "        if all([abs(x0[i]-x1[i])<tol for i in range(len(x0))]):break\n",
    "        \n",
    "        # Actualización\n",
    "        x0 = x1\n",
    "        current_iter+=1\n",
    "    \n",
    "    return {\"x\":x1,\n",
    "            \"xs\":np.array(xs),\n",
    "            \"iteraciones\":current_iter,\n",
    "            \"tol_alcanzada\":abs(x0-x1)}"
   ]
  },
  {
   "cell_type": "markdown",
   "id": "667ac8b1",
   "metadata": {},
   "source": [
    "Existe diversidad de algoritmos soportados por TensorFlow para desempeñar esta tarea, para fines de este curso estudiaremos los siguientes:\n",
    "* SGD\n",
    "* \n",
    "* \n",
    "* \n",
    "\n",
    "que son los de mayor uso."
   ]
  },
  {
   "cell_type": "code",
   "execution_count": null,
   "id": "2da3e45b",
   "metadata": {},
   "outputs": [],
   "source": []
  },
  {
   "cell_type": "code",
   "execution_count": null,
   "id": "e78cc1b6",
   "metadata": {},
   "outputs": [],
   "source": []
  },
  {
   "cell_type": "code",
   "execution_count": null,
   "id": "80d7a0fb",
   "metadata": {},
   "outputs": [],
   "source": []
  },
  {
   "cell_type": "code",
   "execution_count": null,
   "id": "93ac397a",
   "metadata": {},
   "outputs": [],
   "source": []
  },
  {
   "cell_type": "code",
   "execution_count": null,
   "id": "c7ffd4b8",
   "metadata": {},
   "outputs": [],
   "source": []
  },
  {
   "cell_type": "code",
   "execution_count": null,
   "id": "2aaf4806",
   "metadata": {},
   "outputs": [],
   "source": []
  },
  {
   "cell_type": "markdown",
   "id": "99ccbd16",
   "metadata": {},
   "source": [
    "<center><h1>Algoritmo de Backpropagation</h1></center>"
   ]
  },
  {
   "cell_type": "code",
   "execution_count": null,
   "id": "ab432c9e",
   "metadata": {},
   "outputs": [],
   "source": []
  },
  {
   "cell_type": "code",
   "execution_count": null,
   "id": "e1dbc9e2",
   "metadata": {},
   "outputs": [],
   "source": []
  },
  {
   "cell_type": "code",
   "execution_count": null,
   "id": "e0b909a3",
   "metadata": {},
   "outputs": [],
   "source": []
  },
  {
   "cell_type": "code",
   "execution_count": null,
   "id": "a3c445db",
   "metadata": {},
   "outputs": [],
   "source": []
  },
  {
   "cell_type": "code",
   "execution_count": null,
   "id": "7c543fa7",
   "metadata": {},
   "outputs": [],
   "source": []
  },
  {
   "cell_type": "code",
   "execution_count": null,
   "id": "250b803f",
   "metadata": {},
   "outputs": [],
   "source": []
  },
  {
   "cell_type": "code",
   "execution_count": null,
   "id": "fb8203c8",
   "metadata": {},
   "outputs": [],
   "source": []
  },
  {
   "cell_type": "code",
   "execution_count": null,
   "id": "5e1ac4f0",
   "metadata": {},
   "outputs": [],
   "source": []
  }
 ],
 "metadata": {
  "kernelspec": {
   "display_name": "Python 3 (ipykernel)",
   "language": "python",
   "name": "python3"
  },
  "language_info": {
   "codemirror_mode": {
    "name": "ipython",
    "version": 3
   },
   "file_extension": ".py",
   "mimetype": "text/x-python",
   "name": "python",
   "nbconvert_exporter": "python",
   "pygments_lexer": "ipython3",
   "version": "3.9.12"
  }
 },
 "nbformat": 4,
 "nbformat_minor": 5
}
